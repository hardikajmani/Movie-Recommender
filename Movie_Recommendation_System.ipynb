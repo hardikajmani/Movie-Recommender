{
 "cells": [
  {
   "cell_type": "code",
   "execution_count": 0,
   "metadata": {
    "colab": {
     "base_uri": "https://localhost:8080/",
     "height": 74,
     "resources": {
      "http://localhost:8080/nbextensions/google.colab/files.js": {
       "data": "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",
       "headers": [
        [
         "content-type",
         "application/javascript"
        ]
       ],
       "ok": true,
       "status": 200,
       "status_text": ""
      }
     }
    },
    "colab_type": "code",
    "id": "_6vB4gwZtdmB",
    "outputId": "d10b13d7-c2ff-49ab-d8ab-c7381d6d127c"
   },
   "outputs": [
    {
     "data": {
      "text/html": [
       "\n",
       "     <input type=\"file\" id=\"files-7f6bb00d-df69-46be-8691-e1399985a842\" name=\"files[]\" multiple disabled />\n",
       "     <output id=\"result-7f6bb00d-df69-46be-8691-e1399985a842\">\n",
       "      Upload widget is only available when the cell has been executed in the\n",
       "      current browser session. Please rerun this cell to enable.\n",
       "      </output>\n",
       "      <script src=\"/nbextensions/google.colab/files.js\"></script> "
      ],
      "text/plain": [
       "<IPython.core.display.HTML object>"
      ]
     },
     "metadata": {
      "tags": []
     },
     "output_type": "display_data"
    },
    {
     "name": "stdout",
     "output_type": "stream",
     "text": [
      "Saving the-movies-dataset.zip to the-movies-dataset.zip\n"
     ]
    }
   ],
   "source": [
    "#uplad movies metadata\n",
    "from google.colab import files\n",
    "files.upload()\n",
    "!unzip -j \"the-movies-dataset.zip\""
   ]
  },
  {
   "cell_type": "code",
   "execution_count": 1,
   "metadata": {
    "colab": {
     "base_uri": "https://localhost:8080/",
     "height": 118
    },
    "colab_type": "code",
    "id": "YVesWa0oZVdB",
    "outputId": "8c8ca821-d9ad-4e8a-92df-ff629101c615"
   },
   "outputs": [
    {
     "name": "stdout",
     "output_type": "stream",
     "text": [
      "Collecting surprise\n",
      "  Downloading https://files.pythonhosted.org/packages/61/de/e5cba8682201fcf9c3719a6fdda95693468ed061945493dea2dd37c5618b/surprise-0.1-py2.py3-none-any.whl\n",
      "Collecting scikit-surprise (from surprise)\n",
      "  Downloading https://files.pythonhosted.org/packages/4d/fc/cd4210b247d1dca421c25994740cbbf03c5e980e31881f10eaddf45fdab0/scikit-surprise-1.0.6.tar.gz (3.3MB)\n",
      "Collecting joblib>=0.11 (from scikit-surprise->surprise)\n",
      "  Downloading https://files.pythonhosted.org/packages/cd/c1/50a758e8247561e58cb87305b1e90b171b8c767b15b12a1734001f41d356/joblib-0.13.2-py2.py3-none-any.whl (278kB)\n",
      "Requirement already satisfied: numpy>=1.11.2 in c:\\users\\hardi\\anaconda3\\lib\\site-packages (from scikit-surprise->surprise) (1.14.3)\n",
      "Requirement already satisfied: scipy>=1.0.0 in c:\\users\\hardi\\anaconda3\\lib\\site-packages (from scikit-surprise->surprise) (1.1.0)\n",
      "Requirement already satisfied: six>=1.10.0 in c:\\users\\hardi\\anaconda3\\lib\\site-packages (from scikit-surprise->surprise) (1.11.0)\n",
      "Building wheels for collected packages: scikit-surprise\n",
      "  Building wheel for scikit-surprise (setup.py): started\n",
      "  Building wheel for scikit-surprise (setup.py): finished with status 'done'\n",
      "  Created wheel for scikit-surprise: filename=scikit_surprise-1.0.6-cp36-cp36m-win_amd64.whl size=771840 sha256=47e6841168ddcc50408b8893abd5effef542ff3b0ebdf46056b6fd39c9b9ff4f\n",
      "  Stored in directory: C:\\Users\\hardi\\AppData\\Local\\pip\\Cache\\wheels\\ec\\c0\\55\\3a28eab06b53c220015063ebbdb81213cd3dcbb72c088251ec\n",
      "Successfully built scikit-surprise\n",
      "Installing collected packages: joblib, scikit-surprise, surprise\n",
      "Successfully installed joblib-0.13.2 scikit-surprise-1.0.6 surprise-0.1\n"
     ]
    },
    {
     "name": "stderr",
     "output_type": "stream",
     "text": [
      "WARNING: You are using pip version 19.2.1, however version 19.2.3 is available.\n",
      "You should consider upgrading via the 'python -m pip install --upgrade pip' command.\n"
     ]
    }
   ],
   "source": [
    "!pip install surprise"
   ]
  },
  {
   "cell_type": "code",
   "execution_count": 4,
   "metadata": {
    "colab": {},
    "colab_type": "code",
    "id": "A_G_ZFA6VsC2"
   },
   "outputs": [],
   "source": [
    "%matplotlib inline\n",
    "import pandas as pd\n",
    "import numpy as np\n",
    "import matplotlib.pyplot as plt\n",
    "import seaborn as sns\n",
    "from scipy import stats\n",
    "from ast import literal_eval\n",
    "from sklearn.feature_extraction.text import TfidfVectorizer, CountVectorizer\n",
    "from sklearn.metrics.pairwise import linear_kernel, cosine_similarity\n",
    "from nltk.stem.snowball import SnowballStemmer\n",
    "from nltk.stem.wordnet import WordNetLemmatizer\n",
    "from nltk.corpus import wordnet\n",
    "from surprise import Reader, Dataset, SVD, evaluate\n",
    "import os\n",
    "\n",
    "import warnings; warnings.simplefilter('ignore')"
   ]
  },
  {
   "cell_type": "code",
   "execution_count": 0,
   "metadata": {
    "colab": {},
    "colab_type": "code",
    "id": "T_zIG1juZE5n"
   },
   "outputs": [],
   "source": [
    "#---------------------------------------------- Simple Recommender ----------------------------------------------"
   ]
  },
  {
   "cell_type": "code",
   "execution_count": 5,
   "metadata": {
    "colab": {
     "base_uri": "https://localhost:8080/",
     "height": 151
    },
    "colab_type": "code",
    "id": "W6RiAbTRZwUe",
    "outputId": "0583c3bc-b6f2-4da1-8bd8-7b344df8f86d"
   },
   "outputs": [
    {
     "name": "stdout",
     "output_type": "stream",
     "text": [
      "   adult                              belongs_to_collection    budget  \\\n",
      "0  False  {'id': 10194, 'name': 'Toy Story Collection', ...  30000000   \n",
      "1  False                                                NaN  65000000   \n",
      "2  False  {'id': 119050, 'name': 'Grumpy Old Men Collect...         0   \n",
      "3  False                                                NaN  16000000   \n",
      "4  False  {'id': 96871, 'name': 'Father of the Bride Col...         0   \n",
      "\n",
      "                                              genres  \\\n",
      "0  [{'id': 16, 'name': 'Animation'}, {'id': 35, '...   \n",
      "1  [{'id': 12, 'name': 'Adventure'}, {'id': 14, '...   \n",
      "2  [{'id': 10749, 'name': 'Romance'}, {'id': 35, ...   \n",
      "3  [{'id': 35, 'name': 'Comedy'}, {'id': 18, 'nam...   \n",
      "4                     [{'id': 35, 'name': 'Comedy'}]   \n",
      "\n",
      "                               homepage     id    imdb_id original_language  \\\n",
      "0  http://toystory.disney.com/toy-story    862  tt0114709                en   \n",
      "1                                   NaN   8844  tt0113497                en   \n",
      "2                                   NaN  15602  tt0113228                en   \n",
      "3                                   NaN  31357  tt0114885                en   \n",
      "4                                   NaN  11862  tt0113041                en   \n",
      "\n",
      "                original_title  \\\n",
      "0                    Toy Story   \n",
      "1                      Jumanji   \n",
      "2             Grumpier Old Men   \n",
      "3            Waiting to Exhale   \n",
      "4  Father of the Bride Part II   \n",
      "\n",
      "                                            overview    ...     release_date  \\\n",
      "0  Led by Woody, Andy's toys live happily in his ...    ...       1995-10-30   \n",
      "1  When siblings Judy and Peter discover an encha...    ...       1995-12-15   \n",
      "2  A family wedding reignites the ancient feud be...    ...       1995-12-22   \n",
      "3  Cheated on, mistreated and stepped on, the wom...    ...       1995-12-22   \n",
      "4  Just when George Banks has recovered from his ...    ...       1995-02-10   \n",
      "\n",
      "       revenue runtime                                   spoken_languages  \\\n",
      "0  373554033.0    81.0           [{'iso_639_1': 'en', 'name': 'English'}]   \n",
      "1  262797249.0   104.0  [{'iso_639_1': 'en', 'name': 'English'}, {'iso...   \n",
      "2          0.0   101.0           [{'iso_639_1': 'en', 'name': 'English'}]   \n",
      "3   81452156.0   127.0           [{'iso_639_1': 'en', 'name': 'English'}]   \n",
      "4   76578911.0   106.0           [{'iso_639_1': 'en', 'name': 'English'}]   \n",
      "\n",
      "     status                                            tagline  \\\n",
      "0  Released                                                NaN   \n",
      "1  Released          Roll the dice and unleash the excitement!   \n",
      "2  Released  Still Yelling. Still Fighting. Still Ready for...   \n",
      "3  Released  Friends are the people who let you be yourself...   \n",
      "4  Released  Just When His World Is Back To Normal... He's ...   \n",
      "\n",
      "                         title  video vote_average vote_count  \n",
      "0                    Toy Story  False          7.7     5415.0  \n",
      "1                      Jumanji  False          6.9     2413.0  \n",
      "2             Grumpier Old Men  False          6.5       92.0  \n",
      "3            Waiting to Exhale  False          6.1       34.0  \n",
      "4  Father of the Bride Part II  False          5.7      173.0  \n",
      "\n",
      "[5 rows x 24 columns]\n"
     ]
    }
   ],
   "source": [
    "md = pd.read_csv(os.path.join('data','movies_metadata.csv'))\n",
    "print(md.head())"
   ]
  },
  {
   "cell_type": "code",
   "execution_count": 6,
   "metadata": {
    "colab": {},
    "colab_type": "code",
    "id": "nFP4wREqvJTo"
   },
   "outputs": [],
   "source": [
    "md['genres'] = md['genres'].fillna('[]').apply(literal_eval).apply(lambda x: [i['name'] for i in x] if isinstance(x, list) else [])"
   ]
  },
  {
   "cell_type": "code",
   "execution_count": 7,
   "metadata": {
    "colab": {
     "base_uri": "https://localhost:8080/",
     "height": 34
    },
    "colab_type": "code",
    "id": "u_DMFt9CzZ2d",
    "outputId": "8787b9d7-f1e5-40e1-9a0c-082576d0027d"
   },
   "outputs": [
    {
     "name": "stdout",
     "output_type": "stream",
     "text": [
      "5.244896612406511\n"
     ]
    }
   ],
   "source": [
    "vote_counts = md[md['vote_count'].notnull()]['vote_count'].astype('int')\n",
    "vote_averages = md[md['vote_average'].notnull()]['vote_average'].astype('int')\n",
    "C = vote_averages.mean()\n",
    "print(C)"
   ]
  },
  {
   "cell_type": "code",
   "execution_count": 8,
   "metadata": {
    "colab": {
     "base_uri": "https://localhost:8080/",
     "height": 34
    },
    "colab_type": "code",
    "id": "m90-VWSjz4Sm",
    "outputId": "2df717f9-fde2-470f-f248-bf54d1ed9c68"
   },
   "outputs": [
    {
     "name": "stdout",
     "output_type": "stream",
     "text": [
      "434.0\n"
     ]
    }
   ],
   "source": [
    "m = vote_counts.quantile(0.95)\n",
    "print(m)"
   ]
  },
  {
   "cell_type": "code",
   "execution_count": 9,
   "metadata": {
    "colab": {
     "base_uri": "https://localhost:8080/",
     "height": 1000
    },
    "colab_type": "code",
    "id": "cMPb1PcR0D0M",
    "outputId": "5fe9e857-407d-4415-bb94-c3c1933a564a"
   },
   "outputs": [
    {
     "name": "stdout",
     "output_type": "stream",
     "text": [
      "0        1995\n",
      "1        1995\n",
      "2        1995\n",
      "3        1995\n",
      "4        1995\n",
      "5        1995\n",
      "6        1995\n",
      "7        1995\n",
      "8        1995\n",
      "9        1995\n",
      "10       1995\n",
      "11       1995\n",
      "12       1995\n",
      "13       1995\n",
      "14       1995\n",
      "15       1995\n",
      "16       1995\n",
      "17       1995\n",
      "18       1995\n",
      "19       1995\n",
      "20       1995\n",
      "21       1995\n",
      "22       1995\n",
      "23       1995\n",
      "24       1995\n",
      "25       1995\n",
      "26       1995\n",
      "27       1995\n",
      "28       1995\n",
      "29       1995\n",
      "         ... \n",
      "45436    2010\n",
      "45437    2017\n",
      "45438    2015\n",
      "45439    1944\n",
      "45440    2007\n",
      "45441    2002\n",
      "45442    1905\n",
      "45443    1901\n",
      "45444    1905\n",
      "45445    1906\n",
      "45446    1909\n",
      "45447    1904\n",
      "45448    1904\n",
      "45449    2005\n",
      "45450    1900\n",
      "45451    1900\n",
      "45452    1981\n",
      "45453    2017\n",
      "45454    2015\n",
      "45455    1972\n",
      "45456    1946\n",
      "45457    2000\n",
      "45458    2000\n",
      "45459    1995\n",
      "45460    1991\n",
      "45461     NaT\n",
      "45462    2011\n",
      "45463    2003\n",
      "45464    1917\n",
      "45465    2017\n",
      "Name: year, Length: 45466, dtype: object\n"
     ]
    }
   ],
   "source": [
    "md['year'] = pd.to_datetime(md['release_date'], errors='coerce').apply(lambda x: str(x).split('-')[0] if x!= np.nan else np.nan)\n",
    "print(md['year'])"
   ]
  },
  {
   "cell_type": "code",
   "execution_count": 10,
   "metadata": {
    "colab": {
     "base_uri": "https://localhost:8080/",
     "height": 34
    },
    "colab_type": "code",
    "id": "tRoeG-WK0qmF",
    "outputId": "55213fa3-9242-4ec0-9407-f7b67855a34a"
   },
   "outputs": [
    {
     "name": "stdout",
     "output_type": "stream",
     "text": [
      "(2274, 6)\n"
     ]
    }
   ],
   "source": [
    "qualified = md[(md['vote_count'] >= m) & (md['vote_count'].notnull()) & (md['vote_average'].notnull())][['title', 'year', 'vote_count', 'vote_average', 'popularity', 'genres']]\n",
    "qualified['vote_count'] = qualified['vote_count'].astype('int')\n",
    "qualified['vote_count'] = qualified['vote_average'].astype('int')\n",
    "print(qualified.shape)"
   ]
  },
  {
   "cell_type": "code",
   "execution_count": 11,
   "metadata": {
    "colab": {},
    "colab_type": "code",
    "id": "hx2_ws_d2wey"
   },
   "outputs": [],
   "source": [
    "#Weighted rating formula, helps in picking out top movies\n",
    "def weighted_rating(x):\n",
    "  v = x['vote_count']\n",
    "  R = x['vote_average']\n",
    "  \n",
    "  return (v / (v + m) * R) + (m / (m + v) * C)"
   ]
  },
  {
   "cell_type": "code",
   "execution_count": 12,
   "metadata": {
    "colab": {},
    "colab_type": "code",
    "id": "vDv2rtPd3SNp"
   },
   "outputs": [],
   "source": [
    "qualified['wr'] = qualified.apply(weighted_rating, axis = 1)"
   ]
  },
  {
   "cell_type": "code",
   "execution_count": 13,
   "metadata": {
    "colab": {},
    "colab_type": "code",
    "id": "brD6cOoJ3kd_"
   },
   "outputs": [],
   "source": [
    "qualified = qualified.sort_values('wr', ascending = False).head(250)"
   ]
  },
  {
   "cell_type": "code",
   "execution_count": 14,
   "metadata": {
    "colab": {
     "base_uri": "https://localhost:8080/",
     "height": 151
    },
    "colab_type": "code",
    "id": "hHffCFdN3x58",
    "outputId": "aee9ef73-d7b8-4241-a1d8-434405a44289"
   },
   "outputs": [
    {
     "name": "stdout",
     "output_type": "stream",
     "text": [
      "                                 title  year  vote_count  vote_average  \\\n",
      "10309      Dilwale Dulhania Le Jayenge  1995           9           9.1   \n",
      "40251                       Your Name.  2016           8           8.5   \n",
      "834                      The Godfather  1972           8           8.5   \n",
      "314           The Shawshank Redemption  1994           8           8.5   \n",
      "1152   One Flew Over the Cuckoo's Nest  1975           8           8.3   \n",
      "\n",
      "      popularity                       genres        wr  \n",
      "10309     34.457     [Comedy, Drama, Romance]  5.323217  \n",
      "40251  34.461252  [Romance, Animation, Drama]  5.303813  \n",
      "834      41.1093               [Drama, Crime]  5.303813  \n",
      "314      51.6454               [Drama, Crime]  5.303813  \n",
      "1152     35.5296                      [Drama]  5.300193  \n"
     ]
    }
   ],
   "source": [
    "print(qualified.head(5))"
   ]
  },
  {
   "cell_type": "code",
   "execution_count": 15,
   "metadata": {
    "colab": {},
    "colab_type": "code",
    "id": "k2UCY8l331mO"
   },
   "outputs": [],
   "source": [
    "s = md.apply(lambda x: pd.Series(x['genres']), axis = 1).stack().reset_index(level = 1, drop = True)\n",
    "s.name = 'genre'\n",
    "gen_md = md.drop('genres', axis = 1).join(s)"
   ]
  },
  {
   "cell_type": "code",
   "execution_count": 16,
   "metadata": {
    "colab": {
     "base_uri": "https://localhost:8080/",
     "height": 1000
    },
    "colab_type": "code",
    "id": "jmW7WSaUYihE",
    "outputId": "7e5816f4-7d5e-4f69-fc4a-74fa82312964"
   },
   "outputs": [
    {
     "name": "stdout",
     "output_type": "stream",
     "text": [
      "       adult                              belongs_to_collection    budget  \\\n",
      "0      False  {'id': 10194, 'name': 'Toy Story Collection', ...  30000000   \n",
      "0      False  {'id': 10194, 'name': 'Toy Story Collection', ...  30000000   \n",
      "0      False  {'id': 10194, 'name': 'Toy Story Collection', ...  30000000   \n",
      "1      False                                                NaN  65000000   \n",
      "1      False                                                NaN  65000000   \n",
      "1      False                                                NaN  65000000   \n",
      "2      False  {'id': 119050, 'name': 'Grumpy Old Men Collect...         0   \n",
      "2      False  {'id': 119050, 'name': 'Grumpy Old Men Collect...         0   \n",
      "3      False                                                NaN  16000000   \n",
      "3      False                                                NaN  16000000   \n",
      "3      False                                                NaN  16000000   \n",
      "4      False  {'id': 96871, 'name': 'Father of the Bride Col...         0   \n",
      "5      False                                                NaN  60000000   \n",
      "5      False                                                NaN  60000000   \n",
      "5      False                                                NaN  60000000   \n",
      "5      False                                                NaN  60000000   \n",
      "6      False                                                NaN  58000000   \n",
      "6      False                                                NaN  58000000   \n",
      "7      False                                                NaN         0   \n",
      "7      False                                                NaN         0   \n",
      "7      False                                                NaN         0   \n",
      "7      False                                                NaN         0   \n",
      "8      False                                                NaN  35000000   \n",
      "8      False                                                NaN  35000000   \n",
      "8      False                                                NaN  35000000   \n",
      "9      False  {'id': 645, 'name': 'James Bond Collection', '...  58000000   \n",
      "9      False  {'id': 645, 'name': 'James Bond Collection', '...  58000000   \n",
      "9      False  {'id': 645, 'name': 'James Bond Collection', '...  58000000   \n",
      "10     False                                                NaN  62000000   \n",
      "10     False                                                NaN  62000000   \n",
      "...      ...                                                ...       ...   \n",
      "45450  False                                                NaN         0   \n",
      "45450  False                                                NaN         0   \n",
      "45450  False                                                NaN         0   \n",
      "45451  False                                                NaN         0   \n",
      "45451  False                                                NaN         0   \n",
      "45452  False                                                NaN         0   \n",
      "45453  False                                                NaN         0   \n",
      "45453  False                                                NaN         0   \n",
      "45453  False                                                NaN         0   \n",
      "45454  False                                                NaN         0   \n",
      "45454  False                                                NaN         0   \n",
      "45455  False                                                NaN         0   \n",
      "45456  False                                                NaN         0   \n",
      "45456  False                                                NaN         0   \n",
      "45456  False                                                NaN         0   \n",
      "45457  False                                                NaN         0   \n",
      "45457  False                                                NaN         0   \n",
      "45458  False                                                NaN         0   \n",
      "45459  False                                                NaN         0   \n",
      "45460  False                                                NaN         0   \n",
      "45460  False                                                NaN         0   \n",
      "45460  False                                                NaN         0   \n",
      "45461  False                                                NaN         0   \n",
      "45461  False                                                NaN         0   \n",
      "45462  False                                                NaN         0   \n",
      "45463  False                                                NaN         0   \n",
      "45463  False                                                NaN         0   \n",
      "45463  False                                                NaN         0   \n",
      "45464  False                                                NaN         0   \n",
      "45465  False                                                NaN         0   \n",
      "\n",
      "                                           homepage      id    imdb_id  \\\n",
      "0              http://toystory.disney.com/toy-story     862  tt0114709   \n",
      "0              http://toystory.disney.com/toy-story     862  tt0114709   \n",
      "0              http://toystory.disney.com/toy-story     862  tt0114709   \n",
      "1                                               NaN    8844  tt0113497   \n",
      "1                                               NaN    8844  tt0113497   \n",
      "1                                               NaN    8844  tt0113497   \n",
      "2                                               NaN   15602  tt0113228   \n",
      "2                                               NaN   15602  tt0113228   \n",
      "3                                               NaN   31357  tt0114885   \n",
      "3                                               NaN   31357  tt0114885   \n",
      "3                                               NaN   31357  tt0114885   \n",
      "4                                               NaN   11862  tt0113041   \n",
      "5                                               NaN     949  tt0113277   \n",
      "5                                               NaN     949  tt0113277   \n",
      "5                                               NaN     949  tt0113277   \n",
      "5                                               NaN     949  tt0113277   \n",
      "6                                               NaN   11860  tt0114319   \n",
      "6                                               NaN   11860  tt0114319   \n",
      "7                                               NaN   45325  tt0112302   \n",
      "7                                               NaN   45325  tt0112302   \n",
      "7                                               NaN   45325  tt0112302   \n",
      "7                                               NaN   45325  tt0112302   \n",
      "8                                               NaN    9091  tt0114576   \n",
      "8                                               NaN    9091  tt0114576   \n",
      "8                                               NaN    9091  tt0114576   \n",
      "9      http://www.mgm.com/view/movie/757/Goldeneye/     710  tt0113189   \n",
      "9      http://www.mgm.com/view/movie/757/Goldeneye/     710  tt0113189   \n",
      "9      http://www.mgm.com/view/movie/757/Goldeneye/     710  tt0113189   \n",
      "10                                              NaN    9087  tt0112346   \n",
      "10                                              NaN    9087  tt0112346   \n",
      "...                                             ...     ...        ...   \n",
      "45450                                           NaN   49280  tt0135453   \n",
      "45450                                           NaN   49280  tt0135453   \n",
      "45450                                           NaN   49280  tt0135453   \n",
      "45451                                           NaN  106807  tt0135571   \n",
      "45451                                           NaN  106807  tt0135571   \n",
      "45452                                           NaN  276895  tt3054038   \n",
      "45453                                           NaN  404604  tt5690142   \n",
      "45453                                           NaN  404604  tt5690142   \n",
      "45453                                           NaN  404604  tt5690142   \n",
      "45454                                           NaN  420346  tt4130180   \n",
      "45454                                           NaN  420346  tt4130180   \n",
      "45455                                           NaN   67179  tt0069215   \n",
      "45456                                           NaN   84419  tt0038621   \n",
      "45456                                           NaN   84419  tt0038621   \n",
      "45456                                           NaN   84419  tt0038621   \n",
      "45457                                           NaN  390959  tt0265736   \n",
      "45457                                           NaN  390959  tt0265736   \n",
      "45458                                           NaN  289923  tt0252966   \n",
      "45459                                           NaN  222848  tt0112613   \n",
      "45460                                           NaN   30840  tt0102797   \n",
      "45460                                           NaN   30840  tt0102797   \n",
      "45460                                           NaN   30840  tt0102797   \n",
      "45461          http://www.imdb.com/title/tt6209470/  439050  tt6209470   \n",
      "45461          http://www.imdb.com/title/tt6209470/  439050  tt6209470   \n",
      "45462                                           NaN  111109  tt2028550   \n",
      "45463                                           NaN   67758  tt0303758   \n",
      "45463                                           NaN   67758  tt0303758   \n",
      "45463                                           NaN   67758  tt0303758   \n",
      "45464                                           NaN  227506  tt0008536   \n",
      "45465                                           NaN  461257  tt6980792   \n",
      "\n",
      "      original_language                  original_title  \\\n",
      "0                    en                       Toy Story   \n",
      "0                    en                       Toy Story   \n",
      "0                    en                       Toy Story   \n",
      "1                    en                         Jumanji   \n",
      "1                    en                         Jumanji   \n",
      "1                    en                         Jumanji   \n",
      "2                    en                Grumpier Old Men   \n",
      "2                    en                Grumpier Old Men   \n",
      "3                    en               Waiting to Exhale   \n",
      "3                    en               Waiting to Exhale   \n",
      "3                    en               Waiting to Exhale   \n",
      "4                    en     Father of the Bride Part II   \n",
      "5                    en                            Heat   \n",
      "5                    en                            Heat   \n",
      "5                    en                            Heat   \n",
      "5                    en                            Heat   \n",
      "6                    en                         Sabrina   \n",
      "6                    en                         Sabrina   \n",
      "7                    en                    Tom and Huck   \n",
      "7                    en                    Tom and Huck   \n",
      "7                    en                    Tom and Huck   \n",
      "7                    en                    Tom and Huck   \n",
      "8                    en                    Sudden Death   \n",
      "8                    en                    Sudden Death   \n",
      "8                    en                    Sudden Death   \n",
      "9                    en                       GoldenEye   \n",
      "9                    en                       GoldenEye   \n",
      "9                    en                       GoldenEye   \n",
      "10                   en          The American President   \n",
      "10                   en          The American President   \n",
      "...                 ...                             ...   \n",
      "45450                fr               L'Homme orchestre   \n",
      "45450                fr               L'Homme orchestre   \n",
      "45450                fr               L'Homme orchestre   \n",
      "45451                fr  Nouvelles luttes extravagantes   \n",
      "45451                fr  Nouvelles luttes extravagantes   \n",
      "45452                en                     Deep Hearts   \n",
      "45453                hi                             Maa   \n",
      "45453                hi                             Maa   \n",
      "45453                hi                             Maa   \n",
      "45454                en               The Morning After   \n",
      "45454                en               The Morning After   \n",
      "45455                it      San Michele aveva un gallo   \n",
      "45456                en                House of Horrors   \n",
      "45456                en                House of Horrors   \n",
      "45456                en                House of Horrors   \n",
      "45457                en       Shadow of the Blair Witch   \n",
      "45457                en       Shadow of the Blair Witch   \n",
      "45458                en             The Burkittsville 7   \n",
      "45459                en                 Caged Heat 3000   \n",
      "45460                en                      Robin Hood   \n",
      "45460                en                      Robin Hood   \n",
      "45460                en                      Robin Hood   \n",
      "45461                fa                         رگ خواب   \n",
      "45461                fa                         رگ خواب   \n",
      "45462                tl             Siglo ng Pagluluwal   \n",
      "45463                en                        Betrayal   \n",
      "45463                en                        Betrayal   \n",
      "45463                en                        Betrayal   \n",
      "45464                en             Satana likuyushchiy   \n",
      "45465                en                        Queerama   \n",
      "\n",
      "                                                overview popularity  \\\n",
      "0      Led by Woody, Andy's toys live happily in his ...    21.9469   \n",
      "0      Led by Woody, Andy's toys live happily in his ...    21.9469   \n",
      "0      Led by Woody, Andy's toys live happily in his ...    21.9469   \n",
      "1      When siblings Judy and Peter discover an encha...    17.0155   \n",
      "1      When siblings Judy and Peter discover an encha...    17.0155   \n",
      "1      When siblings Judy and Peter discover an encha...    17.0155   \n",
      "2      A family wedding reignites the ancient feud be...    11.7129   \n",
      "2      A family wedding reignites the ancient feud be...    11.7129   \n",
      "3      Cheated on, mistreated and stepped on, the wom...    3.85949   \n",
      "3      Cheated on, mistreated and stepped on, the wom...    3.85949   \n",
      "3      Cheated on, mistreated and stepped on, the wom...    3.85949   \n",
      "4      Just when George Banks has recovered from his ...    8.38752   \n",
      "5      Obsessive master thief, Neil McCauley leads a ...    17.9249   \n",
      "5      Obsessive master thief, Neil McCauley leads a ...    17.9249   \n",
      "5      Obsessive master thief, Neil McCauley leads a ...    17.9249   \n",
      "5      Obsessive master thief, Neil McCauley leads a ...    17.9249   \n",
      "6      An ugly duckling having undergone a remarkable...    6.67728   \n",
      "6      An ugly duckling having undergone a remarkable...    6.67728   \n",
      "7      A mischievous young boy, Tom Sawyer, witnesses...    2.56116   \n",
      "7      A mischievous young boy, Tom Sawyer, witnesses...    2.56116   \n",
      "7      A mischievous young boy, Tom Sawyer, witnesses...    2.56116   \n",
      "7      A mischievous young boy, Tom Sawyer, witnesses...    2.56116   \n",
      "8      International action superstar Jean Claude Van...    5.23158   \n",
      "8      International action superstar Jean Claude Van...    5.23158   \n",
      "8      International action superstar Jean Claude Van...    5.23158   \n",
      "9      James Bond must unmask the mysterious head of ...     14.686   \n",
      "9      James Bond must unmask the mysterious head of ...     14.686   \n",
      "9      James Bond must unmask the mysterious head of ...     14.686   \n",
      "10     Widowed U.S. president Andrew Shepherd, one of...    6.31844   \n",
      "10     Widowed U.S. president Andrew Shepherd, one of...    6.31844   \n",
      "...                                                  ...        ...   \n",
      "45450  A band-leader has arranged seven chairs for th...   1.109068   \n",
      "45450  A band-leader has arranged seven chairs for th...   1.109068   \n",
      "45450  A band-leader has arranged seven chairs for th...   1.109068   \n",
      "45451         A series of fantastical wrestling matches.   0.225432   \n",
      "45451         A series of fantastical wrestling matches.   0.225432   \n",
      "45452  Deep Hearts is a film about the Bororo Fulani,...   0.011025   \n",
      "45453  The bliss of a biology teacher’s family life i...   1.559596   \n",
      "45453  The bliss of a biology teacher’s family life i...   1.559596   \n",
      "45453  The bliss of a biology teacher’s family life i...   1.559596   \n",
      "45454  The Morning After is a feature film that consi...   0.139936   \n",
      "45454  The Morning After is a feature film that consi...   0.139936   \n",
      "45455  Sentenced to life imprisonment for illegal act...   0.225051   \n",
      "45456  An unsuccessful sculptor saves a madman named ...   0.222814   \n",
      "45456  An unsuccessful sculptor saves a madman named ...   0.222814   \n",
      "45456  An unsuccessful sculptor saves a madman named ...   0.222814   \n",
      "45457  In this true-crime documentary, we delve into ...   0.076061   \n",
      "45457  In this true-crime documentary, we delve into ...   0.076061   \n",
      "45458  A film archivist revisits the story of Rustin ...    0.38645   \n",
      "45459  It's the year 3000 AD. The world's most danger...   0.661558   \n",
      "45460  Yet another version of the classic epic, with ...   5.683753   \n",
      "45460  Yet another version of the classic epic, with ...   5.683753   \n",
      "45460  Yet another version of the classic epic, with ...   5.683753   \n",
      "45461        Rising and falling between a man and woman.   0.072051   \n",
      "45461        Rising and falling between a man and woman.   0.072051   \n",
      "45462  An artist struggles to finish his work while a...   0.178241   \n",
      "45463  When one of her hits goes wrong, a professiona...   0.903007   \n",
      "45463  When one of her hits goes wrong, a professiona...   0.903007   \n",
      "45463  When one of her hits goes wrong, a professiona...   0.903007   \n",
      "45464  In a small town live two brothers, one a minis...   0.003503   \n",
      "45465  50 years after decriminalisation of homosexual...   0.163015   \n",
      "\n",
      "            ...        runtime  \\\n",
      "0           ...           81.0   \n",
      "0           ...           81.0   \n",
      "0           ...           81.0   \n",
      "1           ...          104.0   \n",
      "1           ...          104.0   \n",
      "1           ...          104.0   \n",
      "2           ...          101.0   \n",
      "2           ...          101.0   \n",
      "3           ...          127.0   \n",
      "3           ...          127.0   \n",
      "3           ...          127.0   \n",
      "4           ...          106.0   \n",
      "5           ...          170.0   \n",
      "5           ...          170.0   \n",
      "5           ...          170.0   \n",
      "5           ...          170.0   \n",
      "6           ...          127.0   \n",
      "6           ...          127.0   \n",
      "7           ...           97.0   \n",
      "7           ...           97.0   \n",
      "7           ...           97.0   \n",
      "7           ...           97.0   \n",
      "8           ...          106.0   \n",
      "8           ...          106.0   \n",
      "8           ...          106.0   \n",
      "9           ...          130.0   \n",
      "9           ...          130.0   \n",
      "9           ...          130.0   \n",
      "10          ...          106.0   \n",
      "10          ...          106.0   \n",
      "...         ...            ...   \n",
      "45450       ...            1.0   \n",
      "45450       ...            1.0   \n",
      "45450       ...            1.0   \n",
      "45451       ...            2.0   \n",
      "45451       ...            2.0   \n",
      "45452       ...           58.0   \n",
      "45453       ...          146.0   \n",
      "45453       ...          146.0   \n",
      "45453       ...          146.0   \n",
      "45454       ...           79.0   \n",
      "45454       ...           79.0   \n",
      "45455       ...           90.0   \n",
      "45456       ...           65.0   \n",
      "45456       ...           65.0   \n",
      "45456       ...           65.0   \n",
      "45457       ...           45.0   \n",
      "45457       ...           45.0   \n",
      "45458       ...           30.0   \n",
      "45459       ...           85.0   \n",
      "45460       ...          104.0   \n",
      "45460       ...          104.0   \n",
      "45460       ...          104.0   \n",
      "45461       ...           90.0   \n",
      "45461       ...           90.0   \n",
      "45462       ...          360.0   \n",
      "45463       ...           90.0   \n",
      "45463       ...           90.0   \n",
      "45463       ...           90.0   \n",
      "45464       ...           87.0   \n",
      "45465       ...           75.0   \n",
      "\n",
      "                                        spoken_languages    status  \\\n",
      "0               [{'iso_639_1': 'en', 'name': 'English'}]  Released   \n",
      "0               [{'iso_639_1': 'en', 'name': 'English'}]  Released   \n",
      "0               [{'iso_639_1': 'en', 'name': 'English'}]  Released   \n",
      "1      [{'iso_639_1': 'en', 'name': 'English'}, {'iso...  Released   \n",
      "1      [{'iso_639_1': 'en', 'name': 'English'}, {'iso...  Released   \n",
      "1      [{'iso_639_1': 'en', 'name': 'English'}, {'iso...  Released   \n",
      "2               [{'iso_639_1': 'en', 'name': 'English'}]  Released   \n",
      "2               [{'iso_639_1': 'en', 'name': 'English'}]  Released   \n",
      "3               [{'iso_639_1': 'en', 'name': 'English'}]  Released   \n",
      "3               [{'iso_639_1': 'en', 'name': 'English'}]  Released   \n",
      "3               [{'iso_639_1': 'en', 'name': 'English'}]  Released   \n",
      "4               [{'iso_639_1': 'en', 'name': 'English'}]  Released   \n",
      "5      [{'iso_639_1': 'en', 'name': 'English'}, {'iso...  Released   \n",
      "5      [{'iso_639_1': 'en', 'name': 'English'}, {'iso...  Released   \n",
      "5      [{'iso_639_1': 'en', 'name': 'English'}, {'iso...  Released   \n",
      "5      [{'iso_639_1': 'en', 'name': 'English'}, {'iso...  Released   \n",
      "6      [{'iso_639_1': 'fr', 'name': 'Français'}, {'is...  Released   \n",
      "6      [{'iso_639_1': 'fr', 'name': 'Français'}, {'is...  Released   \n",
      "7      [{'iso_639_1': 'en', 'name': 'English'}, {'iso...  Released   \n",
      "7      [{'iso_639_1': 'en', 'name': 'English'}, {'iso...  Released   \n",
      "7      [{'iso_639_1': 'en', 'name': 'English'}, {'iso...  Released   \n",
      "7      [{'iso_639_1': 'en', 'name': 'English'}, {'iso...  Released   \n",
      "8               [{'iso_639_1': 'en', 'name': 'English'}]  Released   \n",
      "8               [{'iso_639_1': 'en', 'name': 'English'}]  Released   \n",
      "8               [{'iso_639_1': 'en', 'name': 'English'}]  Released   \n",
      "9      [{'iso_639_1': 'en', 'name': 'English'}, {'iso...  Released   \n",
      "9      [{'iso_639_1': 'en', 'name': 'English'}, {'iso...  Released   \n",
      "9      [{'iso_639_1': 'en', 'name': 'English'}, {'iso...  Released   \n",
      "10              [{'iso_639_1': 'en', 'name': 'English'}]  Released   \n",
      "10              [{'iso_639_1': 'en', 'name': 'English'}]  Released   \n",
      "...                                                  ...       ...   \n",
      "45450       [{'iso_639_1': 'xx', 'name': 'No Language'}]  Released   \n",
      "45450       [{'iso_639_1': 'xx', 'name': 'No Language'}]  Released   \n",
      "45450       [{'iso_639_1': 'xx', 'name': 'No Language'}]  Released   \n",
      "45451       [{'iso_639_1': 'xx', 'name': 'No Language'}]  Released   \n",
      "45451       [{'iso_639_1': 'xx', 'name': 'No Language'}]  Released   \n",
      "45452  [{'iso_639_1': 'ff', 'name': 'Fulfulde'}, {'is...  Released   \n",
      "45453            [{'iso_639_1': 'hi', 'name': 'हिन्दी'}]  Released   \n",
      "45453            [{'iso_639_1': 'hi', 'name': 'हिन्दी'}]  Released   \n",
      "45453            [{'iso_639_1': 'hi', 'name': 'हिन्दी'}]  Released   \n",
      "45454           [{'iso_639_1': 'en', 'name': 'English'}]  Released   \n",
      "45454           [{'iso_639_1': 'en', 'name': 'English'}]  Released   \n",
      "45455          [{'iso_639_1': 'it', 'name': 'Italiano'}]  Released   \n",
      "45456           [{'iso_639_1': 'en', 'name': 'English'}]  Released   \n",
      "45456           [{'iso_639_1': 'en', 'name': 'English'}]  Released   \n",
      "45456           [{'iso_639_1': 'en', 'name': 'English'}]  Released   \n",
      "45457           [{'iso_639_1': 'en', 'name': 'English'}]  Released   \n",
      "45457           [{'iso_639_1': 'en', 'name': 'English'}]  Released   \n",
      "45458           [{'iso_639_1': 'en', 'name': 'English'}]  Released   \n",
      "45459           [{'iso_639_1': 'en', 'name': 'English'}]  Released   \n",
      "45460           [{'iso_639_1': 'en', 'name': 'English'}]  Released   \n",
      "45460           [{'iso_639_1': 'en', 'name': 'English'}]  Released   \n",
      "45460           [{'iso_639_1': 'en', 'name': 'English'}]  Released   \n",
      "45461             [{'iso_639_1': 'fa', 'name': 'فارسی'}]  Released   \n",
      "45461             [{'iso_639_1': 'fa', 'name': 'فارسی'}]  Released   \n",
      "45462                  [{'iso_639_1': 'tl', 'name': ''}]  Released   \n",
      "45463           [{'iso_639_1': 'en', 'name': 'English'}]  Released   \n",
      "45463           [{'iso_639_1': 'en', 'name': 'English'}]  Released   \n",
      "45463           [{'iso_639_1': 'en', 'name': 'English'}]  Released   \n",
      "45464                                                 []  Released   \n",
      "45465           [{'iso_639_1': 'en', 'name': 'English'}]  Released   \n",
      "\n",
      "                                                 tagline  \\\n",
      "0                                                    NaN   \n",
      "0                                                    NaN   \n",
      "0                                                    NaN   \n",
      "1              Roll the dice and unleash the excitement!   \n",
      "1              Roll the dice and unleash the excitement!   \n",
      "1              Roll the dice and unleash the excitement!   \n",
      "2      Still Yelling. Still Fighting. Still Ready for...   \n",
      "2      Still Yelling. Still Fighting. Still Ready for...   \n",
      "3      Friends are the people who let you be yourself...   \n",
      "3      Friends are the people who let you be yourself...   \n",
      "3      Friends are the people who let you be yourself...   \n",
      "4      Just When His World Is Back To Normal... He's ...   \n",
      "5                               A Los Angeles Crime Saga   \n",
      "5                               A Los Angeles Crime Saga   \n",
      "5                               A Los Angeles Crime Saga   \n",
      "5                               A Los Angeles Crime Saga   \n",
      "6      You are cordially invited to the most surprisi...   \n",
      "6      You are cordially invited to the most surprisi...   \n",
      "7                                 The Original Bad Boys.   \n",
      "7                                 The Original Bad Boys.   \n",
      "7                                 The Original Bad Boys.   \n",
      "7                                 The Original Bad Boys.   \n",
      "8                             Terror goes into overtime.   \n",
      "8                             Terror goes into overtime.   \n",
      "8                             Terror goes into overtime.   \n",
      "9                   No limits. No fears. No substitutes.   \n",
      "9                   No limits. No fears. No substitutes.   \n",
      "9                   No limits. No fears. No substitutes.   \n",
      "10     Why can't the most powerful man in the world h...   \n",
      "10     Why can't the most powerful man in the world h...   \n",
      "...                                                  ...   \n",
      "45450                                                NaN   \n",
      "45450                                                NaN   \n",
      "45450                                                NaN   \n",
      "45451                                                NaN   \n",
      "45451                                                NaN   \n",
      "45452                                                NaN   \n",
      "45453                                                NaN   \n",
      "45453                                                NaN   \n",
      "45453                                                NaN   \n",
      "45454                          What happened last night?   \n",
      "45454                          What happened last night?   \n",
      "45455                                                NaN   \n",
      "45456                                Meet...The CREEPER!   \n",
      "45456                                Meet...The CREEPER!   \n",
      "45456                                Meet...The CREEPER!   \n",
      "45457                                                NaN   \n",
      "45457                                                NaN   \n",
      "45458  Do you know what happened 50 years before \"The...   \n",
      "45459                                                NaN   \n",
      "45460                                                NaN   \n",
      "45460                                                NaN   \n",
      "45460                                                NaN   \n",
      "45461         Rising and falling between a man and woman   \n",
      "45461         Rising and falling between a man and woman   \n",
      "45462                                                NaN   \n",
      "45463                             A deadly game of wits.   \n",
      "45463                             A deadly game of wits.   \n",
      "45463                             A deadly game of wits.   \n",
      "45464                                                NaN   \n",
      "45465                                                NaN   \n",
      "\n",
      "                                  title  video vote_average vote_count  year  \\\n",
      "0                             Toy Story  False          7.7     5415.0  1995   \n",
      "0                             Toy Story  False          7.7     5415.0  1995   \n",
      "0                             Toy Story  False          7.7     5415.0  1995   \n",
      "1                               Jumanji  False          6.9     2413.0  1995   \n",
      "1                               Jumanji  False          6.9     2413.0  1995   \n",
      "1                               Jumanji  False          6.9     2413.0  1995   \n",
      "2                      Grumpier Old Men  False          6.5       92.0  1995   \n",
      "2                      Grumpier Old Men  False          6.5       92.0  1995   \n",
      "3                     Waiting to Exhale  False          6.1       34.0  1995   \n",
      "3                     Waiting to Exhale  False          6.1       34.0  1995   \n",
      "3                     Waiting to Exhale  False          6.1       34.0  1995   \n",
      "4           Father of the Bride Part II  False          5.7      173.0  1995   \n",
      "5                                  Heat  False          7.7     1886.0  1995   \n",
      "5                                  Heat  False          7.7     1886.0  1995   \n",
      "5                                  Heat  False          7.7     1886.0  1995   \n",
      "5                                  Heat  False          7.7     1886.0  1995   \n",
      "6                               Sabrina  False          6.2      141.0  1995   \n",
      "6                               Sabrina  False          6.2      141.0  1995   \n",
      "7                          Tom and Huck  False          5.4       45.0  1995   \n",
      "7                          Tom and Huck  False          5.4       45.0  1995   \n",
      "7                          Tom and Huck  False          5.4       45.0  1995   \n",
      "7                          Tom and Huck  False          5.4       45.0  1995   \n",
      "8                          Sudden Death  False          5.5      174.0  1995   \n",
      "8                          Sudden Death  False          5.5      174.0  1995   \n",
      "8                          Sudden Death  False          5.5      174.0  1995   \n",
      "9                             GoldenEye  False          6.6     1194.0  1995   \n",
      "9                             GoldenEye  False          6.6     1194.0  1995   \n",
      "9                             GoldenEye  False          6.6     1194.0  1995   \n",
      "10               The American President  False          6.5      199.0  1995   \n",
      "10               The American President  False          6.5      199.0  1995   \n",
      "...                                 ...    ...          ...        ...   ...   \n",
      "45450                  The One-Man Band  False          6.5       22.0  1900   \n",
      "45450                  The One-Man Band  False          6.5       22.0  1900   \n",
      "45450                  The One-Man Band  False          6.5       22.0  1900   \n",
      "45451  The Fat and Lean Wrestling Match  False          6.5        6.0  1900   \n",
      "45451  The Fat and Lean Wrestling Match  False          6.5        6.0  1900   \n",
      "45452                       Deep Hearts  False          0.0        0.0  1981   \n",
      "45453                               Mom  False          6.6       14.0  2017   \n",
      "45453                               Mom  False          6.6       14.0  2017   \n",
      "45453                               Mom  False          6.6       14.0  2017   \n",
      "45454                 The Morning After  False          4.0        2.0  2015   \n",
      "45454                 The Morning After  False          4.0        2.0  2015   \n",
      "45455         St. Michael Had a Rooster  False          6.0        3.0  1972   \n",
      "45456                  House of Horrors  False          6.3        8.0  1946   \n",
      "45456                  House of Horrors  False          6.3        8.0  1946   \n",
      "45456                  House of Horrors  False          6.3        8.0  1946   \n",
      "45457         Shadow of the Blair Witch  False          7.0        2.0  2000   \n",
      "45457         Shadow of the Blair Witch  False          7.0        2.0  2000   \n",
      "45458               The Burkittsville 7  False          7.0        1.0  2000   \n",
      "45459                   Caged Heat 3000  False          3.5        1.0  1995   \n",
      "45460                        Robin Hood  False          5.7       26.0  1991   \n",
      "45460                        Robin Hood  False          5.7       26.0  1991   \n",
      "45460                        Robin Hood  False          5.7       26.0  1991   \n",
      "45461                            Subdue  False          4.0        1.0   NaT   \n",
      "45461                            Subdue  False          4.0        1.0   NaT   \n",
      "45462               Century of Birthing  False          9.0        3.0  2011   \n",
      "45463                          Betrayal  False          3.8        6.0  2003   \n",
      "45463                          Betrayal  False          3.8        6.0  2003   \n",
      "45463                          Betrayal  False          3.8        6.0  2003   \n",
      "45464                  Satan Triumphant  False          0.0        0.0  1917   \n",
      "45465                          Queerama  False          0.0        0.0  2017   \n",
      "\n",
      "                 genre  \n",
      "0            Animation  \n",
      "0               Comedy  \n",
      "0               Family  \n",
      "1            Adventure  \n",
      "1              Fantasy  \n",
      "1               Family  \n",
      "2              Romance  \n",
      "2               Comedy  \n",
      "3               Comedy  \n",
      "3                Drama  \n",
      "3              Romance  \n",
      "4               Comedy  \n",
      "5               Action  \n",
      "5                Crime  \n",
      "5                Drama  \n",
      "5             Thriller  \n",
      "6               Comedy  \n",
      "6              Romance  \n",
      "7               Action  \n",
      "7            Adventure  \n",
      "7                Drama  \n",
      "7               Family  \n",
      "8               Action  \n",
      "8            Adventure  \n",
      "8             Thriller  \n",
      "9            Adventure  \n",
      "9               Action  \n",
      "9             Thriller  \n",
      "10              Comedy  \n",
      "10               Drama  \n",
      "...                ...  \n",
      "45450          Fantasy  \n",
      "45450           Action  \n",
      "45450         Thriller  \n",
      "45451           Comedy  \n",
      "45451          Fantasy  \n",
      "45452      Documentary  \n",
      "45453            Crime  \n",
      "45453            Drama  \n",
      "45453         Thriller  \n",
      "45454           Comedy  \n",
      "45454            Drama  \n",
      "45455              NaN  \n",
      "45456           Horror  \n",
      "45456          Mystery  \n",
      "45456         Thriller  \n",
      "45457          Mystery  \n",
      "45457           Horror  \n",
      "45458           Horror  \n",
      "45459  Science Fiction  \n",
      "45460            Drama  \n",
      "45460           Action  \n",
      "45460          Romance  \n",
      "45461            Drama  \n",
      "45461           Family  \n",
      "45462            Drama  \n",
      "45463           Action  \n",
      "45463            Drama  \n",
      "45463         Thriller  \n",
      "45464              NaN  \n",
      "45465              NaN  \n",
      "\n",
      "[93548 rows x 25 columns]\n"
     ]
    }
   ],
   "source": [
    "print(gen_md)"
   ]
  },
  {
   "cell_type": "code",
   "execution_count": 17,
   "metadata": {
    "colab": {},
    "colab_type": "code",
    "id": "UShmUJ7CUw0b"
   },
   "outputs": [],
   "source": [
    "def build_chart(genre, percentile = 0.85):\n",
    "  df = gen_md[gen_md['genre'] == genre]\n",
    "  vote_counts = df[df['vote_count'].notnull()]['vote_count'].astype('int')\n",
    "  vote_averages = df[df['vote_average'].notnull()]['vote_average'].astype('int')\n",
    "  C = vote_averages.mean()\n",
    "  m = vote_counts.quantile(percentile)\n",
    "  \n",
    "  qualified = df[(df['vote_count'] >= m) & (df['vote_count'].notnull()) & (df['vote_average'].notnull())][['title', 'year', 'vote_count', 'vote_average', 'popularity']]\n",
    "  qualified['vote_count'] = qualified['vote_count'].astype('int')\n",
    "  qualified['vote_average'] = qualified['vote_average'].astype('int')\n",
    "  \n",
    "  qualified['wr'] = qualified.apply(lambda x: (x['vote_count']/(x['vote_count'] + m) * x['vote_average']) + (m / (m + x['vote_count']) * C), axis = 1)\n",
    "  qualified = qualified.sort_values('wr', ascending = False).head(250)\n",
    "  \n",
    "  return qualified\n",
    "  "
   ]
  },
  {
   "cell_type": "code",
   "execution_count": 18,
   "metadata": {
    "colab": {
     "base_uri": "https://localhost:8080/",
     "height": 319
    },
    "colab_type": "code",
    "id": "8hcWdUlPVjQ8",
    "outputId": "7ef4ae28-ac68-4e97-aa22-d892a452161a"
   },
   "outputs": [
    {
     "name": "stdout",
     "output_type": "stream",
     "text": [
      "                             title  year  vote_count  vote_average popularity  \\\n",
      "10309  Dilwale Dulhania Le Jayenge  1995         661             9     34.457   \n",
      "351                   Forrest Gump  1994        8147             8    48.3072   \n",
      "876                        Vertigo  1958        1162             8    18.2082   \n",
      "40251                   Your Name.  2016        1030             8  34.461252   \n",
      "883               Some Like It Hot  1959         835             8    11.8451   \n",
      "1132               Cinema Paradiso  1988         834             8     14.177   \n",
      "19901                     Paperman  2012         734             8    7.19863   \n",
      "37863                  Sing Street  2016         669             8  10.672862   \n",
      "882                  The Apartment  1960         498             8    11.9943   \n",
      "38718               The Handmaiden  2016         453             8  16.727405   \n",
      "3189                   City Lights  1931         444             8    10.8915   \n",
      "24886             The Way He Looks  2014         262             8    5.71127   \n",
      "45437               In a Heartbeat  2017         146             8   20.82178   \n",
      "1639                       Titanic  1997        7770             7    26.8891   \n",
      "19731      Silver Linings Playbook  2012        4840             7    14.4881   \n",
      "\n",
      "             wr  \n",
      "10309  8.565285  \n",
      "351    7.971357  \n",
      "876    7.811667  \n",
      "40251  7.789489  \n",
      "883    7.745154  \n",
      "1132   7.744878  \n",
      "19901  7.713951  \n",
      "37863  7.689483  \n",
      "882    7.599317  \n",
      "38718  7.566166  \n",
      "3189   7.558867  \n",
      "24886  7.331363  \n",
      "45437  7.003959  \n",
      "1639   6.981546  \n",
      "19731  6.970581  \n"
     ]
    }
   ],
   "source": [
    "print(build_chart('Romance').head(15))"
   ]
  },
  {
   "cell_type": "code",
   "execution_count": 0,
   "metadata": {
    "colab": {},
    "colab_type": "code",
    "id": "brNmEk-YYN8Y"
   },
   "outputs": [],
   "source": [
    "#---------------------------------------------- Content Based Recommender ----------------------------------------------"
   ]
  },
  {
   "cell_type": "code",
   "execution_count": 43,
   "metadata": {
    "colab": {
     "base_uri": "https://localhost:8080/",
     "height": 111,
     "resources": {
      "http://localhost:8080/nbextensions/google.colab/files.js": {
       "data": "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",
       "headers": [
        [
         "content-type",
         "application/javascript"
        ]
       ],
       "ok": true,
       "status": 200,
       "status_text": ""
      }
     }
    },
    "colab_type": "code",
    "id": "BvR6t3pxI71_",
    "outputId": "cf7f70fa-6815-4b72-816f-6235d22b98d1"
   },
   "outputs": [
    {
     "data": {
      "text/html": [
       "\n",
       "     <input type=\"file\" id=\"files-7f88dea0-8de3-49f4-9e31-97322f85754b\" name=\"files[]\" multiple disabled />\n",
       "     <output id=\"result-7f88dea0-8de3-49f4-9e31-97322f85754b\">\n",
       "      Upload widget is only available when the cell has been executed in the\n",
       "      current browser session. Please rerun this cell to enable.\n",
       "      </output>\n",
       "      <script src=\"/nbextensions/google.colab/files.js\"></script> "
      ],
      "text/plain": [
       "<IPython.core.display.HTML object>"
      ]
     },
     "metadata": {
      "tags": []
     },
     "output_type": "display_data"
    },
    {
     "name": "stdout",
     "output_type": "stream",
     "text": [
      "Saving links_small.csv to links_small.csv\n"
     ]
    },
    {
     "data": {
      "text/plain": [
       "{'links_small.csv': b'movieId,imdbId,tmdbId\\r\\n1,0114709,862\\r\\n2,0113497,8844\\r\\n3,0113228,15602\\r\\n4,0114885,31357\\r\\n5,0113041,11862\\r\\n6,0113277,949\\r\\n7,0114319,11860\\r\\n8,0112302,45325\\r\\n9,0114576,9091\\r\\n10,0113189,710\\r\\n11,0112346,9087\\r\\n12,0112896,12110\\r\\n13,0112453,21032\\r\\n14,0113987,10858\\r\\n15,0112760,1408\\r\\n16,0112641,524\\r\\n17,0114388,4584\\r\\n18,0113101,5\\r\\n19,0112281,9273\\r\\n20,0113845,11517\\r\\n21,0113161,8012\\r\\n22,0112722,1710\\r\\n23,0112401,9691\\r\\n24,0114168,12665\\r\\n25,0113627,451\\r\\n26,0114057,16420\\r\\n27,0114011,9263\\r\\n28,0114117,17015\\r\\n29,0112682,902\\r\\n30,0115012,37557\\r\\n31,0112792,9909\\r\\n32,0114746,63\\r\\n34,0112431,9598\\r\\n35,0112637,47018\\r\\n36,0112818,687\\r\\n37,0112286,139405\\r\\n38,0113442,33689\\r\\n39,0112697,9603\\r\\n40,0112749,34615\\r\\n41,0114279,31174\\r\\n42,0112819,11443\\r\\n43,0114272,35196\\r\\n44,0113855,9312\\r\\n45,0114681,577\\r\\n46,0113347,11861\\r\\n47,0114369,807\\r\\n48,0114148,10530\\r\\n49,0114916,8391\\r\\n50,0114814,629\\r\\n52,0113819,11448\\r\\n53,0110299,49133\\r\\n54,0112499,26441\\r\\n55,0113158,97406\\r\\n57,0113321,9089\\r\\n58,0110877,11010\\r\\n59,0112714,99040\\r\\n60,0113419,11359\\r\\n61,0116260,17182\\r\\n62,0113862,2054\\r\\n63,0116126,10607\\r\\n64,0118002,19760\\r\\n65,0115683,9536\\r\\n66,0116839,11525\\r\\n68,0113149,4482\\r\\n69,0113118,10634\\r\\n70,0116367,755\\r\\n71,0113010,11859\\r\\n72,0113537,28387\\r\\n73,0113828,48750\\r\\n74,0115644,20927\\r\\n76,0114367,9102\\r\\n77,0113973,124626\\r\\n78,0112744,27526\\r\\n79,0116731,9623\\r\\n80,0112445,46785\\r\\n81,0114660,400\\r\\n82,0112379,880\\r\\n83,0114039,146599\\r\\n84,0113612,188588\\r\\n85,0112365,8447\\r\\n86,0118158,10534\\r\\n87,0116151,17414\\r\\n88,0115697,13997\\r\\n89,0113972,2086\\r\\n92,0117002,9095\\r\\n93,0114825,12158\\r\\n94,0115639,9283\\r\\n95,0115759,9208\\r\\n96,0113403,40154\\r\\n97,0113247,406\\r\\n98,0111173,45549\\r\\n99,0113283,63076\\r\\n100,0115907,11062\\r\\n101,0115734,13685\\r\\n102,0117102,47475\\r\\n103,0118040,2045\\r\\n104,0116483,9614\\r\\n105,0112579,688\\r\\n107,0117110,10874\\r\\n108,0112646,89333\\r\\n110,0112573,197\\r\\n111,0075314,103\\r\\n112,0113326,33542\\r\\n113,0115645,43566\\r\\n114,0113774,71754\\r\\n116,0112373,51352\\r\\n117,0115033,16934\\r\\n118,0116606,10324\\r\\n119,0114536,78406\\r\\n121,0106473,32119\\r\\n122,0103859,11066\\r\\n123,0109424,11104\\r\\n124,0114808,37975\\r\\n125,0116324,2074\\r\\n126,0110647,27793\\r\\n129,0114131,110972\\r\\n130,0112364,32622\\r\\n131,0113107,73067\\r\\n132,0113451,11863\\r\\n135,0116130,9101\\r\\n137,0113756,5757\\r\\n140,0118055,9302\\r\\n141,0115685,11000\\r\\n144,0112585,16388\\r\\n145,0112442,9737\\r\\n146,0112342,30765\\r\\n147,0112461,10474\\r\\n148,0112427,22279\\r\\n149,0109093,30157\\r\\n150,0112384,568\\r\\n151,0114287,11780\\r\\n152,0112288,34996\\r\\n153,0112462,414\\r\\n154,0061395,649\\r\\n155,0112495,1873\\r\\n156,0112541,5894\\r\\n157,0109370,1775\\r\\n158,0112642,8839\\r\\n159,0112688,20649\\r\\n160,0112715,10329\\r\\n161,0112740,8963\\r\\n162,0109508,26564\\r\\n163,0112851,8068\\r\\n164,0112857,8512\\r\\n165,0112864,1572\\r\\n166,0112887,13552\\r\\n167,0113044,259209\\r\\n168,0113071,6520\\r\\n169,0113114,9073\\r\\n170,0113243,10428\\r\\n171,0113464,17447\\r\\n172,0113481,9886\\r\\n173,0113492,9482\\r\\n174,0113500,19326\\r\\n175,0113540,9344\\r\\n176,0113677,9071\\r\\n177,0113690,8973\\r\\n178,0107447,15730\\r\\n179,0113729,47608\\r\\n180,0113749,2293\\r\\n181,0113820,9070\\r\\n183,0110604,48787\\r\\n184,0110620,34574\\r\\n185,0113957,1642\\r\\n186,0113986,11472\\r\\n187,0114095,36196\\r\\n188,0114194,11980\\r\\n189,0114241,58372\\r\\n190,0114323,32646\\r\\n191,0114345,10533\\r\\n193,0114436,10802\\r\\n194,0114478,10149\\r\\n195,0114496,18402\\r\\n196,0114508,9348\\r\\n198,0114558,281\\r\\n199,0058450,5967\\r\\n200,0114666,79593\\r\\n201,0114663,47939\\r\\n202,0114702,36834\\r\\n203,0114682,9090\\r\\n204,0114781,3512\\r\\n205,0114798,52856\\r\\n206,0114805,77350\\r\\n207,0114887,9560\\r\\n208,0114898,9804\\r\\n209,0114928,31611\\r\\n211,0109340,49805\\r\\n213,0111579,50797\\r\\n214,0110882,19155\\r\\n215,0112471,76\\r\\n216,0112508,11017\\r\\n217,0112438,37141\\r\\n218,0112571,9382\\r\\n219,0112757,6715\\r\\n220,0112643,18256\\r\\n222,0112679,22625\\r\\n223,0109445,2292\\r\\n224,0112883,1909\\r\\n225,0109635,8984\\r\\n227,0109676,4954\\r\\n228,0112854,62488\\r\\n229,0109579,10531\\r\\n230,0109642,11929\\r\\n231,0109686,8467\\r\\n232,0111797,10451\\r\\n233,0109759,20156\\r\\n234,0109758,18395\\r\\n235,0109707,522\\r\\n236,0113117,397\\r\\n237,0113097,10525\\r\\n238,0113028,27985\\r\\n239,0113198,15789\\r\\n240,0113303,27303\\r\\n241,0113089,21183\\r\\n242,0109771,10954\\r\\n243,0113199,47867\\r\\n244,0113234,43475\\r\\n245,0109906,72031\\r\\n246,0110057,14275\\r\\n247,0110005,1024\\r\\n248,0110066,17207\\r\\n249,0110116,13701\\r\\n250,0110006,14819\\r\\n251,0113360,32631\\r\\n252,0110099,11777\\r\\n253,0110148,628\\r\\n254,0113463,87729\\r\\n255,0110189,18713\\r\\n256,0110216,6280\\r\\n257,0113501,9061\\r\\n258,0113538,37108\\r\\n259,0113552,6071\\r\\n260,0076759,11\\r\\n261,0110367,9587\\r\\n262,0113670,19101\\r\\n263,0110296,49980\\r\\n264,0109731,17961\\r\\n265,0103994,18183\\r\\n266,0110322,4476\\r\\n267,0110443,11008\\r\\n268,0110365,47504\\r\\n269,0107566,32325\\r\\n270,0110391,43742\\r\\n271,0113691,28313\\r\\n272,0110428,11318\\r\\n273,0109836,3036\\r\\n274,0113755,40490\\r\\n275,0110538,24070\\r\\n276,0110516,8986\\r\\n277,0110527,10510\\r\\n278,0113808,17402\\r\\n279,0113896,38722\\r\\n280,0113870,8438\\r\\n281,0110684,11593\\r\\n282,0110638,1945\\r\\n283,0113967,39310\\r\\n285,0106402,56428\\r\\n287,0110671,131957\\r\\n288,0110632,241\\r\\n289,0110737,9058\\r\\n290,0110729,527\\r\\n291,0114151,18220\\r\\n292,0114069,6950\\r\\n293,0110413,101\\r\\n294,0114113,63020\\r\\n295,0114210,2307\\r\\n296,0110912,680\\r\\n299,0110889,40156\\r\\n300,0110932,11450\\r\\n301,0114129,30304\\r\\n302,0110963,10452\\r\\n303,0114214,12106\\r\\n304,0114296,161495\\r\\n305,0110907,3586\\r\\n306,0111495,110\\r\\n307,0108394,108\\r\\n308,0111507,109\\r\\n309,0110769,159185\\r\\n312,0114571,28033\\r\\n313,0111333,22586\\r\\n314,0111112,14334\\r\\n315,0111255,2636\\r\\n316,0111282,2164\\r\\n317,0111070,11395\\r\\n318,0111161,278\\r\\n319,0111149,9905\\r\\n320,0108260,87078\\r\\n321,0106966,12527\\r\\n322,0114594,20306\\r\\n324,0111309,36614\\r\\n325,0113936,27993\\r\\n326,0110081,31439\\r\\n327,0114614,9067\\r\\n328,0114608,9059\\r\\n329,0111280,193\\r\\n330,0114609,25066\\r\\n331,0111454,46797\\r\\n332,0114852,12122\\r\\n333,0114694,11381\\r\\n334,0111590,32636\\r\\n335,0114788,36141\\r\\n336,0114888,95963\\r\\n337,0108550,1587\\r\\n338,0114857,9271\\r\\n339,0114924,2064\\r\\n340,0111667,19855\\r\\n341,0109655,60855\\r\\n342,0110598,236\\r\\n343,0112435,48287\\r\\n344,0109040,3049\\r\\n345,0109045,2759\\r\\n346,0106339,12635\\r\\n347,0104779,10497\\r\\n348,0109348,11382\\r\\n349,0109444,9331\\r\\n350,0109446,10731\\r\\n351,0109484,10464\\r\\n352,0109504,34152\\r\\n353,0109506,9495\\r\\n354,0109450,29973\\r\\n355,0109813,888\\r\\n356,0109830,13\\r\\n357,0109831,712\\r\\n358,0113305,16295\\r\\n360,0110093,10879\\r\\n361,0110167,10660\\r\\n362,0110213,10714\\r\\n363,0107472,41647\\r\\n364,0110357,8587\\r\\n365,0107426,1689\\r\\n366,0111686,11596\\r\\n367,0110475,854\\r\\n368,0110478,9359\\r\\n369,0110588,23333\\r\\n370,0110622,36593\\r\\n371,0110771,12280\\r\\n372,0110950,2788\\r\\n373,0105226,10427\\r\\n374,0110989,11011\\r\\n375,0111054,49803\\r\\n376,0110997,8987\\r\\n377,0111257,1637\\r\\n378,0111256,15128\\r\\n379,0111438,8831\\r\\n380,0111503,36955\\r\\n381,0111693,10449\\r\\n382,0111742,10395\\r\\n383,0111756,12160\\r\\n384,0112443,40480\\r\\n387,0110399,26352\\r\\n388,0112570,39953\\r\\n389,0109454,41580\\r\\n390,0059170,315\\r\\n391,0110186,22067\\r\\n392,0108069,18242\\r\\n393,0111301,11667\\r\\n401,0113827,226229\\r\\n405,0110027,8011\\r\\n407,0113409,2654\\r\\n408,0109021,18069\\r\\n409,0109035,19092\\r\\n410,0106220,2758\\r\\n412,0106226,10436\\r\\n413,0109068,13595\\r\\n414,0109067,46094\\r\\n415,0106292,9409\\r\\n416,0109198,11853\\r\\n417,0109219,16771\\r\\n418,0106379,46924\\r\\n419,0106400,11041\\r\\n420,0109254,306\\r\\n421,0109279,14522\\r\\n422,0109297,26203\\r\\n423,0109303,178\\r\\n424,0109305,19819\\r\\n425,0109306,57834\\r\\n426,0106452,4722\\r\\n427,0106471,18215\\r\\n428,0106489,1607\\r\\n429,0109361,26391\\r\\n431,0106519,6075\\r\\n432,0109439,11310\\r\\n433,0109443,18658\\r\\n434,0106582,9350\\r\\n435,0106598,9612\\r\\n436,0109456,2124\\r\\n437,0109480,26261\\r\\n438,0109493,19176\\r\\n439,0106660,49299\\r\\n440,0106673,11566\\r\\n441,0106677,9571\\r\\n442,0106697,9739\\r\\n443,0109729,24257\\r\\n444,0106834,34444\\r\\n445,0106873,26141\\r\\n446,0106332,10997\\r\\n447,0109783,50463\\r\\n448,0106881,10443\\r\\n449,0106880,20239\\r\\n450,0111732,16297\\r\\n451,0106926,18551\\r\\n452,0111712,25440\\r\\n453,0106941,9024\\r\\n454,0106918,37233\\r\\n455,0106965,1634\\r\\n456,0109842,13815\\r\\n457,0106977,5503\\r\\n458,0107004,35588\\r\\n459,0109890,2087\\r\\n460,0109891,41579\\r\\n461,0109913,18620\\r\\n463,0107057,4916\\r\\n464,0107076,2019\\r\\n465,0107096,31642\\r\\n466,0107144,9255\\r\\n467,0113674,26271\\r\\n468,0112966,10612\\r\\n469,0107151,2259\\r\\n470,0110064,16097\\r\\n471,0110074,11934\\r\\n472,0110097,106143\\r\\n473,0110123,12475\\r\\n474,0107206,9386\\r\\n475,0107207,7984\\r\\n476,0110137,59930\\r\\n477,0108551,15765\\r\\n479,0107286,6\\r\\n480,0107290,329\\r\\n481,0107302,10909\\r\\n482,0110265,507\\r\\n483,0107322,34024\\r\\n484,0110305,29918\\r\\n485,0107362,9593\\r\\n486,0107413,42580\\r\\n487,0110353,22317\\r\\n488,0107468,1413\\r\\n489,0107478,12121\\r\\n490,0107497,2246\\r\\n491,0107501,10502\\r\\n492,0107507,10440\\r\\n493,0107554,9516\\r\\n494,0116253,2320\\r\\n495,0074102,5879\\r\\n496,0111689,83718\\r\\n497,0107616,11971\\r\\n498,0107611,2625\\r\\n499,0107613,31911\\r\\n500,0107614,788\\r\\n501,0107653,21450\\r\\n502,0110657,11231\\r\\n504,0110678,10447\\r\\n505,0110687,31586\\r\\n506,0107756,9300\\r\\n507,0107808,9559\\r\\n508,0107818,9800\\r\\n509,0107822,713\\r\\n510,0107840,8291\\r\\n511,0107889,18133\\r\\n512,0111003,25557\\r\\n513,0110939,22588\\r\\n514,0110955,10872\\r\\n515,0107943,1245\\r\\n516,0110971,11858\\r\\n517,0107969,7007\\r\\n518,0111001,10467\\r\\n519,0107978,5550\\r\\n520,0107977,8005\\r\\n521,0107983,2088\\r\\n522,0105275,10412\\r\\n523,0108000,47889\\r\\n524,0108002,14534\\r\\n526,0105032,41878\\r\\n527,0108052,424\\r\\n528,0111094,35233\\r\\n529,0108065,14291\\r\\n531,0108071,11236\\r\\n532,0111127,11592\\r\\n533,0111143,8850\\r\\n534,0108101,10445\\r\\n535,0108122,695\\r\\n536,0111194,43535\\r\\n537,0111201,12519\\r\\n538,0108149,23210\\r\\n539,0108160,858\\r\\n540,0108162,867\\r\\n541,0083658,78\\r\\n542,0108186,13203\\r\\n543,0108174,10442\\r\\n544,0108238,11074\\r\\n546,0108255,9607\\r\\n547,0111323,17585\\r\\n548,0111400,9057\\r\\n549,0108328,20967\\r\\n550,0111418,10635\\r\\n551,0107688,9479\\r\\n552,0108333,10057\\r\\n553,0108358,11969\\r\\n554,0111488,41590\\r\\n555,0108399,319\\r\\n556,0108515,26408\\r\\n558,0110763,15139\\r\\n559,0107779,161158\\r\\n561,0110259,85247\\r\\n562,0114906,11446\\r\\n563,0107002,51980\\r\\n564,0109403,24405\\r\\n565,0104029,11655\\r\\n567,0107315,8223\\r\\n568,0106408,14587\\r\\n569,0110363,31504\\r\\n571,0111709,53185\\r\\n573,0107225,23637\\r\\n574,0111252,17600\\r\\n575,0110366,10897\\r\\n577,0109120,21352\\r\\n580,0110892,37345\\r\\n581,0112651,32562\\r\\n582,0107642,47507\\r\\n585,0112572,9066\\r\\n586,0099785,771\\r\\n587,0099653,251\\r\\n588,0103639,812\\r\\n589,0103064,280\\r\\n590,0099348,581\\r\\n592,0096895,268\\r\\n593,0102926,274\\r\\n594,0029583,408\\r\\n595,0101414,10020\\r\\n596,0032910,10895\\r\\n597,0100405,114\\r\\n599,0065214,576\\r\\n600,0110395,15477\\r\\n603,0112606,30528\\r\\n605,0117247,7300\\r\\n606,0112625,10824\\r\\n608,0116282,275\\r\\n609,0116552,25059\\r\\n610,0082509,11827\\r\\n611,0116514,8766\\r\\n612,0117283,23570\\r\\n613,0116684,47333\\r\\n614,0110374,54850\\r\\n615,0070506,51242\\r\\n616,0065421,10112\\r\\n617,0113083,4307\\r\\n619,0116165,32308\\r\\n620,0102855,88893\\r\\n621,0107471,52873\\r\\n626,0117891,28121\\r\\n627,0113613,12520\\r\\n628,0117381,1592\\r\\n630,0115837,36447\\r\\n631,0115509,19042\\r\\n632,0114671,38884\\r\\n633,0112844,47449\\r\\n635,0116275,41852\\r\\n637,0117608,9099\\r\\n638,0113448,2021\\r\\n639,0116414,61752\\r\\n640,0116095,10988\\r\\n647,0115956,10684\\r\\n648,0117060,954\\r\\n650,0117071,18989\\r\\n651,0117788,10801\\r\\n653,0116136,8840\\r\\n656,0116168,11107\\r\\n659,0054189,10363\\r\\n661,0116683,10539\\r\\n662,0116287,10543\\r\\n663,0116768,18414\\r\\n664,0116269,47502\\r\\n665,0114787,11902\\r\\n667,0112536,25087\\r\\n668,0048473,5801\\r\\n670,0052572,896\\r\\n671,0117128,3065\\r\\n673,0117705,2300\\r\\n674,0062711,8069\\r\\n678,0108181,27768\\r\\n679,0114307,221917\\r\\n680,0058898,8072\\r\\n681,0082206,35797\\r\\n685,0113443,33245\\r\\n687,0109491,124460\\r\\n688,0114048,27281\\r\\n690,0111613,105045\\r\\n691,0117104,40001\\r\\n692,0117688,29621\\r\\n694,0117774,20762\\r\\n695,0114736,37144\\r\\n696,0112604,48260\\r\\n697,0116289,12656\\r\\n698,0109593,38867\\r\\n700,0112368,25969\\r\\n702,0062952,753\\r\\n703,0115742,43634\\r\\n704,0117420,9103\\r\\n705,0115951,90214\\r\\n707,0117107,10990\\r\\n708,0117979,8866\\r\\n709,0095776,12233\\r\\n710,0115851,23449\\r\\n711,0116322,36355\\r\\n714,0112817,922\\r\\n715,0113362,11876\\r\\n718,0108500,11687\\r\\n719,0117108,9304\\r\\n720,0118114,\\r\\n721,0114103,\\r\\n722,0113270,73183\\r\\n724,0115963,9100\\r\\n725,0116448,20759\\r\\n726,0116827,46063\\r\\n728,0112701,32513\\r\\n731,0116508,36915\\r\\n733,0117500,9802\\r\\n735,0109592,21588\\r\\n736,0117998,664\\r\\n737,0115624,11867\\r\\n741,0113568,9323\\r\\n742,0117894,10280\\r\\n743,0117723,10535\\r\\n745,0112691,532\\r\\n746,0040366,26744\\r\\n747,0117768,16299\\r\\n748,0115571,10547\\r\\n750,0057012,935\\r\\n753,0113849,41007\\r\\n754,0113188,35645\\r\\n755,0042644,110465\\r\\n756,0109381,255546\\r\\n757,0109688,40751\\r\\n759,0110480,85778\\r\\n760,0108211,11101\\r\\n761,0117331,9826\\r\\n762,0117765,9879\\r\\n764,0113280,22621\\r\\n765,0116669,7095\\r\\n766,0116594,26890\\r\\n767,0113211,46732\\r\\n769,0116992,\\r\\n775,0063715,41225\\r\\n778,0117951,627\\r\\n779,0118523,32872\\r\\n780,0116629,602\\r\\n781,0117737,14553\\r\\n782,0116277,9566\\r\\n783,0116583,10545\\r\\n784,0115798,9894\\r\\n785,0116778,11543\\r\\n786,0116213,9268\\r\\n787,0113147,52059\\r\\n788,0117218,9327\\r\\n793,0106810,124306\\r\\n798,0116040,11228\\r\\n799,0116365,10779\\r\\n800,0116905,26748\\r\\n801,0116493,38223\\r\\n802,0117333,9294\\r\\n803,0118113,49963\\r\\n804,0117628,11363\\r\\n805,0117913,1645\\r\\n806,0115530,31546\\r\\n808,0115493,36344\\r\\n809,0116320,18550\\r\\n810,0116756,11511\\r\\n813,0116823,34170\\r\\n816,0117999,124645\\r\\n818,0118073,12606\\r\\n820,0049521,35206\\r\\n824,0110246,12632\\r\\n828,0115472,18975\\r\\n829,0116707,11962\\r\\n830,0116313,2925\\r\\n831,0114550,28628\\r\\n832,0117438,3595\\r\\n833,0116531,9308\\r\\n834,0117332,92381\\r\\n835,0116353,18555\\r\\n836,0115857,12123\\r\\n837,0117008,10830\\r\\n838,0116191,3573\\r\\n839,0115986,10546\\r\\n840,0116571,18862\\r\\n841,0053459,31417\\r\\n842,0117826,9431\\r\\n844,0108227,297645\\r\\n845,0111424,48144\\r\\n846,0113080,46986\\r\\n848,0117718,47907\\r\\n849,0116225,10061\\r\\n850,0112767,36266\\r\\n851,0115632,549\\r\\n852,0117918,10478\\r\\n854,0051980,116690\\r\\n858,0068646,238\\r\\n861,0104558,11134\\r\\n864,0114936,132641\\r\\n865,0114474,42758\\r\\n866,0115736,9303\\r\\n867,0115836,23945\\r\\n869,0116745,22479\\r\\n870,0119214,9054\\r\\n872,0109066,11985\\r\\n875,0110693,410921\\r\\n876,0106544,38955\\r\\n879,0120004,11015\\r\\n880,0116654,9306\\r\\n881,0116311,12559\\r\\n882,0117965,58770\\r\\n885,0115725,3587\\r\\n886,0115783,10723\\r\\n888,0113596,19004\\r\\n889,0109001,101230\\r\\n891,0113253,10987\\r\\n892,0117991,44705\\r\\n893,0117093,20318\\r\\n896,0111019,26933\\r\\n897,0035896,27854\\r\\n898,0032904,981\\r\\n899,0045152,872\\r\\n900,0043278,2769\\r\\n901,0050419,13320\\r\\n902,0054698,164\\r\\n903,0052357,426\\r\\n904,0047396,567\\r\\n905,0025316,3078\\r\\n906,0036855,13528\\r\\n907,0025164,28288\\r\\n908,0053125,213\\r\\n909,0053604,284\\r\\n910,0053291,239\\r\\n911,0056923,4808\\r\\n912,0034583,289\\r\\n913,0033870,963\\r\\n914,0058385,11113\\r\\n915,0047437,6620\\r\\n916,0046250,804\\r\\n917,0031580,26531\\r\\n918,0037059,909\\r\\n919,0032138,630\\r\\n920,0031381,770\\r\\n921,0084370,31044\\r\\n922,0043014,599\\r\\n923,0033467,15\\r\\n924,0062622,62\\r\\n926,0042192,705\\r\\n927,0032143,22490\\r\\n928,0032976,223\\r\\n929,0032484,25670\\r\\n930,0038787,303\\r\\n931,0038109,4174\\r\\n932,0050105,8356\\r\\n933,0048728,381\\r\\n934,0042451,20758\\r\\n935,0045537,29376\\r\\n936,0031725,1859\\r\\n937,0050658,18299\\r\\n938,0051658,17281\\r\\n939,0052126,64382\\r\\n940,0029843,10907\\r\\n941,0032762,32093\\r\\n942,0037008,1939\\r\\n943,0039420,22292\\r\\n944,0029162,3598\\r\\n945,0027125,3080\\r\\n946,0035446,198\\r\\n947,0028010,13562\\r\\n948,0049261,1712\\r\\n949,0048028,220\\r\\n950,0025878,3529\\r\\n951,0032599,3085\\r\\n952,0048960,2897\\r\\n953,0038650,1585\\r\\n954,0031679,3083\\r\\n955,0029947,900\\r\\n956,0034012,43795\\r\\n957,0017350,85638\\r\\n960,0038300,22688\\r\\n961,0027893,23114\\r\\n962,0032022,26378\\r\\n963,0041509,40206\\r\\n964,0039152,22356\\r\\n965,0026029,260\\r\\n966,0038235,43488\\r\\n968,0063350,10331\\r\\n969,0043265,488\\r\\n970,0046414,22733\\r\\n971,0051459,261\\r\\n972,0047162,57575\\r\\n973,0033891,32574\\r\\n976,0022879,22649\\r\\n980,0093229,39448\\r\\n981,0118927,52855\\r\\n982,0048491,39940\\r\\n984,0117357,85328\\r\\n986,0116329,11076\\r\\n987,0118742,63945\\r\\n988,0116442,58985\\r\\n990,0117011,10861\\r\\n991,0117039,1770\\r\\n992,0117473,44465\\r\\n994,0115678,18203\\r\\n996,0116830,9333\\r\\n997,0115847,47260\\r\\n998,0117603,9400\\r\\n999,0115438,9401\\r\\n1003,0116259,11306\\r\\n1004,0116421,9625\\r\\n1005,0116000,10680\\r\\n1006,0115862,6346\\r\\n1007,0072653,18660\\r\\n1008,0047977,35115\\r\\n1009,0072951,14821\\r\\n1010,0064603,14136\\r\\n1011,0071607,10869\\r\\n1012,0050798,22660\\r\\n1013,0055277,19186\\r\\n1014,0054195,31102\\r\\n1015,0107131,6878\\r\\n1016,0053271,15944\\r\\n1017,0054357,18444\\r\\n1018,0059793,20723\\r\\n1019,0046672,173\\r\\n1020,0106611,864\\r\\n1021,0109127,24795\\r\\n1022,0042332,11224\\r\\n1023,0063819,81310\\r\\n1024,0038166,15947\\r\\n1025,0057546,9078\\r\\n1026,0041890,29682\\r\\n1027,0102798,8367\\r\\n1028,0058331,433\\r\\n1029,0033563,11360\\r\\n1030,0076538,11114\\r\\n1031,0066817,12335\\r\\n1032,0043274,12092\\r\\n1033,0082406,10948\\r\\n1034,0116361,11229\\r\\n1035,0059742,15121\\r\\n1036,0095016,562\\r\\n1037,0104692,10163\\r\\n1040,0117582,47199\\r\\n1041,0117589,11159\\r\\n1042,0117887,9591\\r\\n1043,0117924,30500\\r\\n1044,0117791,41843\\r\\n1046,0115640,10938\\r\\n1047,0116908,11412\\r\\n1049,0116409,10586\\r\\n1050,0116913,42314\\r\\n1051,0117958,27845\\r\\n1053,0117202,23223\\r\\n1054,0116404,49471\\r\\n1055,0120107,38153\\r\\n1056,0116722,25147\\r\\n1057,0116242,9716\\r\\n1059,0117509,454\\r\\n1060,0117802,10218\\r\\n1061,0117665,819\\r\\n1063,0116714,56830\\r\\n1064,0115491,11238\\r\\n1066,0029546,31530\\r\\n1067,0028757,66473\\r\\n1068,0039286,28120\\r\\n1069,0037101,1834\\r\\n1073,0067992,252\\r\\n1076,0055018,16372\\r\\n1077,0070707,11561\\r\\n1078,0066808,11302\\r\\n1079,0095159,623\\r\\n1080,0079470,583\\r\\n1081,0084865,12614\\r\\n1082,0068334,21711\\r\\n1083,0059243,11575\\r\\n1084,0061418,475\\r\\n1085,0052027,11331\\r\\n1086,0046912,521\\r\\n1087,0113731,21202\\r\\n1088,0092890,88\\r\\n1089,0105236,500\\r\\n1090,0091763,792\\r\\n1091,0098627,8491\\r\\n1092,0103772,402\\r\\n1093,0101761,10537\\r\\n1094,0104036,11386\\r\\n1095,0104348,9504\\r\\n1096,0084707,15764\\r\\n1097,0083866,601\\r\\n1099,0029992,25842\\r\\n1100,0099371,2119\\r\\n1101,0092099,744\\r\\n1103,0048545,221\\r\\n1104,0044081,702\\r\\n1105,0115885,25750\\r\\n1111,0117040,9305\\r\\n1112,0117284,37616\\r\\n1113,0115580,11112\\r\\n1114,0116378,21612\\r\\n1120,0117318,1630\\r\\n1123,0117320,124837\\r\\n1124,0082846,11816\\r\\n1125,0072081,11843\\r\\n1126,0101775,10379\\r\\n1127,0096754,2756\\r\\n1128,0080749,790\\r\\n1129,0082340,1103\\r\\n1130,0082533,11298\\r\\n1131,0091288,4480\\r\\n1132,0091480,4481\\r\\n1133,0111357,\\r\\n1135,0081375,10765\\r\\n1136,0071853,762\\r\\n1137,0116587,44497\\r\\n1145,0117677,79306\\r\\n1147,0118147,10548\\r\\n1148,0108598,531\\r\\n1150,0084589,4483\\r\\n1151,0109781,18919\\r\\n1152,0040427,31556\\r\\n1153,0040723,26167\\r\\n1154,0039881,26174\\r\\n1161,0078875,659\\r\\n1162,0069198,30892\\r\\n1163,0110521,86369\\r\\n1164,0060304,8074\\r\\n1165,0115715,124676\\r\\n1167,0116059,38554\\r\\n1168,0115610,49763\\r\\n1169,0099028,41326\\r\\n1171,0103850,10608\\r\\n1172,0095765,11216\\r\\n1173,0097108,7452\\r\\n1174,0109942,64567\\r\\n1175,0101700,892\\r\\n1176,0101765,1600\\r\\n1177,0101811,26561\\r\\n1178,0050825,975\\r\\n1179,0099703,18129\\r\\n1180,0102014,54405\\r\\n1181,0120121,150823\\r\\n1183,0116209,409\\r\\n1184,0102426,38251\\r\\n1185,0097937,10161\\r\\n1186,0098724,1412\\r\\n1187,0105107,41768\\r\\n1188,0105488,10409\\r\\n1189,0096257,14285\\r\\n1190,0101026,2469\\r\\n1191,0102370,10174\\r\\n1192,0100332,31225\\r\\n1193,0073486,510\\r\\n1194,0078446,11455\\r\\n1196,0080684,1891\\r\\n1197,0093779,2493\\r\\n1198,0082971,85\\r\\n1199,0088846,68\\r\\n1200,0090605,679\\r\\n1201,0060196,429\\r\\n1202,0094336,13446\\r\\n1203,0050083,389\\r\\n1204,0056172,947\\r\\n1206,0066921,185\\r\\n1207,0056592,595\\r\\n1208,0078788,28\\r\\n1209,0064116,335\\r\\n1210,0086190,1892\\r\\n1211,0093191,144\\r\\n1212,0041959,1092\\r\\n1213,0099685,769\\r\\n1214,0078748,348\\r\\n1215,0106308,766\\r\\n1216,0095250,175\\r\\n1217,0089881,11645\\r\\n1218,0097202,10835\\r\\n1219,0054215,539\\r\\n1220,0080455,525\\r\\n1221,0071562,240\\r\\n1222,0093058,600\\r\\n1223,0104361,530\\r\\n1224,0097499,10705\\r\\n1225,0086879,279\\r\\n1226,0045061,3109\\r\\n1227,0087843,311\\r\\n1228,0081398,1578\\r\\n1230,0075686,703\\r\\n1231,0086197,9549\\r\\n1232,0079944,1398\\r\\n1233,0082096,387\\r\\n1234,0070735,9277\\r\\n1235,0067185,343\\r\\n1236,0103130,37291\\r\\n1237,0050976,490\\r\\n1238,0085859,11235\\r\\n1240,0088247,218\\r\\n1241,0103873,763\\r\\n1242,0097441,9665\\r\\n1243,0100519,18971\\r\\n1244,0079522,696\\r\\n1245,0100150,379\\r\\n1246,0097165,207\\r\\n1247,0061722,37247\\r\\n1248,0052311,1480\\r\\n1249,0100263,9322\\r\\n1250,0050212,826\\r\\n1251,0056801,422\\r\\n1252,0071315,829\\r\\n1253,0043456,828\\r\\n1254,0040897,3090\\r\\n1255,0092610,9964\\r\\n1256,0023969,3063\\r\\n1257,0088794,13667\\r\\n1258,0081505,694\\r\\n1259,0092005,235\\r\\n1260,0022100,832\\r\\n1261,0092991,765\\r\\n1262,0057115,5925\\r\\n1263,0077416,11778\\r\\n1264,0082269,4485\\r\\n1265,0107048,137\\r\\n1266,0105695,33\\r\\n1267,0056218,982\\r\\n1268,0100436,8428\\r\\n1269,0036613,212\\r\\n1270,0088763,105\\r\\n1271,0101921,1633\\r\\n1272,0066206,11202\\r\\n1273,0090967,1554\\r\\n1274,0094625,149\\r\\n1275,0091203,8009\\r\\n1276,0061512,903\\r\\n1277,0099334,11673\\r\\n1278,0072431,3034\\r\\n1279,0102536,339\\r\\n1280,0101640,10404\\r\\n1281,0032553,914\\r\\n1282,0032455,756\\r\\n1283,0044706,288\\r\\n1284,0038355,910\\r\\n1285,0097493,2640\\r\\n1286,0081534,16633\\r\\n1287,0052618,665\\r\\n1288,0088258,11031\\r\\n1289,0085809,11314\\r\\n1290,0094006,15143\\r\\n1291,0097576,89\\r\\n1292,0078841,10322\\r\\n1293,0083987,783\\r\\n1295,0096332,10644\\r\\n1296,0091867,11257\\r\\n1297,0089886,14370\\r\\n1298,0084503,12104\\r\\n1299,0087553,625\\r\\n1300,0089606,8816\\r\\n1301,0049223,830\\r\\n1302,0097351,2323\\r\\n1303,0073341,983\\r\\n1304,0064115,642\\r\\n1305,0087884,655\\r\\n1306,0101458,10341\\r\\n1307,0098635,639\\r\\n1310,0116589,30180\\r\\n1311,0117550,31388\\r\\n1312,0116293,41801\\r\\n1317,0116601,61536\\r\\n1320,0103644,8077\\r\\n1321,0082010,814\\r\\n1322,0103678,41671\\r\\n1323,0085159,27214\\r\\n1324,0115535,52263\\r\\n1325,0106262,33519\\r\\n1326,0083550,16235\\r\\n1327,0078767,11449\\r\\n1328,0099030,41848\\r\\n1329,0071233,25944\\r\\n1330,0090655,24913\\r\\n1331,0075704,49126\\r\\n1332,0092632,32076\\r\\n1333,0056869,571\\r\\n1334,0051418,8851\\r\\n1335,0082083,37843\\r\\n1336,0101492,32146\\r\\n1337,0037549,30346\\r\\n1339,0103874,6114\\r\\n1340,0026138,229\\r\\n1341,0074258,13549\\r\\n1342,0103919,9529\\r\\n1343,0101540,1598\\r\\n1344,0055824,11349\\r\\n1345,0074285,7340\\r\\n1346,0083722,6217\\r\\n1347,0087800,377\\r\\n1348,0013442,653\\r\\n1349,0091651,28198\\r\\n1350,0075005,794\\r\\n1351,0115710,31640\\r\\n1352,0115495,8744\\r\\n1353,0117057,25189\\r\\n1354,0115751,145\\r\\n1355,0119791,2212\\r\\n1356,0117731,199\\r\\n1357,0117631,7863\\r\\n1358,0117666,12498\\r\\n1359,0116705,9279\\r\\n1361,0117293,17204\\r\\n1363,0117372,21539\\r\\n1365,0117477,12709\\r\\n1366,0115988,20539\\r\\n1367,0115433,11674\\r\\n1369,0110171,64900\\r\\n1370,0099423,1573\\r\\n1371,0079945,152\\r\\n1372,0102975,174\\r\\n1373,0098382,172\\r\\n1374,0084726,154\\r\\n1375,0088170,157\\r\\n1376,0092007,168\\r\\n1377,0103776,364\\r\\n1378,0096487,11967\\r\\n1379,0100994,9086\\r\\n1380,0077631,621\\r\\n1381,0084021,9037\\r\\n1382,0100114,10173\\r\\n1384,0117773,168535\\r\\n1385,0105690,8845\\r\\n1387,0073195,578\\r\\n1388,0077766,579\\r\\n1389,0085750,17692\\r\\n1390,0117119,17795\\r\\n1391,0116996,75\\r\\n1392,0115906,13891\\r\\n1393,0116695,9390\\r\\n1394,0093822,378\\r\\n1395,0094155,10896\\r\\n1396,0105435,2322\\r\\n1397,0115633,41240\\r\\n1398,0116621,26949\\r\\n1399,0116999,9819\\r\\n1401,0116410,31908\\r\\n1404,0119783,46027\\r\\n1405,0115641,3179\\r\\n1406,0112769,1802\\r\\n1407,0117571,4232\\r\\n1408,0104691,9361\\r\\n1409,0117038,2928\\r\\n1410,0116240,30285\\r\\n1411,0116477,10549\\r\\n1413,0118163,18451\\r\\n1414,0117091,27265\\r\\n1415,0118100,49935\\r\\n1416,0116250,8818\\r\\n1417,0117364,36758\\r\\n1419,0067959,36040\\r\\n1420,0117028,74239\\r\\n1422,0119731,9415\\r\\n1423,0116506,55146\\r\\n1425,0119115,12145\\r\\n1427,0120390,34314\\r\\n1428,0112362,2892\\r\\n1429,0116704,9404\\r\\n1430,0120414,85242\\r\\n1431,0118708,9622\\r\\n1432,0119664,8860\\r\\n1433,0110425,197537\\r\\n1437,0106535,14832\\r\\n1438,0118928,9619\\r\\n1440,0106266,31000\\r\\n1441,0106387,4104\\r\\n1442,0119937,26306\\r\\n1444,0109949,43775\\r\\n1445,0119640,14908\\r\\n1446,0116790,784\\r\\n1447,0119225,12489\\r\\n1449,0118111,16448\\r\\n1450,0116754,55936\\r\\n1453,0118691,17894\\r\\n1454,0120238,28059\\r\\n1455,0116565,58911\\r\\n1456,0119887,17949\\r\\n1457,0119141,1968\\r\\n1458,0120357,61563\\r\\n1459,0118548,66\\r\\n1460,0120317,20735\\r\\n1461,0120434,11419\\r\\n1463,0120318,25796\\r\\n1464,0116922,638\\r\\n1465,0120036,25624\\r\\n1466,0119008,9366\\r\\n1468,0118750,21915\\r\\n1472,0118859,18420\\r\\n1473,0118702,19952\\r\\n1474,0119432,9446\\r\\n1475,0116743,28005\\r\\n1476,0119951,9403\\r\\n1479,0120053,10003\\r\\n1480,0120152,9311\\r\\n1482,0118064,11844\\r\\n1483,0115964,884\\r\\n1484,0116041,49806\\r\\n1485,0119528,1624\\r\\n1487,0120094,16052\\r\\n1488,0118972,4477\\r\\n1489,0118829,24662\\r\\n1490,0118663,18423\\r\\n1493,0116931,76996\\r\\n1495,0120389,6499\\r\\n1497,0119013,9405\\r\\n1498,0119381,12723\\r\\n1499,0118615,9360\\r\\n1500,0119229,9434\\r\\n1501,0116762,118991\\r\\n1502,0116783,21626\\r\\n1503,0118541,13982\\r\\n1504,0113314,93946\\r\\n1507,0119859,77223\\r\\n1508,0120366,31465\\r\\n1513,0120032,9611\\r\\n1515,0120461,10357\\r\\n1516,0115886,9977\\r\\n1517,0118655,816\\r\\n1518,0118771,2163\\r\\n1523,0120383,31017\\r\\n1525,0120479,49478\\r\\n1526,0119109,12499\\r\\n1527,0119116,18\\r\\n1529,0119809,1811\\r\\n1531,0116920,109614\\r\\n1532,0120190,60082\\r\\n1535,0119578,64802\\r\\n1537,0117615,11239\\r\\n1539,0120394,15321\\r\\n1541,0118556,2058\\r\\n1542,0115744,9450\\r\\n1543,0118964,125021\\r\\n1544,0119567,330\\r\\n1545,0117359,38523\\r\\n1546,0117561,16375\\r\\n1549,0114303,45671\\r\\n1550,0120373,17770\\r\\n1552,0118880,1701\\r\\n1554,0114134,26422\\r\\n1555,0112951,124642\\r\\n1556,0120179,1639\\r\\n1562,0118688,415\\r\\n1563,0119019,47686\\r\\n1564,0120034,65889\\r\\n1566,0119282,11970\\r\\n1569,0119738,8874\\r\\n1570,0105569,17991\\r\\n1571,0115856,11956\\r\\n1572,0057345,266\\r\\n1573,0119094,754\\r\\n1575,0116384,43771\\r\\n1580,0119654,607\\r\\n1581,0119848,18080\\r\\n1582,0120512,38225\\r\\n1583,0120133,17834\\r\\n1584,0118884,686\\r\\n1586,0119173,4421\\r\\n1587,0082198,9387\\r\\n1588,0119190,10603\\r\\n1589,0118887,2142\\r\\n1590,0119081,8413\\r\\n1591,0120177,10336\\r\\n1592,0118570,20737\\r\\n1593,0119896,9413\\r\\n1594,0119361,14585\\r\\n1595,0119152,18519\\r\\n1596,0118818,49462\\r\\n1597,0118883,8834\\r\\n1598,0118966,9458\\r\\n1599,0120207,8854\\r\\n1600,0120112,38295\\r\\n1601,0119311,22073\\r\\n1602,0119509,37244\\r\\n1603,0119675,4961\\r\\n1604,0119695,9416\\r\\n1605,0119086,26180\\r\\n1606,0119484,17832\\r\\n1608,0118571,9772\\r\\n1609,0118531,6072\\r\\n1610,0099810,1669\\r\\n1611,0102494,468\\r\\n1612,0119465,32519\\r\\n1613,0120197,108401\\r\\n1614,0119360,10806\\r\\n1615,0119051,9433\\r\\n1616,0119874,6623\\r\\n1617,0119488,2118\\r\\n1619,0120102,978\\r\\n1620,0119468,9437\\r\\n1621,0120169,29461\\r\\n1623,0120524,10351\\r\\n1624,0120323,66588\\r\\n1625,0119174,2649\\r\\n1626,0119123,14289\\r\\n1627,0120399,10155\\r\\n1629,0119632,20457\\r\\n1631,0118647,18355\\r\\n1632,0120151,33657\\r\\n1633,0120402,55306\\r\\n1635,0119349,68924\\r\\n1636,0120192,36434\\r\\n1639,0118842,2255\\r\\n1640,0119326,28353\\r\\n1641,0119164,9427\\r\\n1642,0116631,172545\\r\\n1643,0119280,17589\\r\\n1644,0119345,3597\\r\\n1645,0118971,1813\\r\\n1646,0120029,36797\\r\\n1647,0119906,12628\\r\\n1648,0119324,33344\\r\\n1649,0119107,25099\\r\\n1652,0120539,62422\\r\\n1653,0119177,782\\r\\n1654,0119095,29911\\r\\n1655,0119891,9827\\r\\n1657,0120529,251481\\r\\n1658,0119535,8067\\r\\n1660,0119080,45153\\r\\n1661,0119210,10871\\r\\n1663,0083131,10890\\r\\n1665,0118689,1281\\r\\n1667,0119592,9770\\r\\n1668,0119832,12616\\r\\n1669,0120275,34838\\r\\n1670,0120490,14905\\r\\n1671,0119527,14583\\r\\n1672,0119978,11975\\r\\n1673,0118749,4995\\r\\n1674,0090329,9281\\r\\n1676,0120201,563\\r\\n1678,0107282,19931\\r\\n1680,0120148,10215\\r\\n1681,0119707,9823\\r\\n1682,0120382,37165\\r\\n1683,0120520,45609\\r\\n1684,0119723,38904\\r\\n1686,0119994,9407\\r\\n1687,0119395,4824\\r\\n1688,0118617,9444\\r\\n1689,0120483,9414\\r\\n1690,0118583,8078\\r\\n1692,0112318,29938\\r\\n1693,0118607,11831\\r\\n1694,0118632,2895\\r\\n1696,0118698,19601\\r\\n1699,0118804,22797\\r\\n1701,0118954,2639\\r\\n1702,0119137,9574\\r\\n1703,0119142,10371\\r\\n1704,0119217,489\\r\\n1707,0119303,9714\\r\\n1711,0119668,8197\\r\\n1713,0119715,6283\\r\\n1715,0119819,49728\\r\\n1717,0120082,4233\\r\\n1719,0120255,10217\\r\\n1721,0120338,597\\r\\n1722,0120347,714\\r\\n1726,0119925,9922\\r\\n1727,0119314,547\\r\\n1728,0120521,25994\\r\\n1729,0119396,184\\r\\n1730,0119485,9746\\r\\n1731,0119718,9438\\r\\n1732,0118715,115\\r\\n1733,0118566,26941\\r\\n1734,0119590,27103\\r\\n1735,0119223,9410\\r\\n1739,0118539,32302\\r\\n1744,0120670,41417\\r\\n1746,0120820,12538\\r\\n1747,0120885,586\\r\\n1748,0118929,2666\\r\\n1750,0120478,54007\\r\\n1752,0120696,11258\\r\\n1753,0120693,9490\\r\\n1754,0119099,9411\\r\\n1755,0120122,25719\\r\\n1756,0118643,9033\\r\\n1757,0112913,11220\\r\\n1759,0119815,21253\\r\\n1760,0120185,6116\\r\\n1762,0118956,9457\\r\\n1767,0119734,39424\\r\\n1769,0120008,11702\\r\\n1771,0119784,12238\\r\\n1772,0118747,11568\\r\\n1777,0120888,11003\\r\\n1779,0120184,10153\\r\\n1783,0120782,30949\\r\\n1784,0119822,2898\\r\\n1785,0099939,9558\\r\\n1788,0119656,320011\\r\\n1791,0119594,26269\\r\\n1792,0120873,11808\\r\\n1794,0119574,47452\\r\\n1795,0112619,18205\\r\\n1796,0140282,36943\\r\\n1797,0120661,21736\\r\\n1798,0118744,17941\\r\\n1799,0120241,10668\\r\\n1801,0120744,9313\\r\\n1804,0120769,42807\\r\\n1805,0120890,617\\r\\n1806,0125454,36568\\r\\n1807,0120642,37272\\r\\n1809,0119250,5910\\r\\n1810,0119942,9440\\r\\n1812,0120510,32911\\r\\n1816,0124179,32456\\r\\n1819,0120219,62695\\r\\n1821,0120772,17127\\r\\n1822,0120645,40688\\r\\n1824,0119305,17133\\r\\n1826,0120598,17644\\r\\n1827,0124295,1774\\r\\n1831,0120738,2157\\r\\n1833,0120749,8838\\r\\n1834,0120176,29193\\r\\n1835,0120632,795\\r\\n1836,0120728,16980\\r\\n1837,0120773,27472\\r\\n1839,0120765,47881\\r\\n1840,0124718,9469\\r\\n1841,0119196,12488\\r\\n1844,0118819,267\\r\\n1845,0120906,16148\\r\\n1846,0119792,21252\\r\\n1848,0118755,9449\\r\\n1852,0118727,215373\\r\\n1854,0120723,15513\\r\\n1855,0120725,31220\\r\\n1856,0138563,13907\\r\\n1858,0117786,10622\\r\\n1859,0120265,30020\\r\\n1860,0119448,17139\\r\\n1861,0118785,34582\\r\\n1862,0120841,10216\\r\\n1863,0120742,9771\\r\\n1864,0120838,24560\\r\\n1865,0141986,76330\\r\\n1866,0120609,9448\\r\\n1870,0118925,78373\\r\\n1873,0119683,4415\\r\\n1874,0120211,39467\\r\\n1875,0118866,55561\\r\\n1876,0120647,8656\\r\\n1878,0120531,58680\\r\\n1880,0119506,35796\\r\\n1881,0120800,18937\\r\\n1882,0120685,929\\r\\n1883,0118798,9452\\r\\n1884,0120669,1878\\r\\n1885,0120777,9844\\r\\n1886,0131436,40505\\r\\n1887,0119053,14342\\r\\n1888,0119313,9715\\r\\n1889,0119375,26610\\r\\n1891,0120401,40961\\r\\n1892,0120787,1965\\r\\n1894,0120828,6068\\r\\n1895,0127723,15037\\r\\n1896,0118894,50043\\r\\n1897,0139362,37636\\r\\n1900,0118849,21334\\r\\n1901,0150290,416437\\r\\n1902,0116141,32284\\r\\n1903,0126938,51955\\r\\n1904,0122529,37410\\r\\n1907,0120762,10674\\r\\n1909,0120902,846\\r\\n1910,0126344,12655\\r\\n1911,0118998,3050\\r\\n1912,0120780,1389\\r\\n1913,0073540,11020\\r\\n1914,0120321,20862\\r\\n1916,0118789,9464\\r\\n1917,0120591,95\\r\\n1918,0122151,944\\r\\n1919,0123987,35680\\r\\n1920,0122718,11551\\r\\n1921,0138704,473\\r\\n1922,0140688,102304\\r\\n1923,0129387,544\\r\\n1924,0052077,10513\\r\\n1925,0018578,28966\\r\\n1926,0019729,65203\\r\\n1927,0020629,143\\r\\n1928,0021746,42861\\r\\n1929,0022958,33680\\r\\n1931,0026752,12311\\r\\n1932,0027698,43277\\r\\n1933,0029146,43278\\r\\n1934,0030993,34106\\r\\n1935,0033729,43266\\r\\n1936,0035093,27367\\r\\n1937,0036872,17661\\r\\n1938,0037884,28580\\r\\n1939,0036868,887\\r\\n1940,0039416,33667\\r\\n1941,0040416,23383\\r\\n1942,0041113,25430\\r\\n1943,0044672,27191\\r\\n1944,0045793,11426\\r\\n1945,0047296,654\\r\\n1946,0048356,15919\\r\\n1947,0055614,1725\\r\\n1948,0057590,5769\\r\\n1949,0060665,874\\r\\n1950,0061811,10633\\r\\n1951,0063385,17917\\r\\n1952,0064665,3116\\r\\n1953,0067116,1051\\r\\n1954,0075148,1366\\r\\n1955,0079417,12102\\r\\n1956,0081283,16619\\r\\n1957,0082158,9443\\r\\n1958,0086425,11050\\r\\n1959,0089755,606\\r\\n1960,0093389,746\\r\\n1961,0095953,380\\r\\n1962,0097239,403\\r\\n1963,0065063,11485\\r\\n1964,0067309,466\\r\\n1965,0087995,13820\\r\\n1966,0100142,15389\\r\\n1967,0091369,13597\\r\\n1968,0088847,2108\\r\\n1969,0089686,10014\\r\\n1970,0093629,10072\\r\\n1971,0095742,10131\\r\\n1972,0097981,10160\\r\\n1973,0101917,11284\\r\\n1974,0080761,4488\\r\\n1975,0082418,9725\\r\\n1976,0083972,9728\\r\\n1977,0087298,9730\\r\\n1978,0089173,9731\\r\\n1979,0091080,10225\\r\\n1980,0095179,10281\\r\\n1981,0097388,10283\\r\\n1982,0077651,948\\r\\n1983,0082495,11281\\r\\n1984,0085636,10676\\r\\n1985,0095271,11357\\r\\n1986,0097474,11361\\r\\n1987,0081383,36599\\r\\n1988,0093176,39929\\r\\n1989,0098136,41828\\r\\n1990,0105179,41769\\r\\n1991,0094862,10585\\r\\n1992,0099253,11186\\r\\n1993,0103956,11187\\r\\n1994,0084516,609\\r\\n1995,0091778,11133\\r\\n1996,0095889,10306\\r\\n1997,0070047,9552\\r\\n1998,0076009,11586\\r\\n1999,0099528,11587\\r\\n2000,0093409,941\\r\\n2001,0097733,942\\r\\n2002,0104714,943\\r\\n2003,0087363,927\\r\\n2004,0099700,928\\r\\n2005,0089218,9340\\r\\n2006,0120746,9342\\r\\n2007,0119910,38509\\r\\n2008,0117898,60033\\r\\n2009,0070723,12101\\r\\n2010,0017136,19\\r\\n2011,0096874,165\\r\\n2012,0099088,196\\r\\n2013,0069113,551\\r\\n2014,0076054,16084\\r\\n2015,0054594,17984\\r\\n2016,0078790,22328\\r\\n2017,0054649,32611\\r\\n2018,0034492,3170\\r\\n2019,0047478,346\\r\\n2020,0094947,859\\r\\n2021,0087182,841\\r\\n2022,0095497,11051\\r\\n2023,0099674,242\\r\\n2024,0102757,1411\\r\\n2025,0119558,9769\\r\\n2026,0134619,9424\\r\\n2027,0120741,9835\\r\\n2028,0120815,857\\r\\n2029,0137386,17539\\r\\n2031,0066728,22777\\r\\n2032,0066811,20173\\r\\n2033,0088814,10957\\r\\n2034,0078869,9570\\r\\n2035,0062737,16249\\r\\n2036,0109287,13962\\r\\n2037,0075807,14612\\r\\n2038,0077305,19378\\r\\n2039,0097053,65157\\r\\n2040,0065566,29228\\r\\n2041,0082199,19379\\r\\n2042,0109520,11164\\r\\n2043,0052722,18887\\r\\n2044,0082263,40866\\r\\n2045,0106868,24736\\r\\n2046,0091059,10122\\r\\n2047,0061715,24816\\r\\n2048,0091149,9994\\r\\n2049,0061749,25445\\r\\n2050,0080861,12129\\r\\n2051,0076137,14140\\r\\n2052,0107120,10439\\r\\n2053,0104437,11158\\r\\n2054,0097523,9354\\r\\n2055,0077698,28736\\r\\n2056,0056095,34774\\r\\n2057,0057180,37969\\r\\n2058,0120768,9631\\r\\n2059,0120783,9820\\r\\n2060,0131857,14013\\r\\n2062,0120687,96196\\r\\n2063,0124115,98505\\r\\n2064,0098213,1779\\r\\n2065,0089853,10849\\r\\n2066,0039689,678\\r\\n2067,0059113,907\\r\\n2068,0083922,5961\\r\\n2069,0090203,47908\\r\\n2070,0086423,42121\\r\\n2071,0106273,2887\\r\\n2072,0096734,11974\\r\\n2073,0089126,20348\\r\\n2074,0071910,26648\\r\\n2075,0082736,11911\\r\\n2076,0090756,793\\r\\n2077,0089385,35144\\r\\n2078,0061852,9325\\r\\n2079,0053994,43037\\r\\n2080,0048280,10340\\r\\n2081,0097757,10144\\r\\n2082,0104868,10414\\r\\n2083,0104940,10437\\r\\n2084,0104990,15300\\r\\n2085,0055254,12230\\r\\n2086,0089731,13380\\r\\n2087,0046183,10693\\r\\n2088,0081353,11335\\r\\n2089,0100477,11135\\r\\n2090,0076618,11319\\r\\n2091,0078158,14822\\r\\n2092,0107952,15969\\r\\n2093,0089908,13155\\r\\n2094,0102803,10249\\r\\n2095,0075200,15943\\r\\n2096,0053285,10882\\r\\n2097,0086336,24808\\r\\n2098,0057518,19762\\r\\n2099,0038969,13850\\r\\n2100,0088161,2619\\r\\n2101,0111271,65158\\r\\n2102,0019422,53565\\r\\n2103,0111359,41841\\r\\n2104,0084783,27332\\r\\n2105,0084827,97\\r\\n2106,0108265,10419\\r\\n2107,0120694,11675\\r\\n2108,0102250,2107\\r\\n2109,0079367,6471\\r\\n2110,0083798,9442\\r\\n2111,0085894,11591\\r\\n2112,0101969,13697\\r\\n2113,0099697,19158\\r\\n2114,0086066,227\\r\\n2115,0087469,87\\r\\n2116,0077869,123\\r\\n2117,0087803,9314\\r\\n2118,0085407,11336\\r\\n2119,0091499,9980\\r\\n2120,0107665,10657\\r\\n2121,0085382,10489\\r\\n2122,0087050,10823\\r\\n2123,0096787,11497\\r\\n2124,0101272,2907\\r\\n2125,0120631,9454\\r\\n2126,0120832,8688\\r\\n2128,0120813,16155\\r\\n2130,0080388,23954\\r\\n2131,0077711,12761\\r\\n2132,0061184,396\\r\\n2133,0092513,14367\\r\\n2134,0090305,11814\\r\\n2135,0061584,16081\\r\\n2136,0057372,18331\\r\\n2137,0070016,15171\\r\\n2138,0078480,11837\\r\\n2139,0084649,11704\\r\\n2140,0083791,11639\\r\\n2141,0090633,4978\\r\\n2142,0101329,10380\\r\\n2143,0089469,11976\\r\\n2144,0088128,15144\\r\\n2145,0091790,11522\\r\\n2146,0090060,11557\\r\\n2147,0090848,13853\\r\\n2148,0091223,11415\\r\\n2149,0093220,37530\\r\\n2150,0080801,8393\\r\\n2151,0097443,11937\\r\\n2152,0140796,21661\\r\\n2153,0118661,9320\\r\\n2154,0120703,33644\\r\\n2155,0120831,14662\\r\\n2159,0099763,10692\\r\\n2160,0063522,805\\r\\n2161,0088323,34584\\r\\n2162,0100240,34636\\r\\n2163,0080391,2182\\r\\n2164,0094077,28070\\r\\n2165,0119517,77469\\r\\n2166,0124595,10278\\r\\n2167,0120611,36647\\r\\n2168,0120576,17915\\r\\n2169,0118301,14557\\r\\n2170,0120901,9417\\r\\n2171,0119778,41469\\r\\n2173,0095709,34637\\r\\n2174,0094721,4011\\r\\n2176,0040746,1580\\r\\n2177,0074512,5854\\r\\n2178,0068611,573\\r\\n2180,0061107,5780\\r\\n2181,0058329,506\\r\\n2182,0051207,22527\\r\\n2183,0049470,574\\r\\n2184,0048750,11219\\r\\n2186,0044079,845\\r\\n2187,0042994,1978\\r\\n2188,0120577,3682\\r\\n2189,0119346,51942\\r\\n2190,0123324,46702\\r\\n2191,0119453,54795\\r\\n2193,0096446,847\\r\\n2194,0094226,117\\r\\n2195,0120654,14577\\r\\n2197,0119125,38621\\r\\n2200,0042004,4175\\r\\n2201,0039694,31667\\r\\n2202,0037017,13321\\r\\n2203,0036342,21734\\r\\n2204,0035279,31997\\r\\n2205,0033922,24197\\r\\n2206,0034248,11462\\r\\n2207,0031505,31995\\r\\n2208,0030341,940\\r\\n2210,0028212,12684\\r\\n2212,0025452,8208\\r\\n2214,0023285,15007\\r\\n2215,0023395,36049\\r\\n2219,0021165,31930\\r\\n2221,0019702,543\\r\\n2227,0017075,2760\\r\\n2231,0128442,10220\\r\\n2232,0123755,431\\r\\n2236,0124879,22796\\r\\n2237,0119934,22256\\r\\n2238,0075040,37550\\r\\n2239,0073817,37916\\r\\n2240,0081207,21873\\r\\n2241,0085346,21500\\r\\n2243,0092699,12626\\r\\n2244,0092537,37818\\r\\n2245,0096463,3525\\r\\n2246,0096166,129628\\r\\n2247,0095593,2321\\r\\n2248,0098258,2028\\r\\n2249,0100212,16384\\r\\n2250,0100134,91217\\r\\n2252,0104412,10699\\r\\n2253,0105629,11597\\r\\n2254,0082172,218624\\r\\n2255,0084938,47947\\r\\n2256,0084472,48311\\r\\n2257,0087810,44772\\r\\n2259,0086973,14347\\r\\n2260,0092225,41090\\r\\n2261,0091680,18282\\r\\n2262,0090583,18169\\r\\n2263,0096073,11082\\r\\n2264,0098625,5971\\r\\n2265,0102558,11933\\r\\n2266,0101523,20096\\r\\n2267,0102469,30815\\r\\n2268,0104257,881\\r\\n2269,0107211,4478\\r\\n2271,0120788,22318\\r\\n2272,0120776,53113\\r\\n2273,0120812,2109\\r\\n2275,0118736,24746\\r\\n2276,0120835,72987\\r\\n2278,0122690,8195\\r\\n2279,0146336,9877\\r\\n2280,0118863,26618\\r\\n2282,0126604,11855\\r\\n2283,0100594,24016\\r\\n2284,0109206,14785\\r\\n2285,0063850,14794\\r\\n2286,0080731,3486\\r\\n2287,0047573,11071\\r\\n2288,0084787,1091\\r\\n2289,0105151,10403\\r\\n2290,0081554,11337\\r\\n2291,0099487,162\\r\\n2292,0117276,25723\\r\\n2294,0120587,8916\\r\\n2295,0120823,28134\\r\\n2296,0120770,9429\\r\\n2297,0120889,12159\\r\\n2300,0063462,30197\\r\\n2301,0082517,10156\\r\\n2302,0104952,10377\\r\\n2303,0073440,3121\\r\\n2304,0119577,4975\\r\\n2305,0139615,37532\\r\\n2306,0120701,9713\\r\\n2307,0122642,134368\\r\\n2310,0119670,9821\\r\\n2311,0086837,4437\\r\\n2312,0090830,1890\\r\\n2313,0080678,1955\\r\\n2314,0120603,39437\\r\\n2315,0144120,11932\\r\\n2316,0120791,6435\\r\\n2318,0147612,10683\\r\\n2320,0118636,9445\\r\\n2321,0120789,2657\\r\\n2322,0120157,9425\\r\\n2323,0150230,32326\\r\\n2324,0118799,637\\r\\n2325,0124819,8675\\r\\n2327,0100740,20701\\r\\n2328,0120877,9945\\r\\n2329,0120586,73\\r\\n2330,0116481,18603\\r\\n2331,0120722,46889\\r\\n2333,0120684,3033\\r\\n2334,0133952,9882\\r\\n2335,0120484,10663\\r\\n2336,0127536,4518\\r\\n2337,0120879,1808\\r\\n2338,0130018,3600\\r\\n2339,0155753,17037\\r\\n2340,0119643,297\\r\\n2342,0116488,21589\\r\\n2344,0089941,11893\\r\\n2345,0090934,123056\\r\\n2346,0073747,12223\\r\\n2347,0087932,32081\\r\\n2348,0091954,14924\\r\\n2349,0091538,10002\\r\\n2350,0099750,41817\\r\\n2351,0050783,19426\\r\\n2352,0085244,12560\\r\\n2353,0120660,9798\\r\\n2354,0134067,14444\\r\\n2355,0120623,9487\\r\\n2356,0120533,9466\\r\\n2357,0140888,666\\r\\n2359,0166396,10162\\r\\n2360,0154420,309\\r\\n2361,0069089,692\\r\\n2362,0045826,24018\\r\\n2363,0047034,1678\\r\\n2364,0087344,39256\\r\\n2365,0056142,1680\\r\\n2366,0024216,244\\r\\n2367,0074751,10730\\r\\n2368,0091344,31947\\r\\n2369,0089017,8130\\r\\n2370,0089087,11532\\r\\n2371,0089155,9749\\r\\n2372,0097366,14628\\r\\n2373,0089893,9626\\r\\n2374,0091159,13698\\r\\n2375,0091541,10466\\r\\n2376,0090264,707\\r\\n2377,0089489,11954\\r\\n2378,0087928,9336\\r\\n2379,0089822,10157\\r\\n2380,0091777,12118\\r\\n2381,0093756,10587\\r\\n2382,0095882,11825\\r\\n2383,0098105,11895\\r\\n2384,0120595,9447\\r\\n2385,0119304,12257\\r\\n2386,0165494,37536\\r\\n2387,0124198,10029\\r\\n2388,0119248,27104\\r\\n2389,0155975,11252\\r\\n2390,0147004,8545\\r\\n2391,0120324,10223\\r\\n2392,0141109,9745\\r\\n2393,0120844,200\\r\\n2394,0120794,9837\\r\\n2395,0128445,11545\\r\\n2396,0138097,1934\\r\\n2397,0087688,110643\\r\\n2398,0039628,11881\\r\\n2399,0089961,13764\\r\\n2400,0098115,24951\\r\\n2401,0089767,8879\\r\\n2402,0089880,1369\\r\\n2403,0083944,1368\\r\\n2404,0095956,1370\\r\\n2405,0089370,10303\\r\\n2406,0088011,9326\\r\\n2407,0088933,10328\\r\\n2408,0094890,11285\\r\\n2409,0079817,1367\\r\\n2410,0084602,1371\\r\\n2411,0089927,1374\\r\\n2412,0100507,1375\\r\\n2413,0088930,15196\\r\\n2414,0090357,11904\\r\\n2415,0092173,215875\\r\\n2416,0090685,15596\\r\\n2417,0091188,13818\\r\\n2418,0091653,29968\\r\\n2419,0091024,44326\\r\\n2420,0087538,1885\\r\\n2421,0091326,8856\\r\\n2422,0097647,10495\\r\\n2423,0097958,5825\\r\\n2424,0128853,9489\\r\\n2425,0120706,16885\\r\\n2427,0120863,8741\\r\\n2428,0133751,9276\\r\\n2429,0120751,9822\\r\\n2430,0041650,39314\\r\\n2431,0129290,10312\\r\\n2432,0120686,9441\\r\\n2433,0120633,9422\\r\\n2434,0142231,125582\\r\\n2435,0119336,24525\\r\\n2436,0120857,10368\\r\\n2437,0120514,11365\\r\\n2438,0144546,140897\\r\\n2439,0118564,31662\\r\\n2440,0127722,36136\\r\\n2441,0120699,1363\\r\\n2442,0150915,46992\\r\\n2443,0145734,825\\r\\n2445,0132512,15556\\r\\n2446,0120710,28902\\r\\n2447,0139699,14709\\r\\n2448,0120458,9423\\r\\n2449,0093072,14443\\r\\n2450,0091225,10658\\r\\n2451,0093075,6917\\r\\n2453,0090768,24086\\r\\n2454,0051622,11815\\r\\n2455,0091064,9426\\r\\n2456,0097368,10344\\r\\n2457,0091875,15698\\r\\n2458,0090660,2620\\r\\n2459,0072271,30497\\r\\n2460,0092076,16337\\r\\n2461,0099994,25018\\r\\n2462,0110978,16780\\r\\n2463,0091877,12151\\r\\n2464,0092112,25438\\r\\n2465,0090917,33278\\r\\n2467,0091605,192\\r\\n2468,0091306,10945\\r\\n2469,0091738,10013\\r\\n2470,0090555,9671\\r\\n2471,0092493,9396\\r\\n2472,0092105,11038\\r\\n2473,0091991,12278\\r\\n2474,0090863,11873\\r\\n2475,0090567,18588\\r\\n2476,0091187,10015\\r\\n2478,0092086,8388\\r\\n2479,0120683,45712\\r\\n2481,0151691,8129\\r\\n2482,0149151,1618\\r\\n2483,0112922,10722\\r\\n2485,0160862,10314\\r\\n2486,0138279,125548\\r\\n2487,0163984,47139\\r\\n2488,0054167,11167\\r\\n2490,0120784,2112\\r\\n2491,0145893,16172\\r\\n2492,0138987,111794\\r\\n2493,0128133,9524\\r\\n2494,0174852,20595\\r\\n2495,0070544,16306\\r\\n2496,0124298,11622\\r\\n2497,0139462,10207\\r\\n2498,0120764,9849\\r\\n2499,0119207,82865\\r\\n2500,0155776,18892\\r\\n2501,0132477,13466\\r\\n2502,0151804,1542\\r\\n2504,0137338,15256\\r\\n2505,0134273,8224\\r\\n2506,0123209,18417\\r\\n2507,0120618,12479\\r\\n2511,0070334,1847\\r\\n2513,0098084,8913\\r\\n2514,0105128,10906\\r\\n2515,0106557,25748\\r\\n2516,0109415,25749\\r\\n2517,0085333,8769\\r\\n2518,0084412,14742\\r\\n2519,0051744,15856\\r\\n2520,0065377,10671\\r\\n2521,0071110,27932\\r\\n2522,0075648,7227\\r\\n2523,0076636,10670\\r\\n2524,0072308,5919\\r\\n2525,0080354,33518\\r\\n2526,0079550,40160\\r\\n2527,0070909,2362\\r\\n2528,0074812,10803\\r\\n2529,0063442,871\\r\\n2530,0065462,1685\\r\\n2531,0069768,1705\\r\\n2532,0068408,1688\\r\\n2533,0067065,1687\\r\\n2534,0077189,166680\\r\\n2535,0071455,11123\\r\\n2536,0078740,29723\\r\\n2537,0078856,31638\\r\\n2539,0122933,9535\\r\\n2540,0142192,9455\\r\\n2541,0139134,796\\r\\n2542,0120735,100\\r\\n2545,0159696,84586\\r\\n2546,0120646,30943\\r\\n2548,0144814,7341\\r\\n2549,0131646,10350\\r\\n2550,0057129,11772\\r\\n2551,0094964,9540\\r\\n2552,0107626,31503\\r\\n2553,0054443,11773\\r\\n2554,0056931,30202\\r\\n2555,0118665,22345\\r\\n2557,0157016,1567\\r\\n2558,0141098,1641\\r\\n2559,0160429,47288\\r\\n2560,0129332,10212\\r\\n2561,0139668,10354\\r\\n2562,0118682,11526\\r\\n2563,0118892,8583\\r\\n2565,0049408,16520\\r\\n2566,0187819,16508\\r\\n2567,0131369,11374\\r\\n2568,0120757,16379\\r\\n2569,0122906,125123\\r\\n2570,0120613,28029\\r\\n2571,0133093,603\\r\\n2572,0147800,4951\\r\\n2573,0120274,65749\\r\\n2574,0129280,8970\\r\\n2575,0120449,9840\\r\\n2577,0119665,30950\\r\\n2579,0154506,11660\\r\\n2580,0139239,9430\\r\\n2581,0151738,11355\\r\\n2582,0105399,18764\\r\\n2583,0126250,9465\\r\\n2585,0133363,1414\\r\\n2586,0119219,49981\\r\\n2587,0123964,6522\\r\\n2589,0143261,114719\\r\\n2590,0136244,10209\\r\\n2594,0125659,1902\\r\\n2596,0133189,6396\\r\\n2597,0120836,39964\\r\\n2598,0120797,12596\\r\\n2599,0126886,9451\\r\\n2600,0120907,1946\\r\\n2605,0137494,1844\\r\\n2606,0138510,6552\\r\\n2607,0162973,24584\\r\\n2609,0115669,25471\\r\\n2610,0138874,4154\\r\\n2611,0155388,28519\\r\\n2612,0037913,3309\\r\\n2613,0087799,18462\\r\\n2615,0089652,18252\\r\\n2616,0099422,8592\\r\\n2617,0120616,564\\r\\n2618,0118826,13852\\r\\n2620,0120865,25232\\r\\n2621,0115005,33194\\r\\n2622,0140379,10210\\r\\n2624,0165078,17962\\r\\n2625,0115693,9460\\r\\n2626,0138414,4927\\r\\n2627,0120659,122190\\r\\n2628,0120915,1893\\r\\n2629,0166252,31342\\r\\n2630,0149723,44297\\r\\n2631,0120680,95627\\r\\n2633,0023245,15849\\r\\n2634,0053085,18990\\r\\n2635,0037098,29242\\r\\n2636,0037099,29243\\r\\n2637,0032818,31498\\r\\n2638,0035096,29239\\r\\n2639,0082766,15660\\r\\n2640,0078346,1924\\r\\n2641,0081573,8536\\r\\n2642,0086393,9531\\r\\n2643,0094074,11411\\r\\n2644,0021814,138\\r\\n2647,0036931,3103\\r\\n2648,0021884,3035\\r\\n2649,0031951,3077\\r\\n2650,0034786,3074\\r\\n2651,0035899,3076\\r\\n2652,0050280,3079\\r\\n2653,0036376,32023\\r\\n2654,0034398,13666\\r\\n2655,0089308,29794\\r\\n2656,0048696,9077\\r\\n2657,0073629,36685\\r\\n2659,0084156,30168\\r\\n2660,0044121,10785\\r\\n2661,0045920,19483\\r\\n2662,0046534,8974\\r\\n2664,0049366,11549\\r\\n2668,0084745,17918\\r\\n2669,0053183,37305\\r\\n2670,0052151,18784\\r\\n2671,0125439,509\\r\\n2672,0139809,1090\\r\\n2673,0156794,24858\\r\\n2674,0126859,15059\\r\\n2676,0128278,12117\\r\\n2677,0186508,11779\\r\\n2678,0126261,41730\\r\\n2681,0141105,13533\\r\\n2682,0164085,62676\\r\\n2683,0145660,817\\r\\n2686,0120802,14283\\r\\n2687,0120855,37135\\r\\n2688,0144214,2275\\r\\n2689,0184510,68426\\r\\n2690,0122541,24137\\r\\n2691,0120731,10376\\r\\n2692,0130827,104\\r\\n2693,0120370,15800\\r\\n2694,0142342,9032\\r\\n2696,0119038,9421\\r\\n2697,0119743,55955\\r\\n2699,0099052,6488\\r\\n2700,0158983,9473\\r\\n2701,0120891,8487\\r\\n2702,0162677,10279\\r\\n2704,0101318,2767\\r\\n2706,0163651,2105\\r\\n2707,0137363,1073\\r\\n2708,0137439,10239\\r\\n2709,0158811,10208\\r\\n2710,0185937,2667\\r\\n2712,0120663,345\\r\\n2713,0139414,9825\\r\\n2714,0161100,16158\\r\\n2715,0120878,133575\\r\\n2716,0087332,620\\r\\n2717,0097428,2978\\r\\n2718,0157503,10490\\r\\n2719,0171363,11618\\r\\n2720,0141369,332\\r\\n2721,0162710,1812\\r\\n2722,0149261,8914\\r\\n2723,0132347,9824\\r\\n2724,0163187,4806\\r\\n2725,0162830,33430\\r\\n2726,0049406,247\\r\\n2727,0048254,10056\\r\\n2728,0054331,967\\r\\n2729,0056193,802\\r\\n2730,0072684,3175\\r\\n2731,0053198,147\\r\\n2732,0055032,1628\\r\\n2733,0096378,21185\\r\\n2734,0091557,11120\\r\\n2735,0091129,10136\\r\\n2736,0090774,32060\\r\\n2738,0090886,48259\\r\\n2739,0088939,873\\r\\n2741,0091637,26789\\r\\n2745,0091530,11416\\r\\n2746,0091419,10776\\r\\n2747,0054033,24452\\r\\n2748,0092534,9710\\r\\n2749,0091554,31924\\r\\n2750,0093818,30890\\r\\n2751,0093051,24081\\r\\n2752,0093690,20242\\r\\n2753,0092627,39074\\r\\n2754,0092850,66194\\r\\n2755,0093415,2115\\r\\n2757,0083967,3526\\r\\n2758,0089816,41166\\r\\n2759,0144168,16406\\r\\n2761,0129167,10386\\r\\n2762,0167404,745\\r\\n2763,0155267,913\\r\\n2764,0063688,912\\r\\n2766,0168449,67323\\r\\n2767,0120709,91076\\r\\n2769,0138946,19457\\r\\n2770,0131325,11353\\r\\n2771,0120620,17707\\r\\n2772,0165710,9781\\r\\n2774,0168987,18212\\r\\n2775,0138487,13817\\r\\n2776,0119614,126996\\r\\n2779,0077663,12185\\r\\n2780,0057449,29056\\r\\n2781,0053363,26857\\r\\n2782,0055304,28501\\r\\n2783,0059821,29030\\r\\n2784,0058333,25319\\r\\n2786,0091178,24103\\r\\n2787,0088889,10552\\r\\n2788,0066765,9267\\r\\n2789,0077394,10766\\r\\n2790,0082377,10768\\r\\n2791,0080339,813\\r\\n2792,0083530,2665\\r\\n2793,0118604,9406\\r\\n2794,0089670,11418\\r\\n2795,0085995,11153\\r\\n2796,0095188,14170\\r\\n2797,0094737,2280\\r\\n2798,0100419,11077\\r\\n2799,0102719,28597\\r\\n2800,0104740,22611\\r\\n2801,0119843,39780\\r\\n2802,0096244,10396\\r\\n2803,0107798,9944\\r\\n2804,0085334,850\\r\\n2805,0130121,10154\\r\\n2806,0133046,10342\\r\\n2807,0176269,10366\\r\\n2808,0105698,9349\\r\\n2809,0188863,15122\\r\\n2810,0156887,10494\\r\\n2812,0160401,22314\\r\\n2815,0091278,11037\\r\\n2816,0095382,11955\\r\\n2817,0103617,2038\\r\\n2819,0073802,11963\\r\\n2820,0058175,141489\\r\\n2822,0104839,9096\\r\\n2824,0181733,113273\\r\\n2826,0120657,1911\\r\\n2827,0138304,2900\\r\\n2828,0160236,17709\\r\\n2829,0164108,37718\\r\\n2832,0144286,30964\\r\\n2835,0163579,2162\\r\\n2836,0125971,14578\\r\\n2837,0126810,40694\\r\\n2839,0157183,49184\\r\\n2840,0145531,10307\\r\\n2841,0164181,11601\\r\\n2843,0118843,1075\\r\\n2844,0151582,21719\\r\\n2845,0178988,40879\\r\\n2846,0097050,47951\\r\\n2847,0031762,43832\\r\\n2848,0045251,47697\\r\\n2849,0102741,49792\\r\\n2850,0107895,77064\\r\\n2851,0081454,\\r\\n2852,0088146,26522\\r\\n2853,0076150,23761\\r\\n2855,0086014,42114\\r\\n2856,0059297,28295\\r\\n2857,0063823,12105\\r\\n2858,0169547,14\\r\\n2859,0088178,24128\\r\\n2860,0181316,11001\\r\\n2861,0126916,10390\\r\\n2862,0080491,9453\\r\\n2863,0058182,704\\r\\n2864,0127296,35122\\r\\n2866,0077280,24153\\r\\n2867,0089175,11797\\r\\n2868,0097390,18086\\r\\n2869,0111342,124475\\r\\n2870,0061385,17887\\r\\n2871,0068473,10669\\r\\n2872,0082348,11527\\r\\n2874,0050814,40867\\r\\n2875,0108185,1049\\r\\n2876,0111419,28032\\r\\n2877,0073812,11326\\r\\n2878,0082511,28377\\r\\n2879,0099558,10975\\r\\n2880,0091431,10974\\r\\n2881,0150377,10398\\r\\n2882,0120716,2290\\r\\n2883,0140397,24071\\r\\n2884,0129884,62994\\r\\n2885,0160338,60994\\r\\n2886,0159421,16112\\r\\n2887,0168172,32305\\r\\n2888,0164114,14429\\r\\n2889,0134618,15198\\r\\n2890,0120188,6415\\r\\n2891,0162360,24066\\r\\n2892,0133122,21430\\r\\n2893,0134033,10381\\r\\n2894,0194314,171982\\r\\n2897,0087188,5622\\r\\n2898,0106664,10349\\r\\n2899,0031397,42518\\r\\n2900,0095652,29787\\r\\n2901,0079714,9638\\r\\n2902,0086154,10576\\r\\n2903,0091799,12662\\r\\n2904,0023369,61369\\r\\n2905,0056443,11712\\r\\n2906,0156934,12618\\r\\n2907,0167427,13824\\r\\n2908,0171804,226\\r\\n2912,0165854,10388\\r\\n2913,0165874,17198\\r\\n2915,0086200,9346\\r\\n2916,0100802,861\\r\\n2917,0082089,14412\\r\\n2918,0091042,9377\\r\\n2919,0086617,11541\\r\\n2920,0037674,2457\\r\\n2921,0068699,11901\\r\\n2922,0061747,4929\\r\\n2923,0076123,85325\\r\\n2924,0080179,11230\\r\\n2925,0065571,8416\\r\\n2926,0095270,11054\\r\\n2927,0037558,851\\r\\n2928,0087980,24453\\r\\n2929,0082979,18254\\r\\n2930,0176093,56235\\r\\n2932,0077405,16642\\r\\n2935,0033804,3086\\r\\n2936,0034240,16305\\r\\n2937,0035169,32255\\r\\n2938,0091214,48797\\r\\n2939,0046126,19997\\r\\n2940,0038559,3767\\r\\n2941,0052225,17352\\r\\n2942,0085549,535\\r\\n2943,0104507,2731\\r\\n2944,0061578,1654\\r\\n2945,0087722,31043\\r\\n2946,0059260,14831\\r\\n2947,0058150,658\\r\\n2948,0057076,657\\r\\n2949,0055928,646\\r\\n2950,0080453,5689\\r\\n2951,0058461,391\\r\\n2952,0119256,8052\\r\\n2953,0104431,772\\r\\n2956,0094008,31650\\r\\n2959,0137523,550\\r\\n2961,0160916,12220\\r\\n2962,0119114,1610\\r\\n2964,0192194,42881\\r\\n2966,0166896,404\\r\\n2967,0048977,42196\\r\\n2968,0081633,36819\\r\\n2969,0061138,42726\\r\\n2970,0083946,9343\\r\\n2971,0078754,16858\\r\\n2972,0093206,42006\\r\\n2973,0097123,11562\\r\\n2974,0200469,10496\\r\\n2975,0168501,16162\\r\\n2976,0163988,8649\\r\\n2977,0142201,31306\\r\\n2978,0144640,10563\\r\\n2979,0172627,14484\\r\\n2981,0072742,94857\\r\\n2982,0099710,32043\\r\\n2983,0059319,15247\\r\\n2984,0067527,29251\\r\\n2985,0093870,5548\\r\\n2986,0100502,5549\\r\\n2987,0096438,856\\r\\n2988,0081150,38772\\r\\n2989,0082398,699\\r\\n2990,0097742,709\\r\\n2991,0070328,253\\r\\n2992,0091829,13511\\r\\n2993,0059800,660\\r\\n2995,0185371,11377\\r\\n2996,0166943,26149\\r\\n2997,0120601,492\\r\\n2998,0144178,108346\\r\\n3000,0119698,128\\r\\n3001,0157075,46286\\r\\n3002,0200849,8672\\r\\n3003,0170705,8056\\r\\n3004,0120596,2020\\r\\n3005,0145681,9481\\r\\n3006,0140352,9008\\r\\n3007,0181288,14242\\r\\n3008,0156729,16129\\r\\n3010,0200071,11489\\r\\n3011,0065088,28145\\r\\n3013,0099180,18111\\r\\n3015,0077355,11223\\r\\n3016,0083767,16281\\r\\n3017,0092796,16288\\r\\n3018,0089885,1694\\r\\n3019,0097240,476\\r\\n3020,0106856,37094\\r\\n3021,0082427,13555\\r\\n3022,0017925,961\\r\\n3024,0078087,24831\\r\\n3025,0062218,64963\\r\\n3028,0061407,25560\\r\\n3029,0082817,21610\\r\\n3030,0055630,11878\\r\\n3031,0100475,11510\\r\\n3032,0067525,11234\\r\\n3033,0094012,957\\r\\n3034,0070608,11886\\r\\n3035,0048380,37853\\r\\n3036,0082484,62204\\r\\n3037,0065988,11040\\r\\n3038,0050371,21849\\r\\n3039,0086465,1621\\r\\n3040,0079540,14035\\r\\n3041,0087700,40771\\r\\n3042,0093516,40772\\r\\n3043,0104837,40773\\r\\n3044,0101669,11498\\r\\n3045,0105130,11790\\r\\n3046,0113416,29371\\r\\n3047,0083911,276635\\r\\n3048,0083254,47941\\r\\n3051,0149691,21349\\r\\n3052,0120655,1832\\r\\n3053,0151137,10047\\r\\n3054,0190641,10228\\r\\n3055,0165773,47692\\r\\n3057,0118150,144953\\r\\n3060,0101605,11663\\r\\n3061,0034862,13485\\r\\n3062,0056197,9289\\r\\n3063,0105156,9264\\r\\n3064,0119908,18222\\r\\n3066,0066473,11165\\r\\n3067,0095675,4203\\r\\n3068,0084855,24226\\r\\n3069,0068528,88875\\r\\n3070,0086856,11379\\r\\n3071,0094027,29154\\r\\n3072,0093565,2039\\r\\n3074,0068762,11943\\r\\n3075,0059646,11481\\r\\n3076,0057187,2690\\r\\n3077,0164312,20565\\r\\n3078,0165859,27141\\r\\n3079,0178737,10399\\r\\n3081,0162661,2668\\r\\n3082,0143145,36643\\r\\n3083,0185125,99\\r\\n3086,0024852,25898\\r\\n3087,0096061,9647\\r\\n3088,0042546,11787\\r\\n3089,0040522,5156\\r\\n3090,0093509,24276\\r\\n3091,0080979,11953\\r\\n3093,0067411,29005\\r\\n3094,0093512,26371\\r\\n3095,0032551,596\\r\\n3096,0050738,52470\\r\\n3097,0033045,20334\\r\\n3098,0087781,11393\\r\\n3099,0073692,31121\\r\\n3100,0105265,293\\r\\n3101,0093010,10998\\r\\n3102,0089360,12235\\r\\n3103,0100680,36094\\r\\n3104,0095631,9013\\r\\n3105,0099077,11005\\r\\n3106,0099291,59820\\r\\n3107,0101393,2924\\r\\n3108,0101889,177\\r\\n3109,0088007,38557\\r\\n3110,0087091,42087\\r\\n3111,0087921,13681\\r\\n3112,0090556,34760\\r\\n3113,0146675,9946\\r\\n3114,0120363,863\\r\\n3115,0155711,31582\\r\\n3116,0189744,125520\\r\\n3117,0134154,22267\\r\\n3118,0161023,55123\\r\\n3120,0104114,10411\\r\\n3121,0045877,41462\\r\\n3122,0033021,1718\\r\\n3125,0172396,20024\\r\\n3127,0144715,13787\\r\\n3128,0160513,54933\\r\\n3129,0158371,9684\\r\\n3130,0099165,9586\\r\\n3133,0015863,33015\\r\\n3134,0028950,777\\r\\n3135,0079239,21887\\r\\n3136,0050558,5652\\r\\n3138,0096171,32331\\r\\n3140,0014538,32628\\r\\n3141,0100828,32669\\r\\n3142,0096328,18161\\r\\n3143,0063056,31681\\r\\n3144,0060463,33666\\r\\n3145,0150216,32274\\r\\n3146,0205000,10402\\r\\n3147,0120689,497\\r\\n3148,0124315,1715\\r\\n3150,0141974,42739\\r\\n3152,0067328,25188\\r\\n3153,0051337,15515\\r\\n3155,0166485,1439\\r\\n3156,0182789,2277\\r\\n3157,0164912,10137\\r\\n3158,0162866,10387\\r\\n3159,0120910,49948\\r\\n3160,0175880,334\\r\\n3161,0119079,30237\\r\\n3163,0151568,46435\\r\\n3165,0106455,22213\\r\\n3166,0096978,47070\\r\\n3167,0066892,36492\\r\\n3168,0064276,624\\r\\n3169,0087231,26578\\r\\n3171,0053226,43103\\r\\n3173,0146838,9563\\r\\n3174,0125664,1850\\r\\n3175,0177789,926\\r\\n3176,0134119,1213\\r\\n3177,0195945,10471\\r\\n3178,0174856,10400\\r\\n3179,0145653,10397\\r\\n3180,0196857,20761\\r\\n3181,0120866,12524\\r\\n3182,0192335,28216\\r\\n3183,0174268,36773\\r\\n3185,0120834,10219\\r\\n3186,0172493,3558\\r\\n3188,0208261,41276\\r\\n3189,0156812,17908\\r\\n3190,0134983,10384\\r\\n3192,0169302,48233\\r\\n3194,0070903,10236\\r\\n3196,0046359,632\\r\\n3197,0095897,11851\\r\\n3198,0070511,5924\\r\\n3199,0050815,33734\\r\\n3200,0070290,14886\\r\\n3201,0065724,26617\\r\\n3202,0065436,11900\\r\\n3203,0097162,10493\\r\\n3204,0077269,16241\\r\\n3205,0054067,27632\\r\\n3206,0086859,22160\\r\\n3207,0045162,4460\\r\\n3208,0107659,9644\\r\\n3210,0083929,13342\\r\\n3211,0094924,35119\\r\\n3213,0106364,14919\\r\\n3214,0088707,14040\\r\\n3216,0066380,17343\\r\\n3217,0029606,22692\\r\\n3218,0102687,47620\\r\\n3219,0100318,2990\\r\\n3221,0083851,10831\\r\\n3223,0090366,33078\\r\\n3224,0058625,16672\\r\\n3225,0186975,10472\\r\\n3232,0016332,32600\\r\\n3235,0081748,13005\\r\\n3238,0120662,18681\\r\\n3239,0141399,75531\\r\\n3240,0156639,20468\\r\\n3241,0201840,14521\\r\\n3243,0104187,10406\\r\\n3244,0076095,14741\\r\\n3245,0058604,32015\\r\\n3246,0104797,1883\\r\\n3247,0105417,2005\\r\\n3248,0108147,6279\\r\\n3249,0104389,11087\\r\\n3250,0106246,7305\\r\\n3251,0088683,24735\\r\\n3252,0105323,9475\\r\\n3253,0105793,8872\\r\\n3254,0108525,8873\\r\\n3255,0104694,11287\\r\\n3256,0105112,9869\\r\\n3257,0103855,619\\r\\n3258,0104070,9374\\r\\n3259,0104231,11259\\r\\n3260,0104454,8293\\r\\n3261,0105415,11068\\r\\n3262,0105665,1923\\r\\n3263,0105812,10158\\r\\n3264,0103893,10206\\r\\n3265,0104684,11782\\r\\n3266,0103905,10086\\r\\n3267,0104815,9367\\r\\n3268,0105477,9876\\r\\n3269,0104291,10326\\r\\n3270,0104040,16562\\r\\n3271,0105046,9609\\r\\n3272,0103759,12143\\r\\n3273,0134084,4234\\r\\n3274,0105414,9605\\r\\n3275,0144117,8374\\r\\n3276,0171356,29076\\r\\n3281,0144801,113096\\r\\n3282,0116102,106837\\r\\n3284,0067848,27841\\r\\n3285,0163978,1907\\r\\n3286,0184907,15489\\r\\n3287,0220099,15655\\r\\n3289,0209189,36210\\r\\n3292,0047878,22342\\r\\n3294,0074455,30062\\r\\n3296,0062376,25934\\r\\n3298,0181984,14181\\r\\n3299,0162983,10385\\r\\n3300,0134847,2787\\r\\n3301,0190138,2069\\r\\n3302,0159272,61416\\r\\n3303,0221023,79515\\r\\n3304,0077248,14839\\r\\n3306,0018773,28978\\r\\n3307,0021749,901\\r\\n3308,0087265,25010\\r\\n3309,0009018,36208\\r\\n3310,0012349,10098\\r\\n3313,0084395,33374\\r\\n3314,0044420,43368\\r\\n3316,0184858,2155\\r\\n3317,0185014,11004\\r\\n3318,0158583,25212\\r\\n3320,0164756,139\\r\\n3324,0186045,25166\\r\\n3325,0156841,1831\\r\\n3326,0181151,10416\\r\\n3327,0218043,14271\\r\\n3328,0165798,4816\\r\\n3329,0094347,19958\\r\\n3330,0055471,28569\\r\\n3331,0085980,2193\\r\\n3334,0040506,11016\\r\\n3338,0097372,20423\\r\\n3339,0074695,10839\\r\\n3340,0047898,36489\\r\\n3341,0042276,24481\\r\\n3342,0086969,11296\\r\\n3343,0092559,61651\\r\\n3344,0056875,28172\\r\\n3347,0086005,14280\\r\\n3349,0039698,149687\\r\\n3350,0055353,29478\\r\\n3351,0058694,28177\\r\\n3354,0183523,2067\\r\\n3355,0142688,622\\r\\n3357,0181530,28463\\r\\n3358,0101698,12186\\r\\n3359,0078902,20283\\r\\n3360,0091217,5693\\r\\n3361,0094812,287\\r\\n3362,0072890,968\\r\\n3363,0069704,838\\r\\n3364,0042208,16958\\r\\n3365,0049730,3114\\r\\n3368,0051411,12501\\r\\n3370,0094731,31618\\r\\n3371,0074235,42232\\r\\n3377,0035966,22178\\r\\n3379,0053137,35412\\r\\n3380,0039748,43463\\r\\n3384,0072251,8333\\r\\n3385,0090274,19259\\r\\n3386,0102138,820\\r\\n3387,0098645,11718\\r\\n3388,0093148,8989\\r\\n3390,0091934,58048\\r\\n3391,0094321,26827\\r\\n3392,0098309,11157\\r\\n3393,0092834,28370\\r\\n3394,0092666,918\\r\\n3395,0093596,61178\\r\\n3396,0079588,11176\\r\\n3397,0082474,14900\\r\\n3398,0087755,11899\\r\\n3399,0089994,36536\\r\\n3400,0108526,18890\\r\\n3401,0088760,19736\\r\\n3402,0090219,123047\\r\\n3404,0046435,16535\\r\\n3405,0051994,10971\\r\\n3406,0043379,23928\\r\\n3408,0195685,462\\r\\n3409,0195714,9532\\r\\n3412,0095800,2383\\r\\n3414,0048316,53879\\r\\n3415,0072443,1396\\r\\n3417,0044517,11570\\r\\n3418,0103074,1541\\r\\n3420,0078718,17443\\r\\n3421,0077975,8469\\r\\n3422,0091939,27995\\r\\n3423,0096054,36739\\r\\n3424,0097216,925\\r\\n3425,0100168,41823\\r\\n3426,0102175,1713\\r\\n3427,0062824,26170\\r\\n3428,0078950,30547\\r\\n3429,0099317,54825\\r\\n3430,0071402,13939\\r\\n3431,0082250,14373\\r\\n3432,0089003,24873\\r\\n3434,0109578,34746\\r\\n3435,0036775,996\\r\\n3436,0101787,9079\\r\\n3437,0101615,1496\\r\\n3438,0100758,1498\\r\\n3439,0103060,1497\\r\\n3440,0108308,1499\\r\\n3441,0087985,1880\\r\\n3442,0090693,33762\\r\\n3444,0092675,11690\\r\\n3445,0077530,29143\\r\\n3446,0113133,35292\\r\\n3447,0028944,36652\\r\\n3448,0093105,801\\r\\n3449,0095238,104301\\r\\n3450,0107050,11520\\r\\n3451,0061735,1879\\r\\n3452,0165929,2085\\r\\n3453,0195778,13539\\r\\n3454,0202402,16222\\r\\n3456,0191043,17078\\r\\n3457,0127349,37722\\r\\n3459,0091142,33516\\r\\n3460,0061765,99008\\r\\n3461,0057261,9960\\r\\n3462,0027977,3082\\r\\n3463,0110629,49338\\r\\n3465,0092079,52961\\r\\n3466,0107091,12187\\r\\n3467,0057163,24748\\r\\n3468,0054997,990\\r\\n3469,0053946,1908\\r\\n3470,0071411,9764\\r\\n3471,0075860,840\\r\\n3474,0117468,26689\\r\\n3475,0043924,25673\\r\\n3476,0099871,2291\\r\\n3477,0112950,13531\\r\\n3478,0093378,16620\\r\\n3479,0089457,526\\r\\n3480,0091445,13346\\r\\n3481,0146882,243\\r\\n3483,0138749,10501\\r\\n3484,0192614,11478\\r\\n3487,0061619,6644\\r\\n3489,0102057,879\\r\\n3490,0068713,32613\\r\\n3491,0091579,39406\\r\\n3492,0017416,85689\\r\\n3494,0065126,17529\\r\\n3495,0105267,40841\\r\\n3496,0095564,118098\\r\\n3497,0085919,1793\\r\\n3498,0077928,11327\\r\\n3499,0100157,1700\\r\\n3500,0104928,54087\\r\\n3501,0089643,34322\\r\\n3502,0107630,41659\\r\\n3503,0069293,593\\r\\n3504,0074958,10774\\r\\n3505,0093640,10083\\r\\n3506,0079640,29786\\r\\n3507,0063374,11356\\r\\n3508,0075029,10747\\r\\n3509,0165643,38809\\r\\n3510,0186151,10559\\r\\n3511,0217756,20697\\r\\n3512,0122459,2621\\r\\n3513,0160797,10479\\r\\n3515,0183503,49721\\r\\n3516,0051406,2006\\r\\n3518,0119062,46625\\r\\n3519,0077572,17339\\r\\n3520,0059287,26879\\r\\n3521,0097940,11305\\r\\n3522,0067698,48211\\r\\n3524,0082031,13665\\r\\n3525,0086927,12309\\r\\n3526,0098067,1552\\r\\n3527,0093773,106\\r\\n3528,0102713,10333\\r\\n3529,0082934,11027\\r\\n3531,0099014,123757\\r\\n3534,0191754,10468\\r\\n3535,0144084,1359\\r\\n3536,0171433,4967\\r\\n3537,0149367,31776\\r\\n3538,0166175,10557\\r\\n3539,0236216,27745\\r\\n3540,0160644,19214\\r\\n3543,0083833,13776\\r\\n3544,0102898,26291\\r\\n3545,0068327,10784\\r\\n3546,0056687,10242\\r\\n3547,0093776,27857\\r\\n3548,0051383,16347\\r\\n3549,0048140,4825\\r\\n3550,0085701,11654\\r\\n3551,0074860,10518\\r\\n3552,0080487,11977\\r\\n3553,0176783,18041\\r\\n3554,0199725,14736\\r\\n3555,0141926,3536\\r\\n3556,0159097,1443\\r\\n3557,0104549,10424\\r\\n3559,0044837,28971\\r\\n3560,0077132,49096\\r\\n3563,0132910,9456\\r\\n3564,0158622,889\\r\\n3565,0198021,10564\\r\\n3566,0189584,15723\\r\\n3567,0180837,19600\\r\\n3568,0162348,125537\\r\\n3569,0154421,452\\r\\n3571,0220100,36234\\r\\n3572,0106521,39283\\r\\n3573,0112634,65460\\r\\n3574,0115834,55667\\r\\n3575,0156460,31978\\r\\n3576,0093185,12476\\r\\n3577,0096324,5241\\r\\n3578,0172495,98\\r\\n3579,0167203,21311\\r\\n3580,0153464,47724\\r\\n3581,0188674,11129\\r\\n3584,0085276,1058\\r\\n3587,0080923,16395\\r\\n3588,0068805,50627\\r\\n3590,0071772,38925\\r\\n3591,0085970,13105\\r\\n3593,0185183,5491\\r\\n3594,0210616,10560\\r\\n3596,0156323,19419\\r\\n3598,0171359,10688\\r\\n3599,0037514,17889\\r\\n3600,0054692,18228\\r\\n3602,0053848,18642\\r\\n3604,0056048,39391\\r\\n3605,0051818,18644\\r\\n3606,0041716,31516\\r\\n3608,0089791,5683\\r\\n3609,0181786,113279\\r\\n3611,0036326,14906\\r\\n3612,0075232,16176\\r\\n3613,0096259,52770\\r\\n3614,0104438,12518\\r\\n3615,0130623,10567\\r\\n3616,0217630,10642\\r\\n3617,0215129,9285\\r\\n3618,0196216,10569\\r\\n3619,0080881,21879\\r\\n3620,0119746,98502\\r\\n3621,0082933,21484\\r\\n3622,0066495,24918\\r\\n3623,0120755,955\\r\\n3624,0184894,8584\\r\\n3626,0154443,11332\\r\\n3627,0055830,16093\\r\\n3628,0034742,29372\\r\\n3629,0015864,962\\r\\n3632,0039631,30588\\r\\n3633,0064757,668\\r\\n3634,0058576,23518\\r\\n3635,0076752,691\\r\\n3637,0089960,44018\\r\\n3638,0079574,698\\r\\n3639,0071807,682\\r\\n3640,0050598,28973\\r\\n3643,0036824,22994\\r\\n3646,0208003,9600\\r\\n3649,0080365,2768\\r\\n3653,0060371,21\\r\\n3654,0054953,10911\\r\\n3655,0070130,10102\\r\\n3656,0039589,30308\\r\\n3657,0043899,38688\\r\\n3658,0062168,26912\\r\\n3659,0050873,26278\\r\\n3660,0098143,26953\\r\\n3661,0100438,26954\\r\\n3662,0102728,26956\\r\\n3663,0107899,26957\\r\\n3664,0110916,26958\\r\\n3665,0132451,26959\\r\\n3668,0063518,6003\\r\\n3669,0105466,23939\\r\\n3671,0071230,11072\\r\\n3672,0071206,23069\\r\\n3673,0092638,21299\\r\\n3674,0076044,38802\\r\\n3675,0047673,13368\\r\\n3676,0074486,985\\r\\n3677,0103767,14002\\r\\n3678,0048347,541\\r\\n3679,0082252,21137\\r\\n3680,0094980,36724\\r\\n3681,0059578,938\\r\\n3682,0070355,10648\\r\\n3683,0086979,11368\\r\\n3684,0097322,10875\\r\\n3685,0089841,2075\\r\\n3686,0099582,1551\\r\\n3687,0095525,22500\\r\\n3688,0084522,10246\\r\\n3689,0086129,19698\\r\\n3690,0089826,23919\\r\\n3691,0086143,18835\\r\\n3692,0090849,26554\\r\\n3693,0090190,15239\\r\\n3694,0098503,28165\\r\\n3695,0098502,28169\\r\\n3696,0091630,15762\\r\\n3697,0100403,169\\r\\n3698,0093894,865\\r\\n3699,0088172,9663\\r\\n3700,0087004,26889\\r\\n3701,0094631,10128\\r\\n3702,0079501,9659\\r\\n3703,0082694,8810\\r\\n3704,0089530,9355\\r\\n3705,0099141,1727\\r\\n3706,0092563,635\\r\\n3707,0091635,10068\\r\\n3708,0087262,11495\\r\\n3709,0105428,11428\\r\\n3710,0094612,10117\\r\\n3712,0102951,25562\\r\\n3713,0100046,51763\\r\\n3714,0094882,73079\\r\\n3715,0092710,38921\\r\\n3716,0093011,35463\\r\\n3717,0187078,9679\\r\\n3718,0179074,24587\\r\\n3719,0182295,51333\\r\\n3720,0145503,17771\\r\\n3721,0162711,31610\\r\\n3723,0099726,10264\\r\\n3724,0077362,31657\\r\\n3725,0082009,29204\\r\\n3726,0074156,17814\\r\\n3727,0093605,11879\\r\\n3728,0102592,21128\\r\\n3729,0067741,482\\r\\n3730,0071360,592\\r\\n3731,0082220,31593\\r\\n3732,0077588,12611\\r\\n3733,0070509,14328\\r\\n3734,0082945,32047\\r\\n3735,0070666,9040\\r\\n3736,0043338,25364\\r\\n3737,0056195,43002\\r\\n3738,0072226,5121\\r\\n3739,0023622,195\\r\\n3740,0090728,6978\\r\\n3741,0069762,3133\\r\\n3742,0015648,643\\r\\n3743,0204175,10571\\r\\n3744,0162650,479\\r\\n3745,0120913,7450\\r\\n3746,0188030,31023\\r\\n3747,0186253,25636\\r\\n3751,0120630,7443\\r\\n3752,0183505,2123\\r\\n3753,0187393,2024\\r\\n3754,0131704,17711\\r\\n3755,0177971,2133\\r\\n3757,0068230,25993\\r\\n3758,0097100,28774\\r\\n3759,0039404,46929\\r\\n3760,0076257,11598\\r\\n3761,0106469,9702\\r\\n3763,0089118,9873\\r\\n3764,0101846,16820\\r\\n3765,0099797,14864\\r\\n3766,0087727,15379\\r\\n3768,0094792,27352\\r\\n3769,0072288,8348\\r\\n3770,0087175,24099\\r\\n3771,0071569,17897\\r\\n3773,0099800,16094\\r\\n3774,0102065,16096\\r\\n3775,0038718,20343\\r\\n3777,0093608,11822\\r\\n3780,0042897,37744\\r\\n3783,0159382,12706\\r\\n3784,0219854,4244\\r\\n3785,0175142,4247\\r\\n3786,0179116,20770\\r\\n3787,0215369,1050\\r\\n3788,0060176,1052\\r\\n3789,0059575,20540\\r\\n3790,0212974,23655\\r\\n3791,0087277,1788\\r\\n3792,0038499,32275\\r\\n3793,0120903,36657\\r\\n3794,0200530,44490\\r\\n3795,0168794,47585\\r\\n3798,0161081,2655\\r\\n3799,0210234,12599\\r\\n3800,0205735,33828\\r\\n3801,0052561,93\\r\\n3802,0104299,9278\\r\\n3804,0079257,59181\\r\\n3805,0082622,22167\\r\\n3806,0064615,18118\\r\\n3807,0076716,11940\\r\\n3809,0103241,10276\\r\\n3810,0105813,19380\\r\\n3811,0080310,13783\\r\\n3812,0068555,11624\\r\\n3813,0077742,15867\\r\\n3814,0073312,11686\\r\\n3816,0089276,29263\\r\\n3819,0092048,11830\\r\\n3820,0205461,16110\\r\\n3821,0144528,12107\\r\\n3822,0144201,10401\\r\\n3823,0171865,32640\\r\\n3824,0174480,10641\\r\\n3825,0200550,6282\\r\\n3826,0164052,9383\\r\\n3827,0186566,5551\\r\\n3829,0156757,43079\\r\\n3831,0195234,2360\\r\\n3832,0057603,28043\\r\\n3833,0052646,33468\\r\\n3834,0080472,21866\\r\\n3835,0106627,33408\\r\\n3836,0065938,11589\\r\\n3837,0095863,15158\\r\\n3838,0110823,16139\\r\\n3839,0138703,16146\\r\\n3840,0095925,26515\\r\\n3841,0099005,11856\\r\\n3843,0086320,13567\\r\\n3844,0098384,10860\\r\\n3845,0049189,8420\\r\\n3846,0085470,18391\\r\\n3847,0071650,20850\\r\\n3848,0111187,39473\\r\\n3849,0038975,27452\\r\\n3851,0251739,38548\\r\\n3852,0234853,20438\\r\\n3854,0130444,2211\\r\\n3855,0204709,46991\\r\\n3857,0163983,10391\\r\\n3858,0173716,14195\\r\\n3859,0233687,15665\\r\\n3860,0138681,45905\\r\\n3861,0191397,10393\\r\\n3863,0209958,8843\\r\\n3864,0188640,10643\\r\\n3865,0236388,23618\\r\\n3868,0095705,37136\\r\\n3869,0102510,37137\\r\\n3870,0032881,23283\\r\\n3871,0046303,3110\\r\\n3872,0053318,14698\\r\\n3873,0059017,11694\\r\\n3875,0062885,39891\\r\\n3877,0088206,9651\\r\\n3879,0160009,11398\\r\\n3880,0236008,161687\\r\\n3882,0204946,1588\\r\\n3883,0162903,287821\\r\\n3885,0234137,25128\\r\\n3886,0161216,18153\\r\\n3889,0144964,12211\\r\\n3890,0259207,137236\\r\\n3891,0216772,9995\\r\\n3892,0187696,1698\\r\\n3893,0171580,10480\\r\\n3895,0204626,10685\\r\\n3896,0202677,1619\\r\\n3897,0181875,786\\r\\n3900,0197384,46119\\r\\n3901,0134630,18074\\r\\n3902,0210717,170767\\r\\n3903,0182508,77332\\r\\n3905,0181836,29015\\r\\n3906,0164212,10562\\r\\n3908,0192731,12212\\r\\n3909,0206420,14629\\r\\n3910,0168629,16\\r\\n3911,0218839,13785\\r\\n3913,0211219,15752\\r\\n3914,0222850,22597\\r\\n3915,0210075,19348\\r\\n3916,0210945,10637\\r\\n3917,0093177,9003\\r\\n3918,0095294,9064\\r\\n3919,0104409,11569\\r\\n3920,0107209,10434\\r\\n3921,0056860,26484\\r\\n3922,0057887,39113\\r\\n3923,0053219,38126\\r\\n3924,0058440,53617\\r\\n3925,0088184,469\\r\\n3926,0055608,2160\\r\\n3927,0060397,2161\\r\\n3928,0040068,3073\\r\\n3929,0032234,911\\r\\n3930,0046876,10973\\r\\n3932,0024184,10787\\r\\n3933,0052969,43109\\r\\n3934,0050610,43230\\r\\n3936,0036261,15855\\r\\n3937,0088024,9507\\r\\n3938,0084695,27475\\r\\n3939,0093996,27764\\r\\n3940,0100639,27767\\r\\n3941,0091990,40760\\r\\n3942,0100663,40446\\r\\n3943,0215545,24664\\r\\n3945,0259974,20455\\r\\n3946,0208988,10461\\r\\n3947,0067128,1485\\r\\n3948,0212338,1597\\r\\n3949,0180093,641\\r\\n3950,0170691,10687\\r\\n3951,0202641,63956\\r\\n3952,0208874,6521\\r\\n3953,0205271,10763\\r\\n3955,0213790,16888\\r\\n3956,0160484,10383\\r\\n3957,0066832,21142\\r\\n3959,0054387,2134\\r\\n3960,0113269,18801\\r\\n3961,0089200,18498\\r\\n3962,0093091,28605\\r\\n3963,0058708,42797\\r\\n3964,0041094,13465\\r\\n3965,0038988,27033\\r\\n3966,0037638,20367\\r\\n3967,0249462,71\\r\\n3968,0230030,1636\\r\\n3969,0223897,10647\\r\\n3970,0082307,19204\\r\\n3971,0081376,13762\\r\\n3972,0111512,12207\\r\\n3973,0229260,11531\\r\\n3975,0219952,10783\\r\\n3976,0192949,47302\\r\\n3977,0160127,4327\\r\\n3978,0146984,4958\\r\\n3979,0185431,9678\\r\\n3980,0203019,11978\\r\\n3981,0199753,8870\\r\\n3983,0203230,14295\\r\\n3984,0066995,681\\r\\n3985,0074452,11372\\r\\n3986,0216216,8452\\r\\n3987,0186894,10862\\r\\n3988,0170016,8871\\r\\n3989,0230591,34045\\r\\n3990,0213203,16340\\r\\n3991,0211181,10481\\r\\n3992,0213847,10867\\r\\n3993,0180073,10876\\r\\n3994,0217869,9741\\r\\n3996,0190332,146\\r\\n3997,0190374,11849\\r\\n3998,0228750,11983\\r\\n3999,0190865,11678\\r\\n4000,0086993,2669\\r\\n4001,0088936,20721\\r\\n4002,0093748,2609\\r\\n4003,0096094,12714\\r\\n4005,0093428,708\\r\\n4006,0092106,1857\\r\\n4007,0094291,10673\\r\\n4008,0096969,2604\\r\\n4009,0096219,10132\\r\\n4010,0088850,11064\\r\\n4011,0208092,107\\r\\n4012,0095927,40820\\r\\n4014,0241303,392\\r\\n4015,0242423,8859\\r\\n4016,0120917,11688\\r\\n4017,0183659,12509\\r\\n4018,0207201,3981\\r\\n4019,0181536,711\\r\\n4020,0219699,2046\\r\\n4021,0247196,5001\\r\\n4022,0162222,8358\\r\\n4023,0218967,5994\\r\\n4024,0200720,25520\\r\\n4025,0212346,1493\\r\\n4026,0223530,25660\\r\\n4027,0190590,134\\r\\n4029,0120202,21991\\r\\n4030,0219653,10577\\r\\n4031,0149624,21355\\r\\n4033,0146309,11973\\r\\n4034,0181865,1900\\r\\n4035,0218378,44853\\r\\n4036,0189998,10873\\r\\n4037,0093223,26719\\r\\n4039,0083564,15739\\r\\n4040,0101757,15413\\r\\n4041,0084434,2623\\r\\n4042,0053580,11209\\r\\n4043,0090670,13715\\r\\n4045,0072735,8043\\r\\n4046,0049233,43258\\r\\n4047,0107007,10655\\r\\n4048,0110115,75490\\r\\n4051,0056600,\\r\\n4052,0218817,9989\\r\\n4053,0238948,18828\\r\\n4054,0206275,9816\\r\\n4055,0194218,20637\\r\\n4056,0237572,5955\\r\\n4060,0104765,66599\\r\\n4061,0102388,17474\\r\\n4062,0095690,11191\\r\\n4063,0105165,2613\\r\\n4066,0095348,17006\\r\\n4067,0108451,26333\\r\\n4068,0186589,16723\\r\\n4069,0209475,2018\\r\\n4073,0178642,18856\\r\\n4076,0162024,83500\\r\\n4077,0216800,47943\\r\\n4079,0092546,5709\\r\\n4080,0092605,11215\\r\\n4081,0092608,26477\\r\\n4082,0092618,10937\\r\\n4084,0092644,96\\r\\n4085,0086960,90\\r\\n4086,0092654,11028\\r\\n4088,0092656,67307\\r\\n4089,0092690,19324\\r\\n4090,0092695,19933\\r\\n4091,0092718,12919\\r\\n4092,0092746,15785\\r\\n4095,0092804,12506\\r\\n4098,0092843,39507\\r\\n4101,0092904,30994\\r\\n4102,0092948,17159\\r\\n4103,0092965,10110\\r\\n4104,0092974,18935\\r\\n4105,0083907,764\\r\\n4106,0092997,20287\\r\\n4108,0093029,71881\\r\\n4109,0093036,15658\\r\\n4111,0093073,28368\\r\\n4114,0093104,48149\\r\\n4115,0093186,26156\\r\\n4116,0093200,34101\\r\\n4117,0093209,32054\\r\\n4121,0093260,2614\\r\\n4122,0093277,40962\\r\\n4123,0093278,12704\\r\\n4124,0093300,580\\r\\n4126,0093407,13703\\r\\n4128,0093437,1547\\r\\n4130,0093476,2608\\r\\n4131,0093477,32058\\r\\n4132,0093493,10019\\r\\n4133,0093507,11649\\r\\n4135,0093560,13509\\r\\n4136,0093562,63639\\r\\n4139,0093638,34379\\r\\n4140,0093648,22915\\r\\n4141,0192111,24940\\r\\n4142,0190524,37302\\r\\n4143,0242998,10984\\r\\n4144,0118694,843\\r\\n4146,0120753,318\\r\\n4148,0212985,9740\\r\\n4149,0239948,10878\\r\\n4151,0216787,10697\\r\\n4153,0231775,16300\\r\\n4155,0230838,1921\\r\\n4156,0177650,44412\\r\\n4158,0166276,23685\\r\\n4159,0233142,12138\\r\\n4161,0236493,6073\\r\\n4162,0250720,39180\\r\\n4166,0251031,19513\\r\\n4167,0179626,2749\\r\\n4168,0192071,10050\\r\\n4169,0212380,17203\\r\\n4171,0236447,95682\\r\\n4173,0220157,49929\\r\\n4174,0099073,2302\\r\\n4175,0116447,32686\\r\\n4177,0081163,6028\\r\\n4178,0031742,51802\\r\\n4179,0082912,42148\\r\\n4180,0091836,29492\\r\\n4181,0096223,25447\\r\\n4183,0100842,38545\\r\\n4184,0039190,19490\\r\\n4185,0065687,31151\\r\\n4186,0060424,1888\\r\\n4187,0057251,38805\\r\\n4188,0044685,16618\\r\\n4189,0059245,2428\\r\\n4190,0053793,22013\\r\\n4191,0060086,15598\\r\\n4194,0037800,56137\\r\\n4195,0066740,17965\\r\\n4197,0079781,33250\\r\\n4198,0080421,14460\\r\\n4200,0101764,9594\\r\\n4201,0077504,35976\\r\\n4203,0102005,2453\\r\\n4205,0100140,4587\\r\\n4207,0100232,12773\\r\\n4208,0127952,125099\\r\\n4210,0091474,11454\\r\\n4211,0100486,38718\\r\\n4212,0077413,4192\\r\\n4213,0097179,11607\\r\\n4214,0088000,14052\\r\\n4215,0093857,16889\\r\\n4216,0100049,39934\\r\\n4217,0118540,26580\\r\\n4218,0091860,21309\\r\\n4219,0089208,16263\\r\\n4220,0071771,4985\\r\\n4221,0102517,20704\\r\\n4222,0087015,23730\\r\\n4223,0215750,853\\r\\n4224,0242445,10877\\r\\n4225,0205873,5257\\r\\n4226,0209144,77\\r\\n4228,0125022,10833\\r\\n4229,0239949,20309\\r\\n4231,0244970,12658\\r\\n4232,0227538,10054\\r\\n4233,0246989,10646\\r\\n4234,0236784,2575\\r\\n4235,0245712,55\\r\\n4236,0206187,65075\\r\\n4237,0247380,44379\\r\\n4238,0164334,2043\\r\\n4239,0221027,4133\\r\\n4241,0266860,10991\\r\\n4246,0243155,634\\r\\n4247,0245686,10956\\r\\n4248,0236348,19366\\r\\n4251,0221073,9519\\r\\n4252,0255094,13898\\r\\n4254,0231402,9290\\r\\n4255,0240515,13166\\r\\n4262,0086250,111\\r\\n4263,0055895,32488\\r\\n4265,0132245,10477\\r\\n4266,0245120,12484\\r\\n4267,0203755,2144\\r\\n4268,0141907,24113\\r\\n4270,0209163,1734\\r\\n4271,0243889,38047\\r\\n4273,0240913,4973\\r\\n4274,0056937,8095\\r\\n4275,0085811,849\\r\\n4276,0089504,27223\\r\\n4277,0016039,2981\\r\\n4278,0025913,39266\\r\\n4279,0098524,31863\\r\\n4280,0084917,11307\\r\\n4281,0062776,46498\\r\\n4282,0064940,11163\\r\\n4284,0060429,18691\\r\\n4290,0101902,25221\\r\\n4291,0080319,19494\\r\\n4292,0079638,40842\\r\\n4293,0090098,19357\\r\\n4294,0045464,33743\\r\\n4296,0066011,9062\\r\\n4297,0093713,11174\\r\\n4298,0048021,934\\r\\n4299,0183790,9476\\r\\n4300,0212826,37691\\r\\n4302,0208911,10613\\r\\n4304,0256408,14268\\r\\n4305,0225071,5852\\r\\n4306,0126029,808\\r\\n4308,0203009,824\\r\\n4310,0213149,676\\r\\n4312,0210727,26813\\r\\n4316,0077716,50541\\r\\n4317,0102343,26255\\r\\n4318,0100395,22414\\r\\n4319,0046719,43329\\r\\n4321,0101587,1406\\r\\n4322,0095082,13554\\r\\n4324,0048248,66035\\r\\n4326,0095647,1632\\r\\n4327,0054047,966\\r\\n4329,0053221,301\\r\\n4332,0094082,12623\\r\\n4333,0094142,11896\\r\\n4334,0244316,25538\\r\\n4337,0060934,5923\\r\\n4338,0041996,15497\\r\\n4339,0059885,21876\\r\\n4340,0255798,11090\\r\\n4342,0212815,21056\\r\\n4343,0251075,9397\\r\\n4344,0244244,9705\\r\\n4345,0254099,26475\\r\\n4347,0234288,29937\\r\\n4349,0065528,10364\\r\\n4350,0116344,32458\\r\\n4351,0102685,1089\\r\\n4352,0098300,38043\\r\\n4353,0086508,9967\\r\\n4354,0105699,17494\\r\\n4355,0092272,17465\\r\\n4356,0045810,759\\r\\n4357,0045891,10297\\r\\n4359,0048605,10653\\r\\n4360,0047574,21468\\r\\n4361,0084805,9576\\r\\n4366,0230011,10865\\r\\n4367,0146316,1995\\r\\n4368,0240462,10808\\r\\n4369,0232500,9799\\r\\n4370,0212720,644\\r\\n4371,0255819,16161\\r\\n4372,0250224,10691\\r\\n4375,0228242,21488\\r\\n4378,0203119,11826\\r\\n4380,0203632,9301\\r\\n4381,0243493,11444\\r\\n4383,0228786,60670\\r\\n4384,0246765,55551\\r\\n4386,0239395,10992\\r\\n4387,0271027,2140\\r\\n4388,0257106,4248\\r\\n4389,0245238,17612\\r\\n4390,0249380,3134\\r\\n4391,0224578,34899\\r\\n4392,0099012,8217\\r\\n4394,0058953,26483\\r\\n4396,0082136,11286\\r\\n4397,0087032,11950\\r\\n4399,0058249,36245\\r\\n4401,0057007,15875\\r\\n4402,0059124,26573\\r\\n4403,0053925,23439\\r\\n4404,0016847,10728\\r\\n4405,0015064,5991\\r\\n4406,0056217,11697\\r\\n4407,0091886,6106\\r\\n4409,0105378,19200\\r\\n4410,0091983,11300\\r\\n4411,0059740,16211\\r\\n4414,0057693,32569\\r\\n4415,0082163,20075\\r\\n4417,0082966,28794\\r\\n4420,0046754,34689\\r\\n4422,0069467,10238\\r\\n4424,0065777,4789\\r\\n4426,0048261,18030\\r\\n4427,0063227,18988\\r\\n4428,0055184,11536\\r\\n4432,0051036,976\\r\\n4433,0049966,69605\\r\\n4437,0076786,11906\\r\\n4438,0068767,11713\\r\\n4440,0067824,12481\\r\\n4441,0077594,13333\\r\\n4442,0089461,13938\\r\\n4443,0082869,10540\\r\\n4444,0068935,9462\\r\\n4445,0163862,82623\\r\\n4446,0173840,2114\\r\\n4447,0250494,8835\\r\\n4448,0227445,11371\\r\\n4450,0242193,9517\\r\\n4451,0273300,25985\\r\\n4452,0227005,15745\\r\\n4453,0245280,24977\\r\\n4454,0188913,36107\\r\\n4458,0109049,13794\\r\\n4459,0130445,13795\\r\\n4462,0094593,38965\\r\\n4464,0094606,31052\\r\\n4465,0094608,10868\\r\\n4466,0094602,9395\\r\\n4467,0096764,14506\\r\\n4469,0094669,4281\\r\\n4470,0094675,2\\r\\n4471,0094678,26044\\r\\n4473,0094712,14911\\r\\n4474,0094715,15592\\r\\n4475,0094716,15267\\r\\n4477,0094744,30502\\r\\n4478,0094746,19382\\r\\n4479,0094747,24679\\r\\n4480,0094761,9599\\r\\n4482,0094799,17170\\r\\n4483,0094824,18509\\r\\n4486,0094884,14441\\r\\n4487,0094889,7520\\r\\n4488,0094894,10126\\r\\n4489,0094898,9602\\r\\n4490,0094910,23752\\r\\n4491,0097125,41952\\r\\n4492,0090887,3980\\r\\n4493,0094919,10127\\r\\n4495,0094921,27397\\r\\n4496,0094933,9748\\r\\n4498,0094963,10651\\r\\n4499,0095031,10141\\r\\n4500,0092929,27362\\r\\n4501,0095088,5680\\r\\n4502,0095107,26386\\r\\n4503,0095119,34053\\r\\n4506,0095174,10675\\r\\n4508,0095243,10130\\r\\n4509,0095253,2617\\r\\n4511,0095304,21362\\r\\n4515,0095360,26723\\r\\n4516,0095409,20443\\r\\n4518,0095488,11347\\r\\n4519,0095489,12144\\r\\n4520,0095519,13704\\r\\n4521,0095532,12505\\r\\n4522,0095599,41963\\r\\n4523,0095638,13482\\r\\n4524,0095654,34014\\r\\n4526,0095687,12120\\r\\n4527,0095736,47818\\r\\n4528,0095774,38617\\r\\n4529,0095801,3543\\r\\n4531,0095963,9604\\r\\n4532,0095990,24929\\r\\n4533,0089907,10925\\r\\n4534,0095993,13965\\r\\n4535,0084296,24266\\r\\n4537,0096018,18197\\r\\n4538,0096029,70842\\r\\n4539,0096030,38909\\r\\n4541,0096071,11503\\r\\n4543,0096098,9717\\r\\n4544,0096101,11966\\r\\n4545,0091949,2605\\r\\n4546,0096163,8740\\r\\n4550,0096203,26798\\r\\n4552,0096251,41428\\r\\n4553,0096256,8337\\r\\n4555,0096289,8463\\r\\n4557,0096316,28176\\r\\n4558,0096320,9493\\r\\n4559,0096380,26603\\r\\n4560,0096425,33172\\r\\n4561,0096426,29095\\r\\n4562,0096454,12582\\r\\n4563,0096486,10001\\r\\n4564,0096794,11352\\r\\n4565,0088708,12500\\r\\n4566,0092548,25678\\r\\n4567,0096804,25682\\r\\n4568,0096913,17882\\r\\n4569,0106393,32049\\r\\n4570,0096926,45225\\r\\n4571,0096928,1648\\r\\n4572,0096933,4105\\r\\n4573,0096943,22711\\r\\n4577,0097027,10142\\r\\n4578,0097044,3064\\r\\n4584,0097236,15142\\r\\n4585,0097235,14550\\r\\n4587,0097257,2210\\r\\n4589,0085475,21721\\r\\n4590,0097276,116014\\r\\n4591,0097289,11828\\r\\n4592,0097314,55699\\r\\n4593,0097328,10551\\r\\n4600,0097458,17190\\r\\n4602,0097481,9085\\r\\n4603,0097500,17819\\r\\n4605,0097531,14776\\r\\n4606,0097567,59585\\r\\n4608,0097579,29185\\r\\n4610,0097613,32059\\r\\n4612,0097635,4486\\r\\n4614,0097659,10222\\r\\n4615,0097714,12774\\r\\n4616,0097722,14621\\r\\n4617,0097731,19118\\r\\n4618,0097737,14372\\r\\n4619,0097758,15138\\r\\n4621,0097778,9494\\r\\n4622,0097790,17362\\r\\n4623,0097815,9942\\r\\n4624,0097858,8216\\r\\n4625,0097883,4296\\r\\n4626,0097889,24739\\r\\n4627,0097892,39197\\r\\n4628,0097965,9686\\r\\n4629,0097967,27418\\r\\n4630,0097987,39002\\r\\n4632,0098051,31606\\r\\n4634,0098073,37146\\r\\n4636,0098141,8867\\r\\n4638,0163025,331\\r\\n4639,0265029,11467\\r\\n4640,0222851,327\\r\\n4641,0162346,1548\\r\\n4642,0248845,13403\\r\\n4643,0133152,869\\r\\n4644,0237539,552\\r\\n4645,0123948,36095\\r\\n4649,0243655,2171\\r\\n4652,0098193,19142\\r\\n4654,0098206,10135\\r\\n4655,0098219,32767\\r\\n4658,0098253,19236\\r\\n4659,0098260,32261\\r\\n4660,0098261,60276\\r\\n4661,0098273,12150\\r\\n4662,0098282,11185\\r\\n4663,0098308,47045\\r\\n4664,0098319,18683\\r\\n4666,0098343,12478\\r\\n4667,0098347,49788\\r\\n4670,0094035,25155\\r\\n4673,0098439,9618\\r\\n4674,0098442,16560\\r\\n4675,0098471,31608\\r\\n4676,0098519,22102\\r\\n4677,0098536,6951\\r\\n4678,0098546,11959\\r\\n4679,0098554,2616\\r\\n4680,0098577,7091\\r\\n4681,0098621,249\\r\\n4682,0098622,11342\\r\\n4684,0098678,32330\\r\\n4686,0108539,8494\\r\\n4687,0056868,26535\\r\\n4688,0101465,41784\\r\\n4690,0087089,2148\\r\\n4691,0087130,42033\\r\\n4692,0087428,11308\\r\\n4696,0083366,19317\\r\\n4697,0083624,27813\\r\\n4698,0119842,57745\\r\\n4699,0218922,2057\\r\\n4700,0247638,9880\\r\\n4701,0266915,5175\\r\\n4703,0094868,41951\\r\\n4704,0056059,11385\\r\\n4705,0077288,4484\\r\\n4706,0080489,11684\\r\\n4709,0064782,20391\\r\\n4710,0075213,12584\\r\\n4711,0108323,70042\\r\\n4712,0064285,1627\\r\\n4713,0080360,11542\\r\\n4714,0080377,17169\\r\\n4716,0080408,33214\\r\\n4717,0080436,19267\\r\\n4718,0252866,2770\\r\\n4719,0181739,12610\\r\\n4720,0230600,1933\\r\\n4721,0244000,13496\\r\\n4722,0250202,21055\\r\\n4723,0250323,24936\\r\\n4724,0221559,80070\\r\\n4725,0261983,10972\\r\\n4727,0238112,1722\\r\\n4728,0250687,9896\\r\\n4731,0251141,125707\\r\\n4732,0258470,9683\\r\\n4733,0256524,2779\\r\\n4734,0261392,2294\\r\\n4735,0228333,10016\\r\\n4736,0234829,26602\\r\\n4737,0221799,37920\\r\\n4738,0208196,22230\\r\\n4740,0206926,13966\\r\\n4741,0203166,742\\r\\n4743,0255653,15104\\r\\n4744,0263488,8922\\r\\n4745,0184791,11065\\r\\n4748,0103596,16314\\r\\n4749,0109015,18885\\r\\n4750,0112255,40508\\r\\n4751,0080907,5922\\r\\n4752,0081114,27346\\r\\n4753,0092147,34223\\r\\n4754,0070917,16307\\r\\n4755,0118178,27681\\r\\n4756,0246544,11370\\r\\n4757,0202470,12508\\r\\n4761,0200427,34714\\r\\n4763,0263957,106230\\r\\n4765,0242587,18734\\r\\n4766,0250809,44321\\r\\n4767,0047795,26661\\r\\n4768,0013086,5998\\r\\n4769,0248912,58062\\r\\n4770,0221218,2176\\r\\n4771,0180734,20857\\r\\n4772,0229340,22617\\r\\n4774,0246464,2185\\r\\n4775,0118589,10696\\r\\n4776,0139654,2034\\r\\n4782,0239986,31016\\r\\n4783,0264578,32567\\r\\n4784,0082416,12537\\r\\n4787,0102316,11521\\r\\n4789,0071994,27327\\r\\n4792,0053559,29756\\r\\n4795,0058092,30295\\r\\n4796,0053877,25767\\r\\n4798,0051773,22874\\r\\n4799,0057193,11576\\r\\n4800,0029081,43860\\r\\n4801,0033836,43802\\r\\n4802,0053143,9660\\r\\n4803,0067588,15393\\r\\n4804,0055312,248\\r\\n4806,0059527,25905\\r\\n4809,0086312,12502\\r\\n4810,0076172,66092\\r\\n4811,0079766,10373\\r\\n4812,0091993,13766\\r\\n4814,0260866,12103\\r\\n4815,0252501,11313\\r\\n4816,0196229,9398\\r\\n4818,0245891,45864\\r\\n4821,0206314,10866\\r\\n4822,0273799,34549\\r\\n4823,0240890,9778\\r\\n4826,0080437,16121\\r\\n4830,0080474,1623\\r\\n4831,0080492,40932\\r\\n4832,0080500,32027\\r\\n4833,0080516,13550\\r\\n4834,0080520,13612\\r\\n4835,0080549,16769\\r\\n4836,0080556,42158\\r\\n4837,0080569,27958\\r\\n4840,0080610,1716\\r\\n4842,0080641,20681\\r\\n4844,0219965,3172\\r\\n4846,0108148,12780\\r\\n4848,0166924,1018\\r\\n4849,0206963,25641\\r\\n4851,0245501,102933\\r\\n4854,0061489,26299\\r\\n4855,0066999,984\\r\\n4857,0067093,14811\\r\\n4859,0095428,77670\\r\\n4861,0119682,15560\\r\\n4862,0102555,9585\\r\\n4863,0072979,14267\\r\\n4865,0120681,768\\r\\n4866,0272020,2100\\r\\n4867,0200027,11091\\r\\n4873,0243017,9081\\r\\n4874,0272152,167\\r\\n4875,0279286,34043\\r\\n4876,0245674,9378\\r\\n4878,0246578,141\\r\\n4880,0264796,11457\\r\\n4881,0243133,10778\\r\\n4885,0249478,11456\\r\\n4886,0198781,585\\r\\n4887,0267804,10796\\r\\n4888,0275719,23949\\r\\n4889,0252503,11088\\r\\n4890,0256380,9889\\r\\n4893,0080130,45964\\r\\n4895,0290332,13408\\r\\n4896,0241527,671\\r\\n4897,0245115,17731\\r\\n4898,0234354,20794\\r\\n4899,0265087,11469\\r\\n4901,0266987,1535\\r\\n4902,0256009,1433\\r\\n4903,0247425,1999\\r\\n4911,0076221,11834\\r\\n4912,0062994,16085\\r\\n4914,0053472,269\\r\\n4915,0083630,16441\\r\\n4920,0035140,32847\\r\\n4921,0024264,39938\\r\\n4923,0035957,43510\\r\\n4925,0077321,14584\\r\\n4927,0076299,72277\\r\\n4928,0075824,5781\\r\\n4929,0084809,23805\\r\\n4930,0060437,34388\\r\\n4932,0080661,11033\\r\\n4933,0080671,69716\\r\\n4936,0080716,3537\\r\\n4941,0080745,3604\\r\\n4945,0074483,10649\\r\\n4947,0076070,17689\\r\\n4948,0051755,34084\\r\\n4949,0089348,15983\\r\\n4951,0100054,10847\\r\\n4952,0089622,33525\\r\\n4954,0054135,299\\r\\n4956,0081568,42160\\r\\n4957,0086383,10650\\r\\n4958,0159273,8007\\r\\n4960,0160403,81442\\r\\n4961,0282856,50562\\r\\n4963,0240772,161\\r\\n4964,0233841,43774\\r\\n4965,0270259,31064\\r\\n4967,0283509,8342\\r\\n4968,0261066,55479\\r\\n4969,0037515,4886\\r\\n4970,0020697,228\\r\\n4971,0087747,23111\\r\\n4972,0066195,42597\\r\\n4973,0211915,194\\r\\n4974,0277371,11397\\r\\n4975,0259711,1903\\r\\n4976,0280778,11889\\r\\n4977,0283431,28171\\r\\n4978,0259393,9523\\r\\n4979,0265666,9428\\r\\n4980,0101452,1649\\r\\n4981,0090852,11938\\r\\n4984,0060714,42724\\r\\n4987,0086346,26978\\r\\n4988,0094318,19209\\r\\n4989,0278488,8386\\r\\n4990,0268397,12589\\r\\n4992,0035423,11232\\r\\n4993,0120737,120\\r\\n4994,0268995,11086\\r\\n4995,0268978,453\\r\\n4996,0228687,18939\\r\\n4998,0051525,11414\\r\\n4999,0027532,31507\\r\\n5000,0064652,42612\\r\\n5001,0036323,18783\\r\\n5002,0068612,12593\\r\\n5003,0071913,14683\\r\\n5004,0063415,10794\\r\\n5008,0051201,37257\\r\\n5009,0248667,8489\\r\\n5010,0265086,855\\r\\n5012,0086619,10269\\r\\n5013,0280707,5279\\r\\n5014,0277027,10950\\r\\n5015,0285742,1365\\r\\n5016,0120824,6440\\r\\n5017,0045555,14580\\r\\n5018,0104922,49410\\r\\n5021,0074937,6037\\r\\n5022,0057490,42987\\r\\n5023,0105789,61418\\r\\n5025,0273923,11857\\r\\n5026,0237534,6312\\r\\n5027,0099044,11595\\r\\n5028,0269746,24166\\r\\n5033,0100530,10170\\r\\n5034,0103129,18317\\r\\n5038,0083951,27273\\r\\n5039,0082288,848\\r\\n5040,0087078,9610\\r\\n5041,0085542,15035\\r\\n5042,0080752,16127\\r\\n5043,0080754,31603\\r\\n5046,0160399,4965\\r\\n5047,0240468,11891\\r\\n5048,0281373,11888\\r\\n5049,0083511,150\\r\\n5051,0243862,112\\r\\n5053,0109288,20678\\r\\n5054,0085271,15050\\r\\n5055,0106770,10423\\r\\n5056,0071691,11710\\r\\n5057,0057071,17691\\r\\n5059,0145046,57976\\r\\n5060,0066026,651\\r\\n5061,0087751,31955\\r\\n5062,0060955,20620\\r\\n5063,0055257,18647\\r\\n5064,0245844,11362\\r\\n5065,0265349,2637\\r\\n5066,0281358,10229\\r\\n5069,0270933,68149\\r\\n5071,0220627,35650\\r\\n5072,0293416,9606\\r\\n5073,0208990,11447\\r\\n5074,0250081,16550\\r\\n5075,0219405,13915\\r\\n5076,0106223,34723\\r\\n5079,0047688,43340\\r\\n5080,0240900,20009\\r\\n5081,0188453,2084\\r\\n5083,0295552,74692\\r\\n5085,0046828,51044\\r\\n5087,0078122,4267\\r\\n5088,0072353,4031\\r\\n5092,0265298,11870\\r\\n5093,0233469,9884\\r\\n5094,0246894,11535\\r\\n5095,0265713,27593\\r\\n5096,0109190,11212\\r\\n5097,0024914,29887\\r\\n5098,0027527,32484\\r\\n5099,0028988,28345\\r\\n5101,0086194,21921\\r\\n5102,0107985,21845\\r\\n5103,0108037,11528\\r\\n5105,0069995,931\\r\\n5106,0275022,17130\\r\\n5107,0251114,10592\\r\\n5108,0251160,8470\\r\\n5109,0280030,16690\\r\\n5110,0247745,39939\\r\\n5111,0107034,9272\\r\\n5114,0044391,32499\\r\\n5117,0073026,39282\\r\\n5119,0054269,37230\\r\\n5120,0069281,993\\r\\n5121,0075276,11698\\r\\n5122,0067803,41357\\r\\n5125,0081698,14475\\r\\n5127,0259288,10052\\r\\n5128,0238546,11979\\r\\n5134,0291341,9991\\r\\n5135,0265343,480\\r\\n5137,0143861,18984\\r\\n5139,0074174,23479\\r\\n5141,0075718,19050\\r\\n5142,0061781,38442\\r\\n5146,0216651,15999\\r\\n5147,0050986,614\\r\\n5151,0243736,2752\\r\\n5152,0277434,10590\\r\\n5153,0204700,40723\\r\\n5159,0104254,13225\\r\\n5161,0110146,46717\\r\\n5164,0108395,35614\\r\\n5165,0080057,7219\\r\\n5167,0039645,18649\\r\\n5168,0043983,18646\\r\\n5169,0038057,17058\\r\\n5170,0278295,13950\\r\\n5171,0268695,2135\\r\\n5172,0290212,15186\\r\\n5177,0035015,965\\r\\n5179,0080798,10889\\r\\n5180,0080813,16149\\r\\n5182,0080846,25628\\r\\n5186,0080888,22288\\r\\n5187,0080889,32030\\r\\n5193,0080948,15310\\r\\n5198,0081070,14807\\r\\n5199,0081071,14729\\r\\n5202,0081176,39543\\r\\n5203,0081178,39578\\r\\n5205,0081184,30924\\r\\n5208,0081237,18910\\r\\n5210,0081248,24919\\r\\n5214,0076489,24032\\r\\n5218,0268380,425\\r\\n5219,0120804,1576\\r\\n5220,0284490,5851\\r\\n5222,0264761,15647\\r\\n5223,0256259,25110\\r\\n5224,0282864,38880\\r\\n5225,0245574,1391\\r\\n5226,0085154,18172\\r\\n5227,0055774,24248\\r\\n5229,0125209,19797\\r\\n5230,0040679,17804\\r\\n5231,0035262,31805\\r\\n5232,0032993,13861\\r\\n5233,0038032,29021\\r\\n5234,0034116,31812\\r\\n5236,0097106,28213\\r\\n5237,0083169,10627\\r\\n5238,0081420,42750\\r\\n5241,0081480,28124\\r\\n5242,0081485,41034\\r\\n5243,0081499,11563\\r\\n5244,0081506,15119\\r\\n5246,0081529,12705\\r\\n5247,0076729,11006\\r\\n5248,0086325,15120\\r\\n5250,0081562,21629\\r\\n5254,0187738,36586\\r\\n5255,0279781,6020\\r\\n5256,0286162,39541\\r\\n5258,0262432,18292\\r\\n5264,0250305,15028\\r\\n5265,0266452,9275\\r\\n5266,0258000,4547\\r\\n5267,0265662,14635\\r\\n5269,0254686,1791\\r\\n5271,0273048,41756\\r\\n5275,0068309,22784\\r\\n5276,0087100,40814\\r\\n5277,0087222,53426\\r\\n5278,0089167,24585\\r\\n5279,0102103,17990\\r\\n5282,0257756,11560\\r\\n5283,0283111,11452\\r\\n5285,0246134,35944\\r\\n5288,0083590,26851\\r\\n5289,0039204,17487\\r\\n5291,0042876,548\\r\\n5292,0076723,11590\\r\\n5293,0264472,1537\\r\\n5294,0264616,12149\\r\\n5296,0253867,11812\\r\\n5297,0266391,35080\\r\\n5298,0219822,441\\r\\n5299,0259446,8346\\r\\n5300,0050086,14168\\r\\n5301,0072705,32617\\r\\n5302,0072737,31671\\r\\n5303,0099892,2565\\r\\n5304,0038890,307\\r\\n5305,0095989,15482\\r\\n5307,0103035,6393\\r\\n5308,0094137,12154\\r\\n5309,0098966,11630\\r\\n5312,0264935,11892\\r\\n5313,0277296,9334\\r\\n5315,0226935,35694\\r\\n5316,0157583,10491\\r\\n5319,0247586,18079\\r\\n5323,0211443,11470\\r\\n5324,0282687,16643\\r\\n5325,0275309,1282\\r\\n5329,0235737,11468\\r\\n5333,0047892,26030\\r\\n5334,0099204,10164\\r\\n5335,0088931,42048\\r\\n5337,0101701,28117\\r\\n5339,0104466,28384\\r\\n5341,0071746,27094\\r\\n5342,0091647,26725\\r\\n5343,0108311,17168\\r\\n5344,0088256,48482\\r\\n5346,0100934,5203\\r\\n5348,0278823,9689\\r\\n5349,0145487,557\\r\\n5352,0077234,1815\\r\\n5353,0068326,55106\\r\\n5354,0064117,28289\\r\\n5356,0073043,39154\\r\\n5357,0110157,24767\\r\\n5359,0102753,32221\\r\\n5360,0086397,28466\\r\\n5361,0103247,12227\\r\\n5363,0241760,10985\\r\\n5364,0250797,2251\\r\\n5365,0239234,2894\\r\\n5366,0103253,20712\\r\\n5367,0091578,11240\\r\\n5372,0045591,14117\\r\\n5373,0050634,38360\\r\\n5375,0038589,28907\\r\\n5377,0276751,245\\r\\n5378,0121765,1894\\r\\n5379,0247199,4012\\r\\n5380,0278500,9026\\r\\n5382,0077523,15417\\r\\n5383,0052905,11791\\r\\n5384,0051758,28577\\r\\n5385,0077838,13963\\r\\n5387,0278435,1957\\r\\n5388,0278504,320\\r\\n5389,0166813,9023\\r\\n5391,0268690,17734\\r\\n5395,0071532,44800\\r\\n5398,0056406,53229\\r\\n5400,0164184,4614\\r\\n5401,0279493,12277\\r\\n5404,0090570,15677\\r\\n5410,0067756,811\\r\\n5413,0079788,7216\\r\\n5414,0280486,3132\\r\\n5415,0279778,9583\\r\\n5416,0298798,18408\\r\\n5417,0285441,13245\\r\\n5418,0258463,2501\\r\\n5419,0267913,9637\\r\\n5420,0245562,12100\\r\\n5421,0238924,16857\\r\\n5422,0282768,52258\\r\\n5425,0244479,15813\\r\\n5427,0082146,18905\\r\\n5428,0087042,14774\\r\\n5433,0090021,17898\\r\\n5434,0040823,21635\\r\\n5438,0100135,10169\\r\\n5440,0041866,13909\\r\\n5443,0247444,35696\\r\\n5444,0275847,11544\\r\\n5445,0181689,180\\r\\n5446,0252444,9555\\r\\n5447,0286179,57022\\r\\n5448,0314166,17710\\r\\n5449,0280590,2022\\r\\n5450,0258273,50035\\r\\n5452,0107438,11982\\r\\n5458,0308506,21972\\r\\n5459,0120912,608\\r\\n5460,0289408,59387\\r\\n5462,0305396,17043\\r\\n5463,0253556,6278\\r\\n5464,0257044,4147\\r\\n5466,0269499,14651\\r\\n5470,0044744,20324\\r\\n5471,0089798,49370\\r\\n5473,0072976,42254\\r\\n5475,0065234,2721\\r\\n5477,0254455,1364\\r\\n5478,0271367,8869\\r\\n5479,0267626,8665\\r\\n5480,0243585,10996\\r\\n5481,0295178,818\\r\\n5483,0303353,29047\\r\\n5489,0079641,6404\\r\\n5490,0074205,19133\\r\\n5498,0058888,3780\\r\\n5500,0088286,8764\\r\\n5501,0295427,13908\\r\\n5502,0286106,2675\\r\\n5503,0265930,12308\\r\\n5504,0287717,9488\\r\\n5505,0279113,9962\\r\\n5506,0309377,9573\\r\\n5507,0295701,7451\\r\\n5508,0274309,2750\\r\\n5515,0120263,34070\\r\\n5516,0274117,6173\\r\\n5517,0232083,10305\\r\\n5518,0082054,42337\\r\\n5521,0093780,10081\\r\\n5522,0073631,11484\\r\\n5523,0180052,11692\\r\\n5524,0300532,9266\\r\\n5525,0246772,3640\\r\\n5527,0256276,30072\\r\\n5528,0265459,9357\\r\\n5530,0258153,9296\\r\\n5531,0281322,15070\\r\\n5534,0290662,26895\\r\\n5535,0268219,60608\\r\\n5538,0088885,11243\\r\\n5539,0090799,19975\\r\\n5540,0082186,10323\\r\\n5541,0102059,9595\\r\\n5544,0080025,24750\\r\\n5548,0090966,9941\\r\\n5553,0094025,10859\\r\\n5556,0295254,9544\\r\\n5558,0235553,57351\\r\\n5560,0022599,31514\\r\\n5561,0103125,13571\\r\\n5562,0275688,26056\\r\\n5564,0283026,20616\\r\\n5568,0087507,16806\\r\\n5569,0068833,15516\\r\\n5570,0117883,9299\\r\\n5572,0303714,10611\\r\\n5573,0265808,12770\\r\\n5574,0293662,4108\\r\\n5575,0269329,55903\\r\\n5577,0280760,9685\\r\\n5581,0099128,18913\\r\\n5582,0103924,14361\\r\\n5585,0101821,32685\\r\\n5588,0077681,12262\\r\\n5597,0103003,11504\\r\\n5599,0022458,977\\r\\n5600,0080117,233\\r\\n5601,0039111,19049\\r\\n5602,0048281,5506\\r\\n5603,0044829,32961\\r\\n5604,0044876,32568\\r\\n5605,0171685,29698\\r\\n5607,0292542,19460\\r\\n5608,0250258,575\\r\\n5609,0308208,10550\\r\\n5611,0240510,9093\\r\\n5612,0280380,9039\\r\\n5613,0283832,1958\\r\\n5615,0245171,68569\\r\\n5617,0274812,11013\\r\\n5618,0245429,129\\r\\n5619,0326306,54714\\r\\n5620,0256415,11529\\r\\n5621,0290095,10771\\r\\n5622,0330136,38951\\r\\n5625,0179098,31005\\r\\n5628,0281364,2110\\r\\n5629,0298388,15173\\r\\n5630,0289765,9533\\r\\n5632,0280491,4107\\r\\n5633,0246677,10575\\r\\n5636,0271259,9260\\r\\n5637,0101898,21828\\r\\n5638,0058379,1682\\r\\n5641,0095649,41971\\r\\n5642,0079668,33831\\r\\n5643,0095895,24348\\r\\n5644,0035211,19140\\r\\n5646,0098575,37606\\r\\n5649,0051554,11868\\r\\n5650,0086373,12921\\r\\n5651,0058230,19953\\r\\n5655,0082362,74899\\r\\n5662,0120536,15313\\r\\n5663,0276816,12590\\r\\n5666,0292644,1809\\r\\n5667,0283084,13768\\r\\n5668,0283139,10994\\r\\n5669,0310793,1430\\r\\n5670,0328962,19973\\r\\n5672,0313487,12600\\r\\n5673,0272338,8051\\r\\n5675,0291502,12779\\r\\n5677,0267248,15992\\r\\n5678,0227984,1613\\r\\n5679,0298130,565\\r\\n5680,0298744,14112\\r\\n5682,0252480,15192\\r\\n5684,0145937,21925\\r\\n5685,0296166,30309\\r\\n5686,0318034,16646\\r\\n5689,0101453,12647\\r\\n5690,0095327,12477\\r\\n5691,0107254,10285\\r\\n5693,0076666,11009\\r\\n5694,0086361,10805\\r\\n5696,0081696,17496\\r\\n5699,0080031,5917\\r\\n5700,0081693,31278\\r\\n5703,0081751,33076\\r\\n5705,0081777,15668\\r\\n5707,0081974,19429\\r\\n5710,0082045,11340\\r\\n5712,0082085,11644\\r\\n5715,0082118,24124\\r\\n5718,0082138,53922\\r\\n5723,0082200,26560\\r\\n5729,0082329,19114\\r\\n5732,0082351,10863\\r\\n5734,0085518,15900\\r\\n5735,0077533,12237\\r\\n5736,0121261,15901\\r\\n5737,0121262,15902\\r\\n5742,0082382,85058\\r\\n5745,0082405,25113\\r\\n5746,0082431,28893\\r\\n5747,0082432,11646\\r\\n5752,0082477,21764\\r\\n5754,0082497,42149\\r\\n5765,0082679,41394\\r\\n5768,0082763,16471\\r\\n5772,0082783,25468\\r\\n5773,0082801,19507\\r\\n5777,0082894,17450\\r\\n5778,0082748,47886\\r\\n5779,0082910,31646\\r\\n5780,0082926,14269\\r\\n5782,0082949,1672\\r\\n5784,0288477,9645\\r\\n5785,0322802,9012\\r\\n5787,0270707,13440\\r\\n5788,0286261,12454\\r\\n5791,0120679,1360\\r\\n5792,0299117,13441\\r\\n5795,0047880,48155\\r\\n5796,0061452,12208\\r\\n5799,0053804,1941\\r\\n5801,0060921,31918\\r\\n5803,0297181,8427\\r\\n5808,0210382,13526\\r\\n5809,0280665,9280\\r\\n5810,0298203,65\\r\\n5812,0297884,10712\\r\\n5815,0297162,10167\\r\\n5816,0295297,672\\r\\n5818,0313196,542\\r\\n5819,0308411,36584\\r\\n5820,0314725,30192\\r\\n5825,0036112,25037\\r\\n5826,0042895,11617\\r\\n5828,0118735,81530\\r\\n5829,0263734,34341\\r\\n5830,0055207,18993\\r\\n5832,0283644,29229\\r\\n5833,0280609,11880\\r\\n5834,0077549,63435\\r\\n5836,0051745,1377\\r\\n5839,0099669,12716\\r\\n5840,0099266,12717\\r\\n5841,0102782,13888\\r\\n5843,0103112,10750\\r\\n5846,0082969,96966\\r\\n5847,0082970,25566\\r\\n5850,0083000,43089\\r\\n5853,0081455,9538\\r\\n5854,0083064,14664\\r\\n5857,0083099,84735\\r\\n5859,0083111,12528\\r\\n5864,0083170,26325\\r\\n5866,0083189,31921\\r\\n5867,0083190,11524\\r\\n5868,0083193,109264\\r\\n5869,0083232,32077\\r\\n5872,0246460,36669\\r\\n5873,0283530,17187\\r\\n5874,0293815,10426\\r\\n5875,0295238,32625\\r\\n5876,0258068,8198\\r\\n5878,0287467,64\\r\\n5879,0271263,13376\\r\\n5880,0283160,15074\\r\\n5881,0307479,2103\\r\\n5882,0133240,9016\\r\\n5883,0283632,16028\\r\\n5888,0118767,20992\\r\\n5891,0077713,25239\\r\\n5893,0110308,25284\\r\\n5899,0058777,14433\\r\\n5900,0289848,9932\\r\\n5901,0262396,13369\\r\\n5902,0268126,2757\\r\\n5903,0238380,7299\\r\\n5909,0290329,4241\\r\\n5910,0083260,37335\\r\\n5913,0083276,35343\\r\\n5914,0083281,30142\\r\\n5915,0083284,17360\\r\\n5917,0083365,76397\\r\\n5918,0083542,40952\\r\\n5923,0083598,41760\\r\\n5926,0083641,45840\\r\\n5927,0083642,16363\\r\\n5932,0083702,42124\\r\\n5933,0083717,25297\\r\\n5936,0083745,67772\\r\\n5938,0083806,17590\\r\\n5940,0083869,28940\\r\\n5941,0303933,13497\\r\\n5942,0302640,11852\\r\\n5943,0252076,7303\\r\\n5944,0253754,201\\r\\n5945,0257360,2755\\r\\n5947,0298856,21868\\r\\n5949,0220580,10856\\r\\n5952,0167261,121\\r\\n5954,0307901,1429\\r\\n5955,0168786,13435\\r\\n5956,0217505,3131\\r\\n5957,0313737,2642\\r\\n5958,0282120,14317\\r\\n5959,0272207,11022\\r\\n5960,0099091,24249\\r\\n5961,0099160,9491\\r\\n5962,0106453,2149\\r\\n5963,0054743,20139\\r\\n5965,0075968,19067\\r\\n5966,0049414,53712\\r\\n5968,0100143,14931\\r\\n5969,0110613,11317\\r\\n5970,0102492,4032\\r\\n5971,0096283,8392\\r\\n5980,0071222,16938\\r\\n5981,0055894,21143\\r\\n5984,0073115,4561\\r\\n5985,0249371,4435\\r\\n5986,0068575,16993\\r\\n5989,0264464,640\\r\\n5991,0299658,1574\\r\\n5992,0274558,590\\r\\n5993,0290210,13560\\r\\n5994,0309912,29339\\r\\n5995,0253474,423\\r\\n6000,0080503,28679\\r\\n6001,0085794,262\\r\\n6003,0290538,4912\\r\\n6005,0330069,23626\\r\\n6006,0305711,12090\\r\\n6008,0291172,35172\\r\\n6012,0295289,9582\\r\\n6013,0257568,10628\\r\\n6014,0271668,11078\\r\\n6016,0317248,598\\r\\n6021,0075675,11222\\r\\n6022,0103671,13199\\r\\n6025,0106500,15278\\r\\n6027,0101748,14667\\r\\n6031,0052918,34148\\r\\n6032,0079477,20813\\r\\n6033,0102500,53027\\r\\n6035,0029453,26252\\r\\n6037,0084737,19415\\r\\n6039,0088414,5968\\r\\n6040,0282209,10727\\r\\n6042,0311320,9082\\r\\n6047,0039305,20663\\r\\n6051,0070155,7514\\r\\n6056,0265116,44164\\r\\n6057,0326769,12253\\r\\n6058,0309593,9358\\r\\n6059,0292506,1647\\r\\n6060,0280720,9027\\r\\n6062,0308514,21189\\r\\n6063,0303361,10894\\r\\n6064,0049291,28528\\r\\n6073,0055597,43028\\r\\n6077,0083908,4193\\r\\n6078,0083943,10724\\r\\n6084,0084088,37917\\r\\n6091,0084228,8219\\r\\n6092,0084234,27088\\r\\n6093,0084237,10150\\r\\n6095,0084266,16407\\r\\n6096,0084293,41913\\r\\n6100,0084329,8288\\r\\n6101,0084335,15600\\r\\n6103,0084351,124963\\r\\n6104,0084352,11949\\r\\n6105,0084354,42134\\r\\n6107,0084422,42130\\r\\n6109,0084445,41291\\r\\n6114,0084488,37997\\r\\n6115,0084489,27609\\r\\n6116,0084504,25872\\r\\n6121,0084565,42135\\r\\n6122,0084597,21923\\r\\n6123,0084628,1563\\r\\n6124,0084633,17132\\r\\n6125,0084648,59533\\r\\n6126,0084654,2262\\r\\n6127,0084675,52772\\r\\n6132,0084719,30874\\r\\n6133,0084725,30363\\r\\n6140,0084777,29702\\r\\n6143,0084814,9699\\r\\n6148,0084899,47955\\r\\n6154,0301181,26454\\r\\n6155,0251127,9919\\r\\n6156,0300471,6038\\r\\n6157,0287978,9480\\r\\n6159,0299458,13132\\r\\n6162,0302674,1956\\r\\n6163,0291579,12112\\r\\n6166,0106701,12139\\r\\n6170,0078872,17264\\r\\n6178,0059573,33364\\r\\n6180,0100442,31598\\r\\n6182,0057581,22233\\r\\n6183,0053172,4952\\r\\n6184,0074851,991\\r\\n6185,0279331,4911\\r\\n6186,0279111,16072\\r\\n6187,0289992,11615\\r\\n6188,0302886,11635\\r\\n6195,0324080,105024\\r\\n6197,0278731,9613\\r\\n6198,0103670,7015\\r\\n6201,0091374,21867\\r\\n6203,0102303,6524\\r\\n6204,0107563,11244\\r\\n6207,0266971,21801\\r\\n6211,0301978,14633\\r\\n6212,0305669,10678\\r\\n6213,0314353,9567\\r\\n6214,0290673,979\\r\\n6215,0298408,13819\\r\\n6216,0161860,1591\\r\\n6218,0286499,455\\r\\n6219,0269347,10632\\r\\n6223,0283003,12079\\r\\n6225,0055047,36362\\r\\n6227,0050659,18535\\r\\n6228,0035417,23159\\r\\n6229,0067893,27236\\r\\n6230,0069765,42459\\r\\n6231,0047873,43261\\r\\n6232,0060182,15347\\r\\n6233,0106466,44968\\r\\n6234,0075995,37258\\r\\n6235,0099776,8996\\r\\n6237,0047030,17729\\r\\n6238,0099699,12157\\r\\n6239,0052948,11571\\r\\n6240,0102593,71142\\r\\n6242,0178868,2671\\r\\n6243,0218553,9669\\r\\n6244,0096028,45129\\r\\n6245,0065054,42618\\r\\n6247,0066579,66027\\r\\n6249,0285462,9557\\r\\n6250,0285531,6171\\r\\n6252,0264150,11523\\r\\n6254,0028597,14675\\r\\n6256,0074287,57447\\r\\n6257,0061834,42695\\r\\n6260,0046247,29912\\r\\n6261,0105824,28881\\r\\n6263,0264395,10782\\r\\n6264,0298814,9341\\r\\n6265,0325537,9776\\r\\n6266,0286788,10735\\r\\n6268,0316188,25461\\r\\n6269,0334416,51927\\r\\n6271,0070460,1675\\r\\n6273,0042593,17057\\r\\n6276,0040946,40718\\r\\n6279,0281820,6016\\r\\n6281,0183649,1817\\r\\n6283,0275277,11299\\r\\n6284,0337996,17995\\r\\n6286,0311519,7294\\r\\n6287,0305224,9506\\r\\n6290,0251736,2662\\r\\n6291,0300140,12093\\r\\n6294,0245803,11817\\r\\n6295,0323572,24621\\r\\n6296,0310281,13370\\r\\n6297,0311289,8326\\r\\n6298,0328099,13411\\r\\n6299,0301727,11516\\r\\n6300,0236027,10180\\r\\n6301,0067800,994\\r\\n6302,0050177,66918\\r\\n6303,0066769,10514\\r\\n6305,0060390,1714\\r\\n6306,0327920,14308\\r\\n6308,0091396,9930\\r\\n6314,0108442,12661\\r\\n6315,0092214,29355\\r\\n6316,0078504,24961\\r\\n6318,0102411,31633\\r\\n6322,0310910,10743\\r\\n6323,0309698,2832\\r\\n6327,0342275,38868\\r\\n6329,0252684,15098\\r\\n6331,0334405,16636\\r\\n6332,0306841,18736\\r\\n6333,0290334,36658\\r\\n6335,0118926,20689\\r\\n6337,0285861,15394\\r\\n6338,0317303,10708\\r\\n6339,0301414,22016\\r\\n6341,0308878,22958\\r\\n6342,0250067,15850\\r\\n6344,0237993,10989\\r\\n6345,0088915,1816\\r\\n6348,0086999,17464\\r\\n6349,0086998,15259\\r\\n6350,0092067,10515\\r\\n6355,0050631,43232\\r\\n6356,0050468,22201\\r\\n6357,0049314,11424\\r\\n6358,0045963,34857\\r\\n6365,0234215,604\\r\\n6367,0309530,10720\\r\\n6368,0281724,51230\\r\\n6369,0206762,23423\\r\\n6370,0283900,1555\\r\\n6373,0315327,310\\r\\n6375,0304081,30055\\r\\n6377,0266543,12\\r\\n6378,0317740,9654\\r\\n6379,0295700,9902\\r\\n6380,0342172,2260\\r\\n6383,0322259,584\\r\\n6384,0263671,39125\\r\\n6385,0298228,1088\\r\\n6386,0060748,5921\\r\\n6387,0101020,47423\\r\\n6390,0050972,43239\\r\\n6395,0069895,29425\\r\\n6400,0307197,51391\\r\\n6404,0044000,43361\\r\\n6405,0043067,6646\\r\\n6408,0071143,147729\\r\\n6410,0074281,15462\\r\\n6412,0031225,43828\\r\\n6413,0079100,11145\\r\\n6414,0057093,32328\\r\\n6415,0093267,47715\\r\\n6416,0059358,29586\\r\\n6419,0100200,111815\\r\\n6422,0059711,21027\\r\\n6423,0105481,37264\\r\\n6424,0102603,11890\\r\\n6425,0120142,36807\\r\\n6426,0048055,18721\\r\\n6427,0066279,37662\\r\\n6428,0065134,11916\\r\\n6429,0043137,14551\\r\\n6431,0047860,51426\\r\\n6432,0056956,42986\\r\\n6433,0019760,26317\\r\\n6436,0108330,8092\\r\\n6440,0101410,290\\r\\n6442,0103791,2470\\r\\n6446,0054757,30462\\r\\n6447,0060355,1403\\r\\n6448,0059183,10243\\r\\n6449,0053841,42541\\r\\n6450,0050490,37103\\r\\n6452,0051878,40085\\r\\n6454,0100211,2263\\r\\n6458,0060177,19728\\r\\n6460,0057427,3009\\r\\n6461,0054428,6643\\r\\n6464,0119215,14817\\r\\n6465,0076240,41426\\r\\n6466,0102456,41791\\r\\n6467,0039739,49842\\r\\n6468,0105483,41670\\r\\n6470,0065547,38765\\r\\n6473,0091164,36372\\r\\n6474,0117959,30529\\r\\n6476,0102900,2071\\r\\n6477,0036377,43516\\r\\n6480,0062362,32489\\r\\n6482,0329028,10152\\r\\n6484,0329717,11375\\r\\n6493,0318283,17813\\r\\n6498,0067458,35068\\r\\n6502,0289043,170\\r\\n6503,0305357,9471\\r\\n6506,0286635,9581\\r\\n6509,0071141,216\\r\\n6513,0031602,18569\\r\\n6514,0056415,113739\\r\\n6515,0029808,52758\\r\\n6516,0048947,38171\\r\\n6518,0099587,18886\\r\\n6521,0079510,42176\\r\\n6522,0058324,39231\\r\\n6525,0093660,40634\\r\\n6527,0045125,33454\\r\\n6528,0066402,19753\\r\\n6530,0074811,11482\\r\\n6531,0107146,70912\\r\\n6533,0069495,6949\\r\\n6534,0286716,1927\\r\\n6535,0333780,10327\\r\\n6536,0165982,14411\\r\\n6537,0181852,296\\r\\n6538,0324133,302\\r\\n6539,0325980,22\\r\\n6541,0311429,8698\\r\\n6547,0322659,32235\\r\\n6548,0172156,8961\\r\\n6550,0274166,9486\\r\\n6552,0301199,3472\\r\\n6559,0110364,20726\\r\\n6561,0053084,12649\\r\\n6562,0057523,44916\\r\\n6564,0325703,1996\\r\\n6565,0329575,4464\\r\\n6566,0338459,12279\\r\\n6568,0342167,33339\\r\\n6571,0319769,54580\\r\\n6579,0055256,430\\r\\n6582,0089901,10553\\r\\n6584,0061177,21449\\r\\n6585,0070915,4984\\r\\n6586,0328828,8273\\r\\n6587,0299930,8046\\r\\n6591,0318411,8094\\r\\n6592,0314630,26195\\r\\n6593,0322330,10330\\r\\n6595,0257076,9257\\r\\n6596,0306734,9499\\r\\n6598,0308508,15292\\r\\n6599,0054599,12491\\r\\n6600,0107492,41660\\r\\n6602,0094793,27814\\r\\n6603,0039335,41206\\r\\n6609,0058715,24192\\r\\n6611,0045274,833\\r\\n6612,0103888,26755\\r\\n6613,0069946,42470\\r\\n6615,0329101,6466\\r\\n6617,0316356,2055\\r\\n6618,0286112,11770\\r\\n6620,0305206,2771\\r\\n6624,0313911,10923\\r\\n6628,0087425,21989\\r\\n6629,0045888,18573\\r\\n6630,0051776,37451\\r\\n6636,0090103,8992\\r\\n6638,0086525,19053\\r\\n6639,0062467,11206\\r\\n6641,0216625,30970\\r\\n6643,0046438,18148\\r\\n6644,0091830,54898\\r\\n6645,0066434,636\\r\\n6646,0062430,3055\\r\\n6650,0041546,11898\\r\\n6658,0078721,9051\\r\\n6659,0100814,9362\\r\\n6662,0057413,936\\r\\n6663,0075066,12268\\r\\n6664,0088944,10999\\r\\n6665,0079073,33521\\r\\n6666,0068361,4593\\r\\n6669,0044741,3782\\r\\n6671,0099040,2891\\r\\n6676,0104504,26246\\r\\n6678,0099731,20815\\r\\n6679,0308808,19433\\r\\n6683,0116308,513\\r\\n6684,0067445,6619\\r\\n6686,0288045,10610\\r\\n6690,0284491,38874\\r\\n6695,0301470,11351\\r\\n6703,0304711,9616\\r\\n6706,0260414,31094\\r\\n6707,0303816,11547\\r\\n6708,0325805,7270\\r\\n6709,0285823,1428\\r\\n6710,0246592,17906\\r\\n6711,0335266,153\\r\\n6713,0291350,33320\\r\\n6718,0089222,27590\\r\\n6721,0103285,10617\\r\\n6722,0105839,10618\\r\\n6723,0108592,10619\\r\\n6724,0070510,11293\\r\\n6725,0078239,36759\\r\\n6728,0056632,53650\\r\\n6730,0077369,9584\\r\\n6731,0088993,8408\\r\\n6732,0064418,14030\\r\\n6735,0079826,16323\\r\\n6739,0042209,23325\\r\\n6743,0034928,23033\\r\\n6744,0089730,19064\\r\\n6748,0078908,28942\\r\\n6751,0331468,12767\\r\\n6753,0327137,13156\\r\\n6754,0320691,277\\r\\n6755,0281686,9707\\r\\n6757,0284034,24488\\r\\n6760,0310154,36791\\r\\n6762,0334754,17614\\r\\n6763,0266489,7288\\r\\n6764,0327850,10159\\r\\n6765,0328589,10934\\r\\n6768,0309820,5653\\r\\n6769,0330602,321\\r\\n6770,0314412,20\\r\\n6771,0362511,18113\\r\\n6772,0318202,5168\\r\\n6773,0286244,9662\\r\\n6774,0086541,837\\r\\n6776,0282674,19666\\r\\n6777,0055031,821\\r\\n6779,0078199,37672\\r\\n6780,0103882,1358\\r\\n6782,0097728,11475\\r\\n6783,0031885,776\\r\\n6785,0047472,16563\\r\\n6786,0089424,11703\\r\\n6787,0074119,891\\r\\n6788,0109129,83714\\r\\n6790,0267287,10881\\r\\n6791,0092603,11832\\r\\n6793,0103786,11806\\r\\n6794,0106375,10438\\r\\n6796,0101507,650\\r\\n6797,0101516,10337\\r\\n6798,0074256,8446\\r\\n6800,0090859,9874\\r\\n6803,0087909,29161\\r\\n6806,0251433,49291\\r\\n6807,0085959,4543\\r\\n6808,0065207,11046\\r\\n6810,0102945,7442\\r\\n6811,0110759,14425\\r\\n6812,0100514,6723\\r\\n6813,0059221,13343\\r\\n6814,0087062,16969\\r\\n6816,0094138,13339\\r\\n6818,0091251,25237\\r\\n6820,0210070,9871\\r\\n6822,0106350,71940\\r\\n6826,0063591,20238\\r\\n6827,0110169,33783\\r\\n6828,0088318,163549\\r\\n6829,0104376,47898\\r\\n6830,0045205,19171\\r\\n6832,0102768,11364\\r\\n6835,0082000,39916\\r\\n6840,0067217,32082\\r\\n6850,0104695,12772\\r\\n6851,0104321,47866\\r\\n6852,0061809,18900\\r\\n6856,0035575,3087\\r\\n6857,0107692,14282\\r\\n6858,0056291,11502\\r\\n6862,0313443,2116\\r\\n6863,0332379,1584\\r\\n6864,0380275,28236\\r\\n6867,0340377,2056\\r\\n6868,0335563,4997\\r\\n6869,0340468,8439\\r\\n6870,0327056,322\\r\\n6872,0317676,11059\\r\\n6873,0138524,11775\\r\\n6874,0266697,24\\r\\n6875,0342300,54973\\r\\n6877,0339071,21059\\r\\n6879,0313542,11329\\r\\n6880,0324216,9373\\r\\n6881,0311648,1550\\r\\n6883,0325055,28200\\r\\n6884,0312549,10629\\r\\n6885,0199626,10944\\r\\n6887,0316465,13920\\r\\n6888,0306047,4256\\r\\n6889,0328880,10009\\r\\n6890,0363589,1807\\r\\n6892,0314676,30141\\r\\n6893,0064505,10536\\r\\n6896,0090015,42044\\r\\n6898,0313670,1376\\r\\n6902,0165832,20312\\r\\n6906,0090151,64945\\r\\n6909,0325655,10389\\r\\n6918,0048956,897\\r\\n6920,0065531,11657\\r\\n6927,0308383,10922\\r\\n6930,0368745,51707\\r\\n6932,0323944,13537\\r\\n6934,0242653,605\\r\\n6935,0363510,33222\\r\\n6936,0319343,10719\\r\\n6940,0337961,1836\\r\\n6942,0314331,508\\r\\n6944,0101862,11846\\r\\n6945,0373175,50314\\r\\n6947,0311113,8619\\r\\n6950,0338188,12146\\r\\n6951,0312528,10588\\r\\n6952,0348836,4970\\r\\n6953,0315733,470\\r\\n6954,0338135,11042\\r\\n6957,0307987,10147\\r\\n6958,0338094,10756\\r\\n6959,0300556,9562\\r\\n6961,0104237,11012\\r\\n6963,0293088,30068\\r\\n6964,0088987,40913\\r\\n6966,0099365,9556\\r\\n6970,0050307,24203\\r\\n6971,0101829,9065\\r\\n6974,0099615,10168\\r\\n6975,0119167,10234\\r\\n6977,0102526,10952\\r\\n6978,0102943,14022\\r\\n6979,0086567,860\\r\\n6981,0048452,48035\\r\\n6982,0043686,5000\\r\\n6983,0036969,22744\\r\\n6985,0019254,780\\r\\n6986,0016641,31510\\r\\n6987,0010323,234\\r\\n6989,0085615,8289\\r\\n6990,0079240,11583\\r\\n6991,0087365,11002\\r\\n6992,0109951,6472\\r\\n6993,0091167,5143\\r\\n6995,0065832,5227\\r\\n6996,0102034,8010\\r\\n6997,0104427,10410\\r\\n6999,0104452,10407\\r\\n7000,0102070,9292\\r\\n7001,0077745,11850\\r\\n7002,0100151,48745\\r\\n7003,0102181,2297\\r\\n7004,0099938,951\\r\\n7005,0102216,10804\\r\\n7007,0102266,9319\\r\\n7008,0070849,1643\\r\\n7009,0104756,2007\\r\\n7010,0101316,10995\\r\\n7011,0091495,8047\\r\\n7012,0100201,2612\\r\\n7013,0048424,3112\\r\\n7016,0093692,1825\\r\\n7017,0105104,10538\\r\\n7018,0100404,11092\\r\\n7020,0102721,14904\\r\\n7022,0266308,3176\\r\\n7023,0107156,9261\\r\\n7024,0073650,5336\\r\\n7025,0102443,23908\\r\\n7026,0094072,14671\\r\\n7027,0090022,11509\\r\\n7028,0100449,10729\\r\\n7029,0076590,29437\\r\\n7034,0150662,11634\\r\\n7036,0090142,11824\\r\\n7038,0210358,20067\\r\\n7040,0090180,9846\\r\\n7042,0090563,11986\\r\\n7043,0056663,1626\\r\\n7044,0100935,483\\r\\n7045,0100944,10166\\r\\n7046,0094332,6069\\r\\n7048,0119807,11676\\r\\n7050,0027630,28292\\r\\n7051,0059903,3681\\r\\n7055,0028333,20325\\r\\n7056,0022286,17687\\r\\n7058,0039566,41465\\r\\n7059,0037120,17641\\r\\n7060,0070239,12545\\r\\n7061,0031210,27972\\r\\n7062,0055798,898\\r\\n7063,0068182,2000\\r\\n7064,0038348,648\\r\\n7065,0004972,618\\r\\n7067,0059229,19120\\r\\n7068,0054632,4024\\r\\n7069,0067372,11316\\r\\n7070,0040724,3089\\r\\n7071,0072417,29845\\r\\n7072,0031971,995\\r\\n7073,0058586,1594\\r\\n7074,0015163,32318\\r\\n7075,0049096,11839\\r\\n7076,0062765,916\\r\\n7078,0030287,1976\\r\\n7079,0031455,31685\\r\\n7080,0024034,3062\\r\\n7081,0024166,34456\\r\\n7082,0056575,12708\\r\\n7083,0090110,42045\\r\\n7084,0069097,11610\\r\\n7085,0058571,4939\\r\\n7086,0030637,25016\\r\\n7087,0087892,15927\\r\\n7088,0053146,40423\\r\\n7089,0071129,7857\\r\\n7090,0299977,79\\r\\n7091,0023027,13912\\r\\n7093,0071524,987\\r\\n7095,0076327,37749\\r\\n7096,0307385,30140\\r\\n7099,0087544,81\\r\\n7101,0101745,11821\\r\\n7102,0092925,10023\\r\\n7104,0078723,11519\\r\\n7107,0077578,15659\\r\\n7108,0108656,18857\\r\\n7110,0140384,27425\\r\\n7111,0066319,38953\\r\\n7115,0073582,20126\\r\\n7116,0046911,827\\r\\n7117,0107387,11811\\r\\n7121,0041090,25431\\r\\n7122,0060908,17685\\r\\n7123,0102511,2742\\r\\n7125,0156096,51145\\r\\n7126,0074749,32040\\r\\n7130,0059084,24134\\r\\n7131,0053320,18904\\r\\n7132,0026778,37719\\r\\n7135,0054389,1818\\r\\n7136,0062695,255\\r\\n7137,0318374,10744\\r\\n7139,0298845,10511\\r\\n7142,0322589,10028\\r\\n7143,0325710,616\\r\\n7147,0319061,587\\r\\n7149,0337741,6964\\r\\n7150,0338466,1792\\r\\n7151,0335119,3635\\r\\n7152,0340376,41488\\r\\n7153,0167260,122\\r\\n7154,0304415,11820\\r\\n7155,0337909,8696\\r\\n7156,0317910,12698\\r\\n7158,0315983,11093\\r\\n7160,0340855,504\\r\\n7161,0349205,11007\\r\\n7162,0159365,2289\\r\\n7163,0338337,9620\\r\\n7164,0316396,10601\\r\\n7165,0335013,52036\\r\\n7171,0364930,37088\\r\\n7172,0346094,31026\\r\\n7173,0343135,5966\\r\\n7177,0368913,14757\\r\\n7178,0071577,11034\\r\\n7179,0104181,25095\\r\\n7180,0053133,26983\\r\\n7182,0060636,52867\\r\\n7186,0101625,27465\\r\\n7189,0109376,31395\\r\\n7190,0065911,131313\\r\\n7192,0107750,15797\\r\\n7193,0098987,9548\\r\\n7195,0043503,26712\\r\\n7196,0042727,1882\\r\\n7198,0093737,17258\\r\\n7199,0323633,34681\\r\\n7204,0061758,33642\\r\\n7206,0050706,427\\r\\n7207,0054469,43049\\r\\n7208,0033553,3022\\r\\n7209,0046487,778\\r\\n7210,0038762,3088\\r\\n7211,0043915,23152\\r\\n7212,0041498,23567\\r\\n7215,0037382,22584\\r\\n7216,0033717,27725\\r\\n7217,0039302,16227\\r\\n7219,0033149,16933\\r\\n7222,0028346,37833\\r\\n7223,0042369,18995\\r\\n7228,0104009,14239\\r\\n7234,0047528,405\\r\\n7235,0296042,9696\\r\\n7236,0072730,4917\\r\\n7238,0052080,5055\\r\\n7243,0006864,3059\\r\\n7245,0054393,28586\\r\\n7247,0062803,11708\\r\\n7248,0290879,27329\\r\\n7250,0066193,20444\\r\\n7254,0289879,1954\\r\\n7255,0335559,13476\\r\\n7256,0379557,11194\\r\\n7257,0315824,12634\\r\\n7258,0314498,13505\\r\\n7260,0345551,15708\\r\\n7263,0349825,14292\\r\\n7265,0309987,1278\\r\\n7266,0307109,18841\\r\\n7272,0069332,21968\\r\\n7282,0245943,76176\\r\\n7283,0088213,18446\\r\\n7285,0328538,11023\\r\\n7293,0343660,1824\\r\\n7294,0361925,16784\\r\\n7299,0329388,337\\r\\n7300,0067927,11951\\r\\n7302,0015400,28963\\r\\n7303,0052738,2576\\r\\n7305,0090738,19345\\r\\n7307,0089153,12775\\r\\n7308,0089421,9838\\r\\n7309,0016654,50075\\r\\n7311,0031385,42852\\r\\n7312,0060420,40454\\r\\n7315,0312329,8842\\r\\n7316,0361467,11132\\r\\n7317,0356150,9352\\r\\n7318,0335345,615\\r\\n7319,0331953,11217\\r\\n7320,0338096,10677\\r\\n7323,0301357,338\\r\\n7324,0317648,2023\\r\\n7325,0335438,9384\\r\\n7327,0060827,797\\r\\n7334,0074554,1723\\r\\n7335,0046187,25955\\r\\n7340,0089393,24548\\r\\n7343,0210389,37044\\r\\n7346,0265208,10591\\r\\n7347,0363988,1586\\r\\n7348,0360009,11169\\r\\n7349,0317842,49689\\r\\n7352,0329767,156\\r\\n7354,0107473,10433\\r\\n7355,0118172,47168\\r\\n7357,0050839,43236\\r\\n7358,0318049,142168\\r\\n7360,0363547,924\\r\\n7361,0338013,38\\r\\n7362,0364045,11081\\r\\n7366,0300051,9541\\r\\n7367,0335245,5516\\r\\n7369,0331632,11024\\r\\n7371,0276919,553\\r\\n7372,0277941,10544\\r\\n7373,0167190,1487\\r\\n7374,0299172,13700\\r\\n7375,0337697,11137\\r\\n7376,0351977,11358\\r\\n7379,0318974,10733\\r\\n7380,0327679,14442\\r\\n7381,0327247,2122\\r\\n7382,0326977,25300\\r\\n7386,0049833,6844\\r\\n7387,0077402,923\\r\\n7394,0059797,10338\\r\\n7395,0042327,33839\\r\\n7396,0070644,133919\\r\\n7407,0041098,20278\\r\\n7411,0093582,4365\\r\\n7415,0076301,42228\\r\\n7419,0088680,10843\\r\\n7437,0345074,15673\\r\\n7438,0378194,393\\r\\n7439,0330793,7220\\r\\n7444,0337563,10096\\r\\n7445,0328107,9509\\r\\n7448,0326856,10710\\r\\n7449,0335121,11058\\r\\n7450,0323033,11141\\r\\n7451,0377092,10625\\r\\n7453,0363282,11025\\r\\n7454,0338526,7131\\r\\n7456,0296915,30125\\r\\n7458,0332452,652\\r\\n7459,0293007,8440\\r\\n7460,0379217,883\\r\\n7478,0094089,42015\\r\\n7481,0089092,11864\\r\\n7482,0070034,9461\\r\\n7484,0065780,132\\r\\n7487,0099762,17993\\r\\n7492,0077914,26517\\r\\n7493,0051077,28285\\r\\n7502,0185906,191903\\r\\n7505,0108906,22137\\r\\n7541,0214388,10035\\r\\n7560,0058083,502\\r\\n7564,0058279,30959\\r\\n7566,0088650,20561\\r\\n7569,0062512,667\\r\\n7570,0086034,700\\r\\n7571,0045564,21594\\r\\n7572,0243664,26976\\r\\n7573,0086006,36670\\r\\n7574,0113725,18872\\r\\n7577,0073822,44864\\r\\n7579,0032943,43818\\r\\n7583,0034890,43525\\r\\n7584,0035567,20640\\r\\n7585,0048673,50363\\r\\n7586,0076734,633\\r\\n7587,0062229,5511\\r\\n7613,0103251,41003\\r\\n7614,0048445,13936\\r\\n7615,0089015,294\\r\\n7616,0086984,11507\\r\\n7619,0056241,1162\\r\\n7620,0102467,34328\\r\\n7624,0105327,14684\\r\\n7625,0138467,58467\\r\\n7627,0119434,163869\\r\\n7636,0105217,13937\\r\\n7649,0120711,10940\\r\\n7650,0063285,31965\\r\\n7669,0112130,164721\\r\\n7697,0050861,24012\\r\\n7698,0078966,988\\r\\n7700,0046268,204\\r\\n7701,0100050,9356\\r\\n7702,0037536,32430\\r\\n7705,0045012,33575\\r\\n7706,0020640,13913\\r\\n7708,0061391,18209\\r\\n7713,0034587,25508\\r\\n7714,0061439,18978\\r\\n7720,0073012,12310\\r\\n7728,0038854,25736\\r\\n7738,0155713,44807\\r\\n7743,0089114,9872\\r\\n7748,0059592,2786\\r\\n7753,0207805,26133\\r\\n7757,0057197,11533\\r\\n7759,0086022,1394\\r\\n7762,0080297,140207\\r\\n7764,0079082,13553\\r\\n7766,0050613,3777\\r\\n7767,0346336,11659\\r\\n7771,0057831,10604\\r\\n7773,0288439,16876\\r\\n7774,0064708,37437\\r\\n7782,0108171,9545\\r\\n7786,0187859,28030\\r\\n7787,0048729,16514\\r\\n7789,0328802,1926\\r\\n7790,0080461,31112\\r\\n7791,0099850,11060\\r\\n7792,0071970,17365\\r\\n7802,0080120,11474\\r\\n7809,0162625,49320\\r\\n7810,0146455,10916\\r\\n7811,0146247,10921\\r\\n7812,0121804,10941\\r\\n7815,0092117,24798\\r\\n7817,0070948,4923\\r\\n7818,0054279,36741\\r\\n7820,0053976,11656\\r\\n7822,0046085,25009\\r\\n7826,0039808,40092\\r\\n7827,0284978,10133\\r\\n7831,0031047,14589\\r\\n7832,0037365,14594\\r\\n7833,0034172,14590\\r\\n7834,0027260,14588\\r\\n7835,0039853,14595\\r\\n7836,0066580,9459\\r\\n7840,0031398,24965\\r\\n7841,0287839,192936\\r\\n7842,0142032,876\\r\\n7843,0258760,1583\\r\\n7844,0106936,17653\\r\\n7845,0114720,11069\\r\\n7846,0259685,10829\\r\\n7872,0097424,86959\\r\\n7878,0094048,9698\\r\\n7881,0023694,26860\\r\\n7882,0060841,29049\\r\\n7883,0036027,27130\\r\\n7888,0061791,22682\\r\\n7889,0070518,11577\\r\\n7892,0073756,40810\\r\\n7894,0067140,336\\r\\n7895,0071249,11942\\r\\n7897,0065446,23330\\r\\n7899,0072913,49636\\r\\n7914,0017668,222\\r\\n7915,0170544,10686\\r\\n7916,0052847,43096\\r\\n7919,0040979,25858\\r\\n7920,0075936,14262\\r\\n7921,0072869,38701\\r\\n7922,0068341,33357\\r\\n7924,0041699,30368\\r\\n7925,0051808,1059\\r\\n7926,0057565,12493\\r\\n7932,0235327,14273\\r\\n7934,0086637,11030\\r\\n7935,0074147,29454\\r\\n7936,0063611,26372\\r\\n7938,0057358,29455\\r\\n7939,0055499,11602\\r\\n7941,0048641,11700\\r\\n7942,0046345,47735\\r\\n7943,0038669,14638\\r\\n7944,0058404,14703\\r\\n7946,0062185,3547\\r\\n7947,0088322,41089\\r\\n7948,0080140,42179\\r\\n7951,0100260,20481\\r\\n7958,0065481,31581\\r\\n7959,0062395,22694\\r\\n7976,0209077,7090\\r\\n7979,0064689,42632\\r\\n7980,0075784,5902\\r\\n7981,0338564,10775\\r\\n7982,0365376,4552\\r\\n7983,0087003,12762\\r\\n7984,0091083,14510\\r\\n7987,0092906,24341\\r\\n7990,0079813,26326\\r\\n7991,0072856,13282\\r\\n7995,0061189,42725\\r\\n8003,0038343,24111\\r\\n8008,0046807,18283\\r\\n8009,0051911,33731\\r\\n8010,0105159,13823\\r\\n8011,0343168,14108\\r\\n8012,0199683,4291\\r\\n8014,0374546,113\\r\\n8015,0064806,28476\\r\\n8016,0068638,5916\\r\\n8019,0308379,12205\\r\\n8033,0060522,3001\\r\\n8039,0065051,11574\\r\\n8042,0070379,203\\r\\n8044,0023042,29740\\r\\n8056,0060490,26268\\r\\n8057,0056541,33632\\r\\n8070,0304126,316\\r\\n8093,0192657,10355\\r\\n8094,0047849,14554\\r\\n8117,0180748,250\\r\\n8121,0366532,41277\\r\\n8123,0093913,42013\\r\\n8125,0018455,631\\r\\n8126,0057495,25504\\r\\n8128,0092593,1786\\r\\n8129,0181810,51182\\r\\n8130,0189553,45042\\r\\n8131,0243508,210937\\r\\n8132,0104346,16219\\r\\n8133,0328844,15824\\r\\n8136,0049363,48385\\r\\n8137,0054462,27545\\r\\n8138,0053611,22718\\r\\n8142,0221111,11315\\r\\n8143,0048308,35987\\r\\n8147,0062794,29146\\r\\n8154,0053779,439\\r\\n8157,0193253,823\\r\\n8158,0102820,20289\\r\\n8167,0026174,16905\\r\\n8169,0092494,11548\\r\\n8183,0085478,38291\\r\\n8187,0043880,41204\\r\\n8188,0047445,20532\\r\\n8189,0054494,2546\\r\\n8190,0057840,42791\\r\\n8191,0064030,22522\\r\\n8194,0048973,40478\\r\\n8195,0053619,5165\\r\\n8196,0065466,5722\\r\\n8197,0052893,5544\\r\\n8199,0046478,14696\\r\\n8207,0069947,4909\\r\\n8208,0038873,56135\\r\\n8225,0100258,19185\\r\\n8228,0022111,28257\\r\\n8235,0014429,22596\\r\\n8236,0049949,36786\\r\\n8239,0055601,4497\\r\\n8240,0108366,33560\\r\\n8253,0079833,15371\\r\\n8254,0106307,11044\\r\\n8256,0024481,31526\\r\\n8257,0041163,31623\\r\\n8261,0075612,41662\\r\\n8263,0041944,33738\\r\\n8264,0073076,17346\\r\\n8266,0087957,13763\\r\\n8267,0063218,67217\\r\\n8268,0107843,10498\\r\\n8273,0104545,4507\\r\\n8275,0017765,34847\\r\\n8290,0073396,32303\\r\\n8327,0330229,870\\r\\n8331,0033874,26319\\r\\n8332,0067805,45938\\r\\n8336,0035019,39871\\r\\n8337,0046816,10178\\r\\n8338,0039192,16391\\r\\n8340,0079116,10734\\r\\n8341,0040662,10949\\r\\n8360,0298148,809\\r\\n8361,0319262,435\\r\\n8362,0350028,4599\\r\\n8363,0367085,12657\\r\\n8364,0367790,28219\\r\\n8366,0332375,13193\\r\\n8367,0324197,24190\\r\\n8368,0304141,673\\r\\n8369,0297284,16617\\r\\n8370,0363226,246\\r\\n8371,0296572,2789\\r\\n8372,0356634,8920\\r\\n8373,0327162,9890\\r\\n8376,0374900,8193\\r\\n8385,0055100,40894\\r\\n8387,0110857,11546\\r\\n8388,0064893,59427\\r\\n8392,0089160,71125\\r\\n8403,0049301,42658\\r\\n8404,0031448,27118\\r\\n8410,0047542,18398\\r\\n8420,0039725,20849\\r\\n8422,0034946,53779\\r\\n8423,0018051,16661\\r\\n8447,0047577,831\\r\\n8451,0047885,26516\\r\\n8453,0139388,44388\\r\\n8459,0041452,28571\\r\\n8460,0038116,27686\\r\\n8462,0046963,43336\\r\\n8463,0040495,62000\\r\\n8464,0390521,9372\\r\\n8465,0033774,41495\\r\\n8477,0056119,662\\r\\n8482,0037988,16559\\r\\n8484,0053114,31217\\r\\n8485,0196069,8341\\r\\n8487,0054188,19414\\r\\n8491,0042041,15794\\r\\n8492,0044008,13188\\r\\n8493,0100133,12651\\r\\n8494,0059037,886\\r\\n8499,0078111,26973\\r\\n8502,0044030,17820\\r\\n8504,0115738,31146\\r\\n8507,0022913,136\\r\\n8511,0008133,47653\\r\\n8522,0032828,29353\\r\\n8524,0047086,17761\\r\\n8525,0061135,20277\\r\\n8526,0327437,10204\\r\\n8527,0319531,3515\\r\\n8528,0364725,9472\\r\\n8529,0362227,594\\r\\n8530,0377752,8981\\r\\n8531,0381707,12153\\r\\n8533,0332280,11036\\r\\n8534,0338512,1997\\r\\n8535,0352277,15237\\r\\n8537,0297753,11572\\r\\n8542,0028772,11939\\r\\n8544,0069031,24236\\r\\n8571,0064100,26520\\r\\n8572,0026641,43897\\r\\n8574,0272045,21386\\r\\n8575,0243135,24908\\r\\n8576,0339230,9256\\r\\n8577,0342213,25783\\r\\n8580,0099851,23378\\r\\n8581,0168122,3293\\r\\n8582,0104810,36947\\r\\n8583,0037604,54028\\r\\n8584,0037865,17645\\r\\n8589,0098437,29383\\r\\n8591,0087910,10606\\r\\n8596,0078163,6081\\r\\n8600,0029870,13696\\r\\n8604,0152930,2330\\r\\n8607,0388473,13398\\r\\n8609,0014341,701\\r\\n8610,0086873,10631\\r\\n8611,0039370,43466\\r\\n8612,0036098,2202\\r\\n8614,0093693,10780\\r\\n8616,0045586,19590\\r\\n8617,0053622,23724\\r\\n8618,0047136,26596\\r\\n8620,0056732,29264\\r\\n8622,0361596,1777\\r\\n8623,0093886,11584\\r\\n8625,0342956,202475\\r\\n8629,0167059,23522\\r\\n8633,0087597,11884\\r\\n8636,0316654,558\\r\\n8638,0381681,80\\r\\n8640,0349683,9477\\r\\n8641,0357413,8699\\r\\n8642,0368975,9893\\r\\n8643,0356470,11247\\r\\n8644,0343818,2048\\r\\n8645,0390221,436\\r\\n8650,0056196,43004\\r\\n8654,0047365,65994\\r\\n8656,0095468,10754\\r\\n8657,0051087,30054\\r\\n8661,0056085,11897\\r\\n8665,0372183,2502\\r\\n8666,0327554,314\\r\\n8667,0359423,18923\\r\\n8670,0023563,12206\\r\\n8672,0050171,75046\\r\\n8675,0050356,15876\\r\\n8684,0049902,15244\\r\\n8689,0100602,20876\\r\\n8690,0069280,24559\\r\\n8695,0039169,27437\\r\\n8699,0219636,259389\\r\\n8700,0035799,22871\\r\\n8709,0097530,27307\\r\\n8711,0040613,32294\\r\\n8712,0029284,41463\\r\\n8713,0093744,19051\\r\\n8718,0040806,62694\\r\\n8720,0103007,53287\\r\\n8722,0086494,32644\\r\\n8724,0057091,1040\\r\\n8725,0064381,42604\\r\\n8727,0072848,5122\\r\\n8730,0243609,1783\\r\\n8743,0090729,22976\\r\\n8745,0054483,45608\\r\\n8751,0042530,18671\\r\\n8752,0041859,17218\\r\\n8753,0346091,41316\\r\\n8754,0064840,5179\\r\\n8761,0057579,15081\\r\\n8763,0063389,64877\\r\\n8765,0035432,16703\\r\\n8766,0038360,20298\\r\\n8767,0040160,19974\\r\\n8768,0041268,22112\\r\\n8772,0059749,13580\\r\\n8777,0098209,41940\\r\\n8779,0310778,14652\\r\\n8781,0368008,14462\\r\\n8783,0368447,6947\\r\\n8784,0333766,401\\r\\n8785,0043313,50247\\r\\n8790,0286921,23750\\r\\n8795,0275083,23305\\r\\n8796,0060438,17768\\r\\n8797,0064921,27375\\r\\n8798,0369339,1538\\r\\n8799,0361841,14846\\r\\n8800,0345061,2577\\r\\n8807,0366551,11282\\r\\n8808,0368933,11130\\r\\n8810,0370263,395\\r\\n8811,0403703,11052\\r\\n8813,0361309,23601\\r\\n8814,0364751,10762\\r\\n8819,0061595,45335\\r\\n8820,0061015,18690\\r\\n8821,0059255,7506\\r\\n8823,0086370,36912\\r\\n8827,0083652,20120\\r\\n8828,0057997,22543\\r\\n8830,0366174,11237\\r\\n8831,0324127,8080\\r\\n8832,0374330,14797\\r\\n8833,0241025,11632\\r\\n8835,0338325,15644\\r\\n8836,0324554,11208\\r\\n8838,0071115,16153\\r\\n8839,0113762,13559\\r\\n8840,0063803,42694\\r\\n8848,0046521,12548\\r\\n8850,0057063,19893\\r\\n8851,0073722,42264\\r\\n8853,0081528,104659\\r\\n8854,0093624,24924\\r\\n8857,0058294,60437\\r\\n8859,0270846,31117\\r\\n8860,0337921,9759\\r\\n8861,0318627,1577\\r\\n8864,0339412,16232\\r\\n8865,0346156,5137\\r\\n8866,0360201,11823\\r\\n8870,0356618,10145\\r\\n8871,0357054,26486\\r\\n8872,0365125,13702\\r\\n8873,0318462,1653\\r\\n8874,0365748,747\\r\\n8879,0071877,4176\\r\\n8880,0089560,11177\\r\\n8882,0062755,26690\\r\\n8884,0089543,10905\\r\\n8892,0103773,27816\\r\\n8893,0099108,27815\\r\\n8899,0079271,42172\\r\\n8903,0057569,31655\\r\\n8906,0078935,8689\\r\\n8907,0307453,10555\\r\\n8908,0349710,11128\\r\\n8910,0356721,1599\\r\\n8911,0361696,14024\\r\\n8914,0390384,14337\\r\\n8915,0368658,26108\\r\\n8916,0358135,4380\\r\\n8917,0372588,3989\\r\\n8918,0349416,16358\\r\\n8920,0046874,2438\\r\\n8921,0048563,65550\\r\\n8923,0080009,11121\\r\\n8927,0074279,21241\\r\\n8928,0061655,3053\\r\\n8929,0066834,28356\\r\\n8930,0354575,12456\\r\\n8931,0342143,55047\\r\\n8933,0090985,18499\\r\\n8935,0101301,13644\\r\\n8937,0390022,13416\\r\\n8938,0390538,1435\\r\\n8943,0340012,18701\\r\\n8946,0252028,15566\\r\\n8947,0391198,1970\\r\\n8948,0375173,8849\\r\\n8949,0375063,9675\\r\\n8950,0361862,4553\\r\\n8951,0383694,11109\\r\\n8954,0396705,126148\\r\\n8955,0360130,16131\\r\\n8957,0387564,176\\r\\n8958,0350258,1677\\r\\n8961,0317705,9806\\r\\n8963,0273689,12777\\r\\n8964,0274407,47959\\r\\n8965,0338348,5255\\r\\n8966,0362269,11184\\r\\n8968,0367479,10589\\r\\n8969,0317198,9801\\r\\n8970,0308644,866\\r\\n8972,0368891,2059\\r\\n8973,0275491,140\\r\\n8974,0345950,11836\\r\\n8977,0346491,1966\\r\\n8979,0390299,174787\\r\\n8981,0376541,2288\\r\\n8982,0327919,15397\\r\\n8983,0385004,9550\\r\\n8984,0349903,163\\r\\n8985,0359013,36648\\r\\n8986,0053644,15788\\r\\n8987,0403910,33377\\r\\n8988,0053716,18973\\r\\n8989,0051516,41253\\r\\n8998,0072272,33740\\r\\n8999,0075323,74719\\r\\n9000,0111408,77448\\r\\n9001,0054453,43752\\r\\n9004,0088979,16248\\r\\n9005,0106912,15613\\r\\n9010,0364517,8424\\r\\n9012,0045109,50085\\r\\n9018,0391024,18889\\r\\n25737,0011237,2972\\r\\n25744,0013257,57283\\r\\n25750,0015324,992\\r\\n25752,0015841,42359\\r\\n25753,0015881,1405\\r\\n25755,0016220,964\\r\\n25763,0018737,905\\r\\n25764,0018742,31411\\r\\n25769,0019421,25768\\r\\n25771,0020530,626\\r\\n25773,0021079,27899\\r\\n25774,0021577,5729\\r\\n25777,0022158,13911\\r\\n25788,0023427,877\\r\\n25792,0023634,28268\\r\\n25795,0023948,39130\\r\\n25801,0024548,43595\\r\\n25805,0024844,43904\\r\\n25807,0024894,24106\\r\\n25825,0027652,14615\\r\\n25826,0027884,31773\\r\\n25827,0027996,24807\\r\\n25828,0028096,17030\\r\\n25839,0029322,37650\\r\\n25841,0029604,43864\\r\\n25842,0029682,23101\\r\\n25850,0030241,16274\\r\\n25852,0031359,55207\\r\\n25856,0032145,3084\\r\\n25865,0032701,17801\\r\\n25868,0033373,29884\\r\\n25874,0033945,28789\\r\\n25882,0034828,36612\\r\\n25886,0035238,22387\\r\\n25891,0035979,18727\\r\\n25898,0036506,41391\\r\\n25900,0036733,28436\\r\\n25901,0036910,22638\\r\\n25904,0037075,21451\\r\\n25906,0037094,43307\\r\\n25911,0037469,17136\\r\\n25916,0038160,18771\\r\\n25920,0038369,16090\\r\\n25927,0038991,20246\\r\\n25929,0039661,19169\\r\\n25930,0039677,43461\\r\\n25937,0040308,29380\\r\\n25940,0040525,3766\\r\\n25941,0040536,946\\r\\n25945,0040872,44190\\r\\n25947,0040919,33115\\r\\n25952,0041587,45578\\r\\n25962,0042646,43388\\r\\n25965,0043012,43390\\r\\n25971,0044486,43358\\r\\n25972,0044502,24003\\r\\n25993,0047203,13457\\r\\n25995,0047444,31372\\r\\n25996,0047522,3111\\r\\n25999,0047677,28696\\r\\n26003,0048434,803\\r\\n26005,0048579,31374\\r\\n26007,0048752,36439\\r\\n26009,0049012,33319\\r\\n26010,0049055,28100\\r\\n26012,0049710,31378\\r\\n26013,0049782,19742\\r\\n26025,0051003,18776\\r\\n26052,0053168,690\\r\\n26079,0055892,109667\\r\\n26082,0056058,14537\\r\\n26084,0056262,13671\\r\\n26085,0056264,11085\\r\\n26086,0056300,53218\\r\\n26093,0056700,28367\\r\\n26094,0056736,21135\\r\\n26111,0057877,15421\\r\\n26116,0058213,10299\\r\\n26117,0058262,24229\\r\\n26122,0058430,3763\\r\\n26125,0058606,28504\\r\\n26131,0058946,17295\\r\\n26133,0059026,13187\\r\\n26147,0059798,42731\\r\\n26150,0060107,895\\r\\n26151,0060138,20108\\r\\n26152,0060153,2661\\r\\n26157,0060666,22293\\r\\n26160,0061369,11047\\r\\n26163,0061589,135\\r\\n26164,0061643,33257\\r\\n26171,0062136,10227\\r\\n26172,0062138,26039\\r\\n26176,0062374,41212\\r\\n26178,0062407,5767\\r\\n26180,0062425,42713\\r\\n26188,0063050,22176\\r\\n26198,0063829,27983\\r\\n26199,0064002,5638\\r\\n26208,0064612,48831\\r\\n26228,0065955,31304\\r\\n26229,0065963,64828\\r\\n26231,0066214,26606\\r\\n26241,0066993,31767\\r\\n26242,0067023,839\\r\\n26251,0067439,74689\\r\\n26258,0067866,13041\\r\\n26265,0068503,18250\\r\\n26268,0068655,12089\\r\\n26271,0068828,23148\\r\\n26294,0070215,9474\\r\\n26302,0070643,31587\\r\\n26303,0070698,22307\\r\\n26313,0071269,32044\\r\\n26317,0071464,24402\\r\\n26318,0071487,5558\\r\\n26320,0071508,3043\\r\\n26322,0071571,16246\\r\\n26323,0071583,27977\\r\\n26324,0071598,42448\\r\\n26325,0071604,42449\\r\\n26326,0071615,8327\\r\\n26338,0072826,5618\\r\\n26342,0072973,1835\\r\\n26346,0073114,1829\\r\\n26349,0073453,32042\\r\\n26350,0073580,9652\\r\\n26366,0074605,33324\\r\\n26371,0074906,42252\\r\\n26375,0075223,11558\\r\\n26386,0076141,12535\\r\\n26391,0076451,12637\\r\\n26393,0076740,38985\\r\\n26394,0076843,61280\\r\\n26400,0077598,24998\\r\\n26403,0077687,1362\\r\\n26404,0077728,156235\\r\\n26409,0078062,98851\\r\\n26413,0078252,11537\\r\\n26414,0078481,45695\\r\\n26422,0079261,10654\\r\\n26425,0079336,19827\\r\\n26430,0079495,30636\\r\\n26435,0079948,54663\\r\\n26462,0085210,13633\\r\\n26464,0085255,6341\\r\\n26467,0085404,7012\\r\\n26471,0085474,15251\\r\\n26472,0085482,17435\\r\\n26480,0086135,29173\\r\\n26485,0086216,232\\r\\n26487,0086355,30707\\r\\n26492,0086491,15301\\r\\n26494,0086589,28054\\r\\n26501,0087054,42086\\r\\n26505,0087072,30278\\r\\n26509,0087197,19596\\r\\n26513,0087451,10179\\r\\n26524,0088275,33138\\r\\n26528,0088727,17663\\r\\n26547,0089374,9056\\r\\n26554,0089869,10176\\r\\n26555,0090056,9080\\r\\n26562,0090319,16082\\r\\n26564,0090557,14670\\r\\n26574,0091113,42021\\r\\n26578,0091670,24657\\r\\n26581,0091943,41480\\r\\n26585,0092263,11471\\r\\n26587,0092337,\\r\\n26599,0093412,4043\\r\\n26603,0093777,8852\\r\\n26606,0093978,30421\\r\\n26614,0094791,8677\\r\\n26622,0095050,49314\\r\\n26631,0095715,18917\\r\\n26649,0096639,13057\\r\\n26655,0097099,114524\\r\\n26662,0097814,16859\\r\\n26663,0097904,38695\\r\\n26680,0099329,9768\\r\\n26684,0099611,27274\\r\\n26686,0099654,10485\\r\\n26689,0099747,22189\\r\\n26693,0099864,2670\\r\\n26694,0099902,41821\\r\\n26695,0099951,21344\\r\\n26700,0100280,11131\\r\\n26701,0100339,14571\\r\\n26702,0100469,21168\\r\\n26704,0100685,1662\\r\\n26712,0101254,20562\\r\\n26726,0101786,25330\\r\\n26729,0102015,4539\\r\\n26731,0102048,22828\\r\\n26732,0102164,12776\\r\\n26736,0102293,17467\\r\\n26737,0102307,36351\\r\\n26749,0102722,5048\\r\\n26750,0102744,9588\\r\\n26775,0104567,45145\\r\\n26776,0104652,11621\\r\\n26782,0104802,40082\\r\\n26784,0105001,36288\\r\\n26788,0105197,38143\\r\\n26791,0105391,31962\\r\\n26797,0105764,41778\\r\\n26809,0106335,5051\\r\\n26810,0106341,14135\\r\\n26812,0106356,27678\\r\\n26819,0106950,12088\\r\\n26835,0107861,67595\\r\\n26838,0108170,12664\\r\\n26840,0108188,7500\\r\\n26842,0108281,11143\\r\\n26843,0108334,5187\\r\\n26850,0109020,32764\\r\\n26854,0109552,18998\\r\\n26865,0110200,17809\\r\\n26870,0110442,11067\\r\\n26886,0111835,18674\\r\\n26903,0113824,37797\\r\\n26915,0114733,16233\\r\\n26947,0117407,2061\\r\\n26974,0119237,18415\\r\\n26999,0120131,9732\\r\\n27002,0120570,30983\\r\\n27005,0120714,19846\\r\\n27020,0123865,14533\\r\\n27022,0124901,9812\\r\\n27032,0127357,8697\\r\\n27075,0146402,11508\\r\\n27109,0158714,2487\\r\\n27156,0169858,18491\\r\\n27178,0177858,3716\\r\\n27186,0181627,21348\\r\\n27193,0183869,2332\\r\\n27251,0207275,110147\\r\\n27253,0208185,15653\\r\\n27255,0209463,43423\\r\\n27266,0212712,844\\r\\n27317,0235198,11075\\r\\n27322,0236576,49671\\r\\n27329,0239894,17208\\r\\n27334,0240912,62529\\r\\n27338,0242527,467\\r\\n27351,0244870,11366\\r\\n27369,0250440,44756\\r\\n27373,0250934,20536\\r\\n27376,0251447,3577\\r\\n27397,0260991,2440\\r\\n27410,0266425,12900\\r\\n27416,0269389,10978\\r\\n27423,0271383,40096\\r\\n27441,0275230,919\\r\\n27478,0284837,9298\\r\\n27482,0285492,437\\r\\n27523,0293715,11178\\r\\n27544,0299213,30839\\r\\n27555,0302585,13984\\r\\n27592,0310775,4689\\r\\n27604,0312843,12720\\r\\n27611,0314979,206216\\r\\n27646,0324013,32526\\r\\n27648,0325123,15271\\r\\n27660,0328832,55931\\r\\n27664,0330099,12703\\r\\n27674,0331811,9282\\r\\n27685,0334965,12540\\r\\n27689,0337103,60672\\r\\n27700,0338309,11197\\r\\n27704,0338763,3177\\r\\n27706,0339291,11774\\r\\n27713,0342150,16765\\r\\n27721,0344510,2841\\r\\n27722,0345549,11606\\r\\n27724,0346293,2518\\r\\n27727,0347048,363\\r\\n27728,0347246,12140\\r\\n27731,0347618,15370\\r\\n27741,0351817,12496\\r\\n27751,0355987,36763\\r\\n27768,0363532,21200\\r\\n27772,0364385,11838\\r\\n27773,0364569,670\\r\\n27778,0365265,12583\\r\\n27783,0366137,49681\\r\\n27784,0366292,9694\\r\\n27788,0366627,9667\\r\\n27790,0366777,13373\\r\\n27792,0366996,37209\\r\\n27793,0367093,10304\\r\\n27798,0367913,9666\\r\\n27800,0368667,11049\\r\\n27801,0368909,9316\\r\\n27802,0369060,11647\\r\\n27803,0369702,1913\\r\\n27808,0371246,2539\\r\\n27812,0372279,14770\\r\\n27815,0372824,5528\\r\\n27816,0373283,10105\\r\\n27821,0373926,179\\r\\n27822,0374102,83\\r\\n27826,0374277,55177\\r\\n27831,0375912,4836\\r\\n27834,0376968,11190\\r\\n27837,0377062,11866\\r\\n27838,0377091,12281\\r\\n27839,0377109,10320\\r\\n27846,0379225,11420\\r\\n27850,0379593,3396\\r\\n27851,0380366,1404\\r\\n27857,0382330,464\\r\\n27867,0385705,10296\\r\\n27869,0386064,11658\\r\\n27871,0386792,20544\\r\\n27873,0387412,11401\\r\\n27875,0388367,31781\\r\\n27876,0388395,9483\\r\\n27878,0388789,1392\\r\\n27879,0388888,1843\\r\\n27882,0389326,291\\r\\n27899,0399877,8357\\r\\n27904,0405296,3509\\r\\n27912,0418038,13372\\r\\n27922,0500140,23319\\r\\n30707,0405159,70\\r\\n30712,0044954,31713\\r\\n30723,0100873,55309\\r\\n30745,0361668,12487\\r\\n30749,0395169,205\\r\\n30783,0058567,28055\\r\\n30793,0367594,118\\r\\n30803,0423866,1280\\r\\n30810,0362270,421\\r\\n30812,0338751,2567\\r\\n30816,0293508,9833\\r\\n30818,0363473,6478\\r\\n30820,0361127,9692\\r\\n30822,0385267,1901\\r\\n30825,0290002,693\\r\\n30846,0364961,842\\r\\n30848,0369672,9953\\r\\n30850,0379889,11162\\r\\n30867,0416220,26275\\r\\n30883,0396592,15045\\r\\n30892,0390123,1853\\r\\n30894,0375210,11804\\r\\n30898,0365885,11354\\r\\n31000,0092035,66600\\r\\n31026,0098090,69234\\r\\n31035,0086429,21259\\r\\n31101,0326208,18927\\r\\n31104,0073107,42257\\r\\n31109,0045557,74122\\r\\n31114,0373024,25350\\r\\n31116,0034167,16442\\r\\n31150,0076929,16220\\r\\n31156,0043255,33475\\r\\n31162,0352520,10609\\r\\n31184,0401233,11633\\r\\n31193,0076363,13716\\r\\n31221,0357277,9947\\r\\n31225,0393162,7214\\r\\n31270,0073705,27429\\r\\n31284,0075265,19610\\r\\n31290,0101412,27549\\r\\n31364,0353969,11423\\r\\n31374,0047094,16410\\r\\n31408,0420206,342\\r\\n31410,0363163,613\\r\\n31413,0276617,273\\r\\n31420,0398712,8978\\r\\n31422,0368578,11637\\r\\n31427,0382077,11096\\r\\n31431,0357507,8968\\r\\n31433,0372532,6961\\r\\n31435,0417791,31165\\r\\n31437,0408664,2517\\r\\n31445,0362590,11413\\r\\n31502,0079844,11343\\r\\n31522,0079095,661\\r\\n31524,0068278,10310\\r\\n31547,0104706,53200\\r\\n31549,0067085,55624\\r\\n31658,0347149,4935\\r\\n31660,0348121,8953\\r\\n31682,0402406,41569\\r\\n31685,0386588,8488\\r\\n31689,0418753,12228\\r\\n31694,0361411,57825\\r\\n31696,0360486,561\\r\\n31700,0317132,17880\\r\\n31724,0284674,27202\\r\\n31737,0058997,1942\\r\\n31747,0099450,21433\\r\\n31770,0042788,19119\\r\\n31804,0403358,3040\\r\\n31878,0373074,9470\\r\\n31903,0288330,19765\\r\\n31921,0075194,29578\\r\\n31923,0072281,2926\\r\\n31930,0060675,4710\\r\\n31952,0373981,5204\\r\\n31956,0354356,4974\\r\\n31963,0065651,258\\r\\n31973,0039417,8016\\r\\n32017,0395699,10022\\r\\n32019,0377471,4551\\r\\n32022,0424129,30856\\r\\n32025,0352994,26\\r\\n32029,0340163,2026\\r\\n32031,0358082,9928\\r\\n32078,0107027,6593\\r\\n32139,0058886,36815\\r\\n32153,0107745,33539\\r\\n32160,0025919,31835\\r\\n32170,0382621,20511\\r\\n32174,0063035,22377\\r\\n32203,0068315,18047\\r\\n32211,0072285,15018\\r\\n32234,0076245,42222\\r\\n32280,0021818,42837\\r\\n32289,0396652,13374\\r\\n32291,0378947,9688\\r\\n32296,0385307,10040\\r\\n32298,0372237,11638\\r\\n32302,0430289,77120\\r\\n32349,0029608,43865\\r\\n32352,0112389,185441\\r\\n32369,0042832,32078\\r\\n32371,0040202,26038\\r\\n32381,0053645,43029\\r\\n32387,0060277,19884\\r\\n32395,0057295,52302\\r\\n32444,0085297,42106\\r\\n32456,0110008,15283\\r\\n32460,0119472,158\\r\\n32464,0101588,1772\\r\\n32469,0048801,5996\\r\\n32515,0096409,28448\\r\\n32525,0046022,27030\\r\\n32554,0113799,42994\\r\\n32562,0382734,21131\\r\\n32582,0424565,17592\\r\\n32587,0401792,187\\r\\n32591,0374583,11399\\r\\n32596,0318649,7364\\r\\n32598,0332047,11431\\r\\n32632,0070022,26332\\r\\n32666,0376717,44181\\r\\n32686,0066849,26774\\r\\n32728,0074806,19971\\r\\n32735,0071502,47406\\r\\n32743,0235712,9674\\r\\n32797,0075165,37512\\r\\n32825,0088083,19673\\r\\n32840,0084868,32085\\r\\n32844,0033238,43824\\r\\n32853,0066904,42611\\r\\n32882,0033388,26182\\r\\n32892,0056111,31442\\r\\n32898,0000417,775\\r\\n32914,0319970,7342\\r\\n32943,0100024,36843\\r\\n33004,0371724,7453\\r\\n33021,0085496,8220\\r\\n33085,0384806,10065\\r\\n33124,0384369,9393\\r\\n33138,0362004,13073\\r\\n33145,0391304,8976\\r\\n33154,0413845,13020\\r\\n33158,0329774,11679\\r\\n33162,0320661,1495\\r\\n33164,0397065,10066\\r\\n33166,0375679,1640\\r\\n33171,0370986,11171\\r\\n33296,0218864,13163\\r\\n33312,0019777,20625\\r\\n33358,0332285,24078\\r\\n33380,0280381,63066\\r\\n33437,0342258,10027\\r\\n33493,0121766,1895\\r\\n33495,0384642,9981\\r\\n33499,0369735,4379\\r\\n33558,0337721,14694\\r\\n33587,0037415,16373\\r\\n33592,0307213,25649\\r\\n33615,0351283,953\\r\\n33621,0381429,16605\\r\\n33639,0438205,14358\\r\\n33646,0398165,9291\\r\\n33660,0352248,921\\r\\n33669,0403508,9779\\r\\n33672,0355702,9787\\r\\n33679,0356910,787\\r\\n33681,0424774,14199\\r\\n33683,0338095,10226\\r\\n33688,0437407,20651\\r\\n33750,0387914,20941\\r\\n33760,0038303,43471\\r\\n33794,0372784,272\\r\\n33817,0382189,9709\\r\\n33826,0384488,25248\\r\\n33830,0400497,11451\\r\\n33834,0418819,11683\\r\\n33836,0374536,9722\\r\\n33838,0436724,2287\\r\\n33880,0415978,1382\\r\\n33896,0420251,33908\\r\\n33903,0408777,276\\r\\n33912,0078444,38731\\r\\n33917,0044896,93775\\r\\n34002,0030696,15938\\r\\n34018,0031060,22553\\r\\n34048,0407304,74\\r\\n34072,0428803,1667\\r\\n34129,0376108,7233\\r\\n34143,0382628,9009\\r\\n34150,0120667,9738\\r\\n34153,0436613,14278\\r\\n34162,0396269,9522\\r\\n34164,0361693,14922\\r\\n34198,0409184,1826\\r\\n34271,0410097,10476\\r\\n34319,0399201,1635\\r\\n34321,0408524,13341\\r\\n34323,0395584,1696\\r\\n34326,0403217,1665\\r\\n34332,0405325,11459\\r\\n34334,0382992,10048\\r\\n34336,0417001,11648\\r\\n34338,0436078,15258\\r\\n34359,0060453,42719\\r\\n34364,0105577,41776\\r\\n34405,0379786,16320\\r\\n34435,0073707,12259\\r\\n34437,0412019,308\\r\\n34517,0061398,42689\\r\\n34520,0377818,6519\\r\\n34523,0406650,13919\\r\\n34528,0418773,1444\\r\\n34530,0367652,11453\\r\\n34532,0397101,9913\\r\\n34534,0430105,8292\\r\\n34536,0326905,13922\\r\\n34542,0427312,501\\r\\n34552,0443518,28201\\r\\n34583,0069121,27292\\r\\n34608,0052619,57103\\r\\n35836,0405422,6957\\r\\n35957,0421239,11460\\r\\n36152,0089052,42034\\r\\n36276,0387898,445\\r\\n36289,0133385,9564\\r\\n36397,0361089,14175\\r\\n36401,0355295,4442\\r\\n36509,0402901,9042\\r\\n36517,0387131,1985\\r\\n36519,0388482,9335\\r\\n36525,0425123,9007\\r\\n36527,0377107,9777\\r\\n36529,0399295,1830\\r\\n36533,0384286,10092\\r\\n36535,0404030,340\\r\\n36553,0029047,78734\\r\\n36708,0385690,65215\\r\\n36931,0386005,11636\\r\\n37211,0032536,22575\\r\\n37240,0436971,14286\\r\\n37277,0066732,27645\\r\\n37380,0419706,8814\\r\\n37382,0421054,9923\\r\\n37384,0348333,7553\\r\\n37386,0402022,8202\\r\\n37475,0350261,1947\\r\\n37477,0399327,9074\\r\\n37720,0404032,8643\\r\\n37727,0408790,9315\\r\\n37729,0121164,3933\\r\\n37731,0385002,8923\\r\\n37733,0399146,59\\r\\n37736,0380599,257\\r\\n37739,0388980,15487\\r\\n37741,0379725,398\\r\\n37785,0066767,30941\\r\\n37830,0385700,647\\r\\n37853,0378109,11968\\r\\n37855,0406158,27176\\r\\n37857,0366780,14517\\r\\n38038,0312004,533\\r\\n38061,0373469,5236\\r\\n38304,0367555,19082\\r\\n38384,0036891,36498\\r\\n38499,0318997,24019\\r\\n38798,0388125,11931\\r\\n38886,0367089,10707\\r\\n38992,0417217,9910\\r\\n38994,0369053,38583\\r\\n39052,0472566,15493\\r\\n39183,0388795,142\\r\\n39231,0368709,9621\\r\\n39234,0395972,9701\\r\\n39292,0433383,3291\\r\\n39307,0418647,12920\\r\\n39381,0421238,16608\\r\\n39398,0389828,24408\\r\\n39408,0443567,38828\\r\\n39414,0338427,2610\\r\\n39416,0408961,21246\\r\\n39419,0373450,9729\\r\\n39421,0302297,15276\\r\\n39427,0371257,8066\\r\\n39435,0386140,1656\\r\\n39444,0384680,6963\\r\\n39446,0432348,215\\r\\n39659,0063678,5335\\r\\n39715,0436058,8274\\r\\n39768,0322420,20128\\r\\n39779,0025862,18994\\r\\n39869,0342735,1951\\r\\n39941,0078771,259\\r\\n40148,0365686,10851\\r\\n40226,0267116,16231\\r\\n40278,0418763,25\\r\\n40339,0371606,9982\\r\\n40412,0419677,12877\\r\\n40414,0424205,11661\\r\\n40491,0098532,7974\\r\\n40574,0430308,10060\\r\\n40581,0433400,10033\\r\\n40583,0365737,231\\r\\n40597,0328132,68098\\r\\n40614,0398017,8999\\r\\n40629,0414387,4348\\r\\n40723,0416315,9885\\r\\n40732,0435625,9392\\r\\n40815,0330373,674\\r\\n40817,0271461,24625\\r\\n40819,0358273,69\\r\\n40826,0294870,1833\\r\\n40833,0059619,46591\\r\\n40851,0406375,6795\\r\\n40870,0401085,11421\\r\\n40946,0422528,16156\\r\\n40959,0400525,9005\\r\\n41226,0069303,42489\\r\\n41285,0416320,116\\r\\n41336,0051983,35124\\r\\n41527,0445620,67\\r\\n41566,0363771,411\\r\\n41569,0360717,254\\r\\n41571,0397535,1904\\r\\n41573,0356680,9043\\r\\n41585,0039536,21454\\r\\n41714,0077452,42234\\r\\n41716,0365485,9515\\r\\n41769,0392465,23478\\r\\n41863,0419294,8053\\r\\n41912,0323998,11466\\r\\n41997,0408306,612\\r\\n42002,0395251,9899\\r\\n42004,0407265,546\\r\\n42007,0398375,2800\\r\\n42009,0452598,9641\\r\\n42011,0369441,7552\\r\\n42013,0267891,9927\\r\\n42015,0402894,9681\\r\\n42163,0079807,22975\\r\\n42191,0091455,13925\\r\\n42197,0444653,9687\\r\\n42217,0041154,20530\\r\\n42351,0090163,17835\\r\\n42418,0402399,11400\\r\\n42632,0451094,4550\\r\\n42677,0428441,44345\\r\\n42681,0033627,21735\\r\\n42718,0414852,10045\\r\\n42721,0383222,168705\\r\\n42723,0450278,1690\\r\\n42725,0456554,9900\\r\\n42728,0375154,9044\\r\\n42730,0385726,9918\\r\\n42732,0408985,17379\\r\\n42734,0443536,10982\\r\\n42738,0401855,834\\r\\n42740,0433116,25890\\r\\n42783,0058642,26782\\r\\n42900,0060268,4772\\r\\n42935,0437447,14226\\r\\n42946,0085127,21519\\r\\n42958,0412922,16553\\r\\n43177,0079688,23957\\r\\n43267,0462570,78237\\r\\n43333,0240200,7509\\r\\n43351,0164292,24269\\r\\n43376,0426578,2117\\r\\n43391,0390245,29040\\r\\n43396,0412080,9912\\r\\n43419,0416496,1969\\r\\n43556,0417433,13275\\r\\n43558,0421729,11565\\r\\n43560,0396752,11283\\r\\n43635,0056891,25167\\r\\n43679,0414982,9286\\r\\n43708,0425598,292\\r\\n43744,0421994,1544\\r\\n43832,0478988,20981\\r\\n43836,0383216,12096\\r\\n43838,0092115,33061\\r\\n43869,0381971,9975\\r\\n43871,0408345,9754\\r\\n43899,0420260,29269\\r\\n43904,0455857,10053\\r\\n43908,0449061,7515\\r\\n43910,0473692,15675\\r\\n43917,0397313,9036\\r\\n43919,0466342,10073\\r\\n43921,0404390,7304\\r\\n43928,0370032,9920\\r\\n43930,0397078,10025\\r\\n43932,0454919,9682\\r\\n43936,0450232,2207\\r\\n44004,0427229,6877\\r\\n44022,0438097,950\\r\\n44073,0041931,4173\\r\\n44191,0434409,752\\r\\n44193,0454945,9655\\r\\n44195,0427944,9388\\r\\n44197,0419749,9950\\r\\n44199,0454848,388\\r\\n44204,0468565,868\\r\\n44225,0429591,14191\\r\\n44245,0209095,18011\\r\\n44301,0458242,1379\\r\\n44317,0113580,62719\\r\\n44397,0454841,9792\\r\\n44421,0112120,55676\\r\\n44511,0436864,35555\\r\\n44555,0405094,582\\r\\n44587,0013427,669\\r\\n44597,0057697,37939\\r\\n44613,0446046,12763\\r\\n44633,0436231,13222\\r\\n44665,0425210,186\\r\\n44671,0443693,8410\\r\\n44694,0441909,219\\r\\n44709,0437800,13751\\r\\n44717,0367975,52345\\r\\n44731,0441796,10069\\r\\n44759,0430912,3093\\r\\n44761,0393109,9270\\r\\n44788,0493459,16070\\r\\n44828,0439815,9035\\r\\n44840,0437863,9957\\r\\n44849,0386741,9389\\r\\n44864,0436331,8998\\r\\n44911,0077889,34193\\r\\n44972,0362120,4257\\r\\n44974,0424136,2652\\r\\n45000,0061473,1629\\r\\n45028,0420087,9526\\r\\n45062,0443632,5820\\r\\n45081,0384537,588\\r\\n45172,0126765,1557\\r\\n45179,0034798,17131\\r\\n45183,0427954,8982\\r\\n45186,0317919,956\\r\\n45208,0449089,9530\\r\\n45210,0475276,9829\\r\\n45221,0430634,10115\\r\\n45382,0398027,7870\\r\\n45431,0327084,7518\\r\\n45440,0364955,9786\\r\\n45442,0409182,503\\r\\n45447,0382625,591\\r\\n45499,0376994,36668\\r\\n45501,0452594,9767\\r\\n45506,0417385,18164\\r\\n45517,0317219,920\\r\\n45521,0413466,18484\\r\\n45662,0466909,806\\r\\n45666,0457510,9353\\r\\n45668,0410297,2044\\r\\n45672,0389860,9339\\r\\n45679,0036341,20945\\r\\n45720,0458352,350\\r\\n45722,0383574,58\\r\\n45726,0463034,1819\\r\\n45728,0424345,2295\\r\\n45730,0452637,9697\\r\\n45732,0465624,4474\\r\\n45837,0065976,20556\\r\\n45880,0422720,1887\\r\\n45928,0489037,13508\\r\\n45942,0070359,48693\\r\\n45950,0497116,1781\\r\\n45969,0101545,16270\\r\\n45987,0092758,42003\\r\\n46062,0475293,10947\\r\\n46322,0446059,7549\\r\\n46335,0463985,9615\\r\\n46337,0455499,9513\\r\\n46347,0478209,20604\\r\\n46530,0348150,1452\\r\\n46544,0101798,43654\\r\\n46559,0468094,7872\\r\\n46561,0478197,57406\\r\\n46574,0422861,14474\\r\\n46578,0449059,773\\r\\n46664,0040338,21631\\r\\n46723,0449467,1164\\r\\n46772,0369994,13141\\r\\n46850,0492506,35199\\r\\n46855,0064040,15383\\r\\n46865,0430304,9072\\r\\n46919,0399862,14120\\r\\n46948,0385880,9297\\r\\n46965,0417148,326\\r\\n46967,0457513,512\\r\\n46970,0415306,9718\\r\\n46972,0477347,1593\\r\\n46974,0469641,1852\\r\\n46976,0420223,1262\\r\\n47044,0430357,82\\r\\n47092,0043879,31152\\r\\n47099,0454921,1402\\r\\n47122,0455967,9293\\r\\n47124,0429589,9906\\r\\n47148,0421229,47880\\r\\n47152,0074360,51857\\r\\n47196,0049653,43542\\r\\n47200,0479884,1948\\r\\n47202,0430576,148\\r\\n47254,0402910,5289\\r\\n47261,0448075,9782\\r\\n47274,0067778,42501\\r\\n47287,0052700,35921\\r\\n47330,0071424,19017\\r\\n47382,0462590,9762\\r\\n47384,0383060,14113\\r\\n47404,0452039,21712\\r\\n47423,0468489,7859\\r\\n47465,0410764,11559\\r\\n47491,0418455,1023\\r\\n47493,0035703,59964\\r\\n47518,0384793,9788\\r\\n47606,0027421,57840\\r\\n47610,0443543,1491\\r\\n47629,0436697,1165\\r\\n47640,0486551,9988\\r\\n47714,0038363,19072\\r\\n47721,0048980,15265\\r\\n47728,0038577,29589\\r\\n47810,0450345,9708\\r\\n47815,0473024,14351\\r\\n47894,0460989,1116\\r\\n47937,0464196,5072\\r\\n47950,0427969,1249\\r\\n47952,0475944,9954\\r\\n47978,0423169,13075\\r\\n47997,0387808,7512\\r\\n47999,0486358,1776\\r\\n48032,0419198,10846\\r\\n48043,0414993,1381\\r\\n48061,0069289,15242\\r\\n48082,0354899,300\\r\\n48142,0387877,9676\\r\\n48159,0430779,15213\\r\\n48165,0098327,32761\\r\\n48198,0086377,66487\\r\\n48231,0410730,15742\\r\\n48262,0799954,1666\\r\\n48268,0376591,41758\\r\\n48301,0024473,43122\\r\\n48304,0472043,1579\\r\\n48319,0454824,9664\\r\\n48322,0493430,12094\\r\\n48385,0443453,496\\r\\n48394,0457430,1417\\r\\n48414,0400717,7484\\r\\n48501,0384116,27275\\r\\n48516,0407887,1422\\r\\n48518,0420294,10781\\r\\n48520,0424993,9794\\r\\n48522,0457495,9978\\r\\n48560,0439289,7510\\r\\n48591,0433386,1975\\r\\n48593,0483726,9895\\r\\n48596,0419946,8975\\r\\n48660,0430051,86\\r\\n48682,0499537,13209\\r\\n48696,0404203,1440\\r\\n48698,0814075,13364\\r\\n48711,0805526,18925\\r\\n48738,0455590,1523\\r\\n48741,0478049,14201\\r\\n48744,0367027,1378\\r\\n48774,0206634,9693\\r\\n48780,0482571,1124\\r\\n48783,0418689,3683\\r\\n48791,0434215,14012\\r\\n48817,0492492,43673\\r\\n48856,0473488,8194\\r\\n48872,0475169,6077\\r\\n48877,0489270,214\\r\\n48972,0407236,21156\\r\\n48982,0424095,11619\\r\\n48997,0396171,1427\\r\\n49013,0452681,13767\\r\\n49132,0811136,2152\\r\\n49220,0470765,14799\\r\\n49225,0457496,29044\\r\\n49265,0420901,8588\\r\\n49272,0381061,36557\\r\\n49274,0366548,9836\\r\\n49278,0453467,7551\\r\\n49280,0308055,10741\\r\\n49284,0499603,2357\\r\\n49286,0457939,1581\\r\\n49299,0347449,57977\\r\\n49314,0433387,7873\\r\\n49394,0059719,36265\\r\\n49396,0365830,2179\\r\\n49526,0480271,10032\\r\\n49528,0454970,9796\\r\\n49530,0450259,1372\\r\\n49647,0413895,9986\\r\\n49649,0449010,2486\\r\\n49651,0479143,1246\\r\\n49688,0046889,13210\\r\\n49772,0446755,14202\\r\\n49817,0084509,30060\\r\\n49822,0343737,1247\\r\\n49824,0443489,1125\\r\\n49902,0065622,33583\\r\\n49910,0463998,1646\\r\\n49917,0783612,58923\\r\\n49932,0460829,1730\\r\\n49957,0464049,8618\\r\\n49961,0465551,1259\\r\\n50005,0473444,1494\\r\\n50011,0808185,13318\\r\\n50064,0452624,182\\r\\n50068,0498380,1251\\r\\n50147,0454082,9656\\r\\n50160,0482546,13967\\r\\n50162,0344854,9992\\r\\n50189,0808146,8275\\r\\n50245,0069687,2204\\r\\n50259,0468526,26518\\r\\n50442,0426883,7457\\r\\n50445,0455960,8398\\r\\n50514,0457655,3549\\r\\n50583,0468795,27337\\r\\n50601,0398808,1265\\r\\n50641,0076162,25623\\r\\n50651,0822389,13140\\r\\n50658,0473434,13365\\r\\n50685,0473308,10758\\r\\n50703,0846789,26594\\r\\n50740,0058578,51863\\r\\n50742,0066356,50754\\r\\n50792,0395495,13668\\r\\n50794,0475394,7516\\r\\n50798,0799949,9760\\r\\n50802,0490084,1257\\r\\n50804,0367959,1248\\r\\n50806,0477051,9757\\r\\n50842,0469754,5206\\r\\n50851,0380268,14761\\r\\n50872,0382932,2062\\r\\n50912,0401711,2266\\r\\n50923,0469263,5172\\r\\n50954,0482527,37725\\r\\n51044,0061937,34038\\r\\n51077,0259324,1250\\r\\n51080,0401997,4169\\r\\n51084,0758766,11172\\r\\n51086,0481369,3594\\r\\n51088,0499554,10090\\r\\n51091,0462200,7874\\r\\n51094,0375785,14845\\r\\n51127,0449121,22485\\r\\n51174,0432402,12271\\r\\n51207,0094057,22172\\r\\n51255,0425112,4638\\r\\n51277,0078243,11841\\r\\n51304,0424938,9695\\r\\n51357,0112681,12554\\r\\n51372,0173714,26598\\r\\n51380,0067647,5691\\r\\n51412,0435705,1738\\r\\n51418,0443456,1253\\r\\n51471,0454776,15163\\r\\n51540,0443706,1949\\r\\n51575,0486946,11199\\r\\n51662,0416449,1271\\r\\n51698,0768212,2267\\r\\n51705,0482088,6691\\r\\n51709,0468492,1255\\r\\n51773,0056825,47249\\r\\n51834,0416508,2977\\r\\n51884,0433416,16727\\r\\n51925,0477071,9963\\r\\n51927,0455760,14001\\r\\n51931,0490204,2355\\r\\n51935,0822854,7485\\r\\n51937,0800069,9793\\r\\n51939,0453556,1273\\r\\n52241,0427470,8270\\r\\n52245,0445934,9955\\r\\n52281,0462322,253768\\r\\n52287,0396555,1267\\r\\n52319,0076584,22311\\r\\n52328,0448134,1272\\r\\n52378,0042792,28433\\r\\n52435,0060345,13377\\r\\n52456,0457433,7183\\r\\n52458,0486822,8271\\r\\n52460,0446013,1534\\r\\n52462,0455326,13158\\r\\n52528,0066491,35838\\r\\n52545,0492481,20405\\r\\n52579,0450188,1407\\r\\n52604,0488120,6145\\r\\n52606,0488085,9843\\r\\n52617,0835787,54659\\r\\n52644,0452702,10294\\r\\n52666,0103793,1987\\r\\n52668,0419843,13067\\r\\n52694,0453451,1268\\r\\n52712,0435670,9785\\r\\n52717,0443473,14636\\r\\n52722,0413300,559\\r\\n52730,0329737,13352\\r\\n52767,0075610,20553\\r\\n52831,0095583,14240\\r\\n52885,0851578,4977\\r\\n52913,0027067,31866\\r\\n52950,0409904,2269\\r\\n52952,0480025,11798\\r\\n52967,0491747,1919\\r\\n52973,0478311,4964\\r\\n52975,0427327,2976\\r\\n53000,0463854,1562\\r\\n53024,0762111,36676\\r\\n53038,0023382,38077\\r\\n53121,0413267,810\\r\\n53123,0907657,5723\\r\\n53125,0449088,285\\r\\n53129,0780571,3432\\r\\n53133,0441007,15568\\r\\n53138,0455596,14208\\r\\n53189,0494222,8748\\r\\n53207,0411061,3489\\r\\n53318,0460740,12225\\r\\n53322,0496806,298\\r\\n53326,0465203,10832\\r\\n53435,0498353,1691\\r\\n53447,0842929,1990\\r\\n53460,0423294,9408\\r\\n53464,0486576,1979\\r\\n53466,0479500,14043\\r\\n53468,0457572,10288\\r\\n53519,1028528,1991\\r\\n53550,0462504,9952\\r\\n53737,0062038,42700\\r\\n53883,0430484,49870\\r\\n53887,0070464,42464\\r\\n53894,0386032,2359\\r\\n53953,0450385,3021\\r\\n53956,0795368,2196\\r\\n53972,0337978,1571\\r\\n53974,0762114,2959\\r\\n53993,0413099,2698\\r\\n53996,0418279,1858\\r\\n53999,0374563,14125\\r\\n54001,0373889,675\\r\\n54004,0762107,3563\\r\\n54190,0445922,4688\\r\\n54220,0065037,54494\\r\\n54251,0398963,32444\\r\\n54256,0787475,10074\\r\\n54259,0486655,2270\\r\\n54270,0461703,14219\\r\\n54272,0462538,35\\r\\n54276,0481141,3638\\r\\n54281,0423977,8669\\r\\n54286,0440963,2503\\r\\n54290,0804452,14123\\r\\n54328,0778784,4516\\r\\n54331,0796375,8141\\r\\n54372,0362225,10795\\r\\n54419,0402906,33916\\r\\n54426,0809407,24159\\r\\n54503,0829482,8363\\r\\n54513,0796368,6535\\r\\n54648,0293564,5174\\r\\n54732,0424823,9750\\r\\n54734,0815244,10760\\r\\n54736,0431197,4349\\r\\n54745,0477078,13068\\r\\n54768,0462244,14144\\r\\n54771,0427392,4858\\r\\n54775,0499556,10431\\r\\n54780,0489237,12435\\r\\n54785,0373883,2082\\r\\n54787,0804461,11835\\r\\n54881,0923752,13958\\r\\n54910,0437857,10961\\r\\n54995,1077258,1992\\r\\n54997,0381849,5176\\r\\n54999,0465602,4141\\r\\n55031,0346952,14348\\r\\n55052,0783233,4347\\r\\n55063,1093842,13241\\r\\n55069,1032846,2009\\r\\n55071,0912593,12901\\r\\n55078,0061648,3469\\r\\n55094,0478134,6973\\r\\n55100,0466839,15019\\r\\n55110,0465436,4629\\r\\n55116,0455782,5353\\r\\n55118,0765443,2252\\r\\n55156,0492499,30365\\r\\n55167,0831888,13754\\r\\n55207,0409799,244797\\r\\n55232,0432021,7737\\r\\n55245,0452625,10030\\r\\n55247,0758758,5915\\r\\n55250,0492956,13680\\r\\n55253,0808357,4588\\r\\n55259,0484562,2274\\r\\n55261,0408839,9038\\r\\n55267,0480242,7211\\r\\n55269,0838221,4538\\r\\n55272,0498399,2001\\r\\n55274,0414055,4517\\r\\n55276,0465538,4566\\r\\n55280,0805564,6615\\r\\n55282,0389722,4513\\r\\n55290,0452623,4771\\r\\n55294,0758798,14251\\r\\n55363,0443680,4512\\r\\n55417,0762110,1922\\r\\n55442,0808417,2011\\r\\n55444,0421082,5708\\r\\n55451,0866437,5951\\r\\n55498,0494834,14753\\r\\n55555,0880502,2014\\r\\n55566,0906108,17202\\r\\n55577,0890870,663\\r\\n55652,0079871,25476\\r\\n55684,0821470,20605\\r\\n55687,0912592,14279\\r\\n55721,0861739,7347\\r\\n55732,0415965,5126\\r\\n55757,0079278,42173\\r\\n55765,0765429,4982\\r\\n55768,0389790,5559\\r\\n55805,0292963,7972\\r\\n55814,0401383,2013\\r\\n55820,0477348,6977\\r\\n55830,0799934,4953\\r\\n55851,0790706,26336\\r\\n55872,0426931,5123\\r\\n55895,0047985,18612\\r\\n55908,0756683,13363\\r\\n55946,0891527,4515\\r\\n55995,0442933,2310\\r\\n55999,0457419,2284\\r\\n56003,0405336,4723\\r\\n56015,0044789,21296\\r\\n56030,0988102,24060\\r\\n56069,0878695,13561\\r\\n56079,0780608,13168\\r\\n56095,0995829,11148\\r\\n56145,0884328,5876\\r\\n56152,0461770,4523\\r\\n56156,0465494,1620\\r\\n56169,0211933,13483\\r\\n56171,0385752,2268\\r\\n56174,0480249,6479\\r\\n56176,0952640,6477\\r\\n56251,0471711,7249\\r\\n56274,0757361,13998\\r\\n56286,0368794,3902\\r\\n56333,0775529,8272\\r\\n56336,0804555,13186\\r\\n56339,0464141,6537\\r\\n56367,0467406,7326\\r\\n56563,0847817,13348\\r\\n56587,0825232,7350\\r\\n56607,0419887,7979\\r\\n56633,0489664,13250\\r\\n56715,0477139,13198\\r\\n56757,0408236,13885\\r\\n56775,0465234,6637\\r\\n56782,0469494,7345\\r\\n56788,0472062,6538\\r\\n56801,0758730,440\\r\\n56805,0841046,6575\\r\\n56869,0489458,40860\\r\\n56885,0427309,14047\\r\\n56908,0490579,14118\\r\\n56915,0760329,54318\\r\\n56921,0991178,69315\\r\\n56941,0431308,6023\\r\\n56949,0988595,6557\\r\\n57038,0241663,60141\\r\\n57223,0372873,10253\\r\\n57243,1032856,5259\\r\\n57274,1038988,8329\\r\\n57326,0460780,2312\\r\\n57353,0780516,13195\\r\\n57368,1060277,7191\\r\\n57401,0896798,13252\\r\\n57418,0063483,42635\\r\\n57430,0076910,86241\\r\\n57453,0848542,18290\\r\\n57504,0808506,14069\\r\\n57526,0880578,8090\\r\\n57528,0462499,7555\\r\\n57532,1073498,7278\\r\\n57640,0411477,11253\\r\\n57669,0780536,8321\\r\\n57792,0825236,7973\\r\\n57845,0800099,18893\\r\\n57910,0780622,13121\\r\\n57951,0770752,8676\\r\\n57972,0460766,15030\\r\\n57980,0945356,12167\\r\\n58025,0489099,8247\\r\\n58029,0807054,7992\\r\\n58047,0832266,8390\\r\\n58103,0443274,7461\\r\\n58105,0416236,8204\\r\\n58107,1023481,8328\\r\\n58146,1001562,15365\\r\\n58154,0467200,12184\\r\\n58156,0839980,13260\\r\\n58191,0854678,13362\\r\\n58293,0443649,7840\\r\\n58295,0200465,8848\\r\\n58297,0483607,13460\\r\\n58299,0451079,12222\\r\\n58301,0808279,8461\\r\\n58303,0813547,7862\\r\\n58306,0416044,12246\\r\\n58315,0811138,12177\\r\\n58347,0472160,7985\\r\\n58351,0870090,7343\\r\\n58365,0905979,28816\\r\\n58376,1166827,13016\\r\\n58425,1094594,14793\\r\\n58432,0486674,8944\\r\\n58520,0089537,383\\r\\n58554,0988108,28205\\r\\n58559,0468569,155\\r\\n58627,1023111,8456\\r\\n58649,0018192,42536\\r\\n58655,0817538,8457\\r\\n58706,0796307,32579\\r\\n58803,0478087,8065\\r\\n58839,0379865,4942\\r\\n58879,0893382,7944\\r\\n58889,0995061,18218\\r\\n58904,0083728,14272\\r\\n58964,0856288,13312\\r\\n58972,0410377,10488\\r\\n58975,0963794,11152\\r\\n58998,0800039,9870\\r\\n59014,0426592,11918\\r\\n59016,0421073,1266\\r\\n59018,0857191,12473\\r\\n59022,0481536,13335\\r\\n59037,0811080,7459\\r\\n59103,0865556,1729\\r\\n59118,1045670,10503\\r\\n59126,0815241,13007\\r\\n59141,0845046,13258\\r\\n59143,1111833,14236\\r\\n59180,0032007,40044\\r\\n59258,0871426,8780\\r\\n59273,0412637,13650\\r\\n59306,0926129,8617\\r\\n59315,0371746,1726\\r\\n59333,0866439,10761\\r\\n59339,0475984,16135\\r\\n59369,0936501,8681\\r\\n59387,0460791,14784\\r\\n59392,0942903,13001\\r\\n59418,0802948,13008\\r\\n59421,1033643,9029\\r\\n59429,0974959,8277\\r\\n59447,0106911,41648\\r\\n59501,0499448,2454\\r\\n59519,0827517,12197\\r\\n59549,0942384,17483\\r\\n59590,1047007,21182\\r\\n59594,0884224,13191\\r\\n59615,0367882,217\\r\\n59669,0479916,82437\\r\\n59684,0841119,44260\\r\\n59721,0427998,15378\\r\\n59725,1000774,4564\\r\\n59727,0482606,10665\\r\\n59731,1151309,13636\\r\\n59784,0441773,9502\\r\\n59805,0064256,74349\\r\\n59810,1000771,14050\\r\\n59814,0812243,14019\\r\\n59832,0043132,17221\\r\\n59834,0063970,37308\\r\\n59846,0020030,79761\\r\\n59900,0960144,10661\\r\\n59935,0068595,3687\\r\\n59945,0011439,42657\\r\\n59985,0460745,12912\\r\\n59995,1078188,14748\\r\\n60037,0949731,8645\\r\\n60040,0800080,1724\\r\\n60069,0910970,10681\\r\\n60072,0493464,8909\\r\\n60074,0448157,8960\\r\\n60086,0433350,15728\\r\\n60126,0425061,11665\\r\\n60128,0913445,13019\\r\\n60135,0479547,26354\\r\\n60137,0997088,22905\\r\\n60161,1054485,12889\\r\\n60291,0479468,13003\\r\\n60293,1082886,13990\\r\\n60295,1114277,15272\\r\\n60333,1093824,12172\\r\\n60343,0029751,43869\\r\\n60382,1157705,16800\\r\\n60384,0405496,56224\\r\\n60397,0795421,11631\\r\\n60471,0479528,13022\\r\\n60487,0060550,13353\\r\\n60514,0373051,88751\\r\\n60516,0765476,11260\\r\\n60609,0758742,16007\\r\\n60649,0482603,11802\\r\\n60674,0929629,12914\\r\\n60684,0409459,13183\\r\\n60753,1117385,13012\\r\\n60756,0838283,12133\\r\\n60760,0443701,8836\\r\\n60763,0486259,13259\\r\\n60766,1155592,14048\\r\\n60832,0964539,12192\\r\\n60857,0801526,16725\\r\\n60937,0859163,1735\\r\\n60943,0978759,10183\\r\\n60950,0497465,5038\\r\\n60990,0055052,28273\\r\\n61013,0177507,1661\\r\\n61024,0910936,10189\\r\\n61026,0425637,12289\\r\\n61071,1018785,10188\\r\\n61075,0974554,11671\\r\\n61123,0810900,13649\\r\\n61132,0942385,7446\\r\\n61160,1185834,12180\\r\\n61167,1029120,13107\\r\\n61206,0809425,29568\\r\\n61210,0490181,13256\\r\\n61236,1185616,8885\\r\\n61240,1139797,13310\\r\\n61248,0452608,10483\\r\\n61250,0852713,12620\\r\\n61289,0906665,13637\\r\\n61323,0887883,4944\\r\\n61348,1213644,13805\\r\\n61350,0364970,9381\\r\\n61352,0988047,13291\\r\\n61357,1149405,22319\\r\\n61361,0430770,13972\\r\\n61394,0392878,14771\\r\\n61401,0831887,8285\\r\\n61465,0814022,13184\\r\\n61634,0038097,43177\\r\\n61646,0452971,3865\\r\\n61705,0947802,13279\\r\\n61729,0995039,12797\\r\\n62049,0048918,1984\\r\\n62081,1059786,13027\\r\\n62113,0455538,13092\\r\\n62115,0425458,25126\\r\\n62155,0981227,12182\\r\\n62203,1029234,9539\\r\\n62250,0929425,8882\\r\\n62331,0439533,15981\\r\\n62336,0279077,225130\\r\\n62344,1084950,14976\\r\\n62374,0758774,12113\\r\\n62376,0970411,13600\\r\\n62378,0841027,10078\\r\\n62383,0006333,30266\\r\\n62394,0467197,13051\\r\\n62434,1007028,10358\\r\\n62437,1175491,10523\\r\\n62511,0383028,4960\\r\\n62644,1063669,7735\\r\\n62718,0963743,12689\\r\\n62733,1082868,13812\\r\\n62764,0072709,27361\\r\\n62792,0482572,13150\\r\\n62801,0068817,41474\\r\\n62849,1032755,13809\\r\\n62912,0962726,11887\\r\\n62956,1054486,13253\\r\\n62999,0479952,10527\\r\\n63062,0824747,3580\\r\\n63072,0898367,20766\\r\\n63082,1010048,12405\\r\\n63113,0830515,10764\\r\\n63131,0430922,15373\\r\\n63179,0976060,8938\\r\\n63239,0128996,42884\\r\\n63276,1016290,14943\\r\\n63393,1055366,13655\\r\\n63436,1132626,11917\\r\\n63479,1135985,13523\\r\\n63481,1111948,14655\\r\\n63515,0851577,22358\\r\\n63540,1014775,14405\\r\\n63629,0054866,84050\\r\\n63808,1068646,8841\\r\\n63826,1031280,13220\\r\\n63836,0118840,34867\\r\\n63853,0455824,6972\\r\\n63859,0397892,13053\\r\\n63876,1013753,10139\\r\\n63992,1099212,8966\\r\\n64030,1129442,13387\\r\\n64032,0369436,12193\\r\\n64034,0914798,14574\\r\\n64114,1129423,14438\\r\\n64116,0465502,14248\\r\\n64153,0837791,20919\\r\\n64197,0986233,10360\\r\\n64229,1042877,14299\\r\\n64249,0897387,13394\\r\\n64278,0828154,34283\\r\\n64285,1118511,14447\\r\\n64321,0441762,1964\\r\\n64338,0107065,17912\\r\\n64497,0970416,10200\\r\\n64499,0892255,8881\\r\\n64501,0374569,8880\\r\\n64508,0844760,11127\\r\\n64575,0918927,14359\\r\\n64614,1205489,13223\\r\\n64620,0870111,11499\\r\\n64622,0976051,8055\\r\\n64660,0476681,5816\\r\\n64695,1121794,13980\\r\\n64701,1068649,8276\\r\\n64716,0814314,11321\\r\\n64839,1125849,12163\\r\\n64900,0100625,9050\\r\\n64957,0421715,4922\\r\\n64969,1068680,10201\\r\\n64983,0985699,2253\\r\\n64990,1003116,40873\\r\\n64993,0983213,38142\\r\\n64997,0449040,34812\\r\\n65037,0953318,6936\\r\\n65088,0960731,10202\\r\\n65126,1024715,13973\\r\\n65130,0959337,4148\\r\\n65133,0212579,194113\\r\\n65135,0094754,51247\\r\\n65188,1152758,15584\\r\\n65193,1024255,13971\\r\\n65216,1034303,13813\\r\\n65230,0822832,14306\\r\\n65259,1232826,8927\\r\\n65261,0876563,12429\\r\\n65310,0462485,17287\\r\\n65418,1152850,8942\\r\\n65465,1046947,16409\\r\\n65514,1220719,14756\\r\\n65552,0238552,10596\\r\\n65567,0449487,13944\\r\\n65577,0420238,10199\\r\\n65585,0901476,10521\\r\\n65601,1179891,14435\\r\\n65638,0209919,221861\\r\\n65642,0480669,14139\\r\\n65665,0243951,125705\\r\\n65682,0834001,12437\\r\\n65685,0494238,2309\\r\\n65802,1114740,14560\\r\\n65982,0462465,10529\\r\\n66019,0070136,46595\\r\\n66066,1053859,1977\\r\\n66090,1020530,13510\\r\\n66097,0327597,14836\\r\\n66130,1183252,15003\\r\\n66171,0465580,13455\\r\\n66198,0963178,4959\\r\\n66200,1103275,10362\\r\\n66203,1001508,10184\\r\\n66246,0070860,36764\\r\\n66297,1054487,15060\\r\\n66310,0814685,13492\\r\\n66317,0240425,70089\\r\\n66335,1265998,14711\\r\\n66371,1069238,16804\\r\\n66427,0489235,1961\\r\\n66509,1201167,20829\\r\\n66544,0208629,18884\\r\\n66596,1237838,38087\\r\\n66659,1142800,15670\\r\\n66665,1176740,19255\\r\\n66686,0039941,29117\\r\\n66744,1023490,8832\\r\\n66785,0901487,15067\\r\\n66798,0838232,15159\\r\\n66808,0400426,7916\\r\\n66915,0102802,20421\\r\\n66934,1227926,14301\\r\\n67087,1155056,16538\\r\\n67193,1135487,16558\\r\\n67197,0448011,13811\\r\\n67252,0785035,16353\\r\\n67255,1132620,15472\\r\\n67267,0862846,13090\\r\\n67295,1287845,15854\\r\\n67361,1124039,16325\\r\\n67408,0892782,15512\\r\\n67429,1172203,20529\\r\\n67504,0067324,62437\\r\\n67508,0765432,6968\\r\\n67665,1157605,18094\\r\\n67695,1197628,16991\\r\\n67734,1091722,16614\\r\\n67788,1093908,20048\\r\\n67799,1234541,16258\\r\\n67867,1098327,14164\\r\\n67923,1013752,13804\\r\\n67957,0094075,1387\\r\\n67997,1226774,19833\\r\\n68073,1131729,18947\\r\\n68099,0180443,128857\\r\\n68135,0974661,16996\\r\\n68137,0471834,168538\\r\\n68157,0361748,16869\\r\\n68159,0473705,16995\\r\\n68194,1226271,21641\\r\\n68205,1121931,15092\\r\\n68237,1182345,17431\\r\\n68269,0962736,18320\\r\\n68319,0458525,2080\\r\\n68324,1103982,17680\\r\\n68347,1127715,21191\\r\\n68358,0796366,13475\\r\\n68444,0460810,16279\\r\\n68486,1326972,15384\\r\\n68536,0278736,30416\\r\\n68554,0808151,13448\\r\\n68614,0079875,47906\\r\\n68659,0489049,13532\\r\\n68791,0438488,534\\r\\n68793,1078912,18360\\r\\n68835,0476991,19375\\r\\n68838,0977648,23997\\r\\n68848,0844286,21755\\r\\n68872,0038823,8429\\r\\n68884,0920473,10541\\r\\n68901,0990404,15555\\r\\n68932,0821642,17332\\r\\n68945,0169880,21832\\r\\n68952,1127180,16871\\r\\n68954,1049413,14160\\r\\n68959,0485323,14003\\r\\n68965,1153706,21724\\r\\n68967,0836700,8282\\r\\n69069,1083456,17927\\r\\n69118,0910905,13975\\r\\n69122,1119646,18785\\r\\n69134,0870984,17609\\r\\n69241,0080196,45560\\r\\n69253,1095174,14536\\r\\n69275,1278340,14451\\r\\n69278,0457400,18162\\r\\n69280,1059905,34482\\r\\n69306,1111422,18487\\r\\n69406,1041829,18240\\r\\n69436,1045778,17610\\r\\n69458,1032821,8940\\r\\n69481,0887912,12162\\r\\n69495,0910847,16240\\r\\n69516,1135092,8284\\r\\n69524,0772251,62128\\r\\n69526,1055369,8373\\r\\n69529,1014762,62320\\r\\n69559,0041368,35404\\r\\n69604,1178663,19265\\r\\n69606,0821640,12556\\r\\n69640,1152836,11322\\r\\n69644,1080016,8355\\r\\n69654,1131748,176241\\r\\n69685,0285627,24232\\r\\n69712,1078588,10024\\r\\n69720,0475298,15423\\r\\n69746,1295071,16440\\r\\n69757,1022603,19913\\r\\n69761,0111845,47104\\r\\n69784,0889583,18480\\r\\n69805,1146438,14728\\r\\n69821,0110490,38940\\r\\n69844,0417741,767\\r\\n69849,0075572,67479\\r\\n69908,0060479,84278\\r\\n69945,0046969,20174\\r\\n69951,1054606,8054\\r\\n69974,0896927,30713\\r\\n70121,0024805,53830\\r\\n70159,1148204,21208\\r\\n70183,1142988,20943\\r\\n70188,0054476,82311\\r\\n70201,0095302,47870\\r\\n70282,0775552,20856\\r\\n70286,1136608,17654\\r\\n70293,1135503,24803\\r\\n70305,1075417,13836\\r\\n70336,1046173,14869\\r\\n70344,1127877,30250\\r\\n70418,0172348,54982\\r\\n70465,0783532,22600\\r\\n70488,0249248,99657\\r\\n70533,0923811,15137\\r\\n70545,0848281,11115\\r\\n70565,1092633,19905\\r\\n70567,1185836,22051\\r\\n70597,1176251,14940\\r\\n70599,0452694,24420\\r\\n70663,1032815,19840\\r\\n70678,0996948,33199\\r\\n70697,0436339,19585\\r\\n70728,1172570,18533\\r\\n70751,0228528,164741\\r\\n70762,0481273,12839\\r\\n70846,1186369,8899\\r\\n70862,1229360,22492\\r\\n70898,1142433,25704\\r\\n70927,0973844,36108\\r\\n70946,0105643,26914\\r\\n70984,1127896,26320\\r\\n70994,1311067,24150\\r\\n71033,1305806,25376\\r\\n71057,0472033,12244\\r\\n71102,0024663,140887\\r\\n71106,0910554,22494\\r\\n71108,1149362,37903\\r\\n71131,1000764,63581\\r\\n71135,1188729,19898\\r\\n71156,1234548,10313\\r\\n71180,0076517,42225\\r\\n71205,1131734,19994\\r\\n71211,1130080,11323\\r\\n71248,1225822,12569\\r\\n71252,1144884,19912\\r\\n71254,1034032,18501\\r\\n71264,0844471,22794\\r\\n71282,1286537,18570\\r\\n71304,0762073,22536\\r\\n71318,0858486,16873\\r\\n71379,1179904,23827\\r\\n71390,0996966,16194\\r\\n71404,0053882,18974\\r\\n71429,1262981,20178\\r\\n71433,0058006,67612\\r\\n71438,1087578,25050\\r\\n71460,1084972,22717\\r\\n71462,1313104,23128\\r\\n71464,1019452,12573\\r\\n71466,1174730,28053\\r\\n71468,1071804,24869\\r\\n71490,1220213,21398\\r\\n71494,0419724,23127\\r\\n71518,1172233,22798\\r\\n71520,1058017,23082\\r\\n71525,0034424,61524\\r\\n71530,0986263,19959\\r\\n71533,1097013,18065\\r\\n71535,1156398,19908\\r\\n71573,0365929,22787\\r\\n71579,1174732,24684\\r\\n71640,1333634,26763\\r\\n71650,0081746,99189\\r\\n71668,1078940,19899\\r\\n71700,0896534,23966\\r\\n71732,0902290,21910\\r\\n71745,0386117,16523\\r\\n71755,0062352,67062\\r\\n71804,0087983,38702\\r\\n71810,0126388,3513\\r\\n71823,0808399,12572\\r\\n71838,1197624,22803\\r\\n71876,1129445,8915\\r\\n71899,0978762,24238\\r\\n72011,1193138,22947\\r\\n72043,1482967,53985\\r\\n72104,0096880,44338\\r\\n72109,1425928,36577\\r\\n72129,1233227,22804\\r\\n72131,1477715,13576\\r\\n72165,0450405,24418\\r\\n72169,1213585,22800\\r\\n72171,1190536,24804\\r\\n72176,1228953,29150\\r\\n72209,0375568,16577\\r\\n72224,1161418,22820\\r\\n72226,0432283,10315\\r\\n72294,1067106,17979\\r\\n72308,1286130,105077\\r\\n72356,1425244,24480\\r\\n72367,0758751,19851\\r\\n72378,1190080,14161\\r\\n72380,0362478,22825\\r\\n72386,0913425,8088\\r\\n72393,1220198,22824\\r\\n72395,0929632,25793\\r\\n72405,1095217,11699\\r\\n72407,1259571,18239\\r\\n72479,0790712,28089\\r\\n72489,1186367,22832\\r\\n72603,1526300,25472\\r\\n72605,0765010,7445\\r\\n72612,0081040,47466\\r\\n72626,0009932,53516\\r\\n72630,0804529,20764\\r\\n72641,0878804,22881\\r\\n72647,0131149,88276\\r\\n72683,0022080,8353\\r\\n72694,1247692,22640\\r\\n72696,0976238,22949\\r\\n72701,0762125,16866\\r\\n72720,1315981,34653\\r\\n72731,0380510,7980\\r\\n72733,1057500,22954\\r\\n72737,0780521,10198\\r\\n72741,0780511,26171\\r\\n72762,0913354,4597\\r\\n72781,1104746,\\r\\n72880,0054880,47122\\r\\n72919,1314228,24438\\r\\n72947,1305714,26032\\r\\n72998,0499549,19995\\r\\n73015,1230414,22897\\r\\n73017,0988045,10528\\r\\n73023,1263670,25196\\r\\n73042,1231580,23398\\r\\n73101,1242545,18898\\r\\n73106,1407050,26123\\r\\n73168,0806203,25769\\r\\n73211,1226681,23963\\r\\n73266,0403702,22327\\r\\n73268,0433362,19901\\r\\n73276,1300563,24458\\r\\n73290,1028532,28178\\r\\n73319,1216492,25195\\r\\n73321,1037705,20504\\r\\n73323,1343097,33613\\r\\n73344,1235166,21575\\r\\n73386,0976246,25927\\r\\n73392,1503769,28227\\r\\n73469,0949815,26765\\r\\n73488,0806027,1450\\r\\n73531,0093393,41970\\r\\n73572,1233219,44027\\r\\n73587,1244668,31175\\r\\n73664,0944834,10800\\r\\n73741,1182921,25602\\r\\n73759,0495212,\\r\\n73808,1190539,13855\\r\\n73854,0058536,13382\\r\\n73860,1266029,33511\\r\\n73881,1187043,20453\\r\\n73929,1038686,22894\\r\\n74089,0054176,51120\\r\\n74115,1472122,31156\\r\\n74152,0804558,16453\\r\\n74154,1185416,13477\\r\\n74156,1226273,12201\\r\\n74228,1187064,26466\\r\\n74275,1045772,8952\\r\\n74282,0092571,40724\\r\\n74324,1278469,33602\\r\\n74327,0926759,12169\\r\\n74370,1172994,25983\\r\\n74416,1232776,24469\\r\\n74438,0110054,18670\\r\\n74450,0817230,32856\\r\\n74452,0780653,7978\\r\\n74458,1130884,11324\\r\\n74486,0790799,19311\\r\\n74508,0844330,13949\\r\\n74510,1216487,24253\\r\\n74530,0814255,32657\\r\\n74532,1385867,23742\\r\\n74545,1139328,11439\\r\\n74580,1273678,23172\\r\\n74624,1186830,26428\\r\\n74630,0052427,56931\\r\\n74649,0886531,79519\\r\\n74668,1247640,15357\\r\\n74677,1352852,18489\\r\\n74685,0455407,29427\\r\\n74688,0989757,22971\\r\\n74698,0808510,23023\\r\\n74727,0068519,20871\\r\\n74740,1016301,5595\\r\\n74754,0368226,17473\\r\\n74787,1188996,26022\\r\\n74789,1014759,12155\\r\\n74795,0947810,22972\\r\\n74851,1179034,26389\\r\\n74868,1235124,23488\\r\\n74916,1234654,27583\\r\\n74944,1210042,26390\\r\\n74946,0815236,34016\\r\\n74948,1289406,25941\\r\\n75341,1403981,23169\\r\\n75349,0283043,12718\\r\\n75440,1386011,16239\\r\\n75803,1305583,34563\\r\\n75805,1038919,27573\\r\\n75813,1151359,12834\\r\\n75816,1247704,31723\\r\\n75823,0090866,26558\\r\\n75983,0844457,16436\\r\\n75985,1053424,31867\\r\\n75990,0071155,42451\\r\\n76030,0795351,28355\\r\\n76054,0765128,36970\\r\\n76060,1135525,34423\\r\\n76077,1231587,23048\\r\\n76091,1216496,30018\\r\\n76093,0892769,10191\\r\\n76111,1360860,37181\\r\\n76173,1149361,27936\\r\\n76175,0800320,18823\\r\\n76210,1303828,34769\\r\\n76251,1250777,23483\\r\\n76272,1238291,16759\\r\\n76293,1279935,35056\\r\\n76303,0065491,39931\\r\\n76738,1583323,52903\\r\\n76763,1017451,27586\\r\\n77191,1321509,34803\\r\\n77201,0862467,37861\\r\\n77206,1196141,33217\\r\\n77291,0092580,25832\\r\\n77307,1379182,38810\\r\\n77359,1259573,61920\\r\\n77364,0480255,34813\\r\\n77414,1294226,35690\\r\\n77421,1336617,39053\\r\\n77427,1467304,37169\\r\\n77435,0036430,43517\\r\\n77455,1587707,39452\\r\\n77561,1228705,10138\\r\\n77658,0081846,205300\\r\\n77798,1179056,23437\\r\\n77800,1341167,37495\\r\\n77808,0075774,42217\\r\\n77810,1111890,19173\\r\\n77837,1132623,36950\\r\\n77846,0118528,12219\\r\\n77866,0955308,20662\\r\\n77907,1546653,52249\\r\\n78034,1196204,36801\\r\\n78039,1120985,46705\\r\\n78041,1103153,37821\\r\\n78088,1462758,26388\\r\\n78101,0484211,134901\\r\\n78105,0473075,9543\\r\\n78111,0047840,43317\\r\\n78116,0878835,40247\\r\\n78122,0863136,14518\\r\\n78160,0397612,198306\\r\\n78174,1261945,37786\\r\\n78209,1226229,32823\\r\\n78218,0914863,38199\\r\\n78264,1212436,34806\\r\\n78266,1017460,37707\\r\\n78316,0892318,37056\\r\\n78321,1498870,38570\\r\\n78349,1258197,29917\\r\\n78467,1075747,20533\\r\\n78469,0429493,34544\\r\\n78499,0435761,10193\\r\\n78517,1568150,41397\\r\\n78544,0993779,198308\\r\\n78574,1399683,39013\\r\\n78637,0892791,10192\\r\\n78653,1204773,33809\\r\\n78703,1179794,39545\\r\\n78729,0813980,13989\\r\\n78772,1325004,24021\\r\\n78829,1157685,40215\\r\\n78836,1191111,34647\\r\\n78893,0938283,10196\\r\\n78903,0070959,91487\\r\\n78967,0076210,26932\\r\\n79006,0416716,76180\\r\\n79008,1308667,16023\\r\\n79029,0790769,25630\\r\\n79057,1424381,34851\\r\\n79091,1323594,20352\\r\\n79132,1375666,27205\\r\\n79134,1375670,38365\\r\\n79136,1101048,64861\\r\\n79139,0963966,27022\\r\\n79163,0800228,80198\\r\\n79185,1013743,37834\\r\\n79203,0446750,4556\\r\\n79224,1155076,38575\\r\\n79242,0842926,39781\\r\\n79251,1273235,73861\\r\\n79259,1248971,40850\\r\\n79274,1569923,40662\\r\\n79293,0944835,27576\\r\\n79299,0874957,\\r\\n79318,1396557,42918\\r\\n79357,0485947,31011\\r\\n79428,0427152,38778\\r\\n79469,0105019,5899\\r\\n79553,1386932,37472\\r\\n79588,1438254,37950\\r\\n79590,1205535,24122\\r\\n79592,1386588,27581\\r\\n79677,1522863,53190\\r\\n79686,0870210,42039\\r\\n79695,1320253,27578\\r\\n79702,0446029,22538\\r\\n79720,1313092,44629\\r\\n79796,1020558,23759\\r\\n79824,1020938,44737\\r\\n79868,1220214,38150\\r\\n79879,0464154,43593\\r\\n79946,1285309,41479\\r\\n80026,0411951,42194\\r\\n80083,0142235,28609\\r\\n80126,1440728,27579\\r\\n80166,0889573,41210\\r\\n80185,1558250,40663\\r\\n80217,0107086,46697\\r\\n80219,0985694,23631\\r\\n80241,1322312,38073\\r\\n80346,0038104,119764\\r\\n80350,1666186,40264\\r\\n80363,1220634,35791\\r\\n80463,1285016,37799\\r\\n80489,0840361,23168\\r\\n80549,1282140,37735\\r\\n80551,0879870,38167\\r\\n80553,1049402,38568\\r\\n80572,1356864,43939\\r\\n80584,1067733,15179\\r\\n80586,0817177,43949\\r\\n80590,1027718,33909\\r\\n80599,0172202,59572\\r\\n80615,1219342,41216\\r\\n80693,0804497,43923\\r\\n80717,0090579,2754\\r\\n80727,1251757,38842\\r\\n80736,1010271,38410\\r\\n80748,0023753,25694\\r\\n80831,1228987,41402\\r\\n80839,1028576,39486\\r\\n80844,0816556,27374\\r\\n80846,1314655,44040\\r\\n80858,1414382,38303\\r\\n80860,1055292,38408\\r\\n80862,1584016,42296\\r\\n80864,1182350,38031\\r\\n80906,1645089,44639\\r\\n80917,1470827,43933\\r\\n80969,1334260,42188\\r\\n81018,0775489,41201\\r\\n81054,0064588,12482\\r\\n81083,1523483,46837\\r\\n81132,1612774,45649\\r\\n81138,0445054,39681\\r\\n81156,1116184,16290\\r\\n81158,1559549,39312\\r\\n81191,1566648,39440\\r\\n81229,1245526,39514\\r\\n81417,1536044,41436\\r\\n81512,1212419,44603\\r\\n81516,1181791,41215\\r\\n81535,1477076,41439\\r\\n81537,1231583,41733\\r\\n81562,1542344,44115\\r\\n81564,1001526,38055\\r\\n81591,0947798,44214\\r\\n81641,0977855,38363\\r\\n81660,0085124,61755\\r\\n81782,0477080,44048\\r\\n81784,1126618,38357\\r\\n81786,1020773,48303\\r\\n81788,1458175,43539\\r\\n81819,1164999,45958\\r\\n81831,1467273,36940\\r\\n81834,0926084,12444\\r\\n81845,1504320,45269\\r\\n81847,0398286,38757\\r\\n81898,1518821,87387\\r\\n81910,1326733,41999\\r\\n81932,0964517,45317\\r\\n81949,1403988,41556\\r\\n82035,1176726,26769\\r\\n82037,1568334,43924\\r\\n82041,1316536,46420\\r\\n82093,1213648,48838\\r\\n82095,1564585,42684\\r\\n82150,1251725,35395\\r\\n82152,1152398,38117\\r\\n82167,0758752,43347\\r\\n82169,0980970,10140\\r\\n82173,1570989,47607\\r\\n82202,1243957,37710\\r\\n82242,1401143,48395\\r\\n82313,0049552,34667\\r\\n82378,1175709,46503\\r\\n82459,1403865,44264\\r\\n82461,1104001,20526\\r\\n82463,1431181,44009\\r\\n82499,1341188,42888\\r\\n82527,1423894,46829\\r\\n82534,1172991,44129\\r\\n82608,0421090,30548\\r\\n82667,1588170,49797\\r\\n82852,0970866,39451\\r\\n82854,1320261,38745\\r\\n82931,1572491,56812\\r\\n82934,1319726,34576\\r\\n83086,1126591,42297\\r\\n83096,0012255,51359\\r\\n83132,1568921,51739\\r\\n83134,1465522,46838\\r\\n83177,1302067,41515\\r\\n83270,1371155,46138\\r\\n83293,1268204,46689\\r\\n83318,0012224,51360\\r\\n83322,0011984,50704\\r\\n83332,0756727,53079\\r\\n83349,0990407,40805\\r\\n83359,0012570,51362\\r\\n83361,0012543,25770\\r\\n83374,1032751,46528\\r\\n83411,0013025,38742\\r\\n83480,0479997,23047\\r\\n83506,1815899,198391\\r\\n83603,0422258,90272\\r\\n83613,0409847,49849\\r\\n83803,1620446,40619\\r\\n83827,1391092,52013\\r\\n83829,0058555,46787\\r\\n83910,1578275,44564\\r\\n83976,1740047,63578\\r\\n84098,0045029,76229\\r\\n84116,1287878,47909\\r\\n84152,1219289,51876\\r\\n84154,1117394,58261\\r\\n84160,1705977,52461\\r\\n84187,0860906,22843\\r\\n84236,1487275,34767\\r\\n84304,1667150,62976\\r\\n84312,0329200,12536\\r\\n84374,1411238,41630\\r\\n84392,1189340,50348\\r\\n84395,1161864,48171\\r\\n84414,1699114,56590\\r\\n84506,1693830,51276\\r\\n84601,1401152,48138\\r\\n84615,1477837,52067\\r\\n84637,0377981,45772\\r\\n84696,1320239,50204\\r\\n84772,1092026,39513\\r\\n84844,0238883,20993\\r\\n84847,1366312,183894\\r\\n84944,1192628,44896\\r\\n84950,0810922,50725\\r\\n84952,1590089,54186\\r\\n84954,1385826,38050\\r\\n85016,1277936,56811\\r\\n85020,0472399,27582\\r\\n85022,0480687,48988\\r\\n85025,1034389,49494\\r\\n85056,1464540,46529\\r\\n85131,1217613,44943\\r\\n85179,1474276,28874\\r\\n85213,1510938,56831\\r\\n85261,1305591,50321\\r\\n85316,0072410,72185\\r\\n85342,1555149,47931\\r\\n85367,1564367,50546\\r\\n85394,1664894,59490\\r\\n85397,1486185,49730\\r\\n85399,1464174,38322\\r\\n85401,1512235,45132\\r\\n85412,1740707,46146\\r\\n85414,0945513,45612\\r\\n85438,1229822,38684\\r\\n85510,0978764,23629\\r\\n85572,0951335,37534\\r\\n85612,0765444,37405\\r\\n85736,1334585,13413\\r\\n85774,1424432,58496\\r\\n85780,1701991,110639\\r\\n85788,1591095,49018\\r\\n85796,1640459,49010\\r\\n85881,1606392,55725\\r\\n86000,1560139,39356\\r\\n86014,1650043,60307\\r\\n86028,1220888,53172\\r\\n86059,1411704,50359\\r\\n86142,1436045,58857\\r\\n86190,0993842,50456\\r\\n86290,1179947,46105\\r\\n86293,1334512,49012\\r\\n86298,1436562,46195\\r\\n86320,1527186,62215\\r\\n86332,0800369,10195\\r\\n86345,1421373,45523\\r\\n86347,1190722,30969\\r\\n86377,0927619,24447\\r\\n86487,1492030,202241\\r\\n86504,0405455,167966\\r\\n86548,1067583,55787\\r\\n86593,1223236,57586\\r\\n86626,1438535,54083\\r\\n86644,1596343,51497\\r\\n86721,1013607,42521\\r\\n86781,1255953,46738\\r\\n86817,0491152,49022\\r\\n86833,1478338,55721\\r\\n86835,0822847,38321\\r\\n86852,1321860,50780\\r\\n86864,0055198,39410\\r\\n86880,1298650,1865\\r\\n86882,1605783,59436\\r\\n86884,1827512,63831\\r\\n86892,1527788,51608\\r\\n86898,0478304,8967\\r\\n86911,1411697,45243\\r\\n86982,0063172,3107\\r\\n87192,1478964,59678\\r\\n87205,1735485,46221\\r\\n87218,0043625,25738\\r\\n87222,1302011,49444\\r\\n87232,1270798,49538\\r\\n87234,1440292,49020\\r\\n87298,1531663,45658\\r\\n87304,1532503,55347\\r\\n87306,1650062,37686\\r\\n87383,0026252,29877\\r\\n87430,1133985,44912\\r\\n87444,1340773,56272\\r\\n87483,1396218,58224\\r\\n87485,1284575,52449\\r\\n87520,1399103,38356\\r\\n87522,1583420,59861\\r\\n87529,1240982,38319\\r\\n87598,0037651,107973\\r\\n87660,1742683,65034\\r\\n87785,1135084,22907\\r\\n87869,1499658,51540\\r\\n87876,1216475,49013\\r\\n87884,0069225,58257\\r\\n87930,1787777,63144\\r\\n87975,1697851,61537\\r\\n88024,0100791,94725\\r\\n88106,0071797,84922\\r\\n88118,1334553,66195\\r\\n88125,1201607,12445\\r\\n88129,0780504,64690\\r\\n88140,0458339,1771\\r\\n88163,1570728,50646\\r\\n88179,1563738,51828\\r\\n88235,1540133,67913\\r\\n88267,1449283,51162\\r\\n88272,1714208,65599\\r\\n88345,0323250,13931\\r\\n88356,0472181,41513\\r\\n88380,1013860,43935\\r\\n88405,1632708,50544\\r\\n88672,1637706,59968\\r\\n88682,0808245,65673\\r\\n88744,1318514,61791\\r\\n88785,1488555,49520\\r\\n88810,1454029,50014\\r\\n88812,1622547,62206\\r\\n88879,1525835,56832\\r\\n88932,1622979,55779\\r\\n88950,0968264,60309\\r\\n88954,1268799,55465\\r\\n89000,1542852,47261\\r\\n89030,1438176,58151\\r\\n89039,1549572,55420\\r\\n89045,0091865,60375\\r\\n89047,1403177,44835\\r\\n89072,1464580,52015\\r\\n89085,1226753,48289\\r\\n89087,1657507,62835\\r\\n89090,1621444,55244\\r\\n89102,1152822,43942\\r\\n89118,1189073,63311\\r\\n89194,1604171,51588\\r\\n89203,1235790,57211\\r\\n89260,1814836,63579\\r\\n89300,1522334,60784\\r\\n89305,1716772,69798\\r\\n89321,1235170,54662\\r\\n89337,1319744,72711\\r\\n89343,0873886,48572\\r\\n89356,1705786,67884\\r\\n89388,1742650,70868\\r\\n89408,0050135,106833\\r\\n89427,1633356,65055\\r\\n89470,1598778,39538\\r\\n89492,1210166,60308\\r\\n89678,0844794,18093\\r\\n89745,0848228,24428\\r\\n89753,1340800,49517\\r\\n89759,1832382,60243\\r\\n89761,1571222,48231\\r\\n89774,1291584,59440\\r\\n89804,1124035,10316\\r\\n89837,1788391,74725\\r\\n89840,1448755,49021\\r\\n89864,1306980,40807\\r\\n89870,1043903,39517\\r\\n89881,0044091,41800\\r\\n89904,1655442,74643\\r\\n90057,1675192,64720\\r\\n90061,1174042,70588\\r\\n90249,0433035,39254\\r\\n90266,1753549,67273\\r\\n90343,1068242,68817\\r\\n90345,0905372,60935\\r\\n90357,1204340,76543\\r\\n90374,1441326,50837\\r\\n90376,1242460,71859\\r\\n90403,1509767,52451\\r\\n90405,1637688,49530\\r\\n90428,0466893,44754\\r\\n90430,1692486,72113\\r\\n90439,1615147,50839\\r\\n90469,1778304,72571\\r\\n90522,1634122,58233\\r\\n90524,1600195,59965\\r\\n90531,1723811,76025\\r\\n90576,0770703,63492\\r\\n90600,1614989,70670\\r\\n90603,1672723,69735\\r\\n90647,0448694,58423\\r\\n90717,0471042,59108\\r\\n90719,1616195,88794\\r\\n90738,1646980,73499\\r\\n90746,0983193,17578\\r\\n90863,1113829,75964\\r\\n90866,0970179,44826\\r\\n90870,1674784,70578\\r\\n90888,1253864,37958\\r\\n90890,0810913,71880\\r\\n90947,1736633,75233\\r\\n91077,1033575,65057\\r\\n91094,1204342,64328\\r\\n91104,1324999,50619\\r\\n91126,1568911,57212\\r\\n91128,0376136,23514\\r\\n91134,1655420,75900\\r\\n91199,1714210,79120\\r\\n91273,1181795,30618\\r\\n91286,0016029,29879\\r\\n91323,1366344,57431\\r\\n91325,0477302,64685\\r\\n91355,0371552,9642\\r\\n91414,1430607,51052\\r\\n91470,1634136,91550\\r\\n91483,1308729,70074\\r\\n91485,1764651,76163\\r\\n91488,0084701,13396\\r\\n91500,1392170,70160\\r\\n91505,1216520,59457\\r\\n91529,1345836,49026\\r\\n91535,1194173,49040\\r\\n91542,1515091,58574\\r\\n91548,1687247,66150\\r\\n91582,0061024,39287\\r\\n91610,1113827,17775\\r\\n91622,1625346,57157\\r\\n91628,1598822,62838\\r\\n91630,1229238,56292\\r\\n91653,1389137,74465\\r\\n91658,1568346,65754\\r\\n91660,1093357,71469\\r\\n91673,1602098,73873\\r\\n91688,1251743,51995\\r\\n91690,1720616,80038\\r\\n91842,1524137,77866\\r\\n91869,1787660,75301\\r\\n91873,1710396,63574\\r\\n91886,1564349,62837\\r\\n91890,1007029,71688\\r\\n91935,1541149,72842\\r\\n91947,1336006,79896\\r\\n91974,1496025,52520\\r\\n91976,1601913,75174\\r\\n91978,1568338,49527\\r\\n92004,0380311,145594\\r\\n92008,1506999,70435\\r\\n92048,0896872,65760\\r\\n92058,1530509,74997\\r\\n92163,1056422,25774\\r\\n92198,1214962,74998\\r\\n92206,1255916,71670\\r\\n92210,1572781,36865\\r\\n92234,0485985,72431\\r\\n92259,1675434,77338\\r\\n92264,1598828,54054\\r\\n92309,1594562,58428\\r\\n92420,1706593,76726\\r\\n92424,0106757,148033\\r\\n92439,1645080,64678\\r\\n92494,0439553,13976\\r\\n92496,1023122,13586\\r\\n92498,1583937,26118\\r\\n92507,1599348,59961\\r\\n92509,1606389,72570\\r\\n92535,2112999,80379\\r\\n92613,0960770,14205\\r\\n92665,1996264,84200\\r\\n92681,1397514,72545\\r\\n92694,1439572,51999\\r\\n92751,1700258,53174\\r\\n92756,0073096,84259\\r\\n92938,1071875,71676\\r\\n92954,1073510,21634\\r\\n92966,0409011,27902\\r\\n93040,0098769,26397\\r\\n93061,1720182,83860\\r\\n93242,1838544,79548\\r\\n93265,1630036,72213\\r\\n93270,1636826,57214\\r\\n93272,1482459,73723\\r\\n93287,1053810,73937\\r\\n93320,0383678,38674\\r\\n93324,1860355,82620\\r\\n93326,1596350,59962\\r\\n93363,0401729,49529\\r\\n93422,1756750,79108\\r\\n93432,1567233,64288\\r\\n93443,1456635,74387\\r\\n93498,1848902,91010\\r\\n93510,1232829,64688\\r\\n93512,1588334,82532\\r\\n93563,1592525,81796\\r\\n93693,1702425,80304\\r\\n93700,1185371,56591\\r\\n93721,1772925,80767\\r\\n93766,1646987,57165\\r\\n93805,1034314,10679\\r\\n93831,1605630,71552\\r\\n93838,1899353,94329\\r\\n93840,1259521,22970\\r\\n93855,1912398,74306\\r\\n93980,0383010,76489\\r\\n93982,1486192,70436\\r\\n94011,1307873,54271\\r\\n94015,1667353,62764\\r\\n94018,1440129,44833\\r\\n94024,1883251,206953\\r\\n94070,1412386,74534\\r\\n94266,1195478,72207\\r\\n94323,1621045,67660\\r\\n94325,1327194,77877\\r\\n94466,2085059,\\r\\n94478,1077368,62213\\r\\n94480,1104123,13486\\r\\n94494,1641385,89326\\r\\n94672,1663193,51823\\r\\n94677,1645170,76493\\r\\n94777,1409024,41154\\r\\n94780,1735898,58595\\r\\n94799,1748207,86812\\r\\n94833,1430626,72197\\r\\n94864,1446714,70981\\r\\n94896,1704573,92591\\r\\n94919,1196340,12645\\r\\n94931,1592281,86555\\r\\n94939,1278449,48392\\r\\n94953,1655460,50647\\r\\n94959,1748122,83666\\r\\n94969,1821480,82825\\r\\n95067,0763831,72358\\r\\n95088,1862079,84332\\r\\n95105,1277953,80321\\r\\n95113,0045719,65421\\r\\n95115,0047114,43337\\r\\n95135,1742336,84355\\r\\n95147,0142249,39145\\r\\n95165,0142240,39100\\r\\n95167,1217209,62177\\r\\n95182,0142233,39101\\r\\n95199,1586265,76494\\r\\n95201,1859650,81836\\r\\n95207,1611224,72331\\r\\n95307,1336608,80585\\r\\n95309,1307068,88005\\r\\n95311,1245104,13042\\r\\n95313,0455565,13932\\r\\n95375,0395479,13062\\r\\n95377,0479113,13933\\r\\n95441,1637725,72105\\r\\n95443,1769363,100046\\r\\n95449,1915581,77930\\r\\n95473,0142237,39103\\r\\n95475,1125254,24752\\r\\n95499,0142242,34433\\r\\n95508,1598873,95516\\r\\n95510,0948470,1930\\r\\n95543,1667889,57800\\r\\n95558,2125435,84175\\r\\n95567,1716777,98548\\r\\n95583,1615065,82525\\r\\n95654,0131409,13929\\r\\n95720,1298649,80035\\r\\n95740,0283856,276165\\r\\n95744,1602472,84165\\r\\n95752,0111399,183386\\r\\n95761,1726669,73567\\r\\n95780,0142234,39106\\r\\n95782,0142236,39107\\r\\n95858,0248808,13930\\r\\n95873,1839492,103332\\r\\n95875,1386703,64635\\r\\n95949,1630637,56909\\r\\n95963,0142243,39108\\r\\n95965,0142245,39323\\r\\n96004,0142247,39324\\r\\n96007,0142232,18095\\r\\n96020,1235841,76696\\r\\n96075,0442632,53803\\r\\n96079,1074638,37724\\r\\n96110,1790886,77953\\r\\n96114,1990181,85414\\r\\n96150,2125666,84327\\r\\n96281,1623288,77174\\r\\n96314,1405365,84184\\r\\n96373,1441940,109584\\r\\n96417,1547234,49526\\r\\n96432,1212450,82633\\r\\n96448,1714203,71668\\r\\n96467,2077851,84340\\r\\n96488,2125608,84334\\r\\n96490,0431021,77883\\r\\n96530,1619277,83403\\r\\n96563,2028530,83660\\r\\n96565,1920849,84174\\r\\n96588,1981677,114150\\r\\n96590,1366365,77948\\r\\n96606,0770802,89708\\r\\n96610,1276104,59967\\r\\n96616,1232200,87428\\r\\n96634,1757742,97795\\r\\n96655,1990314,84329\\r\\n96667,1845773,84169\\r\\n96691,1855325,71679\\r\\n96726,1710417,100529\\r\\n96728,1560747,68722\\r\\n96737,1343727,49049\\r\\n96792,0048260,4822\\r\\n96811,1855199,77016\\r\\n96815,2105044,84348\\r\\n96821,1659337,84892\\r\\n96829,2106476,103663\\r\\n96832,2076220,103328\\r\\n96849,1876451,88036\\r\\n96861,1397280,82675\\r\\n96863,1496422,82390\\r\\n96901,0385073,223195\\r\\n96911,1276419,88273\\r\\n97057,1613750,70667\\r\\n97168,1183919,90125\\r\\n97188,1922777,82507\\r\\n97225,0837562,76492\\r\\n97230,2014338,110354\\r\\n97254,0059709,109600\\r\\n97304,1024648,68734\\r\\n97306,1931533,86838\\r\\n97328,1872818,84306\\r\\n97393,2125653,84284\\r\\n97395,2130321,84351\\r\\n97470,1886493,75736\\r\\n97593,1120945,32904\\r\\n97639,2124803,84286\\r\\n97673,2147134,116167\\r\\n97742,1712170,94348\\r\\n97744,2048877,84172\\r\\n97752,1371111,83542\\r\\n97757,0424755,72867\\r\\n97817,0089852,164753\\r\\n97826,1638353,128158\\r\\n97836,1648179,87826\\r\\n97858,1655416,126797\\r\\n97860,1764234,64689\\r\\n97866,1966604,84287\\r\\n97870,1866249,113947\\r\\n97895,2092011,128248\\r\\n97913,1772341,82690\\r\\n97921,1045658,82693\\r\\n97923,1907668,87502\\r\\n97936,1781769,96724\\r\\n97938,0454876,87827\\r\\n97957,1984153,84194\\r\\n97994,1783798,102640\\r\\n98000,2172071,138122\\r\\n98056,1602620,86837\\r\\n98083,1753968,65851\\r\\n98122,1942884,80215\\r\\n98124,2313197,123025\\r\\n98126,1951166,121793\\r\\n98154,0443272,72976\\r\\n98160,1493157,135708\\r\\n98175,1545106,73935\\r\\n98230,1715873,58547\\r\\n98243,1446192,81188\\r\\n98279,2006040,101519\\r\\n98296,1667310,97614\\r\\n98369,2262308,119431\\r\\n98441,0030657,38716\\r\\n98458,0024854,31621\\r\\n98473,0059050,4311\\r\\n98491,2388725,140420\\r\\n98585,0975645,112336\\r\\n98587,2177511,96821\\r\\n98604,1798188,83389\\r\\n98607,1483797,71883\\r\\n98611,0030302,43157\\r\\n98615,0101522,55615\\r\\n98795,0221300,142051\\r\\n98803,0030371,38769\\r\\n98809,0903624,49051\\r\\n98829,0108624,10852\\r\\n98836,1477855,87504\\r\\n98908,1241017,40722\\r\\n98913,2014392,80717\\r\\n98933,1934269,117629\\r\\n98961,1790885,97630\\r\\n98963,2190367,97989\\r\\n99005,1925431,139567\\r\\n99007,1588173,82654\\r\\n99030,1901040,83186\\r\\n99085,0026835,43895\\r\\n99089,0028118,43268\\r\\n99106,1694020,82687\\r\\n99112,0790724,75780\\r\\n99114,1853728,68718\\r\\n99117,1758830,89492\\r\\n99145,1649419,80278\\r\\n99149,1707386,82695\\r\\n99220,1441951,121826\\r\\n99270,0025829,46159\\r\\n99273,0028315,27597\\r\\n99276,0031995,38727\\r\\n99296,1999995,97051\\r\\n99320,2119474,118683\\r\\n99415,1047540,88042\\r\\n99437,1783732,75761\\r\\n99468,2380247,124067\\r\\n99470,1748227,134597\\r\\n99574,2091473,133694\\r\\n99609,1242642,71208\\r\\n99615,1634300,76421\\r\\n99669,0159241,31022\\r\\n99675,2085002,127901\\r\\n99728,1321870,82682\\r\\n99741,1381404,87496\\r\\n99764,2396224,147538\\r\\n99795,1327628,85533\\r\\n99811,1931388,97610\\r\\n99813,2166834,142061\\r\\n99839,1956594,93087\\r\\n99846,2366308,135921\\r\\n99912,2023587,132232\\r\\n99917,2084989,145197\\r\\n99992,1770734,84336\\r\\n100017,2011953,84290\\r\\n100032,2040281,90603\\r\\n100034,1806911,83443\\r\\n100083,1333125,87818\\r\\n100106,2152198,128190\\r\\n100159,2023690,117974\\r\\n100163,1428538,60304\\r\\n100226,1853643,118677\\r\\n100272,1854513,127864\\r\\n100304,2081437,162145\\r\\n100306,0165623,18912\\r\\n100326,1389096,121824\\r\\n100365,2088714,133823\\r\\n100383,2053463,109421\\r\\n100390,2024432,109431\\r\\n100450,1704292,156078\\r\\n100487,1559547,109491\\r\\n100498,1606378,47964\\r\\n100517,2258685,130750\\r\\n100527,1702439,112949\\r\\n100553,2092588,134481\\r\\n100556,2375605,123678\\r\\n100581,2085910,84330\\r\\n100714,2209418,132344\\r\\n100745,2608732,50275\\r\\n100843,1954701,130739\\r\\n101025,1351685,81005\\r\\n101070,2258858,129112\\r\\n101076,1583421,72559\\r\\n101088,1682180,86825\\r\\n101106,2306745,157117\\r\\n101112,1623205,68728\\r\\n101142,0481499,49519\\r\\n101283,0790628,124459\\r\\n101285,2101441,122081\\r\\n101360,1911644,158011\\r\\n101362,2302755,117263\\r\\n101415,1763303,84199\\r\\n101525,1817273,97367\\r\\n101529,1935902,127867\\r\\n101531,1745862,173153\\r\\n101577,1517260,72710\\r\\n101612,1814621,144340\\r\\n101741,1924429,68727\\r\\n101850,0388644,89049\\r\\n101864,1483013,75612\\r\\n101884,1507563,59963\\r\\n101895,0453562,109410\\r\\n101904,1613092,86577\\r\\n101947,2007385,78056\\r\\n101962,2140203,110420\\r\\n102033,1980209,134374\\r\\n102123,1245492,109414\\r\\n102125,1300854,68721\\r\\n102165,2055765,174321\\r\\n102194,1935179,103731\\r\\n102217,0152183,25117\\r\\n102252,0084671,19156\\r\\n102278,1551630,165739\\r\\n102378,0762138,72525\\r\\n102396,1605777,82501\\r\\n102407,1343092,64682\\r\\n102445,1408101,54138\\r\\n102469,1684925,60270\\r\\n102481,2234155,116741\\r\\n102588,2366450,128216\\r\\n102666,0070233,20803\\r\\n102684,1602613,77987\\r\\n102686,1951261,109439\\r\\n102716,1905041,82992\\r\\n102720,0848537,116711\\r\\n102753,2404461,152780\\r\\n102792,2024519,137182\\r\\n102800,2347569,121986\\r\\n102819,1291580,119675\\r\\n102880,1815862,82700\\r\\n102903,1670345,75656\\r\\n102905,1426329,77805\\r\\n102993,1727388,147773\\r\\n102995,1772270,101998\\r\\n103042,0770828,49521\\r\\n103048,2179116,156700\\r\\n103107,2396566,159014\\r\\n103137,2132285,96936\\r\\n103141,1453405,62211\\r\\n103210,1776196,80518\\r\\n103221,1935065,120292\\r\\n103228,1663662,68726\\r\\n103235,1924396,152742\\r\\n103249,0816711,72190\\r\\n103253,1535108,68724\\r\\n103279,1932767,127373\\r\\n103299,1959332,126277\\r\\n103335,1690953,93456\\r\\n103339,2334879,117251\\r\\n103341,1213663,107985\\r\\n103372,2404463,136795\\r\\n103384,1210819,57201\\r\\n103444,2397619,81167\\r\\n103449,1829012,109099\\r\\n103502,1877797,136386\\r\\n103539,1714206,157386\\r\\n103543,2265534,157375\\r\\n103596,2724064,205321\\r\\n103624,2334649,157354\\r\\n103655,0790736,49524\\r\\n103659,2820466,183011\\r\\n103671,1918886,129507\\r\\n103688,1457767,138843\\r\\n103731,1085362,23431\\r\\n103755,1860353,77950\\r\\n103772,1430132,76170\\r\\n103801,2265398,172533\\r\\n103810,1821694,146216\\r\\n103813,0092549,59558\\r\\n103819,2234025,198062\\r\\n103865,2053423,192126\\r\\n103883,1272878,136400\\r\\n103980,2334873,160588\\r\\n103984,2358891,179144\\r\\n104069,2510998,185574\\r\\n104074,1854564,76285\\r\\n104076,2017020,77931\\r\\n104078,0469021,177699\\r\\n104119,0061253,241340\\r\\n104129,2016940,76544\\r\\n104211,1723121,138832\\r\\n104218,2191701,109418\\r\\n104241,1650554,59859\\r\\n104243,1411250,87421\\r\\n104245,1691917,151960\\r\\n104272,2545118,158999\\r\\n104283,2013293,149870\\r\\n104303,2357129,115782\\r\\n104312,1538403,123553\\r\\n104321,2364949,154282\\r\\n104337,1327773,132363\\r\\n104339,2294677,157360\\r\\n104374,2194499,122906\\r\\n104419,1494772,30061\\r\\n104441,2005374,199373\\r\\n104457,1853739,83899\\r\\n104590,1153040,33196\\r\\n104595,2042520,198342\\r\\n104597,1511476,180318\\r\\n104662,0074533,42244\\r\\n104726,2237822,138217\\r\\n104757,1822381,185444\\r\\n104760,2167202,146227\\r\\n104841,1454468,49047\\r\\n104863,1486834,212716\\r\\n104879,1392214,146233\\r\\n104881,1206543,164457\\r\\n104906,1985019,156711\\r\\n104913,1979320,96721\\r\\n104925,2404311,112205\\r\\n104944,2370248,169813\\r\\n105037,1758795,129139\\r\\n105121,1844203,121676\\r\\n105197,1821549,129670\\r\\n105211,2390361,209263\\r\\n105213,2229499,138697\\r\\n105246,2027140,157820\\r\\n105254,2332579,157409\\r\\n105351,2364841,146238\\r\\n105355,2278871,152584\\r\\n105429,2215151,159008\\r\\n105468,1985966,109451\\r\\n105504,1535109,109424\\r\\n105585,2002718,106747\\r\\n105593,1450321,85889\\r\\n105715,1407061,38093\\r\\n105731,1939659,133805\\r\\n105755,2193215,109091\\r\\n105763,0077247,34023\\r\\n105769,1821641,152795\\r\\n105844,2024544,76203\\r\\n105954,2017038,152747\\r\\n106002,1731141,80274\\r\\n106004,0056219,37342\\r\\n106011,2616880,200481\\r\\n106022,2446040,213121\\r\\n106062,3063516,208134\\r\\n106072,1981115,76338\\r\\n106100,0790636,152532\\r\\n106111,3004634,226632\\r\\n106144,2304426,194101\\r\\n106204,2299842,123377\\r\\n106236,2204371,184149\\r\\n106330,1204975,137093\\r\\n106332,2492916,159151\\r\\n106397,0437489,121555\\r\\n106417,1796406,87380\\r\\n106438,2431286,205220\\r\\n106441,0816442,203833\\r\\n106452,2718492,209274\\r\\n106471,1485763,41498\\r\\n106473,2375379,176983\\r\\n106487,1951264,101299\\r\\n106489,1170358,57158\\r\\n106491,1335975,64686\\r\\n106540,2387559,146239\\r\\n106542,1196948,41602\\r\\n106642,2779318,253941\\r\\n106696,2294629,109445\\r\\n106762,1703049,51859\\r\\n106766,2042568,86829\\r\\n106782,0993846,106646\\r\\n106839,2304771,192136\\r\\n106870,2231554,134366\\r\\n106873,0860907,75629\\r\\n106883,1462901,174311\\r\\n106916,1800241,168672\\r\\n106918,0359950,116745\\r\\n106920,1798709,152601\\r\\n107042,3385404,238478\\r\\n107057,1285482,176297\\r\\n107069,1091191,193756\\r\\n107081,0057714,18624\\r\\n107083,2235902,197033\\r\\n107141,2140373,140823\\r\\n107314,1321511,87516\\r\\n107348,1229340,109443\\r\\n107382,2319863,174325\\r\\n107406,1706620,110415\\r\\n107412,0060584,20878\\r\\n107447,2166616,158990\\r\\n107516,2836166,194188\\r\\n107555,0845439,43766\\r\\n107559,1384927,91551\\r\\n107636,2513616,199782\\r\\n107649,1954315,186929\\r\\n107702,1661382,64807\\r\\n107769,2473682,227348\\r\\n107771,1714915,152603\\r\\n107910,2113683,124623\\r\\n107945,1847548,122796\\r\\n107953,2263944,126963\\r\\n107978,2331143,177945\\r\\n107999,0142244,39102\\r\\n108076,2459100,173480\\r\\n108090,0142250,39148\\r\\n108156,1408253,168530\\r\\n108188,1205537,137094\\r\\n108190,1840309,157350\\r\\n108192,1094249,6418\\r\\n108447,1734067,71622\\r\\n108506,2328549,174671\\r\\n108514,2178470,185008\\r\\n108548,0898266,\\r\\n108551,1302559,69746\\r\\n108583,0072500,\\r\\n108601,1714833,137968\\r\\n108689,1418377,100241\\r\\n108709,0995832,54102\\r\\n108715,1609479,157099\\r\\n108727,1937390,110414\\r\\n108729,2316411,181886\\r\\n108795,1186373,15359\\r\\n108873,0210843,44516\\r\\n108928,2177771,152760\\r\\n108932,1490017,137106\\r\\n108945,1234721,97020\\r\\n108949,2172985,209247\\r\\n108979,0213338,314040\\r\\n108981,2382009,249397\\r\\n109042,1545660,74461\\r\\n109074,2204340,120143\\r\\n109161,2406252,197082\\r\\n109183,1878942,99367\\r\\n109187,2333804,157834\\r\\n109191,1837709,137321\\r\\n109205,0081242,206822\\r\\n109249,0105744,12124\\r\\n109295,2511428,210047\\r\\n109317,1978532,249923\\r\\n109359,1815717,212721\\r\\n109372,1826590,222899\\r\\n109374,2278388,120467\\r\\n109483,1800246,225565\\r\\n109487,0816692,157336\\r\\n109576,2193265,205724\\r\\n109578,2024469,225574\\r\\n109673,1253863,53182\\r\\n109687,1385956,202141\\r\\n109740,2910274,248774\\r\\n109742,2389182,175291\\r\\n109846,0864835,82703\\r\\n109848,1441395,97370\\r\\n109850,2369135,136797\\r\\n109853,2355495,242042\\r\\n109864,2771372,177494\\r\\n109895,2170299,209403\\r\\n110058,1327820,25541\\r\\n110102,1843866,100402\\r\\n110110,2567712,209276\\r\\n110127,1959490,86834\\r\\n110194,2737310,173455\\r\\n110297,2281587,145220\\r\\n110348,2524674,208277\\r\\n110352,0377309,9753\\r\\n110453,2223990,200505\\r\\n110461,2364975,191294\\r\\n110501,2265171,180299\\r\\n110553,1872181,102382\\r\\n110586,2234003,157832\\r\\n110591,2388715,157547\\r\\n110611,1179031,244509\\r\\n110645,2404738,179538\\r\\n110655,2357291,172385\\r\\n110730,2209764,157353\\r\\n110748,1296899,59726\\r\\n110752,0061988,42697\\r\\n110771,2203939,193610\\r\\n110781,0279967,12242\\r\\n110826,1430612,254473\\r\\n110858,0087263,54752\\r\\n110871,2178256,168742\\r\\n110873,2113681,145247\\r\\n110882,2692904,210479\\r\\n111113,2004420,195589\\r\\n111228,2525342,258476\\r\\n111235,1935156,191720\\r\\n111249,2404181,205601\\r\\n111251,1951181,152599\\r\\n111360,2872732,240832\\r\\n111362,1877832,127585\\r\\n111364,0831387,124905\\r\\n111384,2359024,188166\\r\\n111443,2883512,212778\\r\\n111486,2294473,120852\\r\\n111505,0064606,40721\\r\\n111529,1684226,113833\\r\\n111617,1086772,232672\\r\\n111622,1980929,198277\\r\\n111624,3082826,253270\\r\\n111659,1587310,102651\\r\\n111663,2784512,254474\\r\\n111680,1483324,194722\\r\\n111743,2557490,188161\\r\\n111759,1631867,137113\\r\\n111781,2381249,177677\\r\\n111795,1647668,198185\\r\\n111913,2560102,248212\\r\\n111921,2582846,222935\\r\\n111931,2111392,174682\\r\\n112006,2112281,82881\\r\\n112062,2018086,110428\\r\\n112070,2172584,157851\\r\\n112112,2246887,228028\\r\\n112138,2294449,187017\\r\\n112171,0455944,156022\\r\\n112175,1646971,82702\\r\\n112183,2562232,194662\\r\\n112277,2386278,146243\\r\\n112290,1065073,85350\\r\\n112303,2239832,184098\\r\\n112334,3268458,250658\\r\\n112370,2109248,91314\\r\\n112399,2714900,169607\\r\\n112421,1605717,171372\\r\\n112450,2398249,180296\\r\\n112460,2980706,218836\\r\\n112497,2103254,226486\\r\\n112515,2321549,242224\\r\\n112550,2844798,267999\\r\\n112552,2582802,244786\\r\\n112556,2267998,210577\\r\\n112577,0081758,92323\\r\\n112582,2382298,250766\\r\\n112623,2103281,119450\\r\\n112653,3445270,250700\\r\\n112655,1763264,123109\\r\\n112689,3078242,211052\\r\\n112735,3244512,265349\\r\\n112749,2465146,253235\\r\\n112767,2182256,253310\\r\\n112788,1956620,225886\\r\\n112804,2884206,244267\\r\\n112818,2975578,238636\\r\\n112850,2380331,214075\\r\\n112852,2015381,118340\\r\\n112897,2333784,138103\\r\\n112911,1267297,184315\\r\\n112921,2956808,279414\\r\\n112940,1972571,157849\\r\\n113064,2967006,242088\\r\\n113186,2402603,209269\\r\\n113207,2473602,239566\\r\\n113220,3091304,212849\\r\\n113225,2870756,229297\\r\\n113252,3504048,253306\\r\\n113275,2980648,228194\\r\\n113345,1617661,76757\\r\\n113348,1291150,98566\\r\\n113378,0435651,227156\\r\\n113416,1396523,286709\\r\\n113453,1924435,193893\\r\\n113532,3097204,242022\\r\\n113565,2383068,211067\\r\\n113573,0458481,189\\r\\n113640,2517658,265010\\r\\n113705,2737050,221902\\r\\n113741,2866360,220289\\r\\n113780,2870612,256274\\r\\n113829,2756032,242090\\r\\n113862,2980592,241848\\r\\n113938,3889036,285597\\r\\n114028,3169706,234200\\r\\n114044,3177316,254191\\r\\n114060,1600196,154400\\r\\n114074,1571249,244772\\r\\n114082,0064064,3171\\r\\n114122,0087150,135418\\r\\n114180,1790864,198663\\r\\n114254,3478510,261855\\r\\n114265,2034031,244264\\r\\n114342,3630276,265189\\r\\n114459,2238050,157825\\r\\n114464,0074621,17200\\r\\n114552,0787474,170687\\r\\n114601,1371150,239678\\r\\n114635,3521134,267480\\r\\n114662,2179136,190859\\r\\n114670,3099498,246403\\r\\n114707,1528071,149509\\r\\n114762,2140619,286554\\r\\n114766,0074768,56386\\r\\n114795,0829150,49017\\r\\n114818,2494280,227300\\r\\n114925,2326612,244761\\r\\n114935,2397535,206487\\r\\n115122,3416742,246741\\r\\n115139,0041238,43398\\r\\n115147,1972779,239571\\r\\n115149,2911666,245891\\r\\n115151,2556874,208869\\r\\n115170,1872194,205587\\r\\n115174,2639344,244268\\r\\n115210,2713180,228150\\r\\n115216,2720680,266285\\r\\n115231,2170593,239563\\r\\n115502,2509850,289727\\r\\n115534,1204977,242512\\r\\n115569,2872718,242582\\r\\n115617,2245084,177572\\r\\n115624,1407972,49706\\r\\n115664,2262227,228326\\r\\n115680,2669336,273271\\r\\n115713,0470752,264660\\r\\n115877,2175842,116440\\r\\n115881,0443424,98622\\r\\n115927,0910865,14830\\r\\n116012,0055633,86616\\r\\n116136,3012698,289314\\r\\n116161,1100089,87492\\r\\n116207,2249221,185567\\r\\n116397,1772264,207933\\r\\n116413,2870808,260001\\r\\n116419,2968804,256092\\r\\n116503,2282016,272692\\r\\n116660,2617828,167581\\r\\n116797,2084970,205596\\r\\n116799,1791528,171274\\r\\n116823,1951265,131631\\r\\n116849,2751310,295315\\r\\n116855,1702014,237791\\r\\n116887,1528100,147441\\r\\n116897,3011894,265195\\r\\n116939,0100912,9742\\r\\n116977,2096672,100042\\r\\n116985,2064968,206821\\r\\n117107,3128900,261037\\r\\n117121,1034306,15741\\r\\n117123,2235108,114750\\r\\n117176,2980516,266856\\r\\n117192,2986512,282848\\r\\n117434,2793490,254194\\r\\n117444,1865505,110416\\r\\n117456,3125324,241771\\r\\n117511,3762944,303623\\r\\n117529,0369610,135397\\r\\n117533,4044364,293310\\r\\n117590,2170439,227159\\r\\n117851,1911658,270946\\r\\n117871,3007512,256917\\r\\n117895,4046784,294254\\r\\n118082,1567437,244458\\r\\n118105,3596200,303742\\r\\n118248,1274586,297596\\r\\n118260,2781832,207774\\r\\n118326,2543702,270005\\r\\n118334,0102585,17792\\r\\n118354,1216491,245916\\r\\n118468,0803038,158483\\r\\n118696,2310332,122917\\r\\n118700,1020072,273895\\r\\n118702,1809398,227306\\r\\n118814,2139555,277547\\r\\n118880,2326554,252171\\r\\n118890,0148668,34505\\r\\n118898,2937898,241239\\r\\n118900,2305051,228970\\r\\n118924,2784678,284296\\r\\n118985,1126590,87093\\r\\n118997,2180411,224141\\r\\n119068,3179568,243684\\r\\n119141,2788710,228967\\r\\n119145,2802144,207703\\r\\n119155,2692250,181533\\r\\n119655,1121096,68737\\r\\n120392,2965412,276908\\r\\n120466,1823672,198184\\r\\n120635,2446042,260346\\r\\n120637,2717822,201088\\r\\n120783,2452200,294652\\r\\n120799,1340138,87101\\r\\n120805,1560169,26621\\r\\n120821,0080118,149362\\r\\n121113,0212235,4226\\r\\n121126,0075809,24655\\r\\n121171,3264102,256876\\r\\n121231,3235888,270303\\r\\n121491,0412888,3539\\r\\n121618,0016938,262176\\r\\n122490,2761578,256740\\r\\n122882,1392190,76341\\r\\n122886,2488496,140607\\r\\n122888,2638144,271969\\r\\n122890,0803096,68735\\r\\n122892,2395427,99861\\r\\n122900,0478970,102899\\r\\n122902,1502712,166424\\r\\n122904,1431045,293660\\r\\n122920,3498820,271110\\r\\n122924,3385516,246655\\r\\n122932,2113659,268171\\r\\n123663,0023322,53575\\r\\n123695,0053308,47925\\r\\n123947,3442006,284276\\r\\n124859,2039393,284536\\r\\n125916,2322441,216015\\r\\n126006,0156031,81294\\r\\n126106,0167030,53285\\r\\n126420,2923316,250066\\r\\n126430,0374463,189197\\r\\n126548,1666801,272693\\r\\n127052,0059550,20875\\r\\n127096,2436386,227719\\r\\n127098,4368814,321594\\r\\n127108,2381111,167073\\r\\n127114,3416744,249688\\r\\n127124,3236120,310121\\r\\n127136,2273657,245706\\r\\n127144,1674785,319070\\r\\n127152,4257858,318224\\r\\n127158,3986532,318225\\r\\n127164,4284010,318044\\r\\n127178,2891174,283235\\r\\n127194,3534602,308638\\r\\n127198,3850214,308639\\r\\n127202,2582496,308369\\r\\n127204,3844362,308024\\r\\n127206,4104022,308027\\r\\n127212,0420293,308032\\r\\n127319,1850397,72784\\r\\n127728,0847833,54325\\r\\n128235,0036391,43513\\r\\n128360,3460252,273248\\r\\n128512,3622592,286565\\r\\n128520,0884732,252838\\r\\n128592,3181822,241251\\r\\n128606,3544082,311291\\r\\n128616,3306858,311301\\r\\n128620,4226388,320007\\r\\n128846,0195691,21585\\r\\n129009,2623502,170750\\r\\n129191,0066922,42590\\r\\n129250,2933474,325358\\r\\n129313,2392672,179150\\r\\n129354,2381941,256591\\r\\n129364,1707380,246127\\r\\n129428,2555736,268238\\r\\n129514,0963207,13643\\r\\n129653,1710393,220620\\r\\n129657,2401097,290764\\r\\n129659,2097298,228203\\r\\n129737,2358925,239573\\r\\n129937,2199571,241554\\r\\n130073,1661199,150689\\r\\n130083,2917388,228968\\r\\n130087,3203616,238215\\r\\n130351,1185418,70027\\r\\n130448,1029360,243688\\r\\n130450,3332064,266647\\r\\n130452,1791682,252512\\r\\n130490,2908446,262500\\r\\n130520,2224026,228161\\r\\n130522,0147926,20377\\r\\n130576,2649554,245703\\r\\n130580,3720788,275060\\r\\n130628,3318220,244063\\r\\n130634,2820852,168259\\r\\n130642,2944198,228973\\r\\n130682,2207484,256030\\r\\n130960,0468463,39041\\r\\n130970,0484855,13015\\r\\n130980,2634236,137221\\r\\n131013,2561572,257091\\r\\n131168,2764784,254578\\r\\n131451,3280916,299551\\r\\n131714,2493486,308504\\r\\n131724,4299972,321640\\r\\n131796,2404425,304357\\r\\n131830,3399024,269148\\r\\n132046,1964418,158852\\r\\n132074,3399112,250665\\r\\n132146,2543336,229182\\r\\n132157,3450650,256961\\r\\n132333,3149640,278990\\r\\n132458,3660770,295592\\r\\n132462,3622332,313074\\r\\n132480,1655441,293863\\r\\n132488,2404299,319389\\r\\n132496,1772288,256924\\r\\n132547,2523832,325113\\r\\n132549,4270516,309304\\r\\n132618,2044801,192712\\r\\n132796,2126355,254128\\r\\n132800,2788716,284537\\r\\n132888,3098812,300302\\r\\n132952,0200087,31524\\r\\n132961,2935476,250734\\r\\n133195,2679042,249070\\r\\n133281,3623726,275601\\r\\n133295,3845960,314407\\r\\n133365,3155242,306482\\r\\n133377,3327624,301728\\r\\n133419,2848292,254470\\r\\n133545,2980472,258099\\r\\n133645,2402927,258480\\r\\n133771,3464902,254320\\r\\n133782,1881002,287424\\r\\n133798,2967224,268920\\r\\n133824,1883367,94365\\r\\n134025,1739304,334130\\r\\n134130,3659388,286217\\r\\n134158,2948790,333381\\r\\n134170,3472226,251516\\r\\n134246,3247714,334074\\r\\n134368,3079380,238713\\r\\n134393,3152624,271718\\r\\n134528,1243974,222936\\r\\n134569,1767372,245906\\r\\n134783,1674771,188222\\r\\n134853,2096673,150540\\r\\n134859,2415458,307931\\r\\n134881,0903657,271714\\r\\n135133,1951266,131634\\r\\n135137,2120120,257344\\r\\n135264,0186726,34766\\r\\n135266,0271271,29742\\r\\n135268,0379060,34765\\r\\n135436,2709768,328111\\r\\n135508,4573800,343921\\r\\n135518,2140379,238615\\r\\n135532,1618442,274854\\r\\n135536,1386697,297761\\r\\n135567,1628841,47933\\r\\n135569,2660888,188927\\r\\n135861,2637276,214756\\r\\n135887,2293640,211672\\r\\n136016,1979388,105864\\r\\n136018,1355683,261023\\r\\n136020,2379713,206647\\r\\n136305,3899796,331446\\r\\n136445,0246641,34509\\r\\n136447,0246645,34513\\r\\n136449,1260502,14092\\r\\n136562,2080374,321697\\r\\n136592,0113112,196257\\r\\n136598,1524930,296099\\r\\n136602,2428170,250574\\r\\n136654,2967008,254024\\r\\n136666,2758904,239568\\r\\n136800,2145829,240483\\r\\n136816,3525346,309887\\r\\n136864,2975590,209112\\r\\n137337,2870648,331781\\r\\n137403,0259017,102016\\r\\n137595,2268016,264999\\r\\n137857,3040964,278927\\r\\n138036,1638355,203801\\r\\n138204,3895884,287689\\r\\n138208,3488710,285783\\r\\n138258,3121332,308077\\r\\n138546,2796678,301748\\r\\n138610,2309260,299245\\r\\n138696,1634334,54155\\r\\n138698,3611354,284362\\r\\n139116,3605164,259679\\r\\n139130,0465316,62931\\r\\n139385,1663202,281957\\r\\n139415,3715320,282984\\r\\n139620,0263438,81549\\r\\n139642,1798684,307081\\r\\n139644,3397884,273481\\r\\n139757,3518012,319067\\r\\n139855,2401878,291270\\r\\n139915,1725986,253344\\r\\n140110,2361509,257211\\r\\n140152,3215846,318033\\r\\n140174,3170832,264644\\r\\n140237,3687398,277546\\r\\n140247,4178092,328425\\r\\n140265,0246643,25161\\r\\n140267,4263482,310131\\r\\n140523,3567288,298312\\r\\n140711,3316948,261392\\r\\n140715,1398426,277216\\r\\n140725,3813310,310133\\r\\n140739,0419722,41423\\r\\n140741,0218298,41636\\r\\n140743,0173906,19654\\r\\n140745,0312297,19828\\r\\n140747,1646876,40205\\r\\n140749,0455299,23427\\r\\n140751,0466669,32633\\r\\n140753,2404645,146778\\r\\n140755,0494253,77583\\r\\n140757,1137994,19369\\r\\n140759,1332100,36041\\r\\n140761,0300996,29063\\r\\n140763,1374841,185768\\r\\n140816,3824458,308084\\r\\n140880,0838192,60850\\r\\n140928,2446980,274479\\r\\n141124,0396587,37091\\r\\n141422,3077214,245168\\r\\n141668,3832914,323272\\r\\n141688,3569230,276907\\r\\n141718,3705412,323373\\r\\n141749,0810819,306819\\r\\n141866,4062536,313922\\r\\n141886,0116729,5900\\r\\n141890,1365050,283587\\r\\n141956,4255110,345468\\r\\n142068,2866824,294086\\r\\n142192,0048064,65014\\r\\n142240,1830792,81704\\r\\n142258,4145178,319076\\r\\n142422,3530002,296100\\r\\n142448,2719848,253412\\r\\n142488,1895587,314365\\r\\n142507,1596345,245698\\r\\n142536,2503944,295964\\r\\n142997,2510894,159824\\r\\n143255,1957938,301228\\r\\n143257,3774466,330112\\r\\n143377,2049586,285689\\r\\n143385,3682448,296098\\r\\n143410,4034452,316042\\r\\n143472,1694021,244316\\r\\n143657,2400463,306947\\r\\n143859,0475290,270487\\r\\n144172,3286052,334536\\r\\n144620,1051904,257445\\r\\n144714,3862750,304372\\r\\n144976,2494362,294963\\r\\n145150,2910904,298382\\r\\n145307,0102996,45147\\r\\n145775,1730714,342786\\r\\n145839,3322364,321741\\r\\n145935,2452042,227973\\r\\n146309,4272866,315465\\r\\n146443,1408972,44282\\r\\n146501,2474310,254005\\r\\n146604,3282858,306952\\r\\n146656,3076658,312221\\r\\n146682,2980626,324325\\r\\n146688,1291570,339527\\r\\n147006,4195278,332534\\r\\n147010,2905772,193544\\r\\n147037,0367097,92326\\r\\n147426,3646462,265351\\r\\n147845,3275216,323679\\r\\n148168,3698408,295748\\r\\n148238,4537842,364067\\r\\n148372,3430416,333555\\r\\n148482,3859076,300693\\r\\n148626,1596363,318846\\r\\n148652,2479478,347969\\r\\n148881,4171032,303867\\r\\n148888,1608290,329833\\r\\n148956,1292566,259694\\r\\n149352,1528854,274167\\r\\n149354,1850457,266294\\r\\n149406,2267968,140300\\r\\n149532,5248968,372981\\r\\n149572,1286126,24426\\r\\n149590,3703908,344041\\r\\n149606,3735246,362045\\r\\n149612,2112277,256687\\r\\n149830,1374989,58431\\r\\n150401,3511596,325173\\r\\n150548,3845232,370646\\r\\n150856,5189670,374454\\r\\n151307,5278868,373355\\r\\n151639,3882082,321258\\r\\n152017,2674426,296096\\r\\n152025,5161502,372315\\r\\n152057,0790770,316000\\r\\n152077,1179933,333371\\r\\n152079,3300542,267860\\r\\n152081,2948356,269149\\r\\n152091,3381008,267193\\r\\n152173,0088263,92060\\r\\n152844,0165473,104548\\r\\n153584,1239446,42346\\r\\n155064,1974419,301365\\r\\n155392,3766394,320588\\r\\n155611,4076284,326649\\r\\n155820,4139124,342521\\r\\n156025,5480340,387893\\r\\n156387,3544112,369557\\r\\n156607,2381991,290595\\r\\n156609,4438848,325133\\r\\n156726,5022702,376570\\r\\n157200,2241351,303858\\r\\n157296,2277860,127380\\r\\n157407,3212232,332411\\r\\n157667,4824302,353069\\r\\n158238,3799694,290250\\r\\n158314,1054478,108176\\r\\n158528,4052882,332567\\r\\n158783,4016934,290098\\r\\n158956,2667380,384798\\r\\n159093,3110958,291805\\r\\n159462,0155350,26677\\r\\n159690,3949660,308531\\r\\n159755,3960412,341012\\r\\n159858,3065204,259693\\r\\n159972,2674430,328429\\r\\n160080,1289401,43074\\r\\n160271,1489889,302699\\r\\n160438,4196776,324668\\r\\n160440,2263814,278348\\r\\n160563,0918940,258489\\r\\n160565,4094724,316727\\r\\n160567,2823054,316023\\r\\n160590,2751904,177869\\r\\n160656,1639084,353571\\r\\n160718,5613056,399106\\r\\n160954,3531824,328387\\r\\n161084,4465220,368620\\r\\n161155,5794766,401387\\r\\n161336,5278462,373348\\r\\n161582,2582782,338766\\r\\n161594,5595168,390734\\r\\n161830,3732950,314420\\r\\n161918,4831420,390989\\r\\n161944,0255313,159550\\r\\n162376,4574334,410612\\r\\n162542,5165344,392572\\r\\n162672,3859980,402672\\r\\n163056,4262980,315011\\r\\n163949,2531318,391698\\r\\n164977,0027660,137608\\r\\n164979,3447228,410803\\r\\n'}"
      ]
     },
     "execution_count": 43,
     "metadata": {
      "tags": []
     },
     "output_type": "execute_result"
    }
   ],
   "source": [
    "#uplaod links\n",
    "from google.colab import files\n",
    "files.upload()"
   ]
  },
  {
   "cell_type": "code",
   "execution_count": 19,
   "metadata": {
    "colab": {},
    "colab_type": "code",
    "id": "p9HJQVx_MzFN"
   },
   "outputs": [],
   "source": [
    "links_small = pd.read_csv(os.path.join('data','links_small.csv'))\n",
    "links_small = links_small[links_small['tmdbId'].notnull()]['tmdbId'].astype('int')"
   ]
  },
  {
   "cell_type": "code",
   "execution_count": 20,
   "metadata": {
    "colab": {},
    "colab_type": "code",
    "id": "TfZstrSWNO6F"
   },
   "outputs": [],
   "source": [
    "#didn't understand the reason behind this\n",
    "md = md.drop([19730, 29503, 35587])"
   ]
  },
  {
   "cell_type": "code",
   "execution_count": 21,
   "metadata": {
    "colab": {},
    "colab_type": "code",
    "id": "igPbMyphNegv"
   },
   "outputs": [],
   "source": [
    "md['id'] = md['id'].astype('int')"
   ]
  },
  {
   "cell_type": "code",
   "execution_count": 22,
   "metadata": {
    "colab": {
     "base_uri": "https://localhost:8080/",
     "height": 34
    },
    "colab_type": "code",
    "id": "GOFVrXxzNsfP",
    "outputId": "eabcfb3b-1a0c-436e-f22b-6d13c626aaab"
   },
   "outputs": [
    {
     "data": {
      "text/plain": [
       "(9099, 25)"
      ]
     },
     "execution_count": 22,
     "metadata": {},
     "output_type": "execute_result"
    }
   ],
   "source": [
    "smd = md[md['id'].isin(links_small)]\n",
    "smd.shape"
   ]
  },
  {
   "cell_type": "code",
   "execution_count": 23,
   "metadata": {
    "colab": {},
    "colab_type": "code",
    "id": "ZZU-nKUEN00v"
   },
   "outputs": [],
   "source": [
    "smd['tagline'] = smd['tagline'].fillna('')\n",
    "smd['discription'] = smd['overview'] + smd['tagline']\n",
    "smd['discription'] = smd['discription'].fillna('')"
   ]
  },
  {
   "cell_type": "code",
   "execution_count": 24,
   "metadata": {
    "colab": {},
    "colab_type": "code",
    "id": "bAxLuFpmOKXI"
   },
   "outputs": [],
   "source": [
    "tf = TfidfVectorizer(analyzer = 'word', ngram_range = (1, 2), min_df = 0, stop_words = 'english')\n",
    "tfidf_matrix = tf.fit_transform(smd['discription'])"
   ]
  },
  {
   "cell_type": "code",
   "execution_count": 25,
   "metadata": {
    "colab": {
     "base_uri": "https://localhost:8080/",
     "height": 34
    },
    "colab_type": "code",
    "id": "ks82rjYWOeBn",
    "outputId": "8b007840-721d-4eff-f4c3-08c72dcd12ef"
   },
   "outputs": [
    {
     "data": {
      "text/plain": [
       "(9099, 268124)"
      ]
     },
     "execution_count": 25,
     "metadata": {},
     "output_type": "execute_result"
    }
   ],
   "source": [
    "tfidf_matrix.shape"
   ]
  },
  {
   "cell_type": "code",
   "execution_count": 26,
   "metadata": {
    "colab": {},
    "colab_type": "code",
    "id": "EhZkfojfOs1r"
   },
   "outputs": [],
   "source": [
    "#cosine similarity\n",
    "cosine_sim = linear_kernel(tfidf_matrix, tfidf_matrix)"
   ]
  },
  {
   "cell_type": "code",
   "execution_count": 27,
   "metadata": {
    "colab": {
     "base_uri": "https://localhost:8080/",
     "height": 50
    },
    "colab_type": "code",
    "id": "6GDcuOWGO3Uf",
    "outputId": "8aef9e5b-7836-4394-9ad0-1169e3999f4b"
   },
   "outputs": [
    {
     "data": {
      "text/plain": [
       "array([1.        , 0.00680476, 0.        , ..., 0.        , 0.00344913,\n",
       "       0.        ])"
      ]
     },
     "execution_count": 27,
     "metadata": {},
     "output_type": "execute_result"
    }
   ],
   "source": [
    "cosine_sim[0]"
   ]
  },
  {
   "cell_type": "code",
   "execution_count": 28,
   "metadata": {
    "colab": {},
    "colab_type": "code",
    "id": "XpeFg41PO6XI"
   },
   "outputs": [],
   "source": [
    "smd = smd.reset_index()\n",
    "titles = smd['title']\n",
    "indices = pd.Series(smd.index, index = smd['title'])"
   ]
  },
  {
   "cell_type": "code",
   "execution_count": 29,
   "metadata": {
    "colab": {},
    "colab_type": "code",
    "id": "rKhaOo97PH6n"
   },
   "outputs": [],
   "source": [
    "def get_recommendations(title):\n",
    "  idx = indices[title]\n",
    "  sim_scores = list(enumerate(cosine_sim[idx]))\n",
    "  sim_scores = sorted(sim_scores, key = lambda x: x[1], reverse = True)\n",
    "  sim_scores = sim_scores[1:31]\n",
    "  movie_indices = [i[0] for i in sim_scores]\n",
    "  return titles.iloc[movie_indices]"
   ]
  },
  {
   "cell_type": "code",
   "execution_count": 30,
   "metadata": {
    "colab": {
     "base_uri": "https://localhost:8080/",
     "height": 202
    },
    "colab_type": "code",
    "id": "hIhzw5VcPmBn",
    "outputId": "8314cc5f-b022-49f1-872f-34e2d519780e"
   },
   "outputs": [
    {
     "data": {
      "text/plain": [
       "973      The Godfather: Part II\n",
       "8387                 The Family\n",
       "3509                       Made\n",
       "4196         Johnny Dangerously\n",
       "29               Shanghai Triad\n",
       "5667                       Fury\n",
       "2412             American Movie\n",
       "1582    The Godfather: Part III\n",
       "4221                    8 Women\n",
       "2159              Summer of Sam\n",
       "Name: title, dtype: object"
      ]
     },
     "execution_count": 30,
     "metadata": {},
     "output_type": "execute_result"
    }
   ],
   "source": [
    "get_recommendations('The Godfather').head(10)"
   ]
  },
  {
   "cell_type": "code",
   "execution_count": 31,
   "metadata": {
    "colab": {
     "base_uri": "https://localhost:8080/",
     "height": 202
    },
    "colab_type": "code",
    "id": "U0XEEdYzPrxn",
    "outputId": "bce2b4b8-01c1-4961-fa40-8c9af2b44f73"
   },
   "outputs": [
    {
     "data": {
      "text/plain": [
       "7931                      The Dark Knight Rises\n",
       "132                              Batman Forever\n",
       "1113                             Batman Returns\n",
       "8227    Batman: The Dark Knight Returns, Part 2\n",
       "7565                 Batman: Under the Red Hood\n",
       "524                                      Batman\n",
       "7901                           Batman: Year One\n",
       "2579               Batman: Mask of the Phantasm\n",
       "2696                                        JFK\n",
       "8165    Batman: The Dark Knight Returns, Part 1\n",
       "Name: title, dtype: object"
      ]
     },
     "execution_count": 31,
     "metadata": {},
     "output_type": "execute_result"
    }
   ],
   "source": [
    "get_recommendations('The Dark Knight').head(10)"
   ]
  },
  {
   "cell_type": "code",
   "execution_count": 0,
   "metadata": {
    "colab": {},
    "colab_type": "code",
    "id": "3x6hlndSP7u_"
   },
   "outputs": [],
   "source": [
    "#---------------------------------------------- MetaData Based Recommender ----------------------------------------------"
   ]
  },
  {
   "cell_type": "code",
   "execution_count": 59,
   "metadata": {
    "colab": {
     "base_uri": "https://localhost:8080/",
     "height": 378,
     "resources": {
      "http://localhost:8080/nbextensions/google.colab/files.js": {
       "data": "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",
       "headers": [
        [
         "content-type",
         "application/javascript"
        ]
       ],
       "ok": true,
       "status": 200,
       "status_text": ""
      }
     }
    },
    "colab_type": "code",
    "id": "nxCtiHpXoTPo",
    "outputId": "8da993af-ebd9-4116-936e-7259d9f916d4"
   },
   "outputs": [
    {
     "data": {
      "text/html": [
       "\n",
       "     <input type=\"file\" id=\"files-86a65dad-e0e8-4770-96c7-12510d391a6d\" name=\"files[]\" multiple disabled />\n",
       "     <output id=\"result-86a65dad-e0e8-4770-96c7-12510d391a6d\">\n",
       "      Upload widget is only available when the cell has been executed in the\n",
       "      current browser session. Please rerun this cell to enable.\n",
       "      </output>\n",
       "      <script src=\"/nbextensions/google.colab/files.js\"></script> "
      ],
      "text/plain": [
       "<IPython.core.display.HTML object>"
      ]
     },
     "metadata": {
      "tags": []
     },
     "output_type": "display_data"
    },
    {
     "name": "stdout",
     "output_type": "stream",
     "text": [
      "Saving credits.csv to credits.csv\n"
     ]
    },
    {
     "ename": "KeyboardInterrupt",
     "evalue": "ignored",
     "output_type": "error",
     "traceback": [
      "\u001b[0;31m---------------------------------------------------------------------------\u001b[0m",
      "\u001b[0;31mKeyboardInterrupt\u001b[0m                         Traceback (most recent call last)",
      "\u001b[0;32m<ipython-input-59-5c2e8a8d365b>\u001b[0m in \u001b[0;36m<module>\u001b[0;34m()\u001b[0m\n\u001b[1;32m      1\u001b[0m \u001b[0;32mfrom\u001b[0m \u001b[0mgoogle\u001b[0m\u001b[0;34m.\u001b[0m\u001b[0mcolab\u001b[0m \u001b[0;32mimport\u001b[0m \u001b[0mfiles\u001b[0m\u001b[0;34m\u001b[0m\u001b[0;34m\u001b[0m\u001b[0m\n\u001b[0;32m----> 2\u001b[0;31m \u001b[0mfiles\u001b[0m\u001b[0;34m.\u001b[0m\u001b[0mupload\u001b[0m\u001b[0;34m(\u001b[0m\u001b[0;34m)\u001b[0m\u001b[0;34m\u001b[0m\u001b[0;34m\u001b[0m\u001b[0m\n\u001b[0m",
      "\u001b[0;32m/usr/local/lib/python3.6/dist-packages/google/colab/files.py\u001b[0m in \u001b[0;36mupload\u001b[0;34m()\u001b[0m\n\u001b[1;32m     70\u001b[0m     result = _output.eval_js(\n\u001b[1;32m     71\u001b[0m         'google.colab._files._uploadFilesContinue(\"{output_id}\")'.format(\n\u001b[0;32m---> 72\u001b[0;31m             output_id=output_id))\n\u001b[0m\u001b[1;32m     73\u001b[0m     \u001b[0;32mif\u001b[0m \u001b[0mresult\u001b[0m\u001b[0;34m[\u001b[0m\u001b[0;34m'action'\u001b[0m\u001b[0;34m]\u001b[0m \u001b[0;34m!=\u001b[0m \u001b[0;34m'append'\u001b[0m\u001b[0;34m:\u001b[0m\u001b[0;34m\u001b[0m\u001b[0;34m\u001b[0m\u001b[0m\n\u001b[1;32m     74\u001b[0m       \u001b[0;31m# JS side uses a generator of promises to process all of the files- some\u001b[0m\u001b[0;34m\u001b[0m\u001b[0;34m\u001b[0m\u001b[0;34m\u001b[0m\u001b[0m\n",
      "\u001b[0;32m/usr/local/lib/python3.6/dist-packages/google/colab/output/_js.py\u001b[0m in \u001b[0;36meval_js\u001b[0;34m(script, ignore_result)\u001b[0m\n\u001b[1;32m     37\u001b[0m   \u001b[0;32mif\u001b[0m \u001b[0mignore_result\u001b[0m\u001b[0;34m:\u001b[0m\u001b[0;34m\u001b[0m\u001b[0;34m\u001b[0m\u001b[0m\n\u001b[1;32m     38\u001b[0m     \u001b[0;32mreturn\u001b[0m\u001b[0;34m\u001b[0m\u001b[0;34m\u001b[0m\u001b[0m\n\u001b[0;32m---> 39\u001b[0;31m   \u001b[0;32mreturn\u001b[0m \u001b[0m_message\u001b[0m\u001b[0;34m.\u001b[0m\u001b[0mread_reply_from_input\u001b[0m\u001b[0;34m(\u001b[0m\u001b[0mrequest_id\u001b[0m\u001b[0;34m)\u001b[0m\u001b[0;34m\u001b[0m\u001b[0;34m\u001b[0m\u001b[0m\n\u001b[0m\u001b[1;32m     40\u001b[0m \u001b[0;34m\u001b[0m\u001b[0m\n\u001b[1;32m     41\u001b[0m \u001b[0;34m\u001b[0m\u001b[0m\n",
      "\u001b[0;32m/usr/local/lib/python3.6/dist-packages/google/colab/_message.py\u001b[0m in \u001b[0;36mread_reply_from_input\u001b[0;34m(message_id, timeout_sec)\u001b[0m\n\u001b[1;32m     99\u001b[0m     \u001b[0mreply\u001b[0m \u001b[0;34m=\u001b[0m \u001b[0m_read_next_input_message\u001b[0m\u001b[0;34m(\u001b[0m\u001b[0;34m)\u001b[0m\u001b[0;34m\u001b[0m\u001b[0;34m\u001b[0m\u001b[0m\n\u001b[1;32m    100\u001b[0m     \u001b[0;32mif\u001b[0m \u001b[0mreply\u001b[0m \u001b[0;34m==\u001b[0m \u001b[0m_NOT_READY\u001b[0m \u001b[0;32mor\u001b[0m \u001b[0;32mnot\u001b[0m \u001b[0misinstance\u001b[0m\u001b[0;34m(\u001b[0m\u001b[0mreply\u001b[0m\u001b[0;34m,\u001b[0m \u001b[0mdict\u001b[0m\u001b[0;34m)\u001b[0m\u001b[0;34m:\u001b[0m\u001b[0;34m\u001b[0m\u001b[0;34m\u001b[0m\u001b[0m\n\u001b[0;32m--> 101\u001b[0;31m       \u001b[0mtime\u001b[0m\u001b[0;34m.\u001b[0m\u001b[0msleep\u001b[0m\u001b[0;34m(\u001b[0m\u001b[0;36m0.025\u001b[0m\u001b[0;34m)\u001b[0m\u001b[0;34m\u001b[0m\u001b[0;34m\u001b[0m\u001b[0m\n\u001b[0m\u001b[1;32m    102\u001b[0m       \u001b[0;32mcontinue\u001b[0m\u001b[0;34m\u001b[0m\u001b[0;34m\u001b[0m\u001b[0m\n\u001b[1;32m    103\u001b[0m     if (reply.get('type') == 'colab_reply' and\n",
      "\u001b[0;31mKeyboardInterrupt\u001b[0m: "
     ]
    }
   ],
   "source": [
    "#uplaod credits\n",
    "from google.colab import files\n",
    "files.upload()"
   ]
  },
  {
   "cell_type": "code",
   "execution_count": 0,
   "metadata": {
    "colab": {},
    "colab_type": "code",
    "id": "Epgr13MIojtO"
   },
   "outputs": [],
   "source": [
    "#upload keywords\n",
    "from google.colab import files\n",
    "files.upload()"
   ]
  },
  {
   "cell_type": "code",
   "execution_count": 32,
   "metadata": {},
   "outputs": [],
   "source": [
    "credits = pd.read_csv(os.path.join('data','credits.csv'))\n",
    "keywords = pd.read_csv(os.path.join('data','keywords.csv'))"
   ]
  },
  {
   "cell_type": "code",
   "execution_count": 33,
   "metadata": {
    "colab": {},
    "colab_type": "code",
    "id": "OTiwoOqupUe5"
   },
   "outputs": [],
   "source": [
    "keywords['id'] = keywords['id'].astype('int')\n",
    "credits['id'] = credits['id'].astype('int')\n",
    "md['id'] = md['id'].astype('int')"
   ]
  },
  {
   "cell_type": "code",
   "execution_count": 34,
   "metadata": {
    "colab": {},
    "colab_type": "code",
    "id": "6yLcKNSgpmTZ"
   },
   "outputs": [
    {
     "data": {
      "text/plain": [
       "(45463, 25)"
      ]
     },
     "execution_count": 34,
     "metadata": {},
     "output_type": "execute_result"
    }
   ],
   "source": [
    "md.shape\n"
   ]
  },
  {
   "cell_type": "code",
   "execution_count": 36,
   "metadata": {
    "colab": {},
    "colab_type": "code",
    "id": "IPRiEsRqpp2-"
   },
   "outputs": [],
   "source": [
    "md = md.merge(credits, on = 'id')\n",
    "md = md.merge(keywords, on = 'id')"
   ]
  },
  {
   "cell_type": "code",
   "execution_count": 37,
   "metadata": {
    "colab": {},
    "colab_type": "code",
    "id": "btRJEa0-q594"
   },
   "outputs": [
    {
     "data": {
      "text/plain": [
       "(9219, 28)"
      ]
     },
     "execution_count": 37,
     "metadata": {},
     "output_type": "execute_result"
    }
   ],
   "source": [
    "smd = md[md['id'].isin(links_small)]\n",
    "smd.shape"
   ]
  },
  {
   "cell_type": "code",
   "execution_count": 38,
   "metadata": {
    "colab": {},
    "colab_type": "code",
    "id": "7Djga4vVrAK7"
   },
   "outputs": [],
   "source": [
    "smd['cast'] = smd['cast'].apply(literal_eval)\n",
    "smd['crew'] = smd['crew'].apply(literal_eval)\n",
    "smd['keywords'] = smd['keywords'].apply(literal_eval)\n",
    "smd['cast_size'] = smd['cast'].apply(lambda x: len(x))\n",
    "smd['crew_size'] = smd['crew'].apply(lambda x: len(x))"
   ]
  },
  {
   "cell_type": "code",
   "execution_count": 41,
   "metadata": {
    "colab": {},
    "colab_type": "code",
    "id": "Ya7Fe_NRONmB"
   },
   "outputs": [],
   "source": [
    "def get_director(x):\n",
    "  for i in x:\n",
    "    if i['job'] == 'Director':\n",
    "      return i['name']\n",
    "  return np.nan"
   ]
  },
  {
   "cell_type": "code",
   "execution_count": 42,
   "metadata": {
    "colab": {},
    "colab_type": "code",
    "id": "REfQL6rZPNzT"
   },
   "outputs": [],
   "source": [
    "smd['director'] = smd['crew'].apply(get_director)"
   ]
  },
  {
   "cell_type": "code",
   "execution_count": 44,
   "metadata": {
    "colab": {},
    "colab_type": "code",
    "id": "nJU3S7sdPrxO"
   },
   "outputs": [],
   "source": [
    "smd['cast'] = smd['cast'].apply(lambda x: [i['name'] for i in x] if isinstance(x, list) else [])\n",
    "smd['cast'] = smd['cast'].apply(lambda x: x[:3] if len(x) >= 3 else x)"
   ]
  },
  {
   "cell_type": "code",
   "execution_count": 45,
   "metadata": {
    "colab": {},
    "colab_type": "code",
    "id": "hwDQYeJ5SvRW"
   },
   "outputs": [],
   "source": [
    "smd['keywords'] = smd['keywords'].apply(lambda x: [i['name'] for i in x] if isinstance(x, list) else [])"
   ]
  },
  {
   "cell_type": "code",
   "execution_count": 46,
   "metadata": {
    "colab": {},
    "colab_type": "code",
    "id": "S9MLKskSS3V9"
   },
   "outputs": [],
   "source": [
    "#remove all spaces\n",
    "smd['cast'] = smd['cast'].apply(lambda x: [str.lower(i.replace(\" \", \"\")) for i in x])"
   ]
  },
  {
   "cell_type": "code",
   "execution_count": 47,
   "metadata": {
    "colab": {},
    "colab_type": "code",
    "id": "-LV_4bMTTFmW"
   },
   "outputs": [],
   "source": [
    "smd['director'] = smd['director'].astype('str').apply(lambda x: str.lower(x.replace(\" \", \"\")))\n",
    "smd['director'] = smd['director'].apply(lambda x: [x,x, x])"
   ]
  },
  {
   "cell_type": "code",
   "execution_count": 48,
   "metadata": {
    "colab": {},
    "colab_type": "code",
    "id": "IgY3F_W2TVDg"
   },
   "outputs": [],
   "source": [
    "s = smd.apply(lambda x: pd.Series(x['keywords']), axis = 1).stack().reset_index(level = 1, drop = True)\n",
    "s.name = 'keyword'"
   ]
  },
  {
   "cell_type": "code",
   "execution_count": 49,
   "metadata": {
    "colab": {},
    "colab_type": "code",
    "id": "WCKW8rBPTowj"
   },
   "outputs": [
    {
     "data": {
      "text/plain": [
       "independent film        610\n",
       "woman director          550\n",
       "murder                  399\n",
       "duringcreditsstinger    327\n",
       "based on novel          318\n",
       "Name: keyword, dtype: int64"
      ]
     },
     "execution_count": 49,
     "metadata": {},
     "output_type": "execute_result"
    }
   ],
   "source": [
    "s = s.value_counts()\n",
    "s[:5]"
   ]
  },
  {
   "cell_type": "code",
   "execution_count": 50,
   "metadata": {
    "colab": {},
    "colab_type": "code",
    "id": "tgCbN2vKTyjv"
   },
   "outputs": [],
   "source": [
    "s = s[s > 1]"
   ]
  },
  {
   "cell_type": "code",
   "execution_count": 51,
   "metadata": {
    "colab": {},
    "colab_type": "code",
    "id": "LtDkBmBtT8k_"
   },
   "outputs": [
    {
     "data": {
      "text/plain": [
       "'dog'"
      ]
     },
     "execution_count": 51,
     "metadata": {},
     "output_type": "execute_result"
    }
   ],
   "source": [
    "stemmer = SnowballStemmer('english')\n",
    "stemmer.stem('dogs')"
   ]
  },
  {
   "cell_type": "code",
   "execution_count": 53,
   "metadata": {
    "colab": {},
    "colab_type": "code",
    "id": "txUaXJf3UGhx"
   },
   "outputs": [],
   "source": [
    "def filter_keywords(x):\n",
    "  words = []\n",
    "  for i in x:\n",
    "    if i in x:\n",
    "      words.append(i)\n",
    "  return words"
   ]
  },
  {
   "cell_type": "code",
   "execution_count": 54,
   "metadata": {
    "colab": {},
    "colab_type": "code",
    "id": "pZBQs7E6UbP0"
   },
   "outputs": [],
   "source": [
    "smd['keywords'] = smd['keywords'].apply(filter_keywords)\n",
    "smd['keywords'] = smd['keywords'].apply(lambda x: [stemmer.stem(i) for i in x])\n",
    "smd['keywords'] = smd['keywords'].apply(lambda x: [str.lower(i.replace(\" \", \"\")) for i in x])"
   ]
  },
  {
   "cell_type": "code",
   "execution_count": 55,
   "metadata": {
    "colab": {},
    "colab_type": "code",
    "id": "3BNQ5ZOpU_aP"
   },
   "outputs": [],
   "source": [
    "smd['soup'] = smd['keywords'] + smd['cast'] + smd['director'] + smd['genres']\n",
    "smd['soup'] = smd['soup'].apply(lambda x: ' '.join(x))"
   ]
  },
  {
   "cell_type": "code",
   "execution_count": 56,
   "metadata": {
    "colab": {},
    "colab_type": "code",
    "id": "D6qjpknJVTx5"
   },
   "outputs": [],
   "source": [
    "count = CountVectorizer(analyzer='word',ngram_range=(1, 2),min_df=0, stop_words='english')\n",
    "count_matrix = count.fit_transform(smd['soup'])"
   ]
  },
  {
   "cell_type": "code",
   "execution_count": 57,
   "metadata": {
    "colab": {},
    "colab_type": "code",
    "id": "tMsOFc2EVVkK"
   },
   "outputs": [],
   "source": [
    "cosine_sim = cosine_similarity(count_matrix, count_matrix)"
   ]
  },
  {
   "cell_type": "code",
   "execution_count": 58,
   "metadata": {
    "colab": {},
    "colab_type": "code",
    "id": "V2PWr67yVZsy"
   },
   "outputs": [],
   "source": [
    "smd = smd.reset_index()\n",
    "titles = smd['title']\n",
    "indices = pd.Series(smd.index, index=smd['title'])"
   ]
  },
  {
   "cell_type": "code",
   "execution_count": 59,
   "metadata": {
    "colab": {},
    "colab_type": "code",
    "id": "2P-C71f2VcA5"
   },
   "outputs": [
    {
     "data": {
      "text/plain": [
       "8031         The Dark Knight Rises\n",
       "6218                 Batman Begins\n",
       "6623                  The Prestige\n",
       "2085                     Following\n",
       "4145                      Insomnia\n",
       "7648                     Inception\n",
       "3381                       Memento\n",
       "8613                  Interstellar\n",
       "7659    Batman: Under the Red Hood\n",
       "1134                Batman Returns\n",
       "Name: title, dtype: object"
      ]
     },
     "execution_count": 59,
     "metadata": {},
     "output_type": "execute_result"
    }
   ],
   "source": [
    "get_recommendations('The Dark Knight').head(10)\n"
   ]
  },
  {
   "cell_type": "code",
   "execution_count": 60,
   "metadata": {
    "colab": {},
    "colab_type": "code",
    "id": "n5t3SwVY1lsS"
   },
   "outputs": [
    {
     "data": {
      "text/plain": [
       "3319               Head Over Heels\n",
       "4763                 Freaky Friday\n",
       "1329              The House of Yes\n",
       "6277              Just Like Heaven\n",
       "7332    Ghosts of Girlfriends Past\n",
       "7905         Mr. Popper's Penguins\n",
       "6959     The Spiderwick Chronicles\n",
       "8883                      The DUFF\n",
       "6698         It's a Boy Girl Thing\n",
       "3712          The Princess Diaries\n",
       "Name: title, dtype: object"
      ]
     },
     "execution_count": 60,
     "metadata": {},
     "output_type": "execute_result"
    }
   ],
   "source": [
    "get_recommendations('Mean Girls').head(10)"
   ]
  },
  {
   "cell_type": "code",
   "execution_count": 70,
   "metadata": {
    "colab": {},
    "colab_type": "code",
    "id": "-aw6Xu6S1smI"
   },
   "outputs": [],
   "source": [
    "def improved_recommendations(title):\n",
    "  idx = indices[title]\n",
    "  sim_scores = list(enumerate(cosine_sim[idx]))\n",
    "  sim_scores = sorted(sim_scores, key = lambda x: x[1], reverse = True)\n",
    "  sim_scores = sim_scores[1 : 26]\n",
    "  movie_indices = [i[0] for i in sim_scores]\n",
    "  \n",
    "  movies = smd.iloc[movie_indices][['title', 'vote_count', 'vote_average', 'year']]\n",
    "  vote_counts = movies[movies['vote_count'].notnull()]['vote_count'].astype('int')\n",
    "  vote_averages = movies[movies['vote_average'].notnull()]['vote_average'].astype('int')\n",
    "  \n",
    "  C = vote_averages.mean()\n",
    "  m = vote_counts.quantile(0.60)\n",
    "  qualified = movies[(movies['vote_count'] >= m) & (movies['vote_count'].notnull()) & (movies['vote_average'].notnull())]\n",
    "  \n",
    "  qualified['vote_count'] = qualified['vote_count'].astype('int')\n",
    "  qualified['vote_average'] = qualified['vote_average'].astype('int')\n",
    "  qualified['wr'] = qualified.apply(weighted_rating, axis = 1)\n",
    "  qualified = qualified.sort_values('wr', ascending = False).head(10)\n",
    "  return qualified\n",
    "  "
   ]
  },
  {
   "cell_type": "code",
   "execution_count": 71,
   "metadata": {
    "colab": {},
    "colab_type": "code",
    "id": "pj4ENDYA4SSX"
   },
   "outputs": [
    {
     "data": {
      "text/html": [
       "<div>\n",
       "<style scoped>\n",
       "    .dataframe tbody tr th:only-of-type {\n",
       "        vertical-align: middle;\n",
       "    }\n",
       "\n",
       "    .dataframe tbody tr th {\n",
       "        vertical-align: top;\n",
       "    }\n",
       "\n",
       "    .dataframe thead th {\n",
       "        text-align: right;\n",
       "    }\n",
       "</style>\n",
       "<table border=\"1\" class=\"dataframe\">\n",
       "  <thead>\n",
       "    <tr style=\"text-align: right;\">\n",
       "      <th></th>\n",
       "      <th>title</th>\n",
       "      <th>vote_count</th>\n",
       "      <th>vote_average</th>\n",
       "      <th>year</th>\n",
       "      <th>wr</th>\n",
       "    </tr>\n",
       "  </thead>\n",
       "  <tbody>\n",
       "    <tr>\n",
       "      <th>7648</th>\n",
       "      <td>Inception</td>\n",
       "      <td>14075</td>\n",
       "      <td>8</td>\n",
       "      <td>2010</td>\n",
       "      <td>7.917588</td>\n",
       "    </tr>\n",
       "    <tr>\n",
       "      <th>8613</th>\n",
       "      <td>Interstellar</td>\n",
       "      <td>11187</td>\n",
       "      <td>8</td>\n",
       "      <td>2014</td>\n",
       "      <td>7.897107</td>\n",
       "    </tr>\n",
       "    <tr>\n",
       "      <th>6623</th>\n",
       "      <td>The Prestige</td>\n",
       "      <td>4510</td>\n",
       "      <td>8</td>\n",
       "      <td>2006</td>\n",
       "      <td>7.758148</td>\n",
       "    </tr>\n",
       "    <tr>\n",
       "      <th>3381</th>\n",
       "      <td>Memento</td>\n",
       "      <td>4168</td>\n",
       "      <td>8</td>\n",
       "      <td>2000</td>\n",
       "      <td>7.740175</td>\n",
       "    </tr>\n",
       "    <tr>\n",
       "      <th>8031</th>\n",
       "      <td>The Dark Knight Rises</td>\n",
       "      <td>9263</td>\n",
       "      <td>7</td>\n",
       "      <td>2012</td>\n",
       "      <td>6.921448</td>\n",
       "    </tr>\n",
       "    <tr>\n",
       "      <th>6218</th>\n",
       "      <td>Batman Begins</td>\n",
       "      <td>7511</td>\n",
       "      <td>7</td>\n",
       "      <td>2005</td>\n",
       "      <td>6.904127</td>\n",
       "    </tr>\n",
       "    <tr>\n",
       "      <th>1134</th>\n",
       "      <td>Batman Returns</td>\n",
       "      <td>1706</td>\n",
       "      <td>6</td>\n",
       "      <td>1992</td>\n",
       "      <td>5.846862</td>\n",
       "    </tr>\n",
       "    <tr>\n",
       "      <th>4145</th>\n",
       "      <td>Insomnia</td>\n",
       "      <td>1181</td>\n",
       "      <td>6</td>\n",
       "      <td>2002</td>\n",
       "      <td>5.797081</td>\n",
       "    </tr>\n",
       "    <tr>\n",
       "      <th>9024</th>\n",
       "      <td>Batman v Superman: Dawn of Justice</td>\n",
       "      <td>7189</td>\n",
       "      <td>5</td>\n",
       "      <td>2016</td>\n",
       "      <td>5.013943</td>\n",
       "    </tr>\n",
       "    <tr>\n",
       "      <th>1260</th>\n",
       "      <td>Batman &amp; Robin</td>\n",
       "      <td>1447</td>\n",
       "      <td>4</td>\n",
       "      <td>1997</td>\n",
       "      <td>4.287233</td>\n",
       "    </tr>\n",
       "  </tbody>\n",
       "</table>\n",
       "</div>"
      ],
      "text/plain": [
       "                                   title  vote_count  vote_average  year  \\\n",
       "7648                           Inception       14075             8  2010   \n",
       "8613                        Interstellar       11187             8  2014   \n",
       "6623                        The Prestige        4510             8  2006   \n",
       "3381                             Memento        4168             8  2000   \n",
       "8031               The Dark Knight Rises        9263             7  2012   \n",
       "6218                       Batman Begins        7511             7  2005   \n",
       "1134                      Batman Returns        1706             6  1992   \n",
       "4145                            Insomnia        1181             6  2002   \n",
       "9024  Batman v Superman: Dawn of Justice        7189             5  2016   \n",
       "1260                      Batman & Robin        1447             4  1997   \n",
       "\n",
       "            wr  \n",
       "7648  7.917588  \n",
       "8613  7.897107  \n",
       "6623  7.758148  \n",
       "3381  7.740175  \n",
       "8031  6.921448  \n",
       "6218  6.904127  \n",
       "1134  5.846862  \n",
       "4145  5.797081  \n",
       "9024  5.013943  \n",
       "1260  4.287233  "
      ]
     },
     "execution_count": 71,
     "metadata": {},
     "output_type": "execute_result"
    }
   ],
   "source": [
    "improved_recommendations('The Dark Knight')"
   ]
  },
  {
   "cell_type": "code",
   "execution_count": 72,
   "metadata": {
    "colab": {},
    "colab_type": "code",
    "id": "GKbhJo-x6MFT"
   },
   "outputs": [],
   "source": [
    "#---------------------------------------------- Collborative Filtering Based Recommender ----------------------------------------------"
   ]
  },
  {
   "cell_type": "code",
   "execution_count": 73,
   "metadata": {
    "colab": {},
    "colab_type": "code",
    "id": "lwQjIMVz6b84"
   },
   "outputs": [],
   "source": [
    "reader = Reader()"
   ]
  },
  {
   "cell_type": "code",
   "execution_count": 75,
   "metadata": {
    "colab": {},
    "colab_type": "code",
    "id": "96TMuUCo6hpi"
   },
   "outputs": [
    {
     "data": {
      "text/html": [
       "<div>\n",
       "<style scoped>\n",
       "    .dataframe tbody tr th:only-of-type {\n",
       "        vertical-align: middle;\n",
       "    }\n",
       "\n",
       "    .dataframe tbody tr th {\n",
       "        vertical-align: top;\n",
       "    }\n",
       "\n",
       "    .dataframe thead th {\n",
       "        text-align: right;\n",
       "    }\n",
       "</style>\n",
       "<table border=\"1\" class=\"dataframe\">\n",
       "  <thead>\n",
       "    <tr style=\"text-align: right;\">\n",
       "      <th></th>\n",
       "      <th>userId</th>\n",
       "      <th>movieId</th>\n",
       "      <th>rating</th>\n",
       "      <th>timestamp</th>\n",
       "    </tr>\n",
       "  </thead>\n",
       "  <tbody>\n",
       "    <tr>\n",
       "      <th>0</th>\n",
       "      <td>1</td>\n",
       "      <td>31</td>\n",
       "      <td>2.5</td>\n",
       "      <td>1260759144</td>\n",
       "    </tr>\n",
       "    <tr>\n",
       "      <th>1</th>\n",
       "      <td>1</td>\n",
       "      <td>1029</td>\n",
       "      <td>3.0</td>\n",
       "      <td>1260759179</td>\n",
       "    </tr>\n",
       "    <tr>\n",
       "      <th>2</th>\n",
       "      <td>1</td>\n",
       "      <td>1061</td>\n",
       "      <td>3.0</td>\n",
       "      <td>1260759182</td>\n",
       "    </tr>\n",
       "    <tr>\n",
       "      <th>3</th>\n",
       "      <td>1</td>\n",
       "      <td>1129</td>\n",
       "      <td>2.0</td>\n",
       "      <td>1260759185</td>\n",
       "    </tr>\n",
       "    <tr>\n",
       "      <th>4</th>\n",
       "      <td>1</td>\n",
       "      <td>1172</td>\n",
       "      <td>4.0</td>\n",
       "      <td>1260759205</td>\n",
       "    </tr>\n",
       "  </tbody>\n",
       "</table>\n",
       "</div>"
      ],
      "text/plain": [
       "   userId  movieId  rating   timestamp\n",
       "0       1       31     2.5  1260759144\n",
       "1       1     1029     3.0  1260759179\n",
       "2       1     1061     3.0  1260759182\n",
       "3       1     1129     2.0  1260759185\n",
       "4       1     1172     4.0  1260759205"
      ]
     },
     "execution_count": 75,
     "metadata": {},
     "output_type": "execute_result"
    }
   ],
   "source": [
    "ratings = pd.read_csv(os.path.join('data','ratings_small.csv'))\n",
    "ratings.head()"
   ]
  },
  {
   "cell_type": "code",
   "execution_count": 76,
   "metadata": {
    "colab": {},
    "colab_type": "code",
    "id": "aMLLslcb7j0q"
   },
   "outputs": [],
   "source": [
    "data = Dataset.load_from_df(ratings[['userId', 'movieId', 'rating']], reader)\n",
    "data.split(n_folds = 5)"
   ]
  },
  {
   "cell_type": "code",
   "execution_count": 77,
   "metadata": {
    "colab": {},
    "colab_type": "code",
    "id": "sTFaj7xZ71ys"
   },
   "outputs": [
    {
     "name": "stdout",
     "output_type": "stream",
     "text": [
      "Evaluating RMSE, MAE of algorithm SVD.\n",
      "\n",
      "------------\n",
      "Fold 1\n",
      "RMSE: 0.8931\n",
      "MAE:  0.6881\n",
      "------------\n",
      "Fold 2\n",
      "RMSE: 0.8972\n",
      "MAE:  0.6898\n",
      "------------\n",
      "Fold 3\n",
      "RMSE: 0.8994\n",
      "MAE:  0.6923\n",
      "------------\n",
      "Fold 4\n",
      "RMSE: 0.9025\n",
      "MAE:  0.6927\n",
      "------------\n",
      "Fold 5\n",
      "RMSE: 0.8882\n",
      "MAE:  0.6843\n",
      "------------\n",
      "------------\n",
      "Mean RMSE: 0.8961\n",
      "Mean MAE : 0.6894\n",
      "------------\n",
      "------------\n"
     ]
    },
    {
     "data": {
      "text/plain": [
       "CaseInsensitiveDefaultDict(list,\n",
       "                           {'rmse': [0.8930837962615683,\n",
       "                             0.8972115278074001,\n",
       "                             0.8994130840594714,\n",
       "                             0.9024964632747084,\n",
       "                             0.8882438607420634],\n",
       "                            'mae': [0.6881334127165668,\n",
       "                             0.689782838807061,\n",
       "                             0.6922765565211375,\n",
       "                             0.6926938158888917,\n",
       "                             0.684328023000312]})"
      ]
     },
     "execution_count": 77,
     "metadata": {},
     "output_type": "execute_result"
    }
   ],
   "source": [
    "svd = SVD()\n",
    "evaluate(svd, data, measures = ['RMSE', 'MAE'])"
   ]
  },
  {
   "cell_type": "code",
   "execution_count": 80,
   "metadata": {
    "colab": {},
    "colab_type": "code",
    "id": "VCyJAIdt8Fjo"
   },
   "outputs": [
    {
     "data": {
      "text/plain": [
       "<surprise.prediction_algorithms.matrix_factorization.SVD at 0x28e701d9320>"
      ]
     },
     "execution_count": 80,
     "metadata": {},
     "output_type": "execute_result"
    }
   ],
   "source": [
    "trainset = data.build_full_trainset()\n",
    "svd.train(trainset)"
   ]
  },
  {
   "cell_type": "code",
   "execution_count": 81,
   "metadata": {
    "colab": {},
    "colab_type": "code",
    "id": "AVx14dkd8MgB"
   },
   "outputs": [
    {
     "data": {
      "text/html": [
       "<div>\n",
       "<style scoped>\n",
       "    .dataframe tbody tr th:only-of-type {\n",
       "        vertical-align: middle;\n",
       "    }\n",
       "\n",
       "    .dataframe tbody tr th {\n",
       "        vertical-align: top;\n",
       "    }\n",
       "\n",
       "    .dataframe thead th {\n",
       "        text-align: right;\n",
       "    }\n",
       "</style>\n",
       "<table border=\"1\" class=\"dataframe\">\n",
       "  <thead>\n",
       "    <tr style=\"text-align: right;\">\n",
       "      <th></th>\n",
       "      <th>userId</th>\n",
       "      <th>movieId</th>\n",
       "      <th>rating</th>\n",
       "      <th>timestamp</th>\n",
       "    </tr>\n",
       "  </thead>\n",
       "  <tbody>\n",
       "    <tr>\n",
       "      <th>0</th>\n",
       "      <td>1</td>\n",
       "      <td>31</td>\n",
       "      <td>2.5</td>\n",
       "      <td>1260759144</td>\n",
       "    </tr>\n",
       "    <tr>\n",
       "      <th>1</th>\n",
       "      <td>1</td>\n",
       "      <td>1029</td>\n",
       "      <td>3.0</td>\n",
       "      <td>1260759179</td>\n",
       "    </tr>\n",
       "    <tr>\n",
       "      <th>2</th>\n",
       "      <td>1</td>\n",
       "      <td>1061</td>\n",
       "      <td>3.0</td>\n",
       "      <td>1260759182</td>\n",
       "    </tr>\n",
       "    <tr>\n",
       "      <th>3</th>\n",
       "      <td>1</td>\n",
       "      <td>1129</td>\n",
       "      <td>2.0</td>\n",
       "      <td>1260759185</td>\n",
       "    </tr>\n",
       "    <tr>\n",
       "      <th>4</th>\n",
       "      <td>1</td>\n",
       "      <td>1172</td>\n",
       "      <td>4.0</td>\n",
       "      <td>1260759205</td>\n",
       "    </tr>\n",
       "    <tr>\n",
       "      <th>5</th>\n",
       "      <td>1</td>\n",
       "      <td>1263</td>\n",
       "      <td>2.0</td>\n",
       "      <td>1260759151</td>\n",
       "    </tr>\n",
       "    <tr>\n",
       "      <th>6</th>\n",
       "      <td>1</td>\n",
       "      <td>1287</td>\n",
       "      <td>2.0</td>\n",
       "      <td>1260759187</td>\n",
       "    </tr>\n",
       "    <tr>\n",
       "      <th>7</th>\n",
       "      <td>1</td>\n",
       "      <td>1293</td>\n",
       "      <td>2.0</td>\n",
       "      <td>1260759148</td>\n",
       "    </tr>\n",
       "    <tr>\n",
       "      <th>8</th>\n",
       "      <td>1</td>\n",
       "      <td>1339</td>\n",
       "      <td>3.5</td>\n",
       "      <td>1260759125</td>\n",
       "    </tr>\n",
       "    <tr>\n",
       "      <th>9</th>\n",
       "      <td>1</td>\n",
       "      <td>1343</td>\n",
       "      <td>2.0</td>\n",
       "      <td>1260759131</td>\n",
       "    </tr>\n",
       "    <tr>\n",
       "      <th>10</th>\n",
       "      <td>1</td>\n",
       "      <td>1371</td>\n",
       "      <td>2.5</td>\n",
       "      <td>1260759135</td>\n",
       "    </tr>\n",
       "    <tr>\n",
       "      <th>11</th>\n",
       "      <td>1</td>\n",
       "      <td>1405</td>\n",
       "      <td>1.0</td>\n",
       "      <td>1260759203</td>\n",
       "    </tr>\n",
       "    <tr>\n",
       "      <th>12</th>\n",
       "      <td>1</td>\n",
       "      <td>1953</td>\n",
       "      <td>4.0</td>\n",
       "      <td>1260759191</td>\n",
       "    </tr>\n",
       "    <tr>\n",
       "      <th>13</th>\n",
       "      <td>1</td>\n",
       "      <td>2105</td>\n",
       "      <td>4.0</td>\n",
       "      <td>1260759139</td>\n",
       "    </tr>\n",
       "    <tr>\n",
       "      <th>14</th>\n",
       "      <td>1</td>\n",
       "      <td>2150</td>\n",
       "      <td>3.0</td>\n",
       "      <td>1260759194</td>\n",
       "    </tr>\n",
       "    <tr>\n",
       "      <th>15</th>\n",
       "      <td>1</td>\n",
       "      <td>2193</td>\n",
       "      <td>2.0</td>\n",
       "      <td>1260759198</td>\n",
       "    </tr>\n",
       "    <tr>\n",
       "      <th>16</th>\n",
       "      <td>1</td>\n",
       "      <td>2294</td>\n",
       "      <td>2.0</td>\n",
       "      <td>1260759108</td>\n",
       "    </tr>\n",
       "    <tr>\n",
       "      <th>17</th>\n",
       "      <td>1</td>\n",
       "      <td>2455</td>\n",
       "      <td>2.5</td>\n",
       "      <td>1260759113</td>\n",
       "    </tr>\n",
       "    <tr>\n",
       "      <th>18</th>\n",
       "      <td>1</td>\n",
       "      <td>2968</td>\n",
       "      <td>1.0</td>\n",
       "      <td>1260759200</td>\n",
       "    </tr>\n",
       "    <tr>\n",
       "      <th>19</th>\n",
       "      <td>1</td>\n",
       "      <td>3671</td>\n",
       "      <td>3.0</td>\n",
       "      <td>1260759117</td>\n",
       "    </tr>\n",
       "  </tbody>\n",
       "</table>\n",
       "</div>"
      ],
      "text/plain": [
       "    userId  movieId  rating   timestamp\n",
       "0        1       31     2.5  1260759144\n",
       "1        1     1029     3.0  1260759179\n",
       "2        1     1061     3.0  1260759182\n",
       "3        1     1129     2.0  1260759185\n",
       "4        1     1172     4.0  1260759205\n",
       "5        1     1263     2.0  1260759151\n",
       "6        1     1287     2.0  1260759187\n",
       "7        1     1293     2.0  1260759148\n",
       "8        1     1339     3.5  1260759125\n",
       "9        1     1343     2.0  1260759131\n",
       "10       1     1371     2.5  1260759135\n",
       "11       1     1405     1.0  1260759203\n",
       "12       1     1953     4.0  1260759191\n",
       "13       1     2105     4.0  1260759139\n",
       "14       1     2150     3.0  1260759194\n",
       "15       1     2193     2.0  1260759198\n",
       "16       1     2294     2.0  1260759108\n",
       "17       1     2455     2.5  1260759113\n",
       "18       1     2968     1.0  1260759200\n",
       "19       1     3671     3.0  1260759117"
      ]
     },
     "execution_count": 81,
     "metadata": {},
     "output_type": "execute_result"
    }
   ],
   "source": [
    "ratings[ratings['userId'] == 1]"
   ]
  },
  {
   "cell_type": "code",
   "execution_count": 82,
   "metadata": {
    "colab": {},
    "colab_type": "code",
    "id": "CkWwNPss8UNH"
   },
   "outputs": [
    {
     "data": {
      "text/plain": [
       "Prediction(uid=1, iid=302, r_ui=3, est=2.720233912945318, details={'was_impossible': False})"
      ]
     },
     "execution_count": 82,
     "metadata": {},
     "output_type": "execute_result"
    }
   ],
   "source": [
    "svd.predict(1, 302, 3)"
   ]
  },
  {
   "cell_type": "code",
   "execution_count": 0,
   "metadata": {
    "colab": {},
    "colab_type": "code",
    "id": "9yFzimC58ZK0"
   },
   "outputs": [],
   "source": [
    "#---------------------------------------------- Hybrid Recommender ----------------------------------------------"
   ]
  },
  {
   "cell_type": "code",
   "execution_count": 83,
   "metadata": {
    "colab": {},
    "colab_type": "code",
    "id": "yvOb-FSR9pX1"
   },
   "outputs": [],
   "source": [
    "def convert_int(x):\n",
    "  try:\n",
    "    return int(x)\n",
    "  except:\n",
    "    return np.nan\n",
    "  "
   ]
  },
  {
   "cell_type": "code",
   "execution_count": 85,
   "metadata": {
    "colab": {},
    "colab_type": "code",
    "id": "bcpVu-3r928Y"
   },
   "outputs": [],
   "source": [
    "id_map = pd.read_csv(os.path.join('data','links_small.csv'))[['movieId', 'tmdbId']]\n",
    "id_map['tmdbId'] = id_map['tmdbId'].apply(convert_int)\n",
    "id_map.columns = ['movieId', 'id']\n",
    "id_map = id_map.merge(smd[['title', 'id']], on = 'id').set_index('title')"
   ]
  },
  {
   "cell_type": "code",
   "execution_count": 86,
   "metadata": {
    "colab": {},
    "colab_type": "code",
    "id": "MNRg6vjw_s-s"
   },
   "outputs": [],
   "source": [
    "indices_map = id_map.set_index('id')"
   ]
  },
  {
   "cell_type": "code",
   "execution_count": 91,
   "metadata": {
    "colab": {},
    "colab_type": "code",
    "id": "rhlqqcu6ARYd"
   },
   "outputs": [],
   "source": [
    "def hybrid(userId, title):\n",
    "  idx = indices[title]\n",
    "  tmdbId = id_map.loc[title]['id']\n",
    "  \n",
    "  movie_id = id_map.loc[title]['movieId']\n",
    "  \n",
    "  sim_scores = list(enumerate(cosine_sim[int(idx)]))\n",
    "  sim_scores = sorted(sim_scores, key = lambda x:x[1], reverse = True)\n",
    "  sim_scores = sim_scores[1:26]\n",
    "  movie_indices = [i[0] for i in sim_scores]\n",
    "  \n",
    "  movies = smd.iloc[movie_indices][['title', 'vote_count', 'vote_average', 'year', 'id']]\n",
    "  \n",
    "  movies['est'] = movies['id'].apply(lambda x: svd.predict(userId, indices_map.loc[x]['movieId']).est)\n",
    "  \n",
    "  movies = movies.sort_values('est', ascending=False)\n",
    "  \n",
    "  return movies.head(10)"
   ]
  },
  {
   "cell_type": "code",
   "execution_count": 92,
   "metadata": {
    "colab": {},
    "colab_type": "code",
    "id": "jCVc-NBZBjsG"
   },
   "outputs": [
    {
     "data": {
      "text/html": [
       "<div>\n",
       "<style scoped>\n",
       "    .dataframe tbody tr th:only-of-type {\n",
       "        vertical-align: middle;\n",
       "    }\n",
       "\n",
       "    .dataframe tbody tr th {\n",
       "        vertical-align: top;\n",
       "    }\n",
       "\n",
       "    .dataframe thead th {\n",
       "        text-align: right;\n",
       "    }\n",
       "</style>\n",
       "<table border=\"1\" class=\"dataframe\">\n",
       "  <thead>\n",
       "    <tr style=\"text-align: right;\">\n",
       "      <th></th>\n",
       "      <th>title</th>\n",
       "      <th>vote_count</th>\n",
       "      <th>vote_average</th>\n",
       "      <th>year</th>\n",
       "      <th>id</th>\n",
       "      <th>est</th>\n",
       "    </tr>\n",
       "  </thead>\n",
       "  <tbody>\n",
       "    <tr>\n",
       "      <th>974</th>\n",
       "      <td>Aliens</td>\n",
       "      <td>3282.0</td>\n",
       "      <td>7.7</td>\n",
       "      <td>1986</td>\n",
       "      <td>679</td>\n",
       "      <td>3.396381</td>\n",
       "    </tr>\n",
       "    <tr>\n",
       "      <th>522</th>\n",
       "      <td>Terminator 2: Judgment Day</td>\n",
       "      <td>4274.0</td>\n",
       "      <td>7.7</td>\n",
       "      <td>1991</td>\n",
       "      <td>280</td>\n",
       "      <td>3.393707</td>\n",
       "    </tr>\n",
       "    <tr>\n",
       "      <th>1011</th>\n",
       "      <td>The Terminator</td>\n",
       "      <td>4208.0</td>\n",
       "      <td>7.4</td>\n",
       "      <td>1984</td>\n",
       "      <td>218</td>\n",
       "      <td>3.116473</td>\n",
       "    </tr>\n",
       "    <tr>\n",
       "      <th>8658</th>\n",
       "      <td>X-Men: Days of Future Past</td>\n",
       "      <td>6155.0</td>\n",
       "      <td>7.5</td>\n",
       "      <td>2014</td>\n",
       "      <td>127585</td>\n",
       "      <td>3.034770</td>\n",
       "    </tr>\n",
       "    <tr>\n",
       "      <th>1621</th>\n",
       "      <td>Darby O'Gill and the Little People</td>\n",
       "      <td>35.0</td>\n",
       "      <td>6.7</td>\n",
       "      <td>1959</td>\n",
       "      <td>18887</td>\n",
       "      <td>2.942257</td>\n",
       "    </tr>\n",
       "    <tr>\n",
       "      <th>922</th>\n",
       "      <td>The Abyss</td>\n",
       "      <td>822.0</td>\n",
       "      <td>7.1</td>\n",
       "      <td>1989</td>\n",
       "      <td>2756</td>\n",
       "      <td>2.855667</td>\n",
       "    </tr>\n",
       "    <tr>\n",
       "      <th>8401</th>\n",
       "      <td>Star Trek Into Darkness</td>\n",
       "      <td>4479.0</td>\n",
       "      <td>7.4</td>\n",
       "      <td>2013</td>\n",
       "      <td>54138</td>\n",
       "      <td>2.855417</td>\n",
       "    </tr>\n",
       "    <tr>\n",
       "      <th>8865</th>\n",
       "      <td>Star Wars: The Force Awakens</td>\n",
       "      <td>7993.0</td>\n",
       "      <td>7.5</td>\n",
       "      <td>2015</td>\n",
       "      <td>140607</td>\n",
       "      <td>2.839183</td>\n",
       "    </tr>\n",
       "    <tr>\n",
       "      <th>2014</th>\n",
       "      <td>Fantastic Planet</td>\n",
       "      <td>140.0</td>\n",
       "      <td>7.6</td>\n",
       "      <td>1973</td>\n",
       "      <td>16306</td>\n",
       "      <td>2.774162</td>\n",
       "    </tr>\n",
       "    <tr>\n",
       "      <th>1376</th>\n",
       "      <td>Titanic</td>\n",
       "      <td>7770.0</td>\n",
       "      <td>7.5</td>\n",
       "      <td>1997</td>\n",
       "      <td>597</td>\n",
       "      <td>2.763157</td>\n",
       "    </tr>\n",
       "  </tbody>\n",
       "</table>\n",
       "</div>"
      ],
      "text/plain": [
       "                                   title  vote_count  vote_average  year  \\\n",
       "974                               Aliens      3282.0           7.7  1986   \n",
       "522           Terminator 2: Judgment Day      4274.0           7.7  1991   \n",
       "1011                      The Terminator      4208.0           7.4  1984   \n",
       "8658          X-Men: Days of Future Past      6155.0           7.5  2014   \n",
       "1621  Darby O'Gill and the Little People        35.0           6.7  1959   \n",
       "922                            The Abyss       822.0           7.1  1989   \n",
       "8401             Star Trek Into Darkness      4479.0           7.4  2013   \n",
       "8865        Star Wars: The Force Awakens      7993.0           7.5  2015   \n",
       "2014                    Fantastic Planet       140.0           7.6  1973   \n",
       "1376                             Titanic      7770.0           7.5  1997   \n",
       "\n",
       "          id       est  \n",
       "974      679  3.396381  \n",
       "522      280  3.393707  \n",
       "1011     218  3.116473  \n",
       "8658  127585  3.034770  \n",
       "1621   18887  2.942257  \n",
       "922     2756  2.855667  \n",
       "8401   54138  2.855417  \n",
       "8865  140607  2.839183  \n",
       "2014   16306  2.774162  \n",
       "1376     597  2.763157  "
      ]
     },
     "execution_count": 92,
     "metadata": {},
     "output_type": "execute_result"
    }
   ],
   "source": [
    "hybrid(1, 'Avatar')"
   ]
  },
  {
   "cell_type": "code",
   "execution_count": null,
   "metadata": {},
   "outputs": [],
   "source": []
  }
 ],
 "metadata": {
  "accelerator": "GPU",
  "colab": {
   "collapsed_sections": [],
   "name": "Movie Recommendation System.ipynb",
   "provenance": [],
   "version": "0.3.2"
  },
  "kernelspec": {
   "display_name": "Python 3",
   "language": "python",
   "name": "python3"
  },
  "language_info": {
   "codemirror_mode": {
    "name": "ipython",
    "version": 3
   },
   "file_extension": ".py",
   "mimetype": "text/x-python",
   "name": "python",
   "nbconvert_exporter": "python",
   "pygments_lexer": "ipython3",
   "version": "3.6.5"
  }
 },
 "nbformat": 4,
 "nbformat_minor": 1
}
